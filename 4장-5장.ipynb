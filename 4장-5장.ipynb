{
 "cells": [
  {
   "cell_type": "markdown",
   "id": "d8b83900",
   "metadata": {},
   "source": [
    "## 4장"
   ]
  },
  {
   "cell_type": "code",
   "execution_count": 14,
   "id": "06bab06f",
   "metadata": {},
   "outputs": [],
   "source": [
    "import pandas as pd"
   ]
  },
  {
   "cell_type": "code",
   "execution_count": 15,
   "id": "cb74bb44",
   "metadata": {},
   "outputs": [],
   "source": [
    "fish = pd.read_csv('https://bit.ly/fish_csv_data')"
   ]
  },
  {
   "cell_type": "code",
   "execution_count": 16,
   "id": "75b23157",
   "metadata": {},
   "outputs": [
    {
     "data": {
      "text/html": [
       "<div>\n",
       "<style scoped>\n",
       "    .dataframe tbody tr th:only-of-type {\n",
       "        vertical-align: middle;\n",
       "    }\n",
       "\n",
       "    .dataframe tbody tr th {\n",
       "        vertical-align: top;\n",
       "    }\n",
       "\n",
       "    .dataframe thead th {\n",
       "        text-align: right;\n",
       "    }\n",
       "</style>\n",
       "<table border=\"1\" class=\"dataframe\">\n",
       "  <thead>\n",
       "    <tr style=\"text-align: right;\">\n",
       "      <th></th>\n",
       "      <th>Species</th>\n",
       "      <th>Weight</th>\n",
       "      <th>Length</th>\n",
       "      <th>Diagonal</th>\n",
       "      <th>Height</th>\n",
       "      <th>Width</th>\n",
       "    </tr>\n",
       "  </thead>\n",
       "  <tbody>\n",
       "    <tr>\n",
       "      <th>0</th>\n",
       "      <td>Bream</td>\n",
       "      <td>242.0</td>\n",
       "      <td>25.4</td>\n",
       "      <td>30.0</td>\n",
       "      <td>11.5200</td>\n",
       "      <td>4.0200</td>\n",
       "    </tr>\n",
       "    <tr>\n",
       "      <th>1</th>\n",
       "      <td>Bream</td>\n",
       "      <td>290.0</td>\n",
       "      <td>26.3</td>\n",
       "      <td>31.2</td>\n",
       "      <td>12.4800</td>\n",
       "      <td>4.3056</td>\n",
       "    </tr>\n",
       "    <tr>\n",
       "      <th>2</th>\n",
       "      <td>Bream</td>\n",
       "      <td>340.0</td>\n",
       "      <td>26.5</td>\n",
       "      <td>31.1</td>\n",
       "      <td>12.3778</td>\n",
       "      <td>4.6961</td>\n",
       "    </tr>\n",
       "    <tr>\n",
       "      <th>3</th>\n",
       "      <td>Bream</td>\n",
       "      <td>363.0</td>\n",
       "      <td>29.0</td>\n",
       "      <td>33.5</td>\n",
       "      <td>12.7300</td>\n",
       "      <td>4.4555</td>\n",
       "    </tr>\n",
       "    <tr>\n",
       "      <th>4</th>\n",
       "      <td>Bream</td>\n",
       "      <td>430.0</td>\n",
       "      <td>29.0</td>\n",
       "      <td>34.0</td>\n",
       "      <td>12.4440</td>\n",
       "      <td>5.1340</td>\n",
       "    </tr>\n",
       "  </tbody>\n",
       "</table>\n",
       "</div>"
      ],
      "text/plain": [
       "  Species  Weight  Length  Diagonal   Height   Width\n",
       "0   Bream   242.0    25.4      30.0  11.5200  4.0200\n",
       "1   Bream   290.0    26.3      31.2  12.4800  4.3056\n",
       "2   Bream   340.0    26.5      31.1  12.3778  4.6961\n",
       "3   Bream   363.0    29.0      33.5  12.7300  4.4555\n",
       "4   Bream   430.0    29.0      34.0  12.4440  5.1340"
      ]
     },
     "execution_count": 16,
     "metadata": {},
     "output_type": "execute_result"
    }
   ],
   "source": [
    "fish.head()"
   ]
  },
  {
   "cell_type": "code",
   "execution_count": 17,
   "id": "1aee3cd3",
   "metadata": {},
   "outputs": [],
   "source": [
    "fish_input = fish[['Weight', 'Length', 'Diagonal','Height', 'Width']].to_numpy()"
   ]
  },
  {
   "cell_type": "code",
   "execution_count": 18,
   "id": "9ccb8a32",
   "metadata": {},
   "outputs": [
    {
     "name": "stdout",
     "output_type": "stream",
     "text": [
      "[[242.      25.4     30.      11.52     4.02  ]\n",
      " [290.      26.3     31.2     12.48     4.3056]\n",
      " [340.      26.5     31.1     12.3778   4.6961]\n",
      " [363.      29.      33.5     12.73     4.4555]\n",
      " [430.      29.      34.      12.444    5.134 ]]\n"
     ]
    }
   ],
   "source": [
    "print(fish_input[:5])"
   ]
  },
  {
   "cell_type": "code",
   "execution_count": 19,
   "id": "a068a524",
   "metadata": {},
   "outputs": [],
   "source": [
    "fish_target = fish['Species'].to_numpy()"
   ]
  },
  {
   "cell_type": "code",
   "execution_count": 20,
   "id": "d1c94b9e",
   "metadata": {},
   "outputs": [],
   "source": [
    "from sklearn.model_selection import train_test_split\n",
    "train_input, test_input, train_target, test_target=train_test_split(fish_input, fish_target, random_state=42)"
   ]
  },
  {
   "cell_type": "code",
   "execution_count": 21,
   "id": "fbc77325",
   "metadata": {},
   "outputs": [
    {
     "data": {
      "text/plain": [
       "array(['Bream', 'Bream', 'Bream', 'Bream', 'Bream', 'Bream', 'Bream',\n",
       "       'Bream', 'Bream', 'Bream', 'Bream', 'Bream', 'Bream', 'Bream',\n",
       "       'Bream', 'Bream', 'Bream', 'Bream', 'Bream', 'Bream', 'Bream',\n",
       "       'Bream', 'Bream', 'Bream', 'Bream', 'Bream', 'Bream', 'Bream',\n",
       "       'Bream', 'Bream', 'Bream', 'Bream', 'Bream', 'Bream', 'Bream',\n",
       "       'Roach', 'Roach', 'Roach', 'Roach', 'Roach', 'Roach', 'Roach',\n",
       "       'Roach', 'Roach', 'Roach', 'Roach', 'Roach', 'Roach', 'Roach',\n",
       "       'Roach', 'Roach', 'Roach', 'Roach', 'Roach', 'Roach', 'Whitefish',\n",
       "       'Whitefish', 'Whitefish', 'Whitefish', 'Whitefish', 'Whitefish',\n",
       "       'Parkki', 'Parkki', 'Parkki', 'Parkki', 'Parkki', 'Parkki',\n",
       "       'Parkki', 'Parkki', 'Parkki', 'Parkki', 'Parkki', 'Perch', 'Perch',\n",
       "       'Perch', 'Perch', 'Perch', 'Perch', 'Perch', 'Perch', 'Perch',\n",
       "       'Perch', 'Perch', 'Perch', 'Perch', 'Perch', 'Perch', 'Perch',\n",
       "       'Perch', 'Perch', 'Perch', 'Perch', 'Perch', 'Perch', 'Perch',\n",
       "       'Perch', 'Perch', 'Perch', 'Perch', 'Perch', 'Perch', 'Perch',\n",
       "       'Perch', 'Perch', 'Perch', 'Perch', 'Perch', 'Perch', 'Perch',\n",
       "       'Perch', 'Perch', 'Perch', 'Perch', 'Perch', 'Perch', 'Perch',\n",
       "       'Perch', 'Perch', 'Perch', 'Perch', 'Perch', 'Perch', 'Perch',\n",
       "       'Perch', 'Perch', 'Perch', 'Perch', 'Perch', 'Pike', 'Pike',\n",
       "       'Pike', 'Pike', 'Pike', 'Pike', 'Pike', 'Pike', 'Pike', 'Pike',\n",
       "       'Pike', 'Pike', 'Pike', 'Pike', 'Pike', 'Pike', 'Pike', 'Smelt',\n",
       "       'Smelt', 'Smelt', 'Smelt', 'Smelt', 'Smelt', 'Smelt', 'Smelt',\n",
       "       'Smelt', 'Smelt', 'Smelt', 'Smelt', 'Smelt', 'Smelt'], dtype=object)"
      ]
     },
     "execution_count": 21,
     "metadata": {},
     "output_type": "execute_result"
    }
   ],
   "source": [
    "fish_target"
   ]
  },
  {
   "cell_type": "code",
   "execution_count": 22,
   "id": "3673475d",
   "metadata": {},
   "outputs": [],
   "source": [
    "from sklearn.preprocessing import StandardScaler"
   ]
  },
  {
   "cell_type": "code",
   "execution_count": 23,
   "id": "a7d5b641",
   "metadata": {},
   "outputs": [],
   "source": [
    "ss = StandardScaler()"
   ]
  },
  {
   "cell_type": "code",
   "execution_count": 24,
   "id": "3d4a1cb5",
   "metadata": {},
   "outputs": [
    {
     "data": {
      "text/plain": [
       "StandardScaler()"
      ]
     },
     "execution_count": 24,
     "metadata": {},
     "output_type": "execute_result"
    }
   ],
   "source": [
    "ss.fit(train_input)"
   ]
  },
  {
   "cell_type": "code",
   "execution_count": 25,
   "id": "26011fb5",
   "metadata": {},
   "outputs": [],
   "source": [
    "train_scaled = ss.transform(train_input)"
   ]
  },
  {
   "cell_type": "code",
   "execution_count": 26,
   "id": "8587bcc7",
   "metadata": {},
   "outputs": [],
   "source": [
    "test_scaled = ss.transform(test_input)"
   ]
  },
  {
   "cell_type": "code",
   "execution_count": 27,
   "id": "28b1b997",
   "metadata": {},
   "outputs": [],
   "source": [
    "from sklearn.neighbors import KNeighborsClassifier"
   ]
  },
  {
   "cell_type": "code",
   "execution_count": 28,
   "id": "e5554a0a",
   "metadata": {},
   "outputs": [],
   "source": [
    "kn = KNeighborsClassifier(n_neighbors=3)"
   ]
  },
  {
   "cell_type": "code",
   "execution_count": 29,
   "id": "87c6b14e",
   "metadata": {},
   "outputs": [
    {
     "data": {
      "text/plain": [
       "KNeighborsClassifier(n_neighbors=3)"
      ]
     },
     "execution_count": 29,
     "metadata": {},
     "output_type": "execute_result"
    }
   ],
   "source": [
    "kn.fit(train_scaled, train_target)"
   ]
  },
  {
   "cell_type": "code",
   "execution_count": 30,
   "id": "e348ce6e",
   "metadata": {},
   "outputs": [
    {
     "name": "stdout",
     "output_type": "stream",
     "text": [
      "0.8907563025210085\n"
     ]
    },
    {
     "name": "stderr",
     "output_type": "stream",
     "text": [
      "C:\\Users\\dbwld\\anaconda3\\lib\\site-packages\\sklearn\\neighbors\\_classification.py:228: FutureWarning: Unlike other reduction functions (e.g. `skew`, `kurtosis`), the default behavior of `mode` typically preserves the axis it acts along. In SciPy 1.11.0, this behavior will change: the default value of `keepdims` will become False, the `axis` over which the statistic is taken will be eliminated, and the value None will no longer be accepted. Set `keepdims` to True or False to avoid this warning.\n",
      "  mode, _ = stats.mode(_y[neigh_ind, k], axis=1)\n"
     ]
    }
   ],
   "source": [
    "print(kn.score(train_scaled, train_target))"
   ]
  },
  {
   "cell_type": "code",
   "execution_count": 31,
   "id": "c189c546",
   "metadata": {},
   "outputs": [
    {
     "name": "stderr",
     "output_type": "stream",
     "text": [
      "C:\\Users\\dbwld\\anaconda3\\lib\\site-packages\\sklearn\\neighbors\\_classification.py:228: FutureWarning: Unlike other reduction functions (e.g. `skew`, `kurtosis`), the default behavior of `mode` typically preserves the axis it acts along. In SciPy 1.11.0, this behavior will change: the default value of `keepdims` will become False, the `axis` over which the statistic is taken will be eliminated, and the value None will no longer be accepted. Set `keepdims` to True or False to avoid this warning.\n",
      "  mode, _ = stats.mode(_y[neigh_ind, k], axis=1)\n"
     ]
    },
    {
     "ename": "ValueError",
     "evalue": "Found input variables with inconsistent numbers of samples: [40, 119]",
     "output_type": "error",
     "traceback": [
      "\u001b[1;31m---------------------------------------------------------------------------\u001b[0m",
      "\u001b[1;31mValueError\u001b[0m                                Traceback (most recent call last)",
      "\u001b[1;32m~\\AppData\\Local\\Temp\\ipykernel_31968\\1504703268.py\u001b[0m in \u001b[0;36m<module>\u001b[1;34m\u001b[0m\n\u001b[1;32m----> 1\u001b[1;33m \u001b[0mprint\u001b[0m\u001b[1;33m(\u001b[0m\u001b[0mkn\u001b[0m\u001b[1;33m.\u001b[0m\u001b[0mscore\u001b[0m\u001b[1;33m(\u001b[0m\u001b[0mtrain_scaled\u001b[0m\u001b[1;33m,\u001b[0m \u001b[0mtest_target\u001b[0m\u001b[1;33m)\u001b[0m\u001b[1;33m)\u001b[0m\u001b[1;33m\u001b[0m\u001b[1;33m\u001b[0m\u001b[0m\n\u001b[0m",
      "\u001b[1;32m~\\anaconda3\\lib\\site-packages\\sklearn\\base.py\u001b[0m in \u001b[0;36mscore\u001b[1;34m(self, X, y, sample_weight)\u001b[0m\n\u001b[0;32m    649\u001b[0m         \u001b[1;32mfrom\u001b[0m \u001b[1;33m.\u001b[0m\u001b[0mmetrics\u001b[0m \u001b[1;32mimport\u001b[0m \u001b[0maccuracy_score\u001b[0m\u001b[1;33m\u001b[0m\u001b[1;33m\u001b[0m\u001b[0m\n\u001b[0;32m    650\u001b[0m \u001b[1;33m\u001b[0m\u001b[0m\n\u001b[1;32m--> 651\u001b[1;33m         \u001b[1;32mreturn\u001b[0m \u001b[0maccuracy_score\u001b[0m\u001b[1;33m(\u001b[0m\u001b[0my\u001b[0m\u001b[1;33m,\u001b[0m \u001b[0mself\u001b[0m\u001b[1;33m.\u001b[0m\u001b[0mpredict\u001b[0m\u001b[1;33m(\u001b[0m\u001b[0mX\u001b[0m\u001b[1;33m)\u001b[0m\u001b[1;33m,\u001b[0m \u001b[0msample_weight\u001b[0m\u001b[1;33m=\u001b[0m\u001b[0msample_weight\u001b[0m\u001b[1;33m)\u001b[0m\u001b[1;33m\u001b[0m\u001b[1;33m\u001b[0m\u001b[0m\n\u001b[0m\u001b[0;32m    652\u001b[0m \u001b[1;33m\u001b[0m\u001b[0m\n\u001b[0;32m    653\u001b[0m     \u001b[1;32mdef\u001b[0m \u001b[0m_more_tags\u001b[0m\u001b[1;33m(\u001b[0m\u001b[0mself\u001b[0m\u001b[1;33m)\u001b[0m\u001b[1;33m:\u001b[0m\u001b[1;33m\u001b[0m\u001b[1;33m\u001b[0m\u001b[0m\n",
      "\u001b[1;32m~\\anaconda3\\lib\\site-packages\\sklearn\\metrics\\_classification.py\u001b[0m in \u001b[0;36maccuracy_score\u001b[1;34m(y_true, y_pred, normalize, sample_weight)\u001b[0m\n\u001b[0;32m    209\u001b[0m \u001b[1;33m\u001b[0m\u001b[0m\n\u001b[0;32m    210\u001b[0m     \u001b[1;31m# Compute accuracy for each possible representation\u001b[0m\u001b[1;33m\u001b[0m\u001b[1;33m\u001b[0m\u001b[0m\n\u001b[1;32m--> 211\u001b[1;33m     \u001b[0my_type\u001b[0m\u001b[1;33m,\u001b[0m \u001b[0my_true\u001b[0m\u001b[1;33m,\u001b[0m \u001b[0my_pred\u001b[0m \u001b[1;33m=\u001b[0m \u001b[0m_check_targets\u001b[0m\u001b[1;33m(\u001b[0m\u001b[0my_true\u001b[0m\u001b[1;33m,\u001b[0m \u001b[0my_pred\u001b[0m\u001b[1;33m)\u001b[0m\u001b[1;33m\u001b[0m\u001b[1;33m\u001b[0m\u001b[0m\n\u001b[0m\u001b[0;32m    212\u001b[0m     \u001b[0mcheck_consistent_length\u001b[0m\u001b[1;33m(\u001b[0m\u001b[0my_true\u001b[0m\u001b[1;33m,\u001b[0m \u001b[0my_pred\u001b[0m\u001b[1;33m,\u001b[0m \u001b[0msample_weight\u001b[0m\u001b[1;33m)\u001b[0m\u001b[1;33m\u001b[0m\u001b[1;33m\u001b[0m\u001b[0m\n\u001b[0;32m    213\u001b[0m     \u001b[1;32mif\u001b[0m \u001b[0my_type\u001b[0m\u001b[1;33m.\u001b[0m\u001b[0mstartswith\u001b[0m\u001b[1;33m(\u001b[0m\u001b[1;34m\"multilabel\"\u001b[0m\u001b[1;33m)\u001b[0m\u001b[1;33m:\u001b[0m\u001b[1;33m\u001b[0m\u001b[1;33m\u001b[0m\u001b[0m\n",
      "\u001b[1;32m~\\anaconda3\\lib\\site-packages\\sklearn\\metrics\\_classification.py\u001b[0m in \u001b[0;36m_check_targets\u001b[1;34m(y_true, y_pred)\u001b[0m\n\u001b[0;32m     82\u001b[0m     \u001b[0my_pred\u001b[0m \u001b[1;33m:\u001b[0m \u001b[0marray\u001b[0m \u001b[1;32mor\u001b[0m \u001b[0mindicator\u001b[0m \u001b[0mmatrix\u001b[0m\u001b[1;33m\u001b[0m\u001b[1;33m\u001b[0m\u001b[0m\n\u001b[0;32m     83\u001b[0m     \"\"\"\n\u001b[1;32m---> 84\u001b[1;33m     \u001b[0mcheck_consistent_length\u001b[0m\u001b[1;33m(\u001b[0m\u001b[0my_true\u001b[0m\u001b[1;33m,\u001b[0m \u001b[0my_pred\u001b[0m\u001b[1;33m)\u001b[0m\u001b[1;33m\u001b[0m\u001b[1;33m\u001b[0m\u001b[0m\n\u001b[0m\u001b[0;32m     85\u001b[0m     \u001b[0mtype_true\u001b[0m \u001b[1;33m=\u001b[0m \u001b[0mtype_of_target\u001b[0m\u001b[1;33m(\u001b[0m\u001b[0my_true\u001b[0m\u001b[1;33m)\u001b[0m\u001b[1;33m\u001b[0m\u001b[1;33m\u001b[0m\u001b[0m\n\u001b[0;32m     86\u001b[0m     \u001b[0mtype_pred\u001b[0m \u001b[1;33m=\u001b[0m \u001b[0mtype_of_target\u001b[0m\u001b[1;33m(\u001b[0m\u001b[0my_pred\u001b[0m\u001b[1;33m)\u001b[0m\u001b[1;33m\u001b[0m\u001b[1;33m\u001b[0m\u001b[0m\n",
      "\u001b[1;32m~\\anaconda3\\lib\\site-packages\\sklearn\\utils\\validation.py\u001b[0m in \u001b[0;36mcheck_consistent_length\u001b[1;34m(*arrays)\u001b[0m\n\u001b[0;32m    330\u001b[0m     \u001b[0muniques\u001b[0m \u001b[1;33m=\u001b[0m \u001b[0mnp\u001b[0m\u001b[1;33m.\u001b[0m\u001b[0munique\u001b[0m\u001b[1;33m(\u001b[0m\u001b[0mlengths\u001b[0m\u001b[1;33m)\u001b[0m\u001b[1;33m\u001b[0m\u001b[1;33m\u001b[0m\u001b[0m\n\u001b[0;32m    331\u001b[0m     \u001b[1;32mif\u001b[0m \u001b[0mlen\u001b[0m\u001b[1;33m(\u001b[0m\u001b[0muniques\u001b[0m\u001b[1;33m)\u001b[0m \u001b[1;33m>\u001b[0m \u001b[1;36m1\u001b[0m\u001b[1;33m:\u001b[0m\u001b[1;33m\u001b[0m\u001b[1;33m\u001b[0m\u001b[0m\n\u001b[1;32m--> 332\u001b[1;33m         raise ValueError(\n\u001b[0m\u001b[0;32m    333\u001b[0m             \u001b[1;34m\"Found input variables with inconsistent numbers of samples: %r\"\u001b[0m\u001b[1;33m\u001b[0m\u001b[1;33m\u001b[0m\u001b[0m\n\u001b[0;32m    334\u001b[0m             \u001b[1;33m%\u001b[0m \u001b[1;33m[\u001b[0m\u001b[0mint\u001b[0m\u001b[1;33m(\u001b[0m\u001b[0ml\u001b[0m\u001b[1;33m)\u001b[0m \u001b[1;32mfor\u001b[0m \u001b[0ml\u001b[0m \u001b[1;32min\u001b[0m \u001b[0mlengths\u001b[0m\u001b[1;33m]\u001b[0m\u001b[1;33m\u001b[0m\u001b[1;33m\u001b[0m\u001b[0m\n",
      "\u001b[1;31mValueError\u001b[0m: Found input variables with inconsistent numbers of samples: [40, 119]"
     ]
    }
   ],
   "source": [
    "print(kn.score(train_scaled, test_target))"
   ]
  },
  {
   "cell_type": "code",
   "execution_count": 32,
   "id": "fd04aab3",
   "metadata": {},
   "outputs": [
    {
     "name": "stdout",
     "output_type": "stream",
     "text": [
      "['Bream' 'Parkki' 'Perch' 'Pike' 'Roach' 'Smelt' 'Whitefish']\n"
     ]
    }
   ],
   "source": [
    "print(kn.classes_)"
   ]
  },
  {
   "cell_type": "code",
   "execution_count": 33,
   "id": "47db1b48",
   "metadata": {},
   "outputs": [
    {
     "name": "stdout",
     "output_type": "stream",
     "text": [
      "[[0.     0.     1.     0.     0.     0.     0.    ]\n",
      " [0.     0.     0.     0.     0.     1.     0.    ]\n",
      " [0.     0.     0.     1.     0.     0.     0.    ]\n",
      " [0.     0.     0.6667 0.     0.3333 0.     0.    ]\n",
      " [0.     0.     0.6667 0.     0.3333 0.     0.    ]]\n"
     ]
    }
   ],
   "source": [
    "import numpy as np\n",
    "proba = kn.predict_proba(test_scaled[:5])\n",
    "print(np.round(proba, decimals=4))"
   ]
  },
  {
   "cell_type": "code",
   "execution_count": 34,
   "id": "c5ee1b0d",
   "metadata": {},
   "outputs": [
    {
     "name": "stdout",
     "output_type": "stream",
     "text": [
      "[['Roach' 'Perch' 'Perch']]\n"
     ]
    }
   ],
   "source": [
    "distances, indexes = kn.kneighbors(test_scaled[3:4])\n",
    "print(train_target[indexes])"
   ]
  },
  {
   "cell_type": "code",
   "execution_count": 35,
   "id": "e8a1ed65",
   "metadata": {},
   "outputs": [
    {
     "data": {
      "image/png": "[encoded data removed]",
      "text/plain": [
       "<Figure size 640x480 with 1 Axes>"
      ]
     },
     "metadata": {},
     "output_type": "display_data"
    }
   ],
   "source": [
    "import numpy as np\n",
    "import matplotlib.pyplot as plt\n",
    "z= np.arange(-5,5, 0.1)\n",
    "phi = 1/(1+np.exp(-z))\n",
    "plt.plot(z, phi)\n",
    "plt.xlabel('z')\n",
    "plt.ylabel('phi')\n",
    "plt.show()"
   ]
  },
  {
   "cell_type": "code",
   "execution_count": 36,
   "id": "86b39894",
   "metadata": {},
   "outputs": [],
   "source": [
    "bream_smelt_indexes = (train_target=='Bream')| (train_target=='Smelt')\n",
    "train_bream_smelt = train_scaled[bream_smelt_indexes]\n",
    "target_bream_smelt = train_target[bream_smelt_indexes]"
   ]
  },
  {
   "cell_type": "code",
   "execution_count": 37,
   "id": "168f38cc",
   "metadata": {},
   "outputs": [
    {
     "data": {
      "text/plain": [
       "LogisticRegression()"
      ]
     },
     "execution_count": 37,
     "metadata": {},
     "output_type": "execute_result"
    }
   ],
   "source": [
    "from sklearn.linear_model import LogisticRegression\n",
    "lr = LogisticRegression()\n",
    "lr.fit(train_bream_smelt, target_bream_smelt)"
   ]
  },
  {
   "cell_type": "code",
   "execution_count": 38,
   "id": "b8c09dc0",
   "metadata": {},
   "outputs": [
    {
     "name": "stdout",
     "output_type": "stream",
     "text": [
      "['Bream' 'Smelt' 'Bream' 'Bream' 'Bream']\n"
     ]
    }
   ],
   "source": [
    "print(lr.predict(train_bream_smelt[:5]))"
   ]
  },
  {
   "cell_type": "code",
   "execution_count": 39,
   "id": "e69fd3e7",
   "metadata": {},
   "outputs": [
    {
     "name": "stdout",
     "output_type": "stream",
     "text": [
      "[[0.99759855 0.00240145]\n",
      " [0.02735183 0.97264817]\n",
      " [0.99486072 0.00513928]\n",
      " [0.98584202 0.01415798]\n",
      " [0.99767269 0.00232731]]\n"
     ]
    }
   ],
   "source": [
    "print(lr.predict_proba(train_bream_smelt[:5]))"
   ]
  },
  {
   "cell_type": "markdown",
   "id": "2cfee4f0",
   "metadata": {},
   "source": [
    "### 로지스틱 회귀로 다중 분류 수행하기"
   ]
  },
  {
   "cell_type": "code",
   "execution_count": 40,
   "id": "880f9395",
   "metadata": {},
   "outputs": [
    {
     "name": "stdout",
     "output_type": "stream",
     "text": [
      "['Smelt' 'Smelt' 'Bream' 'Bream' 'Smelt']\n"
     ]
    }
   ],
   "source": [
    "print(lr.predict(test_scaled[:5]))"
   ]
  },
  {
   "cell_type": "code",
   "execution_count": 41,
   "id": "4d833001",
   "metadata": {},
   "outputs": [],
   "source": [
    "lr=LogisticRegression(C=20, max_iter=1000)"
   ]
  },
  {
   "cell_type": "code",
   "execution_count": 42,
   "id": "43c02da9",
   "metadata": {},
   "outputs": [
    {
     "data": {
      "text/plain": [
       "LogisticRegression(C=20, max_iter=1000)"
      ]
     },
     "execution_count": 42,
     "metadata": {},
     "output_type": "execute_result"
    }
   ],
   "source": [
    "lr.fit(train_scaled, train_target)"
   ]
  },
  {
   "cell_type": "code",
   "execution_count": 43,
   "id": "3e187b48",
   "metadata": {},
   "outputs": [],
   "source": [
    "proba = lr.predict_proba(test_scaled[:5])"
   ]
  },
  {
   "cell_type": "code",
   "execution_count": 44,
   "id": "5ebb6f78",
   "metadata": {},
   "outputs": [
    {
     "name": "stdout",
     "output_type": "stream",
     "text": [
      "[[0.    0.014 0.841 0.    0.136 0.007 0.003]\n",
      " [0.    0.003 0.044 0.    0.007 0.946 0.   ]\n",
      " [0.    0.    0.034 0.935 0.015 0.016 0.   ]\n",
      " [0.011 0.034 0.306 0.007 0.567 0.    0.076]\n",
      " [0.    0.    0.904 0.002 0.089 0.002 0.001]]\n"
     ]
    }
   ],
   "source": [
    "print(np.round(proba, decimals=3))"
   ]
  },
  {
   "cell_type": "code",
   "execution_count": 45,
   "id": "5113bef2",
   "metadata": {},
   "outputs": [
    {
     "name": "stdout",
     "output_type": "stream",
     "text": [
      "[[ -6.5    1.03   5.16  -2.73   3.34   0.33  -0.63]\n",
      " [-10.86   1.93   4.77  -2.4    2.98   7.84  -4.26]\n",
      " [ -4.34  -6.23   3.17   6.49   2.36   2.42  -3.87]\n",
      " [ -0.68   0.45   2.65  -1.19   3.26  -5.75   1.26]\n",
      " [ -6.4   -1.99   5.82  -0.11   3.5   -0.11  -0.71]]\n"
     ]
    }
   ],
   "source": [
    "decision=lr.decision_function(test_scaled[:5])\n",
    "print(np.round(decision, decimals=2))"
   ]
  },
  {
   "cell_type": "code",
   "execution_count": 46,
   "id": "e9dc456c",
   "metadata": {},
   "outputs": [
    {
     "name": "stdout",
     "output_type": "stream",
     "text": [
      "[[0.    0.014 0.841 0.    0.136 0.007 0.003]\n",
      " [0.    0.003 0.044 0.    0.007 0.946 0.   ]\n",
      " [0.    0.    0.034 0.935 0.015 0.016 0.   ]\n",
      " [0.011 0.034 0.306 0.007 0.567 0.    0.076]\n",
      " [0.    0.    0.904 0.002 0.089 0.002 0.001]]\n"
     ]
    }
   ],
   "source": [
    "from scipy.special import softmax\n",
    "proba = softmax(decision, axis=1)\n",
    "print(np.round(proba, decimals = 3))"
   ]
  },
  {
   "cell_type": "markdown",
   "id": "c11cfa57",
   "metadata": {},
   "source": [
    "### SGD Classifier"
   ]
  },
  {
   "cell_type": "code",
   "execution_count": 47,
   "id": "e7d8d38d",
   "metadata": {},
   "outputs": [],
   "source": [
    "import pandas as pd\n",
    "fish = pd.read_csv('https://bit.ly/fish_csv_data')"
   ]
  },
  {
   "cell_type": "code",
   "execution_count": 48,
   "id": "926a9b94",
   "metadata": {},
   "outputs": [],
   "source": [
    "fish_input = fish[['Weight', 'Length', 'Diagonal', 'Height', 'Width']].to_numpy()\n",
    "fish_target = fish['Species'].to_numpy()"
   ]
  },
  {
   "cell_type": "code",
   "execution_count": 49,
   "id": "2d2ad8a9",
   "metadata": {},
   "outputs": [
    {
     "data": {
      "text/plain": [
       "array(['Bream', 'Bream', 'Bream', 'Bream', 'Bream', 'Bream', 'Bream',\n",
       "       'Bream', 'Bream', 'Bream', 'Bream', 'Bream', 'Bream', 'Bream',\n",
       "       'Bream', 'Bream', 'Bream', 'Bream', 'Bream', 'Bream', 'Bream',\n",
       "       'Bream', 'Bream', 'Bream', 'Bream', 'Bream', 'Bream', 'Bream',\n",
       "       'Bream', 'Bream', 'Bream', 'Bream', 'Bream', 'Bream', 'Bream',\n",
       "       'Roach', 'Roach', 'Roach', 'Roach', 'Roach', 'Roach', 'Roach',\n",
       "       'Roach', 'Roach', 'Roach', 'Roach', 'Roach', 'Roach', 'Roach',\n",
       "       'Roach', 'Roach', 'Roach', 'Roach', 'Roach', 'Roach', 'Whitefish',\n",
       "       'Whitefish', 'Whitefish', 'Whitefish', 'Whitefish', 'Whitefish',\n",
       "       'Parkki', 'Parkki', 'Parkki', 'Parkki', 'Parkki', 'Parkki',\n",
       "       'Parkki', 'Parkki', 'Parkki', 'Parkki', 'Parkki', 'Perch', 'Perch',\n",
       "       'Perch', 'Perch', 'Perch', 'Perch', 'Perch', 'Perch', 'Perch',\n",
       "       'Perch', 'Perch', 'Perch', 'Perch', 'Perch', 'Perch', 'Perch',\n",
       "       'Perch', 'Perch', 'Perch', 'Perch', 'Perch', 'Perch', 'Perch',\n",
       "       'Perch', 'Perch', 'Perch', 'Perch', 'Perch', 'Perch', 'Perch',\n",
       "       'Perch', 'Perch', 'Perch', 'Perch', 'Perch', 'Perch', 'Perch',\n",
       "       'Perch', 'Perch', 'Perch', 'Perch', 'Perch', 'Perch', 'Perch',\n",
       "       'Perch', 'Perch', 'Perch', 'Perch', 'Perch', 'Perch', 'Perch',\n",
       "       'Perch', 'Perch', 'Perch', 'Perch', 'Perch', 'Pike', 'Pike',\n",
       "       'Pike', 'Pike', 'Pike', 'Pike', 'Pike', 'Pike', 'Pike', 'Pike',\n",
       "       'Pike', 'Pike', 'Pike', 'Pike', 'Pike', 'Pike', 'Pike', 'Smelt',\n",
       "       'Smelt', 'Smelt', 'Smelt', 'Smelt', 'Smelt', 'Smelt', 'Smelt',\n",
       "       'Smelt', 'Smelt', 'Smelt', 'Smelt', 'Smelt', 'Smelt'], dtype=object)"
      ]
     },
     "execution_count": 49,
     "metadata": {},
     "output_type": "execute_result"
    }
   ],
   "source": [
    "fish_target"
   ]
  },
  {
   "cell_type": "code",
   "execution_count": 50,
   "id": "5e000774",
   "metadata": {},
   "outputs": [],
   "source": [
    "from sklearn.model_selection import train_test_split\n",
    "\n",
    "train_input, test_input, train_target, test_target = train_test_split(fish_input, fish_target, random_state=42)"
   ]
  },
  {
   "cell_type": "code",
   "execution_count": 51,
   "id": "7b512520",
   "metadata": {},
   "outputs": [],
   "source": [
    "from sklearn.preprocessing import StandardScaler\n",
    "ss=StandardScaler()\n",
    "ss.fit(train_input)\n",
    "train_scaled = ss.transform(train_input)"
   ]
  },
  {
   "cell_type": "code",
   "execution_count": 52,
   "id": "53227c14",
   "metadata": {},
   "outputs": [],
   "source": [
    "test_scaled = ss.transform(test_input)"
   ]
  },
  {
   "cell_type": "code",
   "execution_count": 53,
   "id": "3786f119",
   "metadata": {},
   "outputs": [],
   "source": [
    "from sklearn.linear_model import SGDClassifier"
   ]
  },
  {
   "cell_type": "code",
   "execution_count": 54,
   "id": "0735a447",
   "metadata": {},
   "outputs": [
    {
     "name": "stdout",
     "output_type": "stream",
     "text": [
      "0.8067226890756303\n",
      "0.875\n"
     ]
    },
    {
     "name": "stderr",
     "output_type": "stream",
     "text": [
      "C:\\Users\\dbwld\\anaconda3\\lib\\site-packages\\sklearn\\linear_model\\_stochastic_gradient.py:696: ConvergenceWarning: Maximum number of iteration reached before convergence. Consider increasing max_iter to improve the fit.\n",
      "  warnings.warn(\n"
     ]
    }
   ],
   "source": [
    "sc = SGDClassifier(max_iter=10, random_state=42)\n",
    "sc.fit(train_scaled, train_target)\n",
    "print(sc.score(train_scaled, train_target))\n",
    "print(sc.score(test_scaled, test_target))"
   ]
  },
  {
   "cell_type": "markdown",
   "id": "a6aeabfe",
   "metadata": {},
   "source": [
    "## Issue: log_loss is not supported"
   ]
  },
  {
   "cell_type": "code",
   "execution_count": 55,
   "id": "cd071e4c",
   "metadata": {},
   "outputs": [
    {
     "name": "stdout",
     "output_type": "stream",
     "text": [
      "0.7647058823529411\n"
     ]
    }
   ],
   "source": [
    "sc.partial_fit(train_scaled, train_target)\n",
    "print(sc.score(train_scaled, train_target))"
   ]
  },
  {
   "cell_type": "code",
   "execution_count": 56,
   "id": "7ead4ed9",
   "metadata": {},
   "outputs": [],
   "source": [
    "sc = SGDClassifier(random_state=42)"
   ]
  },
  {
   "cell_type": "code",
   "execution_count": 57,
   "id": "5291624a",
   "metadata": {},
   "outputs": [],
   "source": [
    "classes= np.unique(train_target)"
   ]
  },
  {
   "cell_type": "code",
   "execution_count": 58,
   "id": "82510546",
   "metadata": {},
   "outputs": [
    {
     "data": {
      "text/plain": [
       "array(['Bream', 'Parkki', 'Perch', 'Pike', 'Roach', 'Smelt', 'Whitefish'],\n",
       "      dtype=object)"
      ]
     },
     "execution_count": 58,
     "metadata": {},
     "output_type": "execute_result"
    }
   ],
   "source": [
    "classes"
   ]
  },
  {
   "cell_type": "code",
   "execution_count": 59,
   "id": "5b7c73ba",
   "metadata": {},
   "outputs": [],
   "source": [
    "train_score=[]\n",
    "test_score=[]\n",
    "for _ in range(0,300):\n",
    "    sc.partial_fit(train_scaled, train_target, classes=classes)\n",
    "    train_score.append(sc.score(train_scaled, train_target))\n",
    "    test_score.append(sc.score(test_scaled, test_target))"
   ]
  },
  {
   "cell_type": "code",
   "execution_count": 60,
   "id": "54463f59",
   "metadata": {},
   "outputs": [
    {
     "data": {
      "image/png": "[encoded data removed]",
      "text/plain": [
       "<Figure size 640x480 with 1 Axes>"
      ]
     },
     "metadata": {},
     "output_type": "display_data"
    }
   ],
   "source": [
    "import matplotlib.pyplot as plt\n",
    "plt.plot(train_score)\n",
    "plt.plot(test_score)\n",
    "plt.xlabel('epoch')\n",
    "plt.ylabel('accuracy')\n",
    "plt.show()"
   ]
  },
  {
   "cell_type": "code",
   "execution_count": 61,
   "id": "cee63fbb",
   "metadata": {},
   "outputs": [
    {
     "data": {
      "text/plain": [
       "SGDClassifier(max_iter=100, random_state=42, tol=None)"
      ]
     },
     "execution_count": 61,
     "metadata": {},
     "output_type": "execute_result"
    }
   ],
   "source": [
    "sc= SGDClassifier(max_iter=100, tol=None, random_state=42)\n",
    "sc.fit(train_scaled, train_target)"
   ]
  },
  {
   "cell_type": "code",
   "execution_count": 62,
   "id": "94cc076f",
   "metadata": {},
   "outputs": [
    {
     "name": "stdout",
     "output_type": "stream",
     "text": [
      "0.9495798319327731\n",
      "0.925\n"
     ]
    }
   ],
   "source": [
    "print(sc.score(train_scaled, train_target))\n",
    "print(sc.score(test_scaled, test_target))"
   ]
  },
  {
   "cell_type": "code",
   "execution_count": 63,
   "id": "6c9e3ed1",
   "metadata": {},
   "outputs": [
    {
     "data": {
      "text/plain": [
       "SGDClassifier(max_iter=100, random_state=42, tol=None)"
      ]
     },
     "execution_count": 63,
     "metadata": {},
     "output_type": "execute_result"
    }
   ],
   "source": [
    "sc= SGDClassifier(loss='hinge',max_iter=100, tol=None, random_state=42)\n",
    "sc.fit(train_scaled, train_target)"
   ]
  },
  {
   "cell_type": "code",
   "execution_count": 64,
   "id": "d4542852",
   "metadata": {},
   "outputs": [
    {
     "name": "stdout",
     "output_type": "stream",
     "text": [
      "0.9495798319327731\n",
      "0.925\n"
     ]
    }
   ],
   "source": [
    "print(sc.score(train_scaled, train_target))\n",
    "print(sc.score(test_scaled, test_target))"
   ]
  },
  {
   "cell_type": "markdown",
   "id": "ce8e8c1a",
   "metadata": {},
   "source": [
    "## 5장.결정트리"
   ]
  },
  {
   "cell_type": "code",
   "execution_count": 65,
   "id": "a91cb1ef",
   "metadata": {},
   "outputs": [],
   "source": [
    "import pandas as pd"
   ]
  },
  {
   "cell_type": "code",
   "execution_count": 66,
   "id": "635b5ac4",
   "metadata": {},
   "outputs": [],
   "source": [
    "wine = pd.read_csv('https://bit.ly/wine_csv_data')"
   ]
  },
  {
   "cell_type": "code",
   "execution_count": 67,
   "id": "cc0ee3af",
   "metadata": {},
   "outputs": [
    {
     "data": {
      "text/html": [
       "<div>\n",
       "<style scoped>\n",
       "    .dataframe tbody tr th:only-of-type {\n",
       "        vertical-align: middle;\n",
       "    }\n",
       "\n",
       "    .dataframe tbody tr th {\n",
       "        vertical-align: top;\n",
       "    }\n",
       "\n",
       "    .dataframe thead th {\n",
       "        text-align: right;\n",
       "    }\n",
       "</style>\n",
       "<table border=\"1\" class=\"dataframe\">\n",
       "  <thead>\n",
       "    <tr style=\"text-align: right;\">\n",
       "      <th></th>\n",
       "      <th>alcohol</th>\n",
       "      <th>sugar</th>\n",
       "      <th>pH</th>\n",
       "      <th>class</th>\n",
       "    </tr>\n",
       "  </thead>\n",
       "  <tbody>\n",
       "    <tr>\n",
       "      <th>0</th>\n",
       "      <td>9.4</td>\n",
       "      <td>1.9</td>\n",
       "      <td>3.51</td>\n",
       "      <td>0.0</td>\n",
       "    </tr>\n",
       "    <tr>\n",
       "      <th>1</th>\n",
       "      <td>9.8</td>\n",
       "      <td>2.6</td>\n",
       "      <td>3.20</td>\n",
       "      <td>0.0</td>\n",
       "    </tr>\n",
       "    <tr>\n",
       "      <th>2</th>\n",
       "      <td>9.8</td>\n",
       "      <td>2.3</td>\n",
       "      <td>3.26</td>\n",
       "      <td>0.0</td>\n",
       "    </tr>\n",
       "    <tr>\n",
       "      <th>3</th>\n",
       "      <td>9.8</td>\n",
       "      <td>1.9</td>\n",
       "      <td>3.16</td>\n",
       "      <td>0.0</td>\n",
       "    </tr>\n",
       "    <tr>\n",
       "      <th>4</th>\n",
       "      <td>9.4</td>\n",
       "      <td>1.9</td>\n",
       "      <td>3.51</td>\n",
       "      <td>0.0</td>\n",
       "    </tr>\n",
       "  </tbody>\n",
       "</table>\n",
       "</div>"
      ],
      "text/plain": [
       "   alcohol  sugar    pH  class\n",
       "0      9.4    1.9  3.51    0.0\n",
       "1      9.8    2.6  3.20    0.0\n",
       "2      9.8    2.3  3.26    0.0\n",
       "3      9.8    1.9  3.16    0.0\n",
       "4      9.4    1.9  3.51    0.0"
      ]
     },
     "execution_count": 67,
     "metadata": {},
     "output_type": "execute_result"
    }
   ],
   "source": [
    "wine.head()"
   ]
  },
  {
   "cell_type": "code",
   "execution_count": 68,
   "id": "582d15f9",
   "metadata": {},
   "outputs": [
    {
     "name": "stdout",
     "output_type": "stream",
     "text": [
      "<class 'pandas.core.frame.DataFrame'>\n",
      "RangeIndex: 6497 entries, 0 to 6496\n",
      "Data columns (total 4 columns):\n",
      " #   Column   Non-Null Count  Dtype  \n",
      "---  ------   --------------  -----  \n",
      " 0   alcohol  6497 non-null   float64\n",
      " 1   sugar    6497 non-null   float64\n",
      " 2   pH       6497 non-null   float64\n",
      " 3   class    6497 non-null   float64\n",
      "dtypes: float64(4)\n",
      "memory usage: 203.2 KB\n"
     ]
    }
   ],
   "source": [
    "wine.info()"
   ]
  },
  {
   "cell_type": "code",
   "execution_count": 69,
   "id": "1d783cb7",
   "metadata": {},
   "outputs": [
    {
     "data": {
      "text/html": [
       "<div>\n",
       "<style scoped>\n",
       "    .dataframe tbody tr th:only-of-type {\n",
       "        vertical-align: middle;\n",
       "    }\n",
       "\n",
       "    .dataframe tbody tr th {\n",
       "        vertical-align: top;\n",
       "    }\n",
       "\n",
       "    .dataframe thead th {\n",
       "        text-align: right;\n",
       "    }\n",
       "</style>\n",
       "<table border=\"1\" class=\"dataframe\">\n",
       "  <thead>\n",
       "    <tr style=\"text-align: right;\">\n",
       "      <th></th>\n",
       "      <th>alcohol</th>\n",
       "      <th>sugar</th>\n",
       "      <th>pH</th>\n",
       "      <th>class</th>\n",
       "    </tr>\n",
       "  </thead>\n",
       "  <tbody>\n",
       "    <tr>\n",
       "      <th>count</th>\n",
       "      <td>6497.000000</td>\n",
       "      <td>6497.000000</td>\n",
       "      <td>6497.000000</td>\n",
       "      <td>6497.000000</td>\n",
       "    </tr>\n",
       "    <tr>\n",
       "      <th>mean</th>\n",
       "      <td>10.491801</td>\n",
       "      <td>5.443235</td>\n",
       "      <td>3.218501</td>\n",
       "      <td>0.753886</td>\n",
       "    </tr>\n",
       "    <tr>\n",
       "      <th>std</th>\n",
       "      <td>1.192712</td>\n",
       "      <td>4.757804</td>\n",
       "      <td>0.160787</td>\n",
       "      <td>0.430779</td>\n",
       "    </tr>\n",
       "    <tr>\n",
       "      <th>min</th>\n",
       "      <td>8.000000</td>\n",
       "      <td>0.600000</td>\n",
       "      <td>2.720000</td>\n",
       "      <td>0.000000</td>\n",
       "    </tr>\n",
       "    <tr>\n",
       "      <th>25%</th>\n",
       "      <td>9.500000</td>\n",
       "      <td>1.800000</td>\n",
       "      <td>3.110000</td>\n",
       "      <td>1.000000</td>\n",
       "    </tr>\n",
       "    <tr>\n",
       "      <th>50%</th>\n",
       "      <td>10.300000</td>\n",
       "      <td>3.000000</td>\n",
       "      <td>3.210000</td>\n",
       "      <td>1.000000</td>\n",
       "    </tr>\n",
       "    <tr>\n",
       "      <th>75%</th>\n",
       "      <td>11.300000</td>\n",
       "      <td>8.100000</td>\n",
       "      <td>3.320000</td>\n",
       "      <td>1.000000</td>\n",
       "    </tr>\n",
       "    <tr>\n",
       "      <th>max</th>\n",
       "      <td>14.900000</td>\n",
       "      <td>65.800000</td>\n",
       "      <td>4.010000</td>\n",
       "      <td>1.000000</td>\n",
       "    </tr>\n",
       "  </tbody>\n",
       "</table>\n",
       "</div>"
      ],
      "text/plain": [
       "           alcohol        sugar           pH        class\n",
       "count  6497.000000  6497.000000  6497.000000  6497.000000\n",
       "mean     10.491801     5.443235     3.218501     0.753886\n",
       "std       1.192712     4.757804     0.160787     0.430779\n",
       "min       8.000000     0.600000     2.720000     0.000000\n",
       "25%       9.500000     1.800000     3.110000     1.000000\n",
       "50%      10.300000     3.000000     3.210000     1.000000\n",
       "75%      11.300000     8.100000     3.320000     1.000000\n",
       "max      14.900000    65.800000     4.010000     1.000000"
      ]
     },
     "execution_count": 69,
     "metadata": {},
     "output_type": "execute_result"
    }
   ],
   "source": [
    "wine.describe()"
   ]
  },
  {
   "cell_type": "code",
   "execution_count": 70,
   "id": "6676ec68",
   "metadata": {},
   "outputs": [
    {
     "data": {
      "text/html": [
       "<div>\n",
       "<style scoped>\n",
       "    .dataframe tbody tr th:only-of-type {\n",
       "        vertical-align: middle;\n",
       "    }\n",
       "\n",
       "    .dataframe tbody tr th {\n",
       "        vertical-align: top;\n",
       "    }\n",
       "\n",
       "    .dataframe thead th {\n",
       "        text-align: right;\n",
       "    }\n",
       "</style>\n",
       "<table border=\"1\" class=\"dataframe\">\n",
       "  <thead>\n",
       "    <tr style=\"text-align: right;\">\n",
       "      <th></th>\n",
       "      <th>alcohol</th>\n",
       "      <th>sugar</th>\n",
       "      <th>pH</th>\n",
       "      <th>class</th>\n",
       "    </tr>\n",
       "  </thead>\n",
       "  <tbody>\n",
       "    <tr>\n",
       "      <th>0</th>\n",
       "      <td>9.4</td>\n",
       "      <td>1.9</td>\n",
       "      <td>3.51</td>\n",
       "      <td>0.0</td>\n",
       "    </tr>\n",
       "    <tr>\n",
       "      <th>1</th>\n",
       "      <td>9.8</td>\n",
       "      <td>2.6</td>\n",
       "      <td>3.20</td>\n",
       "      <td>0.0</td>\n",
       "    </tr>\n",
       "    <tr>\n",
       "      <th>2</th>\n",
       "      <td>9.8</td>\n",
       "      <td>2.3</td>\n",
       "      <td>3.26</td>\n",
       "      <td>0.0</td>\n",
       "    </tr>\n",
       "    <tr>\n",
       "      <th>3</th>\n",
       "      <td>9.8</td>\n",
       "      <td>1.9</td>\n",
       "      <td>3.16</td>\n",
       "      <td>0.0</td>\n",
       "    </tr>\n",
       "    <tr>\n",
       "      <th>4</th>\n",
       "      <td>9.4</td>\n",
       "      <td>1.9</td>\n",
       "      <td>3.51</td>\n",
       "      <td>0.0</td>\n",
       "    </tr>\n",
       "    <tr>\n",
       "      <th>...</th>\n",
       "      <td>...</td>\n",
       "      <td>...</td>\n",
       "      <td>...</td>\n",
       "      <td>...</td>\n",
       "    </tr>\n",
       "    <tr>\n",
       "      <th>6492</th>\n",
       "      <td>11.2</td>\n",
       "      <td>1.6</td>\n",
       "      <td>3.27</td>\n",
       "      <td>1.0</td>\n",
       "    </tr>\n",
       "    <tr>\n",
       "      <th>6493</th>\n",
       "      <td>9.6</td>\n",
       "      <td>8.0</td>\n",
       "      <td>3.15</td>\n",
       "      <td>1.0</td>\n",
       "    </tr>\n",
       "    <tr>\n",
       "      <th>6494</th>\n",
       "      <td>9.4</td>\n",
       "      <td>1.2</td>\n",
       "      <td>2.99</td>\n",
       "      <td>1.0</td>\n",
       "    </tr>\n",
       "    <tr>\n",
       "      <th>6495</th>\n",
       "      <td>12.8</td>\n",
       "      <td>1.1</td>\n",
       "      <td>3.34</td>\n",
       "      <td>1.0</td>\n",
       "    </tr>\n",
       "    <tr>\n",
       "      <th>6496</th>\n",
       "      <td>11.8</td>\n",
       "      <td>0.8</td>\n",
       "      <td>3.26</td>\n",
       "      <td>1.0</td>\n",
       "    </tr>\n",
       "  </tbody>\n",
       "</table>\n",
       "<p>6497 rows × 4 columns</p>\n",
       "</div>"
      ],
      "text/plain": [
       "      alcohol  sugar    pH  class\n",
       "0         9.4    1.9  3.51    0.0\n",
       "1         9.8    2.6  3.20    0.0\n",
       "2         9.8    2.3  3.26    0.0\n",
       "3         9.8    1.9  3.16    0.0\n",
       "4         9.4    1.9  3.51    0.0\n",
       "...       ...    ...   ...    ...\n",
       "6492     11.2    1.6  3.27    1.0\n",
       "6493      9.6    8.0  3.15    1.0\n",
       "6494      9.4    1.2  2.99    1.0\n",
       "6495     12.8    1.1  3.34    1.0\n",
       "6496     11.8    0.8  3.26    1.0\n",
       "\n",
       "[6497 rows x 4 columns]"
      ]
     },
     "execution_count": 70,
     "metadata": {},
     "output_type": "execute_result"
    }
   ],
   "source": [
    "wine"
   ]
  },
  {
   "cell_type": "code",
   "execution_count": 71,
   "id": "960f70b6",
   "metadata": {},
   "outputs": [],
   "source": [
    "data = wine[['alcohol', 'sugar', 'pH']].to_numpy()\n",
    "target= wine['class'].to_numpy()\n"
   ]
  },
  {
   "cell_type": "code",
   "execution_count": 72,
   "id": "593fbac0",
   "metadata": {},
   "outputs": [],
   "source": [
    "train_input, test_input, train_target, test_target=train_test_split(data, target, test_size=0.2,random_state=42)"
   ]
  },
  {
   "cell_type": "code",
   "execution_count": 73,
   "id": "03f51639",
   "metadata": {},
   "outputs": [],
   "source": [
    "from sklearn.preprocessing import StandardScaler\n",
    "ss = StandardScaler()"
   ]
  },
  {
   "cell_type": "code",
   "execution_count": 74,
   "id": "c44230ff",
   "metadata": {},
   "outputs": [
    {
     "data": {
      "text/plain": [
       "StandardScaler()"
      ]
     },
     "execution_count": 74,
     "metadata": {},
     "output_type": "execute_result"
    }
   ],
   "source": [
    "ss.fit(train_input)"
   ]
  },
  {
   "cell_type": "code",
   "execution_count": 75,
   "id": "4c5266bd",
   "metadata": {},
   "outputs": [],
   "source": [
    "train_scaled = ss.transform(train_input)"
   ]
  },
  {
   "cell_type": "code",
   "execution_count": 76,
   "id": "1b4d6779",
   "metadata": {},
   "outputs": [],
   "source": [
    "test_scaled = ss.transform(test_input)"
   ]
  },
  {
   "cell_type": "code",
   "execution_count": 77,
   "id": "ba75284d",
   "metadata": {},
   "outputs": [],
   "source": [
    "from sklearn.linear_model import LogisticRegression"
   ]
  },
  {
   "cell_type": "code",
   "execution_count": 78,
   "id": "306cd543",
   "metadata": {},
   "outputs": [],
   "source": [
    "lr = LogisticRegression()"
   ]
  },
  {
   "cell_type": "code",
   "execution_count": 80,
   "id": "88988c73",
   "metadata": {},
   "outputs": [
    {
     "data": {
      "text/plain": [
       "LogisticRegression()"
      ]
     },
     "execution_count": 80,
     "metadata": {},
     "output_type": "execute_result"
    }
   ],
   "source": [
    "lr.fit(train_scaled, train_target)"
   ]
  },
  {
   "cell_type": "code",
   "execution_count": 81,
   "id": "f8733012",
   "metadata": {},
   "outputs": [
    {
     "name": "stdout",
     "output_type": "stream",
     "text": [
      "0.7808350971714451\n"
     ]
    }
   ],
   "source": [
    "print(lr.score(train_scaled, train_target))"
   ]
  },
  {
   "cell_type": "code",
   "execution_count": 82,
   "id": "9d209934",
   "metadata": {},
   "outputs": [
    {
     "name": "stdout",
     "output_type": "stream",
     "text": [
      "0.7776923076923077\n"
     ]
    }
   ],
   "source": [
    "print(lr.score(test_scaled, test_target))"
   ]
  },
  {
   "cell_type": "code",
   "execution_count": 83,
   "id": "09a9edd6",
   "metadata": {},
   "outputs": [],
   "source": [
    "from sklearn.tree import DecisionTreeClassifier"
   ]
  },
  {
   "cell_type": "code",
   "execution_count": 84,
   "id": "dc8173c3",
   "metadata": {},
   "outputs": [],
   "source": [
    "dt = DecisionTreeClassifier(random_state=42)"
   ]
  },
  {
   "cell_type": "code",
   "execution_count": 85,
   "id": "490d660b",
   "metadata": {},
   "outputs": [
    {
     "data": {
      "text/plain": [
       "DecisionTreeClassifier(random_state=42)"
      ]
     },
     "execution_count": 85,
     "metadata": {},
     "output_type": "execute_result"
    }
   ],
   "source": [
    "dt.fit(train_scaled, train_target)"
   ]
  },
  {
   "cell_type": "code",
   "execution_count": 86,
   "id": "9d11b043",
   "metadata": {},
   "outputs": [
    {
     "name": "stdout",
     "output_type": "stream",
     "text": [
      "0.996921300750433\n"
     ]
    }
   ],
   "source": [
    "print(dt.score(train_scaled, train_target))"
   ]
  },
  {
   "cell_type": "code",
   "execution_count": 87,
   "id": "fdbffe5d",
   "metadata": {},
   "outputs": [
    {
     "name": "stdout",
     "output_type": "stream",
     "text": [
      "0.8592307692307692\n"
     ]
    }
   ],
   "source": [
    "print(dt.score(test_scaled, test_target))"
   ]
  },
  {
   "cell_type": "code",
   "execution_count": 88,
   "id": "6252b28e",
   "metadata": {},
   "outputs": [],
   "source": [
    "import matplotlib.pyplot as plt"
   ]
  },
  {
   "cell_type": "code",
   "execution_count": 89,
   "id": "83e545cc",
   "metadata": {},
   "outputs": [],
   "source": [
    "from sklearn.tree import plot_tree"
   ]
  },
  {
   "cell_type": "code",
   "execution_count": 90,
   "id": "099fbd14",
   "metadata": {},
   "outputs": [
    {
     "data": {
      "text/plain": [
       "<Figure size 1000x700 with 0 Axes>"
      ]
     },
     "execution_count": 90,
     "metadata": {},
     "output_type": "execute_result"
    },
    {
     "data": {
      "text/plain": [
       "<Figure size 1000x700 with 0 Axes>"
      ]
     },
     "metadata": {},
     "output_type": "display_data"
    }
   ],
   "source": [
    "plt.figure(figsize=(10,7))"
   ]
  },
  {
   "cell_type": "code",
   "execution_count": 91,
   "id": "79ef8bc7",
   "metadata": {},
   "outputs": [
    {
     "data": {
      "text/plain": [
       "[Text(0.6076222132082433, 0.9772727272727273, 'X[1] <= -0.239\\ngini = 0.367\\nsamples = 5197\\nvalue = [1258, 3939]'),\n",
       " Text(0.2956869355618141, 0.9318181818181818, 'X[1] <= -0.802\\ngini = 0.481\\nsamples = 2922\\nvalue = [1177, 1745]'),\n",
       " Text(0.05751066521865647, 0.8863636363636364, 'X[1] <= -0.854\\ngini = 0.184\\nsamples = 1054\\nvalue = [108, 946]'),\n",
       " Text(0.006651147322913203, 0.8409090909090909, 'X[2] <= 3.966\\ngini = 0.032\\nsamples = 555\\nvalue = [9, 546]'),\n",
       " Text(0.005320917858330562, 0.7954545454545454, 'X[2] <= -2.017\\ngini = 0.025\\nsamples = 553\\nvalue = [7, 546]'),\n",
       " Text(0.002660458929165281, 0.75, 'X[2] <= -2.08\\ngini = 0.219\\nsamples = 8\\nvalue = [1, 7]'),\n",
       " Text(0.0013302294645826404, 0.7045454545454546, 'gini = 0.0\\nsamples = 7\\nvalue = [0, 7]'),\n",
       " Text(0.0039906883937479215, 0.7045454545454546, 'gini = 0.0\\nsamples = 1\\nvalue = [1, 0]'),\n",
       " Text(0.007981376787495843, 0.75, 'X[1] <= -0.896\\ngini = 0.022\\nsamples = 545\\nvalue = [6, 539]'),\n",
       " Text(0.006651147322913203, 0.7045454545454546, 'gini = 0.0\\nsamples = 263\\nvalue = [0, 263]'),\n",
       " Text(0.009311606252078483, 0.7045454545454546, 'X[0] <= -0.952\\ngini = 0.042\\nsamples = 282\\nvalue = [6, 276]'),\n",
       " Text(0.0029930162953109413, 0.6590909090909091, 'X[2] <= -0.357\\ngini = 0.153\\nsamples = 24\\nvalue = [2, 22]'),\n",
       " Text(0.0016627868307283007, 0.6136363636363636, 'gini = 0.0\\nsamples = 16\\nvalue = [0, 16]'),\n",
       " Text(0.004323245759893582, 0.6136363636363636, 'X[2] <= -0.232\\ngini = 0.375\\nsamples = 8\\nvalue = [2, 6]'),\n",
       " Text(0.0029930162953109413, 0.5681818181818182, 'gini = 0.0\\nsamples = 1\\nvalue = [1, 0]'),\n",
       " Text(0.005653475224476222, 0.5681818181818182, 'X[0] <= -1.036\\ngini = 0.245\\nsamples = 7\\nvalue = [1, 6]'),\n",
       " Text(0.004323245759893582, 0.5227272727272727, 'gini = 0.0\\nsamples = 6\\nvalue = [0, 6]'),\n",
       " Text(0.006983704689058862, 0.5227272727272727, 'gini = 0.0\\nsamples = 1\\nvalue = [1, 0]'),\n",
       " Text(0.015630196208846026, 0.6590909090909091, 'X[2] <= 0.426\\ngini = 0.031\\nsamples = 258\\nvalue = [4, 254]'),\n",
       " Text(0.012304622547389425, 0.6136363636363636, 'X[0] <= -0.532\\ngini = 0.011\\nsamples = 175\\nvalue = [1, 174]'),\n",
       " Text(0.010974393082806785, 0.5681818181818182, 'X[0] <= -0.616\\ngini = 0.087\\nsamples = 22\\nvalue = [1, 21]'),\n",
       " Text(0.009644163618224144, 0.5227272727272727, 'gini = 0.0\\nsamples = 17\\nvalue = [0, 17]'),\n",
       " Text(0.012304622547389425, 0.5227272727272727, 'X[1] <= -0.88\\ngini = 0.32\\nsamples = 5\\nvalue = [1, 4]'),\n",
       " Text(0.010974393082806785, 0.4772727272727273, 'gini = 0.0\\nsamples = 3\\nvalue = [0, 3]'),\n",
       " Text(0.013634852011972065, 0.4772727272727273, 'X[2] <= -0.388\\ngini = 0.5\\nsamples = 2\\nvalue = [1, 1]'),\n",
       " Text(0.012304622547389425, 0.4318181818181818, 'gini = 0.0\\nsamples = 1\\nvalue = [0, 1]'),\n",
       " Text(0.014965081476554705, 0.4318181818181818, 'gini = 0.0\\nsamples = 1\\nvalue = [1, 0]'),\n",
       " Text(0.013634852011972065, 0.5681818181818182, 'gini = 0.0\\nsamples = 153\\nvalue = [0, 153]'),\n",
       " Text(0.018955769870302626, 0.6136363636363636, 'X[2] <= 0.489\\ngini = 0.07\\nsamples = 83\\nvalue = [3, 80]'),\n",
       " Text(0.016295310941137345, 0.5681818181818182, 'X[1] <= -0.88\\ngini = 0.346\\nsamples = 9\\nvalue = [2, 7]'),\n",
       " Text(0.014965081476554705, 0.5227272727272727, 'gini = 0.0\\nsamples = 2\\nvalue = [2, 0]'),\n",
       " Text(0.017625540405719987, 0.5227272727272727, 'gini = 0.0\\nsamples = 7\\nvalue = [0, 7]'),\n",
       " Text(0.02161622879946791, 0.5681818181818182, 'X[0] <= -0.364\\ngini = 0.027\\nsamples = 74\\nvalue = [1, 73]'),\n",
       " Text(0.020285999334885268, 0.5227272727272727, 'X[0] <= -0.448\\ngini = 0.133\\nsamples = 14\\nvalue = [1, 13]'),\n",
       " Text(0.018955769870302626, 0.4772727272727273, 'gini = 0.0\\nsamples = 9\\nvalue = [0, 9]'),\n",
       " Text(0.02161622879946791, 0.4772727272727273, 'X[1] <= -0.88\\ngini = 0.32\\nsamples = 5\\nvalue = [1, 4]'),\n",
       " Text(0.020285999334885268, 0.4318181818181818, 'gini = 0.0\\nsamples = 1\\nvalue = [1, 0]'),\n",
       " Text(0.022946458264050548, 0.4318181818181818, 'gini = 0.0\\nsamples = 4\\nvalue = [0, 4]'),\n",
       " Text(0.022946458264050548, 0.5227272727272727, 'gini = 0.0\\nsamples = 60\\nvalue = [0, 60]'),\n",
       " Text(0.007981376787495843, 0.7954545454545454, 'gini = 0.0\\nsamples = 2\\nvalue = [2, 0]'),\n",
       " Text(0.10837018311439973, 0.8409090909090909, 'X[0] <= -0.35\\ngini = 0.318\\nsamples = 499\\nvalue = [99, 400]'),\n",
       " Text(0.059694047223145995, 0.7954545454545454, 'X[2] <= 0.176\\ngini = 0.47\\nsamples = 154\\nvalue = [58, 96]'),\n",
       " Text(0.04173594945128035, 0.75, 'X[0] <= -0.392\\ngini = 0.329\\nsamples = 77\\nvalue = [16, 61]'),\n",
       " Text(0.0404057199866977, 0.7045454545454546, 'X[2] <= -2.08\\ngini = 0.317\\nsamples = 76\\nvalue = [15, 61]'),\n",
       " Text(0.039075490522115064, 0.6590909090909091, 'gini = 0.0\\nsamples = 1\\nvalue = [1, 0]'),\n",
       " Text(0.04173594945128035, 0.6590909090909091, 'X[1] <= -0.818\\ngini = 0.304\\nsamples = 75\\nvalue = [14, 61]'),\n",
       " Text(0.03192550714998337, 0.6136363636363636, 'X[2] <= -1.14\\ngini = 0.226\\nsamples = 54\\nvalue = [7, 47]'),\n",
       " Text(0.02693714665779847, 0.5681818181818182, 'X[2] <= -1.328\\ngini = 0.42\\nsamples = 10\\nvalue = [3, 7]'),\n",
       " Text(0.02560691719321583, 0.5227272727272727, 'gini = 0.0\\nsamples = 6\\nvalue = [0, 6]'),\n",
       " Text(0.02826737612238111, 0.5227272727272727, 'X[1] <= -0.839\\ngini = 0.375\\nsamples = 4\\nvalue = [3, 1]'),\n",
       " Text(0.02693714665779847, 0.4772727272727273, 'X[0] <= -1.036\\ngini = 0.5\\nsamples = 2\\nvalue = [1, 1]'),\n",
       " Text(0.02560691719321583, 0.4318181818181818, 'gini = 0.0\\nsamples = 1\\nvalue = [1, 0]'),\n",
       " Text(0.02826737612238111, 0.4318181818181818, 'gini = 0.0\\nsamples = 1\\nvalue = [0, 1]'),\n",
       " Text(0.02959760558696375, 0.4772727272727273, 'gini = 0.0\\nsamples = 2\\nvalue = [2, 0]'),\n",
       " Text(0.03691386764216827, 0.5681818181818182, 'X[0] <= -1.119\\ngini = 0.165\\nsamples = 44\\nvalue = [4, 40]'),\n",
       " Text(0.03358829398071167, 0.5227272727272727, 'X[2] <= -0.576\\ngini = 0.375\\nsamples = 4\\nvalue = [1, 3]'),\n",
       " Text(0.03225806451612903, 0.4772727272727273, 'X[1] <= -0.839\\ngini = 0.5\\nsamples = 2\\nvalue = [1, 1]'),\n",
       " Text(0.030927835051546393, 0.4318181818181818, 'gini = 0.0\\nsamples = 1\\nvalue = [1, 0]'),\n",
       " Text(0.03358829398071167, 0.4318181818181818, 'gini = 0.0\\nsamples = 1\\nvalue = [0, 1]'),\n",
       " Text(0.034918523445294315, 0.4772727272727273, 'gini = 0.0\\nsamples = 2\\nvalue = [0, 2]'),\n",
       " Text(0.040239441303624876, 0.5227272727272727, 'X[1] <= -0.839\\ngini = 0.139\\nsamples = 40\\nvalue = [3, 37]'),\n",
       " Text(0.03757898237445959, 0.4772727272727273, 'X[2] <= -0.639\\ngini = 0.077\\nsamples = 25\\nvalue = [1, 24]'),\n",
       " Text(0.036248752909876954, 0.4318181818181818, 'X[0] <= -0.49\\ngini = 0.375\\nsamples = 4\\nvalue = [1, 3]'),\n",
       " Text(0.034918523445294315, 0.38636363636363635, 'gini = 0.0\\nsamples = 3\\nvalue = [0, 3]'),\n",
       " Text(0.03757898237445959, 0.38636363636363635, 'gini = 0.0\\nsamples = 1\\nvalue = [1, 0]'),\n",
       " Text(0.03890921183904224, 0.4318181818181818, 'gini = 0.0\\nsamples = 21\\nvalue = [0, 21]'),\n",
       " Text(0.04289990023279015, 0.4772727272727273, 'X[2] <= -0.419\\ngini = 0.231\\nsamples = 15\\nvalue = [2, 13]'),\n",
       " Text(0.041569670768207514, 0.4318181818181818, 'gini = 0.0\\nsamples = 7\\nvalue = [0, 7]'),\n",
       " Text(0.0442301296973728, 0.4318181818181818, 'X[2] <= -0.294\\ngini = 0.375\\nsamples = 8\\nvalue = [2, 6]'),\n",
       " Text(0.04289990023279015, 0.38636363636363635, 'gini = 0.0\\nsamples = 1\\nvalue = [1, 0]'),\n",
       " Text(0.04556035916195544, 0.38636363636363635, 'X[2] <= -0.075\\ngini = 0.245\\nsamples = 7\\nvalue = [1, 6]'),\n",
       " Text(0.0442301296973728, 0.3409090909090909, 'X[2] <= -0.138\\ngini = 0.444\\nsamples = 3\\nvalue = [1, 2]'),\n",
       " Text(0.04289990023279015, 0.29545454545454547, 'gini = 0.0\\nsamples = 2\\nvalue = [0, 2]'),\n",
       " Text(0.04556035916195544, 0.29545454545454547, 'gini = 0.0\\nsamples = 1\\nvalue = [1, 0]'),\n",
       " Text(0.046890588626538075, 0.3409090909090909, 'gini = 0.0\\nsamples = 4\\nvalue = [0, 4]'),\n",
       " Text(0.05154639175257732, 0.6136363636363636, 'X[2] <= -0.639\\ngini = 0.444\\nsamples = 21\\nvalue = [7, 14]'),\n",
       " Text(0.04822081809112072, 0.5681818181818182, 'X[0] <= -0.868\\ngini = 0.219\\nsamples = 8\\nvalue = [1, 7]'),\n",
       " Text(0.046890588626538075, 0.5227272727272727, 'X[0] <= -1.036\\ngini = 0.444\\nsamples = 3\\nvalue = [1, 2]'),\n",
       " Text(0.04556035916195544, 0.4772727272727273, 'gini = 0.0\\nsamples = 1\\nvalue = [0, 1]'),\n",
       " Text(0.04822081809112072, 0.4772727272727273, 'gini = 0.5\\nsamples = 2\\nvalue = [1, 1]'),\n",
       " Text(0.04955104755570336, 0.5227272727272727, 'gini = 0.0\\nsamples = 5\\nvalue = [0, 5]'),\n",
       " Text(0.05487196541403392, 0.5681818181818182, 'X[2] <= -0.263\\ngini = 0.497\\nsamples = 13\\nvalue = [6, 7]'),\n",
       " Text(0.05221150648486864, 0.5227272727272727, 'X[2] <= -0.451\\ngini = 0.278\\nsamples = 6\\nvalue = [5, 1]'),\n",
       " Text(0.050881277020286, 0.4772727272727273, 'X[2] <= -0.545\\ngini = 0.5\\nsamples = 2\\nvalue = [1, 1]'),\n",
       " Text(0.04955104755570336, 0.4318181818181818, 'gini = 0.0\\nsamples = 1\\nvalue = [1, 0]'),\n",
       " Text(0.05221150648486864, 0.4318181818181818, 'gini = 0.0\\nsamples = 1\\nvalue = [0, 1]'),\n",
       " Text(0.05354173594945128, 0.4772727272727273, 'gini = 0.0\\nsamples = 4\\nvalue = [4, 0]'),\n",
       " Text(0.057532424343199204, 0.5227272727272727, 'X[0] <= -0.448\\ngini = 0.245\\nsamples = 7\\nvalue = [1, 6]'),\n",
       " Text(0.05620219487861656, 0.4772727272727273, 'gini = 0.0\\nsamples = 6\\nvalue = [0, 6]'),\n",
       " Text(0.05886265380778184, 0.4772727272727273, 'gini = 0.0\\nsamples = 1\\nvalue = [1, 0]'),\n",
       " Text(0.043066178915862986, 0.7045454545454546, 'gini = 0.0\\nsamples = 1\\nvalue = [1, 0]'),\n",
       " Text(0.07765214499501163, 0.75, 'X[0] <= -0.763\\ngini = 0.496\\nsamples = 77\\nvalue = [42, 35]'),\n",
       " Text(0.06950448952444296, 0.7045454545454546, 'X[2] <= 2.431\\ngini = 0.415\\nsamples = 34\\nvalue = [24, 10]'),\n",
       " Text(0.06817426005986033, 0.6590909090909091, 'X[1] <= -0.812\\ngini = 0.397\\nsamples = 33\\nvalue = [24, 9]'),\n",
       " Text(0.06418357166611241, 0.6136363636363636, 'X[2] <= 0.802\\ngini = 0.484\\nsamples = 17\\nvalue = [10, 7]'),\n",
       " Text(0.061523112736947126, 0.5681818181818182, 'X[0] <= -0.952\\ngini = 0.469\\nsamples = 8\\nvalue = [3, 5]'),\n",
       " Text(0.06019288327236448, 0.5227272727272727, 'gini = 0.0\\nsamples = 3\\nvalue = [3, 0]'),\n",
       " Text(0.06285334220152976, 0.5227272727272727, 'gini = 0.0\\nsamples = 5\\nvalue = [0, 5]'),\n",
       " Text(0.06684403059527769, 0.5681818181818182, 'X[0] <= -0.868\\ngini = 0.346\\nsamples = 9\\nvalue = [7, 2]'),\n",
       " Text(0.06551380113069505, 0.5227272727272727, 'X[1] <= -0.839\\ngini = 0.444\\nsamples = 3\\nvalue = [1, 2]'),\n",
       " Text(0.06418357166611241, 0.4772727272727273, 'gini = 0.0\\nsamples = 1\\nvalue = [0, 1]'),\n",
       " Text(0.06684403059527769, 0.4772727272727273, 'X[2] <= 1.585\\ngini = 0.5\\nsamples = 2\\nvalue = [1, 1]'),\n",
       " Text(0.06551380113069505, 0.4318181818181818, 'gini = 0.0\\nsamples = 1\\nvalue = [1, 0]'),\n",
       " Text(0.06817426005986033, 0.4318181818181818, 'gini = 0.0\\nsamples = 1\\nvalue = [0, 1]'),\n",
       " Text(0.06817426005986033, 0.5227272727272727, 'gini = 0.0\\nsamples = 6\\nvalue = [6, 0]'),\n",
       " Text(0.07216494845360824, 0.6136363636363636, 'X[0] <= -1.036\\ngini = 0.219\\nsamples = 16\\nvalue = [14, 2]'),\n",
       " Text(0.0708347189890256, 0.5681818181818182, 'gini = 0.0\\nsamples = 6\\nvalue = [6, 0]'),\n",
       " Text(0.0734951779181909, 0.5681818181818182, 'X[0] <= -0.952\\ngini = 0.32\\nsamples = 10\\nvalue = [8, 2]'),\n",
       " Text(0.0708347189890256, 0.5227272727272727, 'X[2] <= 0.614\\ngini = 0.5\\nsamples = 2\\nvalue = [1, 1]'),\n",
       " Text(0.06950448952444296, 0.4772727272727273, 'gini = 0.0\\nsamples = 1\\nvalue = [1, 0]'),\n",
       " Text(0.07216494845360824, 0.4772727272727273, 'gini = 0.0\\nsamples = 1\\nvalue = [0, 1]'),\n",
       " Text(0.07615563684735617, 0.5227272727272727, 'X[2] <= 0.552\\ngini = 0.219\\nsamples = 8\\nvalue = [7, 1]'),\n",
       " Text(0.07482540738277353, 0.4772727272727273, 'X[0] <= -0.868\\ngini = 0.444\\nsamples = 3\\nvalue = [2, 1]'),\n",
       " Text(0.0734951779181909, 0.4318181818181818, 'gini = 0.0\\nsamples = 1\\nvalue = [1, 0]'),\n",
       " Text(0.07615563684735617, 0.4318181818181818, 'X[2] <= 0.364\\ngini = 0.5\\nsamples = 2\\nvalue = [1, 1]'),\n",
       " Text(0.07482540738277353, 0.38636363636363635, 'gini = 0.0\\nsamples = 1\\nvalue = [1, 0]'),\n",
       " Text(0.07748586631193881, 0.38636363636363635, 'gini = 0.0\\nsamples = 1\\nvalue = [0, 1]'),\n",
       " Text(0.07748586631193881, 0.4772727272727273, 'gini = 0.0\\nsamples = 5\\nvalue = [5, 0]'),\n",
       " Text(0.0708347189890256, 0.6590909090909091, 'gini = 0.0\\nsamples = 1\\nvalue = [0, 1]'),\n",
       " Text(0.0857998004655803, 0.7045454545454546, 'X[2] <= 0.395\\ngini = 0.487\\nsamples = 43\\nvalue = [18, 25]'),\n",
       " Text(0.08014632524110409, 0.6590909090909091, 'X[2] <= 0.238\\ngini = 0.48\\nsamples = 10\\nvalue = [6, 4]'),\n",
       " Text(0.07748586631193881, 0.6136363636363636, 'X[0] <= -0.574\\ngini = 0.444\\nsamples = 3\\nvalue = [1, 2]'),\n",
       " Text(0.07615563684735617, 0.5681818181818182, 'gini = 0.0\\nsamples = 2\\nvalue = [0, 2]'),\n",
       " Text(0.07881609577652145, 0.5681818181818182, 'gini = 0.0\\nsamples = 1\\nvalue = [1, 0]'),\n",
       " Text(0.08280678417026938, 0.6136363636363636, 'X[0] <= -0.532\\ngini = 0.408\\nsamples = 7\\nvalue = [5, 2]'),\n",
       " Text(0.08147655470568674, 0.5681818181818182, 'gini = 0.0\\nsamples = 4\\nvalue = [4, 0]'),\n",
       " Text(0.08413701363485201, 0.5681818181818182, 'X[1] <= -0.828\\ngini = 0.444\\nsamples = 3\\nvalue = [1, 2]'),\n",
       " Text(0.08280678417026938, 0.5227272727272727, 'gini = 0.0\\nsamples = 2\\nvalue = [0, 2]'),\n",
       " Text(0.08546724309943465, 0.5227272727272727, 'gini = 0.0\\nsamples = 1\\nvalue = [1, 0]'),\n",
       " Text(0.09145327569005654, 0.6590909090909091, 'X[2] <= 0.583\\ngini = 0.463\\nsamples = 33\\nvalue = [12, 21]'),\n",
       " Text(0.08812770202859993, 0.6136363636363636, 'X[0] <= -0.7\\ngini = 0.245\\nsamples = 7\\nvalue = [1, 6]'),\n",
       " Text(0.08679747256401729, 0.5681818181818182, 'gini = 0.0\\nsamples = 6\\nvalue = [0, 6]'),\n",
       " Text(0.08945793149318257, 0.5681818181818182, 'gini = 0.0\\nsamples = 1\\nvalue = [1, 0]'),\n",
       " Text(0.09477884935151314, 0.6136363636363636, 'X[0] <= -0.7\\ngini = 0.488\\nsamples = 26\\nvalue = [11, 15]'),\n",
       " Text(0.09211839042234786, 0.5681818181818182, 'X[1] <= -0.839\\ngini = 0.32\\nsamples = 5\\nvalue = [4, 1]'),\n",
       " Text(0.09078816095776522, 0.5227272727272727, 'X[2] <= 0.708\\ngini = 0.444\\nsamples = 3\\nvalue = [2, 1]'),\n",
       " Text(0.08945793149318257, 0.4772727272727273, 'gini = 0.0\\nsamples = 2\\nvalue = [2, 0]'),\n",
       " Text(0.09211839042234786, 0.4772727272727273, 'gini = 0.0\\nsamples = 1\\nvalue = [0, 1]'),\n",
       " Text(0.0934486198869305, 0.5227272727272727, 'gini = 0.0\\nsamples = 2\\nvalue = [2, 0]'),\n",
       " Text(0.09743930828067841, 0.5681818181818182, 'X[0] <= -0.616\\ngini = 0.444\\nsamples = 21\\nvalue = [7, 14]'),\n",
       " Text(0.09610907881609577, 0.5227272727272727, 'gini = 0.0\\nsamples = 5\\nvalue = [0, 5]'),\n",
       " Text(0.09876953774526105, 0.5227272727272727, 'X[2] <= 2.149\\ngini = 0.492\\nsamples = 16\\nvalue = [7, 9]'),\n",
       " Text(0.09743930828067841, 0.4772727272727273, 'X[2] <= 0.99\\ngini = 0.459\\nsamples = 14\\nvalue = [5, 9]'),\n",
       " Text(0.09610907881609577, 0.4318181818181818, 'gini = 0.0\\nsamples = 3\\nvalue = [0, 3]'),\n",
       " Text(0.09876953774526105, 0.4318181818181818, 'X[2] <= 1.899\\ngini = 0.496\\nsamples = 11\\nvalue = [5, 6]'),\n",
       " Text(0.09743930828067841, 0.38636363636363635, 'X[2] <= 1.742\\ngini = 0.5\\nsamples = 10\\nvalue = [5, 5]'),\n",
       " Text(0.09610907881609577, 0.3409090909090909, 'X[2] <= 1.178\\ngini = 0.494\\nsamples = 9\\nvalue = [4, 5]'),\n",
       " Text(0.0934486198869305, 0.29545454545454547, 'X[2] <= 1.084\\ngini = 0.48\\nsamples = 5\\nvalue = [3, 2]'),\n",
       " Text(0.09211839042234786, 0.25, 'X[0] <= -0.532\\ngini = 0.5\\nsamples = 4\\nvalue = [2, 2]'),\n",
       " Text(0.09078816095776522, 0.20454545454545456, 'gini = 0.0\\nsamples = 1\\nvalue = [0, 1]'),\n",
       " Text(0.0934486198869305, 0.20454545454545456, 'X[0] <= -0.448\\ngini = 0.444\\nsamples = 3\\nvalue = [2, 1]'),\n",
       " Text(0.09211839042234786, 0.1590909090909091, 'gini = 0.0\\nsamples = 1\\nvalue = [1, 0]'),\n",
       " Text(0.09477884935151314, 0.1590909090909091, 'gini = 0.5\\nsamples = 2\\nvalue = [1, 1]'),\n",
       " Text(0.09477884935151314, 0.25, 'gini = 0.0\\nsamples = 1\\nvalue = [1, 0]'),\n",
       " Text(0.09876953774526105, 0.29545454545454547, 'X[2] <= 1.241\\ngini = 0.375\\nsamples = 4\\nvalue = [1, 3]'),\n",
       " Text(0.09743930828067841, 0.25, 'gini = 0.0\\nsamples = 2\\nvalue = [0, 2]'),\n",
       " Text(0.1000997672098437, 0.25, 'X[2] <= 1.491\\ngini = 0.5\\nsamples = 2\\nvalue = [1, 1]'),\n",
       " Text(0.09876953774526105, 0.20454545454545456, 'gini = 0.0\\nsamples = 1\\nvalue = [1, 0]'),\n",
       " Text(0.10142999667442634, 0.20454545454545456, 'gini = 0.0\\nsamples = 1\\nvalue = [0, 1]'),\n",
       " Text(0.09876953774526105, 0.3409090909090909, 'gini = 0.0\\nsamples = 1\\nvalue = [1, 0]'),\n",
       " Text(0.1000997672098437, 0.38636363636363635, 'gini = 0.0\\nsamples = 1\\nvalue = [0, 1]'),\n",
       " Text(0.1000997672098437, 0.4772727272727273, 'gini = 0.0\\nsamples = 2\\nvalue = [2, 0]'),\n",
       " Text(0.15704631900565347, 0.7954545454545454, 'X[2] <= 1.429\\ngini = 0.209\\nsamples = 345\\nvalue = [41, 304]'),\n",
       " Text(0.1391674634186897, 0.75, 'X[0] <= 1.231\\ngini = 0.154\\nsamples = 298\\nvalue = [25, 273]'),\n",
       " Text(0.13783723395410707, 0.7045454545454546, 'X[2] <= -0.576\\ngini = 0.196\\nsamples = 227\\nvalue = [25, 202]'),\n",
       " Text(0.12932324575989357, 0.6590909090909091, 'X[2] <= -1.829\\ngini = 0.083\\nsamples = 46\\nvalue = [2, 44]'),\n",
       " Text(0.1266627868307283, 0.6136363636363636, 'X[0] <= 0.14\\ngini = 0.444\\nsamples = 3\\nvalue = [1, 2]'),\n",
       " Text(0.12533255736614565, 0.5681818181818182, 'gini = 0.0\\nsamples = 1\\nvalue = [1, 0]'),\n",
       " Text(0.12799301629531093, 0.5681818181818182, 'gini = 0.0\\nsamples = 2\\nvalue = [0, 2]'),\n",
       " Text(0.13198370468905887, 0.6136363636363636, 'X[0] <= -0.028\\ngini = 0.045\\nsamples = 43\\nvalue = [1, 42]'),\n",
       " Text(0.13065347522447623, 0.5681818181818182, 'X[2] <= -0.889\\ngini = 0.142\\nsamples = 13\\nvalue = [1, 12]'),\n",
       " Text(0.12932324575989357, 0.5227272727272727, 'X[2] <= -0.952\\ngini = 0.278\\nsamples = 6\\nvalue = [1, 5]'),\n",
       " Text(0.12799301629531093, 0.4772727272727273, 'gini = 0.0\\nsamples = 5\\nvalue = [0, 5]'),\n",
       " Text(0.13065347522447623, 0.4772727272727273, 'gini = 0.0\\nsamples = 1\\nvalue = [1, 0]'),\n",
       " Text(0.13198370468905887, 0.5227272727272727, 'gini = 0.0\\nsamples = 7\\nvalue = [0, 7]'),\n",
       " Text(0.1333139341536415, 0.5681818181818182, 'gini = 0.0\\nsamples = 30\\nvalue = [0, 30]'),\n",
       " Text(0.14635122214832058, 0.6590909090909091, 'X[2] <= -0.451\\ngini = 0.222\\nsamples = 181\\nvalue = [23, 158]'),\n",
       " Text(0.1381568007981377, 0.6136363636363636, 'X[0] <= -0.196\\ngini = 0.48\\nsamples = 5\\nvalue = [3, 2]'),\n",
       " Text(0.13682657133355502, 0.5681818181818182, 'gini = 0.0\\nsamples = 1\\nvalue = [0, 1]'),\n",
       " Text(0.13948703026272033, 0.5681818181818182, 'X[1] <= -0.818\\ngini = 0.375\\nsamples = 4\\nvalue = [3, 1]'),\n",
       " Text(0.1381568007981377, 0.5227272727272727, 'gini = 0.0\\nsamples = 3\\nvalue = [3, 0]'),\n",
       " Text(0.14081725972730297, 0.5227272727272727, 'gini = 0.0\\nsamples = 1\\nvalue = [0, 1]'),\n",
       " Text(0.1545456434985035, 0.6136363636363636, 'X[0] <= 1.063\\ngini = 0.201\\nsamples = 176\\nvalue = [20, 156]'),\n",
       " Text(0.14480794812105088, 0.5681818181818182, 'X[2] <= -0.263\\ngini = 0.189\\nsamples = 170\\nvalue = [18, 152]'),\n",
       " Text(0.14347771865646824, 0.5227272727272727, 'gini = 0.0\\nsamples = 14\\nvalue = [0, 14]'),\n",
       " Text(0.14613817758563352, 0.5227272727272727, 'X[2] <= 0.301\\ngini = 0.204\\nsamples = 156\\nvalue = [18, 138]'),\n",
       " Text(0.1333139341536415, 0.4772727272727273, 'X[0] <= 0.643\\ngini = 0.274\\nsamples = 61\\nvalue = [10, 51]'),\n",
       " Text(0.12662121715996008, 0.4318181818181818, 'X[0] <= 0.475\\ngini = 0.315\\nsamples = 46\\nvalue = [9, 37]'),\n",
       " Text(0.11988693049551047, 0.38636363636363635, 'X[0] <= 0.14\\ngini = 0.266\\nsamples = 38\\nvalue = [6, 32]'),\n",
       " Text(0.11306950448952444, 0.3409090909090909, 'X[0] <= -0.196\\ngini = 0.351\\nsamples = 22\\nvalue = [5, 17]'),\n",
       " Text(0.1067509145327569, 0.29545454545454547, 'X[1] <= -0.818\\ngini = 0.198\\nsamples = 9\\nvalue = [1, 8]'),\n",
       " Text(0.10542068506817426, 0.25, 'X[2] <= -0.044\\ngini = 0.32\\nsamples = 5\\nvalue = [1, 4]'),\n",
       " Text(0.10409045560359162, 0.20454545454545456, 'gini = 0.0\\nsamples = 2\\nvalue = [0, 2]'),\n",
       " Text(0.1067509145327569, 0.20454545454545456, 'X[2] <= 0.05\\ngini = 0.444\\nsamples = 3\\nvalue = [1, 2]'),\n",
       " Text(0.10542068506817426, 0.1590909090909091, 'gini = 0.0\\nsamples = 1\\nvalue = [1, 0]'),\n",
       " Text(0.10808114399733953, 0.1590909090909091, 'gini = 0.0\\nsamples = 2\\nvalue = [0, 2]'),\n",
       " Text(0.10808114399733953, 0.25, 'gini = 0.0\\nsamples = 4\\nvalue = [0, 4]'),\n",
       " Text(0.11938809444629199, 0.29545454545454547, 'X[1] <= -0.818\\ngini = 0.426\\nsamples = 13\\nvalue = [4, 9]'),\n",
       " Text(0.11473229132025274, 0.25, 'X[0] <= -0.112\\ngini = 0.346\\nsamples = 9\\nvalue = [2, 7]'),\n",
       " Text(0.11207183239108746, 0.20454545454545456, 'X[1] <= -0.839\\ngini = 0.5\\nsamples = 2\\nvalue = [1, 1]'),\n",
       " Text(0.11074160292650483, 0.1590909090909091, 'gini = 0.0\\nsamples = 1\\nvalue = [1, 0]'),\n",
       " Text(0.1134020618556701, 0.1590909090909091, 'gini = 0.0\\nsamples = 1\\nvalue = [0, 1]'),\n",
       " Text(0.11739275024941802, 0.20454545454545456, 'X[0] <= 0.056\\ngini = 0.245\\nsamples = 7\\nvalue = [1, 6]'),\n",
       " Text(0.11606252078483538, 0.1590909090909091, 'gini = 0.0\\nsamples = 4\\nvalue = [0, 4]'),\n",
       " Text(0.11872297971400067, 0.1590909090909091, 'X[1] <= -0.839\\ngini = 0.444\\nsamples = 3\\nvalue = [1, 2]'),\n",
       " Text(0.11739275024941802, 0.11363636363636363, 'gini = 0.0\\nsamples = 1\\nvalue = [0, 1]'),\n",
       " Text(0.12005320917858331, 0.11363636363636363, 'gini = 0.5\\nsamples = 2\\nvalue = [1, 1]'),\n",
       " Text(0.12404389757233122, 0.25, 'X[2] <= -0.012\\ngini = 0.5\\nsamples = 4\\nvalue = [2, 2]'),\n",
       " Text(0.12271366810774859, 0.20454545454545456, 'gini = 0.0\\nsamples = 1\\nvalue = [1, 0]'),\n",
       " Text(0.12537412703691386, 0.20454545454545456, 'X[0] <= -0.07\\ngini = 0.444\\nsamples = 3\\nvalue = [1, 2]'),\n",
       " Text(0.12404389757233122, 0.1590909090909091, 'X[2] <= 0.144\\ngini = 0.5\\nsamples = 2\\nvalue = [1, 1]'),\n",
       " Text(0.12271366810774859, 0.11363636363636363, 'gini = 0.0\\nsamples = 1\\nvalue = [0, 1]'),\n",
       " Text(0.12537412703691386, 0.11363636363636363, 'gini = 0.0\\nsamples = 1\\nvalue = [1, 0]'),\n",
       " Text(0.1267043565014965, 0.1590909090909091, 'gini = 0.0\\nsamples = 1\\nvalue = [0, 1]'),\n",
       " Text(0.1267043565014965, 0.3409090909090909, 'X[1] <= -0.818\\ngini = 0.117\\nsamples = 16\\nvalue = [1, 15]'),\n",
       " Text(0.12537412703691386, 0.29545454545454547, 'gini = 0.0\\nsamples = 8\\nvalue = [0, 8]'),\n",
       " Text(0.12803458596607914, 0.29545454545454547, 'X[2] <= 0.082\\ngini = 0.219\\nsamples = 8\\nvalue = [1, 7]'),\n",
       " Text(0.1267043565014965, 0.25, 'gini = 0.0\\nsamples = 6\\nvalue = [0, 6]'),\n",
       " Text(0.12936481543066178, 0.25, 'X[2] <= 0.176\\ngini = 0.5\\nsamples = 2\\nvalue = [1, 1]'),\n",
       " Text(0.12803458596607914, 0.20454545454545456, 'gini = 0.0\\nsamples = 1\\nvalue = [1, 0]'),\n",
       " Text(0.13069504489524442, 0.20454545454545456, 'gini = 0.0\\nsamples = 1\\nvalue = [0, 1]'),\n",
       " Text(0.13335550382440972, 0.38636363636363635, 'X[1] <= -0.839\\ngini = 0.469\\nsamples = 8\\nvalue = [3, 5]'),\n",
       " Text(0.13202527435982708, 0.3409090909090909, 'gini = 0.0\\nsamples = 3\\nvalue = [0, 3]'),\n",
       " Text(0.13468573328899236, 0.3409090909090909, 'X[0] <= 0.559\\ngini = 0.48\\nsamples = 5\\nvalue = [3, 2]'),\n",
       " Text(0.13335550382440972, 0.29545454545454547, 'X[1] <= -0.818\\ngini = 0.5\\nsamples = 4\\nvalue = [2, 2]'),\n",
       " Text(0.13202527435982708, 0.25, 'gini = 0.5\\nsamples = 2\\nvalue = [1, 1]'),\n",
       " Text(0.13468573328899236, 0.25, 'gini = 0.5\\nsamples = 2\\nvalue = [1, 1]'),\n",
       " Text(0.136015962753575, 0.29545454545454547, 'gini = 0.0\\nsamples = 1\\nvalue = [1, 0]'),\n",
       " Text(0.1400066511473229, 0.4318181818181818, 'X[1] <= -0.839\\ngini = 0.124\\nsamples = 15\\nvalue = [1, 14]'),\n",
       " Text(0.13867642168274028, 0.38636363636363635, 'X[0] <= 0.727\\ngini = 0.32\\nsamples = 5\\nvalue = [1, 4]'),\n",
       " Text(0.13734619221815764, 0.3409090909090909, 'gini = 0.0\\nsamples = 3\\nvalue = [0, 3]'),\n",
       " Text(0.1400066511473229, 0.3409090909090909, 'X[0] <= 0.895\\ngini = 0.5\\nsamples = 2\\nvalue = [1, 1]'),\n",
       " Text(0.13867642168274028, 0.29545454545454547, 'gini = 0.0\\nsamples = 1\\nvalue = [1, 0]'),\n",
       " Text(0.14133688061190555, 0.29545454545454547, 'gini = 0.0\\nsamples = 1\\nvalue = [0, 1]'),\n",
       " Text(0.14133688061190555, 0.38636363636363635, 'gini = 0.0\\nsamples = 10\\nvalue = [0, 10]'),\n",
       " Text(0.15896242101762553, 0.4772727272727273, 'X[1] <= -0.818\\ngini = 0.154\\nsamples = 95\\nvalue = [8, 87]'),\n",
       " Text(0.14865314266711008, 0.4318181818181818, 'X[0] <= -0.28\\ngini = 0.098\\nsamples = 58\\nvalue = [3, 55]'),\n",
       " Text(0.14399733954107083, 0.38636363636363635, 'X[2] <= 0.834\\ngini = 0.278\\nsamples = 6\\nvalue = [1, 5]'),\n",
       " Text(0.1426671100764882, 0.3409090909090909, 'gini = 0.0\\nsamples = 3\\nvalue = [0, 3]'),\n",
       " Text(0.14532756900565347, 0.3409090909090909, 'X[2] <= 0.959\\ngini = 0.444\\nsamples = 3\\nvalue = [1, 2]'),\n",
       " Text(0.14399733954107083, 0.29545454545454547, 'gini = 0.0\\nsamples = 1\\nvalue = [1, 0]'),\n",
       " Text(0.1466577984702361, 0.29545454545454547, 'gini = 0.0\\nsamples = 2\\nvalue = [0, 2]'),\n",
       " Text(0.15330894579314933, 0.38636363636363635, 'X[0] <= 0.727\\ngini = 0.074\\nsamples = 52\\nvalue = [2, 50]'),\n",
       " Text(0.15064848686398405, 0.3409090909090909, 'X[2] <= 0.489\\ngini = 0.044\\nsamples = 44\\nvalue = [1, 43]'),\n",
       " Text(0.14931825739940138, 0.29545454545454547, 'X[1] <= -0.839\\ngini = 0.153\\nsamples = 12\\nvalue = [1, 11]'),\n",
       " Text(0.14798802793481874, 0.25, 'gini = 0.0\\nsamples = 8\\nvalue = [0, 8]'),\n",
       " Text(0.15064848686398405, 0.25, 'X[2] <= 0.395\\ngini = 0.375\\nsamples = 4\\nvalue = [1, 3]'),\n",
       " Text(0.14931825739940138, 0.20454545454545456, 'gini = 0.0\\nsamples = 3\\nvalue = [0, 3]'),\n",
       " Text(0.1519787163285667, 0.20454545454545456, 'gini = 0.0\\nsamples = 1\\nvalue = [1, 0]'),\n",
       " Text(0.1519787163285667, 0.29545454545454547, 'gini = 0.0\\nsamples = 32\\nvalue = [0, 32]'),\n",
       " Text(0.1559694047223146, 0.3409090909090909, 'X[2] <= 0.677\\ngini = 0.219\\nsamples = 8\\nvalue = [1, 7]'),\n",
       " Text(0.15463917525773196, 0.29545454545454547, 'X[0] <= 0.853\\ngini = 0.375\\nsamples = 4\\nvalue = [1, 3]'),\n",
       " Text(0.15330894579314933, 0.25, 'gini = 0.5\\nsamples = 2\\nvalue = [1, 1]'),\n",
       " Text(0.1559694047223146, 0.25, 'gini = 0.0\\nsamples = 2\\nvalue = [0, 2]'),\n",
       " Text(0.15729963418689724, 0.29545454545454547, 'gini = 0.0\\nsamples = 4\\nvalue = [0, 4]'),\n",
       " Text(0.16927169936814102, 0.4318181818181818, 'X[0] <= 0.979\\ngini = 0.234\\nsamples = 37\\nvalue = [5, 32]'),\n",
       " Text(0.16528101097439307, 0.38636363636363635, 'X[0] <= 0.308\\ngini = 0.208\\nsamples = 34\\nvalue = [4, 30]'),\n",
       " Text(0.16129032258064516, 0.3409090909090909, 'X[2] <= 0.458\\ngini = 0.305\\nsamples = 16\\nvalue = [3, 13]'),\n",
       " Text(0.15996009311606252, 0.29545454545454547, 'gini = 0.0\\nsamples = 4\\nvalue = [0, 4]'),\n",
       " Text(0.1626205520452278, 0.29545454545454547, 'X[2] <= 0.583\\ngini = 0.375\\nsamples = 12\\nvalue = [3, 9]'),\n",
       " Text(0.16129032258064516, 0.25, 'gini = 0.0\\nsamples = 1\\nvalue = [1, 0]'),\n",
       " Text(0.16395078150981043, 0.25, 'X[0] <= -0.154\\ngini = 0.298\\nsamples = 11\\nvalue = [2, 9]'),\n",
       " Text(0.1626205520452278, 0.20454545454545456, 'gini = 0.0\\nsamples = 4\\nvalue = [0, 4]'),\n",
       " Text(0.16528101097439307, 0.20454545454545456, 'X[0] <= 0.224\\ngini = 0.408\\nsamples = 7\\nvalue = [2, 5]'),\n",
       " Text(0.16395078150981043, 0.1590909090909091, 'X[0] <= 0.098\\ngini = 0.5\\nsamples = 4\\nvalue = [2, 2]'),\n",
       " Text(0.1626205520452278, 0.11363636363636363, 'X[0] <= -0.028\\ngini = 0.444\\nsamples = 3\\nvalue = [1, 2]'),\n",
       " Text(0.16129032258064516, 0.06818181818181818, 'X[2] <= 0.677\\ngini = 0.5\\nsamples = 2\\nvalue = [1, 1]'),\n",
       " Text(0.15996009311606252, 0.022727272727272728, 'gini = 0.0\\nsamples = 1\\nvalue = [0, 1]'),\n",
       " Text(0.1626205520452278, 0.022727272727272728, 'gini = 0.0\\nsamples = 1\\nvalue = [1, 0]'),\n",
       " Text(0.16395078150981043, 0.06818181818181818, 'gini = 0.0\\nsamples = 1\\nvalue = [0, 1]'),\n",
       " Text(0.16528101097439307, 0.11363636363636363, 'gini = 0.0\\nsamples = 1\\nvalue = [1, 0]'),\n",
       " Text(0.1666112404389757, 0.1590909090909091, 'gini = 0.0\\nsamples = 3\\nvalue = [0, 3]'),\n",
       " Text(0.16927169936814102, 0.3409090909090909, 'X[2] <= 0.489\\ngini = 0.105\\nsamples = 18\\nvalue = [1, 17]'),\n",
       " Text(0.16794146990355838, 0.29545454545454547, 'X[2] <= 0.395\\ngini = 0.444\\nsamples = 3\\nvalue = [1, 2]'),\n",
       " Text(0.1666112404389757, 0.25, 'gini = 0.0\\nsamples = 1\\nvalue = [0, 1]'),\n",
       " Text(0.16927169936814102, 0.25, 'X[0] <= 0.769\\ngini = 0.5\\nsamples = 2\\nvalue = [1, 1]'),\n",
       " Text(0.16794146990355838, 0.20454545454545456, 'gini = 0.0\\nsamples = 1\\nvalue = [1, 0]'),\n",
       " Text(0.17060192883272365, 0.20454545454545456, 'gini = 0.0\\nsamples = 1\\nvalue = [0, 1]'),\n",
       " Text(0.17060192883272365, 0.29545454545454547, 'gini = 0.0\\nsamples = 15\\nvalue = [0, 15]'),\n",
       " Text(0.17326238776188893, 0.38636363636363635, 'X[2] <= 0.99\\ngini = 0.444\\nsamples = 3\\nvalue = [1, 2]'),\n",
       " Text(0.1719321582973063, 0.3409090909090909, 'gini = 0.0\\nsamples = 2\\nvalue = [0, 2]'),\n",
       " Text(0.17459261722647157, 0.3409090909090909, 'gini = 0.0\\nsamples = 1\\nvalue = [1, 0]'),\n",
       " Text(0.16428333887595611, 0.5681818181818182, 'X[2] <= 0.458\\ngini = 0.444\\nsamples = 6\\nvalue = [2, 4]'),\n",
       " Text(0.16295310941137348, 0.5227272727272727, 'X[2] <= -0.388\\ngini = 0.444\\nsamples = 3\\nvalue = [2, 1]'),\n",
       " Text(0.1616228799467908, 0.4772727272727273, 'gini = 0.0\\nsamples = 1\\nvalue = [0, 1]'),\n",
       " Text(0.16428333887595611, 0.4772727272727273, 'gini = 0.0\\nsamples = 2\\nvalue = [2, 0]'),\n",
       " Text(0.16561356834053875, 0.5227272727272727, 'gini = 0.0\\nsamples = 3\\nvalue = [0, 3]'),\n",
       " Text(0.14049769288327235, 0.7045454545454546, 'gini = 0.0\\nsamples = 71\\nvalue = [0, 71]'),\n",
       " Text(0.17492517459261722, 0.75, 'X[0] <= 0.308\\ngini = 0.449\\nsamples = 47\\nvalue = [16, 31]'),\n",
       " Text(0.16960425673428667, 0.7045454545454546, 'X[2] <= 3.12\\ngini = 0.165\\nsamples = 22\\nvalue = [2, 20]'),\n",
       " Text(0.1669437978051214, 0.6590909090909091, 'X[0] <= 0.056\\ngini = 0.095\\nsamples = 20\\nvalue = [1, 19]'),\n",
       " Text(0.16561356834053875, 0.6136363636363636, 'gini = 0.0\\nsamples = 11\\nvalue = [0, 11]'),\n",
       " Text(0.16827402726970403, 0.6136363636363636, 'X[0] <= 0.14\\ngini = 0.198\\nsamples = 9\\nvalue = [1, 8]'),\n",
       " Text(0.1669437978051214, 0.5681818181818182, 'gini = 0.0\\nsamples = 1\\nvalue = [1, 0]'),\n",
       " Text(0.16960425673428667, 0.5681818181818182, 'gini = 0.0\\nsamples = 8\\nvalue = [0, 8]'),\n",
       " Text(0.17226471566345194, 0.6590909090909091, 'X[0] <= -0.112\\ngini = 0.5\\nsamples = 2\\nvalue = [1, 1]'),\n",
       " Text(0.1709344861988693, 0.6136363636363636, 'gini = 0.0\\nsamples = 1\\nvalue = [0, 1]'),\n",
       " Text(0.17359494512803458, 0.6136363636363636, 'gini = 0.0\\nsamples = 1\\nvalue = [1, 0]'),\n",
       " Text(0.18024609245094778, 0.7045454545454546, 'X[2] <= 2.4\\ngini = 0.493\\nsamples = 25\\nvalue = [14, 11]'),\n",
       " Text(0.17891586298636514, 0.6590909090909091, 'X[2] <= 1.805\\ngini = 0.5\\nsamples = 22\\nvalue = [11, 11]'),\n",
       " Text(0.17625540405719986, 0.6136363636363636, 'X[2] <= 1.554\\ngini = 0.444\\nsamples = 12\\nvalue = [8, 4]'),\n",
       " Text(0.17492517459261722, 0.5681818181818182, 'X[0] <= 1.105\\ngini = 0.444\\nsamples = 6\\nvalue = [2, 4]'),\n",
       " Text(0.17359494512803458, 0.5227272727272727, 'gini = 0.0\\nsamples = 4\\nvalue = [0, 4]'),\n",
       " Text(0.17625540405719986, 0.5227272727272727, 'gini = 0.0\\nsamples = 2\\nvalue = [2, 0]'),\n",
       " Text(0.1775856335217825, 0.5681818181818182, 'gini = 0.0\\nsamples = 6\\nvalue = [6, 0]'),\n",
       " Text(0.18157632191553044, 0.6136363636363636, 'X[2] <= 2.055\\ngini = 0.42\\nsamples = 10\\nvalue = [3, 7]'),\n",
       " Text(0.18024609245094778, 0.5681818181818182, 'gini = 0.0\\nsamples = 4\\nvalue = [0, 4]'),\n",
       " Text(0.18290655138011308, 0.5681818181818182, 'X[0] <= 1.399\\ngini = 0.5\\nsamples = 6\\nvalue = [3, 3]'),\n",
       " Text(0.18157632191553044, 0.5227272727272727, 'gini = 0.0\\nsamples = 2\\nvalue = [2, 0]'),\n",
       " Text(0.18423678084469572, 0.5227272727272727, 'X[1] <= -0.839\\ngini = 0.375\\nsamples = 4\\nvalue = [1, 3]'),\n",
       " Text(0.18290655138011308, 0.4772727272727273, 'X[2] <= 2.243\\ngini = 0.5\\nsamples = 2\\nvalue = [1, 1]'),\n",
       " Text(0.18157632191553044, 0.4318181818181818, 'gini = 0.0\\nsamples = 1\\nvalue = [1, 0]'),\n",
       " Text(0.18423678084469572, 0.4318181818181818, 'gini = 0.0\\nsamples = 1\\nvalue = [0, 1]'),\n",
       " Text(0.18556701030927836, 0.4772727272727273, 'gini = 0.0\\nsamples = 2\\nvalue = [0, 2]'),\n",
       " Text(0.18157632191553044, 0.6590909090909091, 'gini = 0.0\\nsamples = 3\\nvalue = [3, 0]'),\n",
       " Text(0.5338632059049717, 0.8863636363636364, 'X[0] <= 0.454\\ngini = 0.49\\nsamples = 1868\\nvalue = [1069, 799]'),\n",
       " Text(0.3499273180287662, 0.8409090909090909, 'X[2] <= -0.138\\ngini = 0.42\\nsamples = 1141\\nvalue = [798, 343]'),\n",
       " Text(0.2713135496341869, 0.7954545454545454, 'X[1] <= -0.463\\ngini = 0.499\\nsamples = 358\\nvalue = [187, 171]'),\n",
       " Text(0.22536737196541404, 0.75, 'X[1] <= -0.755\\ngini = 0.482\\nsamples = 303\\nvalue = [180, 123]'),\n",
       " Text(0.20369138676421683, 0.7045454545454546, 'X[0] <= -0.364\\ngini = 0.497\\nsamples = 63\\nvalue = [29, 34]'),\n",
       " Text(0.1952111739275025, 0.6590909090909091, 'X[0] <= -1.203\\ngini = 0.473\\nsamples = 39\\nvalue = [24, 15]'),\n",
       " Text(0.19388094446291984, 0.6136363636363636, 'gini = 0.0\\nsamples = 3\\nvalue = [0, 3]'),\n",
       " Text(0.19654140339208515, 0.6136363636363636, 'X[2] <= -0.388\\ngini = 0.444\\nsamples = 36\\nvalue = [24, 12]'),\n",
       " Text(0.19288327236448288, 0.5681818181818182, 'X[2] <= -0.764\\ngini = 0.488\\nsamples = 26\\nvalue = [15, 11]'),\n",
       " Text(0.18955769870302627, 0.5227272727272727, 'X[2] <= -0.889\\ngini = 0.355\\nsamples = 13\\nvalue = [10, 3]'),\n",
       " Text(0.18822746923844363, 0.4772727272727273, 'X[2] <= -0.952\\ngini = 0.444\\nsamples = 9\\nvalue = [6, 3]'),\n",
       " Text(0.186897239773861, 0.4318181818181818, 'X[0] <= -0.784\\ngini = 0.375\\nsamples = 8\\nvalue = [6, 2]'),\n",
       " Text(0.18556701030927836, 0.38636363636363635, 'X[2] <= -1.453\\ngini = 0.245\\nsamples = 7\\nvalue = [6, 1]'),\n",
       " Text(0.18423678084469572, 0.3409090909090909, 'X[2] <= -1.767\\ngini = 0.5\\nsamples = 2\\nvalue = [1, 1]'),\n",
       " Text(0.18290655138011308, 0.29545454545454547, 'gini = 0.0\\nsamples = 1\\nvalue = [1, 0]'),\n",
       " Text(0.18556701030927836, 0.29545454545454547, 'gini = 0.0\\nsamples = 1\\nvalue = [0, 1]'),\n",
       " Text(0.186897239773861, 0.3409090909090909, 'gini = 0.0\\nsamples = 5\\nvalue = [5, 0]'),\n",
       " Text(0.18822746923844363, 0.38636363636363635, 'gini = 0.0\\nsamples = 1\\nvalue = [0, 1]'),\n",
       " Text(0.18955769870302627, 0.4318181818181818, 'gini = 0.0\\nsamples = 1\\nvalue = [0, 1]'),\n",
       " Text(0.1908879281676089, 0.4772727272727273, 'gini = 0.0\\nsamples = 4\\nvalue = [4, 0]'),\n",
       " Text(0.19620884602593947, 0.5227272727272727, 'X[0] <= -0.448\\ngini = 0.473\\nsamples = 13\\nvalue = [5, 8]'),\n",
       " Text(0.19487861656135683, 0.4772727272727273, 'X[1] <= -0.776\\ngini = 0.444\\nsamples = 12\\nvalue = [4, 8]'),\n",
       " Text(0.19221815763219155, 0.4318181818181818, 'X[0] <= -0.91\\ngini = 0.278\\nsamples = 6\\nvalue = [1, 5]'),\n",
       " Text(0.1908879281676089, 0.38636363636363635, 'X[1] <= -0.792\\ngini = 0.444\\nsamples = 3\\nvalue = [1, 2]'),\n",
       " Text(0.18955769870302627, 0.3409090909090909, 'gini = 0.0\\nsamples = 1\\nvalue = [0, 1]'),\n",
       " Text(0.19221815763219155, 0.3409090909090909, 'X[0] <= -1.036\\ngini = 0.5\\nsamples = 2\\nvalue = [1, 1]'),\n",
       " Text(0.1908879281676089, 0.29545454545454547, 'gini = 0.0\\nsamples = 1\\nvalue = [0, 1]'),\n",
       " Text(0.1935483870967742, 0.29545454545454547, 'gini = 0.0\\nsamples = 1\\nvalue = [1, 0]'),\n",
       " Text(0.1935483870967742, 0.38636363636363635, 'gini = 0.0\\nsamples = 3\\nvalue = [0, 3]'),\n",
       " Text(0.1975390754905221, 0.4318181818181818, 'X[2] <= -0.576\\ngini = 0.5\\nsamples = 6\\nvalue = [3, 3]'),\n",
       " Text(0.19620884602593947, 0.38636363636363635, 'gini = 0.0\\nsamples = 2\\nvalue = [2, 0]'),\n",
       " Text(0.19886930495510474, 0.38636363636363635, 'X[0] <= -0.532\\ngini = 0.375\\nsamples = 4\\nvalue = [1, 3]'),\n",
       " Text(0.1975390754905221, 0.3409090909090909, 'gini = 0.0\\nsamples = 2\\nvalue = [0, 2]'),\n",
       " Text(0.2001995344196874, 0.3409090909090909, 'X[2] <= -0.451\\ngini = 0.5\\nsamples = 2\\nvalue = [1, 1]'),\n",
       " Text(0.19886930495510474, 0.29545454545454547, 'gini = 0.0\\nsamples = 1\\nvalue = [1, 0]'),\n",
       " Text(0.20152976388427005, 0.29545454545454547, 'gini = 0.0\\nsamples = 1\\nvalue = [0, 1]'),\n",
       " Text(0.1975390754905221, 0.4772727272727273, 'gini = 0.0\\nsamples = 1\\nvalue = [1, 0]'),\n",
       " Text(0.2001995344196874, 0.5681818181818182, 'X[2] <= -0.263\\ngini = 0.18\\nsamples = 10\\nvalue = [9, 1]'),\n",
       " Text(0.19886930495510474, 0.5227272727272727, 'gini = 0.0\\nsamples = 5\\nvalue = [5, 0]'),\n",
       " Text(0.20152976388427005, 0.5227272727272727, 'X[0] <= -0.868\\ngini = 0.32\\nsamples = 5\\nvalue = [4, 1]'),\n",
       " Text(0.2001995344196874, 0.4772727272727273, 'gini = 0.0\\nsamples = 1\\nvalue = [0, 1]'),\n",
       " Text(0.20285999334885269, 0.4772727272727273, 'gini = 0.0\\nsamples = 4\\nvalue = [4, 0]'),\n",
       " Text(0.21217159960093115, 0.6590909090909091, 'X[2] <= -0.263\\ngini = 0.33\\nsamples = 24\\nvalue = [5, 19]'),\n",
       " Text(0.21084137013634852, 0.6136363636363636, 'X[0] <= -0.028\\ngini = 0.236\\nsamples = 22\\nvalue = [3, 19]'),\n",
       " Text(0.20818091120718324, 0.5681818181818182, 'X[2] <= -1.077\\ngini = 0.124\\nsamples = 15\\nvalue = [1, 14]'),\n",
       " Text(0.2068506817426006, 0.5227272727272727, 'X[0] <= -0.154\\ngini = 0.444\\nsamples = 3\\nvalue = [1, 2]'),\n",
       " Text(0.20552045227801796, 0.4772727272727273, 'gini = 0.0\\nsamples = 1\\nvalue = [1, 0]'),\n",
       " Text(0.20818091120718324, 0.4772727272727273, 'gini = 0.0\\nsamples = 2\\nvalue = [0, 2]'),\n",
       " Text(0.20951114067176588, 0.5227272727272727, 'gini = 0.0\\nsamples = 12\\nvalue = [0, 12]'),\n",
       " Text(0.2135018290655138, 0.5681818181818182, 'X[0] <= 0.14\\ngini = 0.408\\nsamples = 7\\nvalue = [2, 5]'),\n",
       " Text(0.21217159960093115, 0.5227272727272727, 'X[2] <= -0.795\\ngini = 0.444\\nsamples = 3\\nvalue = [2, 1]'),\n",
       " Text(0.21084137013634852, 0.4772727272727273, 'gini = 0.0\\nsamples = 1\\nvalue = [0, 1]'),\n",
       " Text(0.2135018290655138, 0.4772727272727273, 'gini = 0.0\\nsamples = 2\\nvalue = [2, 0]'),\n",
       " Text(0.21483205853009643, 0.5227272727272727, 'gini = 0.0\\nsamples = 4\\nvalue = [0, 4]'),\n",
       " Text(0.2135018290655138, 0.6136363636363636, 'gini = 0.0\\nsamples = 2\\nvalue = [2, 0]'),\n",
       " Text(0.24704335716661124, 0.7045454545454546, 'X[2] <= -0.764\\ngini = 0.467\\nsamples = 240\\nvalue = [151, 89]'),\n",
       " Text(0.2273029597605587, 0.6590909090909091, 'X[0] <= -0.868\\ngini = 0.496\\nsamples = 92\\nvalue = [50, 42]'),\n",
       " Text(0.22148320585300965, 0.6136363636363636, 'X[1] <= -0.651\\ngini = 0.384\\nsamples = 27\\nvalue = [20, 7]'),\n",
       " Text(0.21882274692384437, 0.5681818181818182, 'X[2] <= -0.827\\ngini = 0.117\\nsamples = 16\\nvalue = [15, 1]'),\n",
       " Text(0.21749251745926174, 0.5227272727272727, 'gini = 0.0\\nsamples = 14\\nvalue = [14, 0]'),\n",
       " Text(0.220152976388427, 0.5227272727272727, 'X[0] <= -1.078\\ngini = 0.5\\nsamples = 2\\nvalue = [1, 1]'),\n",
       " Text(0.21882274692384437, 0.4772727272727273, 'gini = 0.0\\nsamples = 1\\nvalue = [0, 1]'),\n",
       " Text(0.22148320585300965, 0.4772727272727273, 'gini = 0.0\\nsamples = 1\\nvalue = [1, 0]'),\n",
       " Text(0.22414366478217493, 0.5681818181818182, 'X[2] <= -0.952\\ngini = 0.496\\nsamples = 11\\nvalue = [5, 6]'),\n",
       " Text(0.2228134353175923, 0.5227272727272727, 'gini = 0.0\\nsamples = 6\\nvalue = [0, 6]'),\n",
       " Text(0.22547389424675757, 0.5227272727272727, 'gini = 0.0\\nsamples = 5\\nvalue = [5, 0]'),\n",
       " Text(0.23312271366810774, 0.6136363636363636, 'X[2] <= -1.673\\ngini = 0.497\\nsamples = 65\\nvalue = [30, 35]'),\n",
       " Text(0.22946458264050548, 0.5681818181818182, 'X[0] <= -0.784\\ngini = 0.397\\nsamples = 11\\nvalue = [8, 3]'),\n",
       " Text(0.22813435317592284, 0.5227272727272727, 'X[2] <= -1.892\\ngini = 0.375\\nsamples = 4\\nvalue = [1, 3]'),\n",
       " Text(0.2268041237113402, 0.4772727272727273, 'gini = 0.0\\nsamples = 3\\nvalue = [0, 3]'),\n",
       " Text(0.22946458264050548, 0.4772727272727273, 'gini = 0.0\\nsamples = 1\\nvalue = [1, 0]'),\n",
       " Text(0.23079481210508812, 0.5227272727272727, 'gini = 0.0\\nsamples = 7\\nvalue = [7, 0]'),\n",
       " Text(0.23678084469571, 0.5681818181818182, 'X[2] <= -1.516\\ngini = 0.483\\nsamples = 54\\nvalue = [22, 32]'),\n",
       " Text(0.23545061523112737, 0.5227272727272727, 'gini = 0.0\\nsamples = 3\\nvalue = [0, 3]'),\n",
       " Text(0.23811107416029265, 0.5227272727272727, 'X[2] <= -1.015\\ngini = 0.491\\nsamples = 51\\nvalue = [22, 29]'),\n",
       " Text(0.23212504156967076, 0.4772727272727273, 'X[0] <= -0.616\\ngini = 0.497\\nsamples = 28\\nvalue = [15, 13]'),\n",
       " Text(0.23079481210508812, 0.4318181818181818, 'gini = 0.0\\nsamples = 4\\nvalue = [4, 0]'),\n",
       " Text(0.2334552710342534, 0.4318181818181818, 'X[1] <= -0.578\\ngini = 0.497\\nsamples = 24\\nvalue = [11, 13]'),\n",
       " Text(0.23212504156967076, 0.38636363636363635, 'X[2] <= -1.077\\ngini = 0.499\\nsamples = 21\\nvalue = [11, 10]'),\n",
       " Text(0.22813435317592284, 0.3409090909090909, 'X[1] <= -0.672\\ngini = 0.459\\nsamples = 14\\nvalue = [9, 5]'),\n",
       " Text(0.22414366478217493, 0.29545454545454547, 'X[0] <= -0.154\\ngini = 0.346\\nsamples = 9\\nvalue = [7, 2]'),\n",
       " Text(0.2228134353175923, 0.25, 'gini = 0.0\\nsamples = 5\\nvalue = [5, 0]'),\n",
       " Text(0.22547389424675757, 0.25, 'X[1] <= -0.693\\ngini = 0.5\\nsamples = 4\\nvalue = [2, 2]'),\n",
       " Text(0.22414366478217493, 0.20454545454545456, 'gini = 0.0\\nsamples = 2\\nvalue = [0, 2]'),\n",
       " Text(0.2268041237113402, 0.20454545454545456, 'gini = 0.0\\nsamples = 2\\nvalue = [2, 0]'),\n",
       " Text(0.23212504156967076, 0.29545454545454547, 'X[1] <= -0.609\\ngini = 0.48\\nsamples = 5\\nvalue = [2, 3]'),\n",
       " Text(0.23079481210508812, 0.25, 'X[2] <= -1.265\\ngini = 0.375\\nsamples = 4\\nvalue = [1, 3]'),\n",
       " Text(0.22946458264050548, 0.20454545454545456, 'gini = 0.0\\nsamples = 3\\nvalue = [0, 3]'),\n",
       " Text(0.23212504156967076, 0.20454545454545456, 'gini = 0.0\\nsamples = 1\\nvalue = [1, 0]'),\n",
       " Text(0.2334552710342534, 0.25, 'gini = 0.0\\nsamples = 1\\nvalue = [1, 0]'),\n",
       " Text(0.2361157299634187, 0.3409090909090909, 'X[1] <= -0.661\\ngini = 0.408\\nsamples = 7\\nvalue = [2, 5]'),\n",
       " Text(0.23478550049883604, 0.29545454545454547, 'gini = 0.0\\nsamples = 5\\nvalue = [0, 5]'),\n",
       " Text(0.23744595942800134, 0.29545454545454547, 'gini = 0.0\\nsamples = 2\\nvalue = [2, 0]'),\n",
       " Text(0.23478550049883604, 0.38636363636363635, 'gini = 0.0\\nsamples = 3\\nvalue = [0, 3]'),\n",
       " Text(0.24409710675091453, 0.4772727272727273, 'X[0] <= -0.49\\ngini = 0.423\\nsamples = 23\\nvalue = [7, 16]'),\n",
       " Text(0.2427668772863319, 0.4318181818181818, 'gini = 0.0\\nsamples = 8\\nvalue = [0, 8]'),\n",
       " Text(0.24542733621549717, 0.4318181818181818, 'X[2] <= -0.889\\ngini = 0.498\\nsamples = 15\\nvalue = [7, 8]'),\n",
       " Text(0.2427668772863319, 0.38636363636363635, 'X[0] <= 0.056\\ngini = 0.42\\nsamples = 10\\nvalue = [3, 7]'),\n",
       " Text(0.24143664782174926, 0.3409090909090909, 'X[1] <= -0.64\\ngini = 0.48\\nsamples = 5\\nvalue = [3, 2]'),\n",
       " Text(0.24010641835716662, 0.29545454545454547, 'X[1] <= -0.672\\ngini = 0.444\\nsamples = 3\\nvalue = [1, 2]'),\n",
       " Text(0.23877618889258398, 0.25, 'gini = 0.0\\nsamples = 1\\nvalue = [1, 0]'),\n",
       " Text(0.24143664782174926, 0.25, 'gini = 0.0\\nsamples = 2\\nvalue = [0, 2]'),\n",
       " Text(0.2427668772863319, 0.29545454545454547, 'gini = 0.0\\nsamples = 2\\nvalue = [2, 0]'),\n",
       " Text(0.24409710675091453, 0.3409090909090909, 'gini = 0.0\\nsamples = 5\\nvalue = [0, 5]'),\n",
       " Text(0.24808779514466245, 0.38636363636363635, 'X[0] <= -0.364\\ngini = 0.32\\nsamples = 5\\nvalue = [4, 1]'),\n",
       " Text(0.2467575656800798, 0.3409090909090909, 'X[1] <= -0.734\\ngini = 0.5\\nsamples = 2\\nvalue = [1, 1]'),\n",
       " Text(0.24542733621549717, 0.29545454545454547, 'gini = 0.0\\nsamples = 1\\nvalue = [1, 0]'),\n",
       " Text(0.24808779514466245, 0.29545454545454547, 'gini = 0.0\\nsamples = 1\\nvalue = [0, 1]'),\n",
       " Text(0.2494180246092451, 0.3409090909090909, 'gini = 0.0\\nsamples = 3\\nvalue = [3, 0]'),\n",
       " Text(0.2667837545726638, 0.6590909090909091, 'X[0] <= -0.952\\ngini = 0.433\\nsamples = 148\\nvalue = [101, 47]'),\n",
       " Text(0.2520784835384104, 0.6136363636363636, 'X[1] <= -0.521\\ngini = 0.32\\nsamples = 20\\nvalue = [16, 4]'),\n",
       " Text(0.2507482540738277, 0.5681818181818182, 'X[1] <= -0.651\\ngini = 0.266\\nsamples = 19\\nvalue = [16, 3]'),\n",
       " Text(0.2494180246092451, 0.5227272727272727, 'gini = 0.0\\nsamples = 9\\nvalue = [9, 0]'),\n",
       " Text(0.2520784835384104, 0.5227272727272727, 'X[1] <= -0.63\\ngini = 0.42\\nsamples = 10\\nvalue = [7, 3]'),\n",
       " Text(0.2507482540738277, 0.4772727272727273, 'X[2] <= -0.67\\ngini = 0.375\\nsamples = 4\\nvalue = [1, 3]'),\n",
       " Text(0.2494180246092451, 0.4318181818181818, 'gini = 0.0\\nsamples = 2\\nvalue = [0, 2]'),\n",
       " Text(0.2520784835384104, 0.4318181818181818, 'X[2] <= -0.419\\ngini = 0.5\\nsamples = 2\\nvalue = [1, 1]'),\n",
       " Text(0.2507482540738277, 0.38636363636363635, 'gini = 0.0\\nsamples = 1\\nvalue = [1, 0]'),\n",
       " Text(0.253408713002993, 0.38636363636363635, 'gini = 0.0\\nsamples = 1\\nvalue = [0, 1]'),\n",
       " Text(0.253408713002993, 0.4772727272727273, 'gini = 0.0\\nsamples = 6\\nvalue = [6, 0]'),\n",
       " Text(0.253408713002993, 0.5681818181818182, 'gini = 0.0\\nsamples = 1\\nvalue = [0, 1]'),\n",
       " Text(0.2814890256069172, 0.6136363636363636, 'X[0] <= -0.868\\ngini = 0.446\\nsamples = 128\\nvalue = [85, 43]'),\n",
       " Text(0.2627203192550715, 0.5681818181818182, 'X[2] <= -0.2\\ngini = 0.497\\nsamples = 13\\nvalue = [6, 7]'),\n",
       " Text(0.26139008979048883, 0.5227272727272727, 'X[2] <= -0.451\\ngini = 0.486\\nsamples = 12\\nvalue = [5, 7]'),\n",
       " Text(0.25872963086132356, 0.4772727272727273, 'X[2] <= -0.607\\ngini = 0.48\\nsamples = 5\\nvalue = [3, 2]'),\n",
       " Text(0.25739940139674095, 0.4318181818181818, 'X[1] <= -0.64\\ngini = 0.444\\nsamples = 3\\nvalue = [1, 2]'),\n",
       " Text(0.2560691719321583, 0.38636363636363635, 'gini = 0.0\\nsamples = 1\\nvalue = [1, 0]'),\n",
       " Text(0.25872963086132356, 0.38636363636363635, 'gini = 0.0\\nsamples = 2\\nvalue = [0, 2]'),\n",
       " Text(0.2600598603259062, 0.4318181818181818, 'gini = 0.0\\nsamples = 2\\nvalue = [2, 0]'),\n",
       " Text(0.26405054871965417, 0.4772727272727273, 'X[2] <= -0.388\\ngini = 0.408\\nsamples = 7\\nvalue = [2, 5]'),\n",
       " Text(0.2627203192550715, 0.4318181818181818, 'gini = 0.0\\nsamples = 2\\nvalue = [0, 2]'),\n",
       " Text(0.2653807781842368, 0.4318181818181818, 'X[2] <= -0.326\\ngini = 0.48\\nsamples = 5\\nvalue = [2, 3]'),\n",
       " Text(0.26405054871965417, 0.38636363636363635, 'gini = 0.0\\nsamples = 1\\nvalue = [1, 0]'),\n",
       " Text(0.26671100764881944, 0.38636363636363635, 'X[2] <= -0.263\\ngini = 0.375\\nsamples = 4\\nvalue = [1, 3]'),\n",
       " Text(0.2653807781842368, 0.3409090909090909, 'gini = 0.0\\nsamples = 2\\nvalue = [0, 2]'),\n",
       " Text(0.26804123711340205, 0.3409090909090909, 'gini = 0.5\\nsamples = 2\\nvalue = [1, 1]'),\n",
       " Text(0.26405054871965417, 0.5227272727272727, 'gini = 0.0\\nsamples = 1\\nvalue = [1, 0]'),\n",
       " Text(0.3002577319587629, 0.5681818181818182, 'X[2] <= -0.2\\ngini = 0.43\\nsamples = 115\\nvalue = [79, 36]'),\n",
       " Text(0.2925673428666445, 0.5227272727272727, 'X[1] <= -0.536\\ngini = 0.408\\nsamples = 98\\nvalue = [70, 28]'),\n",
       " Text(0.28383771200532093, 0.4772727272727273, 'X[0] <= -0.532\\ngini = 0.394\\nsamples = 89\\nvalue = [65, 24]'),\n",
       " Text(0.2746923844363153, 0.4318181818181818, 'X[1] <= -0.693\\ngini = 0.26\\nsamples = 26\\nvalue = [22, 4]'),\n",
       " Text(0.27203192550715, 0.38636363636363635, 'X[2] <= -0.576\\ngini = 0.49\\nsamples = 7\\nvalue = [4, 3]'),\n",
       " Text(0.27070169604256733, 0.3409090909090909, 'gini = 0.0\\nsamples = 2\\nvalue = [0, 2]'),\n",
       " Text(0.2733621549717326, 0.3409090909090909, 'X[1] <= -0.713\\ngini = 0.32\\nsamples = 5\\nvalue = [4, 1]'),\n",
       " Text(0.27203192550715, 0.29545454545454547, 'gini = 0.0\\nsamples = 4\\nvalue = [4, 0]'),\n",
       " Text(0.2746923844363153, 0.29545454545454547, 'gini = 0.0\\nsamples = 1\\nvalue = [0, 1]'),\n",
       " Text(0.27735284336548055, 0.38636363636363635, 'X[2] <= -0.263\\ngini = 0.1\\nsamples = 19\\nvalue = [18, 1]'),\n",
       " Text(0.2760226139008979, 0.3409090909090909, 'gini = 0.0\\nsamples = 16\\nvalue = [16, 0]'),\n",
       " Text(0.27868307283006316, 0.3409090909090909, 'X[1] <= -0.661\\ngini = 0.444\\nsamples = 3\\nvalue = [2, 1]'),\n",
       " Text(0.27735284336548055, 0.29545454545454547, 'gini = 0.0\\nsamples = 2\\nvalue = [2, 0]'),\n",
       " Text(0.2800133022946458, 0.29545454545454547, 'gini = 0.0\\nsamples = 1\\nvalue = [0, 1]'),\n",
       " Text(0.2929830395743266, 0.4318181818181818, 'X[1] <= -0.588\\ngini = 0.433\\nsamples = 63\\nvalue = [43, 20]'),\n",
       " Text(0.28732956434985035, 0.38636363636363635, 'X[0] <= -0.112\\ngini = 0.464\\nsamples = 52\\nvalue = [33, 19]'),\n",
       " Text(0.28400399068839377, 0.3409090909090909, 'X[1] <= -0.672\\ngini = 0.499\\nsamples = 19\\nvalue = [9, 10]'),\n",
       " Text(0.2826737612238111, 0.29545454545454547, 'X[2] <= -0.357\\ngini = 0.459\\nsamples = 14\\nvalue = [9, 5]'),\n",
       " Text(0.2813435317592285, 0.25, 'X[2] <= -0.451\\ngini = 0.5\\nsamples = 10\\nvalue = [5, 5]'),\n",
       " Text(0.2800133022946458, 0.20454545454545456, 'X[2] <= -0.545\\ngini = 0.408\\nsamples = 7\\nvalue = [5, 2]'),\n",
       " Text(0.27868307283006316, 0.1590909090909091, 'X[0] <= -0.28\\ngini = 0.48\\nsamples = 5\\nvalue = [3, 2]'),\n",
       " Text(0.27735284336548055, 0.11363636363636363, 'gini = 0.0\\nsamples = 2\\nvalue = [2, 0]'),\n",
       " Text(0.2800133022946458, 0.11363636363636363, 'X[2] <= -0.67\\ngini = 0.444\\nsamples = 3\\nvalue = [1, 2]'),\n",
       " Text(0.27868307283006316, 0.06818181818181818, 'X[0] <= -0.196\\ngini = 0.5\\nsamples = 2\\nvalue = [1, 1]'),\n",
       " Text(0.27735284336548055, 0.022727272727272728, 'gini = 0.0\\nsamples = 1\\nvalue = [0, 1]'),\n",
       " Text(0.2800133022946458, 0.022727272727272728, 'gini = 0.0\\nsamples = 1\\nvalue = [1, 0]'),\n",
       " Text(0.2813435317592285, 0.06818181818181818, 'gini = 0.0\\nsamples = 1\\nvalue = [0, 1]'),\n",
       " Text(0.2813435317592285, 0.1590909090909091, 'gini = 0.0\\nsamples = 2\\nvalue = [2, 0]'),\n",
       " Text(0.2826737612238111, 0.20454545454545456, 'gini = 0.0\\nsamples = 3\\nvalue = [0, 3]'),\n",
       " Text(0.28400399068839377, 0.25, 'gini = 0.0\\nsamples = 4\\nvalue = [4, 0]'),\n",
       " Text(0.2853342201529764, 0.29545454545454547, 'gini = 0.0\\nsamples = 5\\nvalue = [0, 5]'),\n",
       " Text(0.29065513801130693, 0.3409090909090909, 'X[2] <= -0.388\\ngini = 0.397\\nsamples = 33\\nvalue = [24, 9]'),\n",
       " Text(0.28799467908214166, 0.29545454545454547, 'X[1] <= -0.672\\ngini = 0.255\\nsamples = 20\\nvalue = [17, 3]'),\n",
       " Text(0.28666444961755905, 0.25, 'X[1] <= -0.693\\ngini = 0.397\\nsamples = 11\\nvalue = [8, 3]'),\n",
       " Text(0.2853342201529764, 0.20454545454545456, 'X[1] <= -0.713\\ngini = 0.32\\nsamples = 10\\nvalue = [8, 2]'),\n",
       " Text(0.28400399068839377, 0.1590909090909091, 'X[0] <= -0.028\\ngini = 0.444\\nsamples = 6\\nvalue = [4, 2]'),\n",
       " Text(0.2826737612238111, 0.11363636363636363, 'gini = 0.0\\nsamples = 2\\nvalue = [2, 0]'),\n",
       " Text(0.2853342201529764, 0.11363636363636363, 'X[2] <= -0.451\\ngini = 0.5\\nsamples = 4\\nvalue = [2, 2]'),\n",
       " Text(0.28400399068839377, 0.06818181818181818, 'gini = 0.0\\nsamples = 2\\nvalue = [0, 2]'),\n",
       " Text(0.28666444961755905, 0.06818181818181818, 'gini = 0.0\\nsamples = 2\\nvalue = [2, 0]'),\n",
       " Text(0.28666444961755905, 0.1590909090909091, 'gini = 0.0\\nsamples = 4\\nvalue = [4, 0]'),\n",
       " Text(0.28799467908214166, 0.20454545454545456, 'gini = 0.0\\nsamples = 1\\nvalue = [0, 1]'),\n",
       " Text(0.2893249085467243, 0.25, 'gini = 0.0\\nsamples = 9\\nvalue = [9, 0]'),\n",
       " Text(0.2933155969404722, 0.29545454545454547, 'X[0] <= 0.014\\ngini = 0.497\\nsamples = 13\\nvalue = [7, 6]'),\n",
       " Text(0.2919853674758896, 0.25, 'gini = 0.0\\nsamples = 2\\nvalue = [2, 0]'),\n",
       " Text(0.2946458264050549, 0.25, 'X[0] <= 0.182\\ngini = 0.496\\nsamples = 11\\nvalue = [5, 6]'),\n",
       " Text(0.2919853674758896, 0.20454545454545456, 'X[1] <= -0.651\\ngini = 0.375\\nsamples = 4\\nvalue = [1, 3]'),\n",
       " Text(0.29065513801130693, 0.1590909090909091, 'gini = 0.0\\nsamples = 3\\nvalue = [0, 3]'),\n",
       " Text(0.2933155969404722, 0.1590909090909091, 'gini = 0.0\\nsamples = 1\\nvalue = [1, 0]'),\n",
       " Text(0.29730628533422016, 0.20454545454545456, 'X[0] <= 0.308\\ngini = 0.49\\nsamples = 7\\nvalue = [4, 3]'),\n",
       " Text(0.2959760558696375, 0.1590909090909091, 'gini = 0.0\\nsamples = 2\\nvalue = [2, 0]'),\n",
       " Text(0.29863651479880277, 0.1590909090909091, 'X[0] <= 0.392\\ngini = 0.48\\nsamples = 5\\nvalue = [2, 3]'),\n",
       " Text(0.29730628533422016, 0.11363636363636363, 'gini = 0.0\\nsamples = 2\\nvalue = [0, 2]'),\n",
       " Text(0.29996674426338543, 0.11363636363636363, 'X[1] <= -0.651\\ngini = 0.444\\nsamples = 3\\nvalue = [2, 1]'),\n",
       " Text(0.29863651479880277, 0.06818181818181818, 'gini = 0.0\\nsamples = 1\\nvalue = [0, 1]'),\n",
       " Text(0.3012969737279681, 0.06818181818181818, 'gini = 0.0\\nsamples = 2\\nvalue = [2, 0]'),\n",
       " Text(0.29863651479880277, 0.38636363636363635, 'X[2] <= -0.701\\ngini = 0.165\\nsamples = 11\\nvalue = [10, 1]'),\n",
       " Text(0.29730628533422016, 0.3409090909090909, 'X[1] <= -0.567\\ngini = 0.444\\nsamples = 3\\nvalue = [2, 1]'),\n",
       " Text(0.2959760558696375, 0.29545454545454547, 'gini = 0.0\\nsamples = 1\\nvalue = [0, 1]'),\n",
       " Text(0.29863651479880277, 0.29545454545454547, 'gini = 0.0\\nsamples = 2\\nvalue = [2, 0]'),\n",
       " Text(0.29996674426338543, 0.3409090909090909, 'gini = 0.0\\nsamples = 8\\nvalue = [8, 0]'),\n",
       " Text(0.3012969737279681, 0.4772727272727273, 'X[2] <= -0.451\\ngini = 0.494\\nsamples = 9\\nvalue = [5, 4]'),\n",
       " Text(0.29996674426338543, 0.4318181818181818, 'gini = 0.0\\nsamples = 2\\nvalue = [0, 2]'),\n",
       " Text(0.3026272031925507, 0.4318181818181818, 'X[2] <= -0.388\\ngini = 0.408\\nsamples = 7\\nvalue = [5, 2]'),\n",
       " Text(0.3012969737279681, 0.38636363636363635, 'gini = 0.0\\nsamples = 3\\nvalue = [3, 0]'),\n",
       " Text(0.3039574326571334, 0.38636363636363635, 'X[2] <= -0.326\\ngini = 0.5\\nsamples = 4\\nvalue = [2, 2]'),\n",
       " Text(0.3026272031925507, 0.3409090909090909, 'gini = 0.0\\nsamples = 2\\nvalue = [0, 2]'),\n",
       " Text(0.305287662121716, 0.3409090909090909, 'gini = 0.0\\nsamples = 2\\nvalue = [2, 0]'),\n",
       " Text(0.30794812105088126, 0.5227272727272727, 'X[1] <= -0.656\\ngini = 0.498\\nsamples = 17\\nvalue = [9, 8]'),\n",
       " Text(0.30661789158629865, 0.4772727272727273, 'X[0] <= -0.7\\ngini = 0.397\\nsamples = 11\\nvalue = [3, 8]'),\n",
       " Text(0.305287662121716, 0.4318181818181818, 'gini = 0.0\\nsamples = 3\\nvalue = [3, 0]'),\n",
       " Text(0.30794812105088126, 0.4318181818181818, 'gini = 0.0\\nsamples = 8\\nvalue = [0, 8]'),\n",
       " Text(0.30927835051546393, 0.4772727272727273, 'gini = 0.0\\nsamples = 6\\nvalue = [6, 0]'),\n",
       " Text(0.31725972730295976, 0.75, 'X[2] <= -2.706\\ngini = 0.222\\nsamples = 55\\nvalue = [7, 48]'),\n",
       " Text(0.3159294978383771, 0.7045454545454546, 'gini = 0.0\\nsamples = 1\\nvalue = [1, 0]'),\n",
       " Text(0.3185899567675424, 0.7045454545454546, 'X[2] <= -1.328\\ngini = 0.198\\nsamples = 54\\nvalue = [6, 48]'),\n",
       " Text(0.31725972730295976, 0.6590909090909091, 'gini = 0.0\\nsamples = 12\\nvalue = [0, 12]'),\n",
       " Text(0.31992018623212504, 0.6590909090909091, 'X[2] <= -0.451\\ngini = 0.245\\nsamples = 42\\nvalue = [6, 36]'),\n",
       " Text(0.3185899567675424, 0.6136363636363636, 'X[0] <= -0.7\\ngini = 0.32\\nsamples = 30\\nvalue = [6, 24]'),\n",
       " Text(0.3159294978383771, 0.5681818181818182, 'X[0] <= -0.784\\ngini = 0.401\\nsamples = 18\\nvalue = [5, 13]'),\n",
       " Text(0.3145992683737945, 0.5227272727272727, 'X[2] <= -0.639\\ngini = 0.305\\nsamples = 16\\nvalue = [3, 13]'),\n",
       " Text(0.3119388094446292, 0.4772727272727273, 'X[1] <= -0.296\\ngini = 0.142\\nsamples = 13\\nvalue = [1, 12]'),\n",
       " Text(0.31060857998004654, 0.4318181818181818, 'gini = 0.0\\nsamples = 11\\nvalue = [0, 11]'),\n",
       " Text(0.3132690389092118, 0.4318181818181818, 'X[2] <= -0.983\\ngini = 0.5\\nsamples = 2\\nvalue = [1, 1]'),\n",
       " Text(0.3119388094446292, 0.38636363636363635, 'gini = 0.0\\nsamples = 1\\nvalue = [1, 0]'),\n",
       " Text(0.3145992683737945, 0.38636363636363635, 'gini = 0.0\\nsamples = 1\\nvalue = [0, 1]'),\n",
       " Text(0.31725972730295976, 0.4772727272727273, 'X[1] <= -0.307\\ngini = 0.444\\nsamples = 3\\nvalue = [2, 1]'),\n",
       " Text(0.3159294978383771, 0.4318181818181818, 'gini = 0.0\\nsamples = 2\\nvalue = [2, 0]'),\n",
       " Text(0.3185899567675424, 0.4318181818181818, 'gini = 0.0\\nsamples = 1\\nvalue = [0, 1]'),\n",
       " Text(0.31725972730295976, 0.5227272727272727, 'gini = 0.0\\nsamples = 2\\nvalue = [2, 0]'),\n",
       " Text(0.3212504156967077, 0.5681818181818182, 'X[2] <= -1.14\\ngini = 0.153\\nsamples = 12\\nvalue = [1, 11]'),\n",
       " Text(0.31992018623212504, 0.5227272727272727, 'gini = 0.0\\nsamples = 1\\nvalue = [1, 0]'),\n",
       " Text(0.3225806451612903, 0.5227272727272727, 'gini = 0.0\\nsamples = 11\\nvalue = [0, 11]'),\n",
       " Text(0.3212504156967077, 0.6136363636363636, 'gini = 0.0\\nsamples = 12\\nvalue = [0, 12]'),\n",
       " Text(0.42854108642334554, 0.7954545454545454, 'X[0] <= -0.427\\ngini = 0.343\\nsamples = 783\\nvalue = [611, 172]'),\n",
       " Text(0.3791777519122049, 0.75, 'X[1] <= -0.317\\ngini = 0.191\\nsamples = 374\\nvalue = [334, 40]'),\n",
       " Text(0.36627036913867644, 0.7045454545454546, 'X[1] <= -0.588\\ngini = 0.157\\nsamples = 362\\nvalue = [331, 31]'),\n",
       " Text(0.3484369803791154, 0.6590909090909091, 'X[0] <= -0.532\\ngini = 0.117\\nsamples = 304\\nvalue = [285, 19]'),\n",
       " Text(0.33438643165946125, 0.6136363636363636, 'X[0] <= -1.287\\ngini = 0.095\\nsamples = 280\\nvalue = [266, 14]'),\n",
       " Text(0.32723644828732956, 0.5681818181818182, 'X[2] <= 0.583\\ngini = 0.5\\nsamples = 2\\nvalue = [1, 1]'),\n",
       " Text(0.32590621882274695, 0.5227272727272727, 'gini = 0.0\\nsamples = 1\\nvalue = [0, 1]'),\n",
       " Text(0.32856667775191223, 0.5227272727272727, 'gini = 0.0\\nsamples = 1\\nvalue = [1, 0]'),\n",
       " Text(0.34153641503159293, 0.5681818181818182, 'X[2] <= 1.303\\ngini = 0.089\\nsamples = 278\\nvalue = [265, 13]'),\n",
       " Text(0.3312271366810775, 0.5227272727272727, 'X[0] <= -0.616\\ngini = 0.064\\nsamples = 210\\nvalue = [203, 7]'),\n",
       " Text(0.3252411040904556, 0.4772727272727273, 'X[1] <= -0.755\\ngini = 0.043\\nsamples = 183\\nvalue = [179, 4]'),\n",
       " Text(0.3212504156967077, 0.4318181818181818, 'X[0] <= -0.952\\ngini = 0.142\\nsamples = 39\\nvalue = [36, 3]'),\n",
       " Text(0.31992018623212504, 0.38636363636363635, 'gini = 0.0\\nsamples = 9\\nvalue = [9, 0]'),\n",
       " Text(0.3225806451612903, 0.38636363636363635, 'X[2] <= 1.053\\ngini = 0.18\\nsamples = 30\\nvalue = [27, 3]'),\n",
       " Text(0.3212504156967077, 0.3409090909090909, 'X[2] <= 0.896\\ngini = 0.236\\nsamples = 22\\nvalue = [19, 3]'),\n",
       " Text(0.3185899567675424, 0.29545454545454547, 'X[2] <= 0.144\\ngini = 0.18\\nsamples = 20\\nvalue = [18, 2]'),\n",
       " Text(0.31725972730295976, 0.25, 'gini = 0.0\\nsamples = 6\\nvalue = [6, 0]'),\n",
       " Text(0.31992018623212504, 0.25, 'X[2] <= 0.238\\ngini = 0.245\\nsamples = 14\\nvalue = [12, 2]'),\n",
       " Text(0.3185899567675424, 0.20454545454545456, 'gini = 0.0\\nsamples = 1\\nvalue = [0, 1]'),\n",
       " Text(0.3212504156967077, 0.20454545454545456, 'X[1] <= -0.776\\ngini = 0.142\\nsamples = 13\\nvalue = [12, 1]'),\n",
       " Text(0.31992018623212504, 0.1590909090909091, 'X[0] <= -0.868\\ngini = 0.375\\nsamples = 4\\nvalue = [3, 1]'),\n",
       " Text(0.3185899567675424, 0.11363636363636363, 'gini = 0.0\\nsamples = 2\\nvalue = [2, 0]'),\n",
       " Text(0.3212504156967077, 0.11363636363636363, 'gini = 0.5\\nsamples = 2\\nvalue = [1, 1]'),\n",
       " Text(0.3225806451612903, 0.1590909090909091, 'gini = 0.0\\nsamples = 9\\nvalue = [9, 0]'),\n",
       " Text(0.323910874625873, 0.29545454545454547, 'X[0] <= -0.826\\ngini = 0.5\\nsamples = 2\\nvalue = [1, 1]'),\n",
       " Text(0.3225806451612903, 0.25, 'gini = 0.0\\nsamples = 1\\nvalue = [0, 1]'),\n",
       " Text(0.3252411040904556, 0.25, 'gini = 0.0\\nsamples = 1\\nvalue = [1, 0]'),\n",
       " Text(0.323910874625873, 0.3409090909090909, 'gini = 0.0\\nsamples = 8\\nvalue = [8, 0]'),\n",
       " Text(0.32923179248420353, 0.4318181818181818, 'X[1] <= -0.713\\ngini = 0.014\\nsamples = 144\\nvalue = [143, 1]'),\n",
       " Text(0.32790156301962087, 0.38636363636363635, 'X[1] <= -0.734\\ngini = 0.033\\nsamples = 60\\nvalue = [59, 1]'),\n",
       " Text(0.32657133355503826, 0.3409090909090909, 'gini = 0.0\\nsamples = 31\\nvalue = [31, 0]'),\n",
       " Text(0.32923179248420353, 0.3409090909090909, 'X[2] <= 0.614\\ngini = 0.067\\nsamples = 29\\nvalue = [28, 1]'),\n",
       " Text(0.32790156301962087, 0.29545454545454547, 'gini = 0.0\\nsamples = 17\\nvalue = [17, 0]'),\n",
       " Text(0.33056202194878614, 0.29545454545454547, 'X[2] <= 0.677\\ngini = 0.153\\nsamples = 12\\nvalue = [11, 1]'),\n",
       " Text(0.32923179248420353, 0.25, 'X[0] <= -0.868\\ngini = 0.5\\nsamples = 2\\nvalue = [1, 1]'),\n",
       " Text(0.32790156301962087, 0.20454545454545456, 'gini = 0.0\\nsamples = 1\\nvalue = [0, 1]'),\n",
       " Text(0.33056202194878614, 0.20454545454545456, 'gini = 0.0\\nsamples = 1\\nvalue = [1, 0]'),\n",
       " Text(0.3318922514133688, 0.25, 'gini = 0.0\\nsamples = 10\\nvalue = [10, 0]'),\n",
       " Text(0.33056202194878614, 0.38636363636363635, 'gini = 0.0\\nsamples = 84\\nvalue = [84, 0]'),\n",
       " Text(0.33721316927169936, 0.4772727272727273, 'X[2] <= 0.113\\ngini = 0.198\\nsamples = 27\\nvalue = [24, 3]'),\n",
       " Text(0.3345527103425341, 0.4318181818181818, 'X[1] <= -0.651\\ngini = 0.444\\nsamples = 3\\nvalue = [1, 2]'),\n",
       " Text(0.3332224808779514, 0.38636363636363635, 'gini = 0.0\\nsamples = 2\\nvalue = [0, 2]'),\n",
       " Text(0.33588293980711675, 0.38636363636363635, 'gini = 0.0\\nsamples = 1\\nvalue = [1, 0]'),\n",
       " Text(0.33987362820086464, 0.4318181818181818, 'X[1] <= -0.63\\ngini = 0.08\\nsamples = 24\\nvalue = [23, 1]'),\n",
       " Text(0.33854339873628203, 0.38636363636363635, 'gini = 0.0\\nsamples = 21\\nvalue = [21, 0]'),\n",
       " Text(0.3412038576654473, 0.38636363636363635, 'X[2] <= 0.364\\ngini = 0.444\\nsamples = 3\\nvalue = [2, 1]'),\n",
       " Text(0.33987362820086464, 0.3409090909090909, 'gini = 0.0\\nsamples = 1\\nvalue = [0, 1]'),\n",
       " Text(0.3425340871300299, 0.3409090909090909, 'gini = 0.0\\nsamples = 2\\nvalue = [2, 0]'),\n",
       " Text(0.3518456933821084, 0.5227272727272727, 'X[0] <= -1.036\\ngini = 0.161\\nsamples = 68\\nvalue = [62, 6]'),\n",
       " Text(0.34918523445294314, 0.4772727272727273, 'X[1] <= -0.64\\ngini = 0.42\\nsamples = 10\\nvalue = [7, 3]'),\n",
       " Text(0.34785500498836047, 0.4318181818181818, 'X[1] <= -0.755\\ngini = 0.346\\nsamples = 9\\nvalue = [7, 2]'),\n",
       " Text(0.34652477552377786, 0.38636363636363635, 'X[0] <= -1.119\\ngini = 0.5\\nsamples = 4\\nvalue = [2, 2]'),\n",
       " Text(0.3451945460591952, 0.3409090909090909, 'X[2] <= 1.366\\ngini = 0.444\\nsamples = 3\\nvalue = [2, 1]'),\n",
       " Text(0.3438643165946126, 0.29545454545454547, 'gini = 0.0\\nsamples = 1\\nvalue = [0, 1]'),\n",
       " Text(0.34652477552377786, 0.29545454545454547, 'gini = 0.0\\nsamples = 2\\nvalue = [2, 0]'),\n",
       " Text(0.34785500498836047, 0.3409090909090909, 'gini = 0.0\\nsamples = 1\\nvalue = [0, 1]'),\n",
       " Text(0.34918523445294314, 0.38636363636363635, 'gini = 0.0\\nsamples = 5\\nvalue = [5, 0]'),\n",
       " Text(0.35051546391752575, 0.4318181818181818, 'gini = 0.0\\nsamples = 1\\nvalue = [0, 1]'),\n",
       " Text(0.3545061523112737, 0.4772727272727273, 'X[2] <= 1.805\\ngini = 0.098\\nsamples = 58\\nvalue = [55, 3]'),\n",
       " Text(0.3531759228466911, 0.4318181818181818, 'X[2] <= 1.679\\ngini = 0.17\\nsamples = 32\\nvalue = [29, 3]'),\n",
       " Text(0.3518456933821084, 0.38636363636363635, 'gini = 0.0\\nsamples = 25\\nvalue = [25, 0]'),\n",
       " Text(0.3545061523112737, 0.38636363636363635, 'X[2] <= 1.742\\ngini = 0.49\\nsamples = 7\\nvalue = [4, 3]'),\n",
       " Text(0.3531759228466911, 0.3409090909090909, 'gini = 0.0\\nsamples = 2\\nvalue = [0, 2]'),\n",
       " Text(0.35583638177585636, 0.3409090909090909, 'X[1] <= -0.651\\ngini = 0.32\\nsamples = 5\\nvalue = [4, 1]'),\n",
       " Text(0.3545061523112737, 0.29545454545454547, 'gini = 0.0\\nsamples = 2\\nvalue = [2, 0]'),\n",
       " Text(0.35716661124043897, 0.29545454545454547, 'X[1] <= -0.63\\ngini = 0.444\\nsamples = 3\\nvalue = [2, 1]'),\n",
       " Text(0.35583638177585636, 0.25, 'gini = 0.0\\nsamples = 1\\nvalue = [0, 1]'),\n",
       " Text(0.35849684070502164, 0.25, 'gini = 0.0\\nsamples = 2\\nvalue = [2, 0]'),\n",
       " Text(0.35583638177585636, 0.4318181818181818, 'gini = 0.0\\nsamples = 26\\nvalue = [26, 0]'),\n",
       " Text(0.3624875290987695, 0.6136363636363636, 'X[2] <= 1.084\\ngini = 0.33\\nsamples = 24\\nvalue = [19, 5]'),\n",
       " Text(0.3611572996341869, 0.5681818181818182, 'X[1] <= -0.734\\ngini = 0.459\\nsamples = 14\\nvalue = [9, 5]'),\n",
       " Text(0.35982707016960425, 0.5227272727272727, 'gini = 0.0\\nsamples = 2\\nvalue = [0, 2]'),\n",
       " Text(0.3624875290987695, 0.5227272727272727, 'X[1] <= -0.677\\ngini = 0.375\\nsamples = 12\\nvalue = [9, 3]'),\n",
       " Text(0.35982707016960425, 0.4772727272727273, 'X[2] <= -0.012\\ngini = 0.198\\nsamples = 9\\nvalue = [8, 1]'),\n",
       " Text(0.35849684070502164, 0.4318181818181818, 'X[1] <= -0.713\\ngini = 0.375\\nsamples = 4\\nvalue = [3, 1]'),\n",
       " Text(0.35716661124043897, 0.38636363636363635, 'gini = 0.0\\nsamples = 3\\nvalue = [3, 0]'),\n",
       " Text(0.35982707016960425, 0.38636363636363635, 'gini = 0.0\\nsamples = 1\\nvalue = [0, 1]'),\n",
       " Text(0.3611572996341869, 0.4318181818181818, 'gini = 0.0\\nsamples = 5\\nvalue = [5, 0]'),\n",
       " Text(0.3651479880279348, 0.4772727272727273, 'X[1] <= -0.609\\ngini = 0.444\\nsamples = 3\\nvalue = [1, 2]'),\n",
       " Text(0.3638177585633522, 0.4318181818181818, 'gini = 0.0\\nsamples = 2\\nvalue = [0, 2]'),\n",
       " Text(0.36647821749251747, 0.4318181818181818, 'gini = 0.0\\nsamples = 1\\nvalue = [1, 0]'),\n",
       " Text(0.3638177585633522, 0.5681818181818182, 'gini = 0.0\\nsamples = 10\\nvalue = [10, 0]'),\n",
       " Text(0.3841037578982374, 0.6590909090909091, 'X[2] <= 1.366\\ngini = 0.328\\nsamples = 58\\nvalue = [46, 12]'),\n",
       " Text(0.3827735284336548, 0.6136363636363636, 'X[2] <= 0.834\\ngini = 0.36\\nsamples = 51\\nvalue = [39, 12]'),\n",
       " Text(0.37645493847688727, 0.5681818181818182, 'X[1] <= -0.567\\ngini = 0.292\\nsamples = 45\\nvalue = [37, 8]'),\n",
       " Text(0.371799135350848, 0.5227272727272727, 'X[2] <= 0.614\\ngini = 0.463\\nsamples = 11\\nvalue = [7, 4]'),\n",
       " Text(0.37046890588626535, 0.4772727272727273, 'X[0] <= -0.868\\ngini = 0.346\\nsamples = 9\\nvalue = [7, 2]'),\n",
       " Text(0.36913867642168274, 0.4318181818181818, 'gini = 0.0\\nsamples = 3\\nvalue = [3, 0]'),\n",
       " Text(0.371799135350848, 0.4318181818181818, 'X[2] <= 0.458\\ngini = 0.444\\nsamples = 6\\nvalue = [4, 2]'),\n",
       " Text(0.37046890588626535, 0.38636363636363635, 'X[0] <= -0.784\\ngini = 0.32\\nsamples = 5\\nvalue = [4, 1]'),\n",
       " Text(0.36913867642168274, 0.3409090909090909, 'X[2] <= 0.238\\ngini = 0.5\\nsamples = 2\\nvalue = [1, 1]'),\n",
       " Text(0.3678084469571001, 0.29545454545454547, 'gini = 0.0\\nsamples = 1\\nvalue = [1, 0]'),\n",
       " Text(0.37046890588626535, 0.29545454545454547, 'gini = 0.0\\nsamples = 1\\nvalue = [0, 1]'),\n",
       " Text(0.371799135350848, 0.3409090909090909, 'gini = 0.0\\nsamples = 3\\nvalue = [3, 0]'),\n",
       " Text(0.3731293648154307, 0.38636363636363635, 'gini = 0.0\\nsamples = 1\\nvalue = [0, 1]'),\n",
       " Text(0.3731293648154307, 0.4772727272727273, 'gini = 0.0\\nsamples = 2\\nvalue = [0, 2]'),\n",
       " Text(0.3811107416029265, 0.5227272727272727, 'X[0] <= -0.7\\ngini = 0.208\\nsamples = 34\\nvalue = [30, 4]'),\n",
       " Text(0.37845028267376124, 0.4772727272727273, 'X[2] <= 0.019\\ngini = 0.083\\nsamples = 23\\nvalue = [22, 1]'),\n",
       " Text(0.3771200532091786, 0.4318181818181818, 'X[2] <= -0.075\\ngini = 0.444\\nsamples = 3\\nvalue = [2, 1]'),\n",
       " Text(0.37578982374459596, 0.38636363636363635, 'gini = 0.0\\nsamples = 2\\nvalue = [2, 0]'),\n",
       " Text(0.37845028267376124, 0.38636363636363635, 'gini = 0.0\\nsamples = 1\\nvalue = [0, 1]'),\n",
       " Text(0.37978051213834385, 0.4318181818181818, 'gini = 0.0\\nsamples = 20\\nvalue = [20, 0]'),\n",
       " Text(0.3837712005320918, 0.4772727272727273, 'X[1] <= -0.385\\ngini = 0.397\\nsamples = 11\\nvalue = [8, 3]'),\n",
       " Text(0.38244097106750913, 0.4318181818181818, 'X[1] <= -0.515\\ngini = 0.32\\nsamples = 10\\nvalue = [8, 2]'),\n",
       " Text(0.3811107416029265, 0.38636363636363635, 'X[2] <= 0.113\\ngini = 0.48\\nsamples = 5\\nvalue = [3, 2]'),\n",
       " Text(0.37978051213834385, 0.3409090909090909, 'gini = 0.0\\nsamples = 1\\nvalue = [1, 0]'),\n",
       " Text(0.38244097106750913, 0.3409090909090909, 'X[0] <= -0.532\\ngini = 0.5\\nsamples = 4\\nvalue = [2, 2]'),\n",
       " Text(0.3811107416029265, 0.29545454545454547, 'X[2] <= 0.426\\ngini = 0.444\\nsamples = 3\\nvalue = [1, 2]'),\n",
       " Text(0.37978051213834385, 0.25, 'gini = 0.0\\nsamples = 2\\nvalue = [0, 2]'),\n",
       " Text(0.38244097106750913, 0.25, 'gini = 0.0\\nsamples = 1\\nvalue = [1, 0]'),\n",
       " Text(0.3837712005320918, 0.29545454545454547, 'gini = 0.0\\nsamples = 1\\nvalue = [1, 0]'),\n",
       " Text(0.3837712005320918, 0.38636363636363635, 'gini = 0.0\\nsamples = 5\\nvalue = [5, 0]'),\n",
       " Text(0.3851014299966744, 0.4318181818181818, 'gini = 0.0\\nsamples = 1\\nvalue = [0, 1]'),\n",
       " Text(0.38909211839042235, 0.5681818181818182, 'X[1] <= -0.494\\ngini = 0.444\\nsamples = 6\\nvalue = [2, 4]'),\n",
       " Text(0.3877618889258397, 0.5227272727272727, 'X[1] <= -0.536\\ngini = 0.444\\nsamples = 3\\nvalue = [2, 1]'),\n",
       " Text(0.38643165946125707, 0.4772727272727273, 'gini = 0.0\\nsamples = 1\\nvalue = [0, 1]'),\n",
       " Text(0.38909211839042235, 0.4772727272727273, 'gini = 0.0\\nsamples = 2\\nvalue = [2, 0]'),\n",
       " Text(0.390422347855005, 0.5227272727272727, 'gini = 0.0\\nsamples = 3\\nvalue = [0, 3]'),\n",
       " Text(0.3854339873628201, 0.6136363636363636, 'gini = 0.0\\nsamples = 7\\nvalue = [7, 0]'),\n",
       " Text(0.3920851346857333, 0.7045454545454546, 'X[1] <= -0.255\\ngini = 0.375\\nsamples = 12\\nvalue = [3, 9]'),\n",
       " Text(0.38942467575656803, 0.6590909090909091, 'X[2] <= 1.397\\ngini = 0.198\\nsamples = 9\\nvalue = [1, 8]'),\n",
       " Text(0.38809444629198536, 0.6136363636363636, 'gini = 0.0\\nsamples = 8\\nvalue = [0, 8]'),\n",
       " Text(0.39075490522115064, 0.6136363636363636, 'gini = 0.0\\nsamples = 1\\nvalue = [1, 0]'),\n",
       " Text(0.3947455936148986, 0.6590909090909091, 'X[2] <= 0.395\\ngini = 0.444\\nsamples = 3\\nvalue = [2, 1]'),\n",
       " Text(0.3934153641503159, 0.6136363636363636, 'gini = 0.0\\nsamples = 2\\nvalue = [2, 0]'),\n",
       " Text(0.3960758230794812, 0.6136363636363636, 'gini = 0.0\\nsamples = 1\\nvalue = [0, 1]'),\n",
       " Text(0.4779044209344862, 0.75, 'X[2] <= 0.426\\ngini = 0.437\\nsamples = 409\\nvalue = [277, 132]'),\n",
       " Text(0.4219321582973063, 0.7045454545454546, 'X[1] <= -0.63\\ngini = 0.499\\nsamples = 106\\nvalue = [51, 55]'),\n",
       " Text(0.40688393747921514, 0.6590909090909091, 'X[1] <= -0.755\\ngini = 0.455\\nsamples = 63\\nvalue = [22, 41]'),\n",
       " Text(0.39873628200864647, 0.6136363636363636, 'X[0] <= 0.308\\ngini = 0.266\\nsamples = 19\\nvalue = [3, 16]'),\n",
       " Text(0.3960758230794812, 0.5681818181818182, 'X[2] <= 0.113\\ngini = 0.208\\nsamples = 17\\nvalue = [2, 15]'),\n",
       " Text(0.3947455936148986, 0.5227272727272727, 'X[1] <= -0.776\\ngini = 0.32\\nsamples = 10\\nvalue = [2, 8]'),\n",
       " Text(0.3920851346857333, 0.4772727272727273, 'X[2] <= 0.05\\ngini = 0.245\\nsamples = 7\\nvalue = [1, 6]'),\n",
       " Text(0.39075490522115064, 0.4318181818181818, 'gini = 0.0\\nsamples = 6\\nvalue = [0, 6]'),\n",
       " Text(0.3934153641503159, 0.4318181818181818, 'gini = 0.0\\nsamples = 1\\nvalue = [1, 0]'),\n",
       " Text(0.39740605254406386, 0.4772727272727273, 'X[2] <= 0.019\\ngini = 0.444\\nsamples = 3\\nvalue = [1, 2]'),\n",
       " Text(0.3960758230794812, 0.4318181818181818, 'gini = 0.0\\nsamples = 1\\nvalue = [1, 0]'),\n",
       " Text(0.39873628200864647, 0.4318181818181818, 'gini = 0.0\\nsamples = 2\\nvalue = [0, 2]'),\n",
       " Text(0.39740605254406386, 0.5227272727272727, 'gini = 0.0\\nsamples = 7\\nvalue = [0, 7]'),\n",
       " Text(0.40139674093781175, 0.5681818181818182, 'X[1] <= -0.776\\ngini = 0.5\\nsamples = 2\\nvalue = [1, 1]'),\n",
       " Text(0.40006651147322914, 0.5227272727272727, 'gini = 0.0\\nsamples = 1\\nvalue = [1, 0]'),\n",
       " Text(0.4027269704023944, 0.5227272727272727, 'gini = 0.0\\nsamples = 1\\nvalue = [0, 1]'),\n",
       " Text(0.4150315929497838, 0.6136363636363636, 'X[0] <= -0.196\\ngini = 0.491\\nsamples = 44\\nvalue = [19, 25]'),\n",
       " Text(0.40804788826072497, 0.5681818181818182, 'X[2] <= 0.019\\ngini = 0.459\\nsamples = 14\\nvalue = [9, 5]'),\n",
       " Text(0.4053874293315597, 0.5227272727272727, 'X[0] <= -0.322\\ngini = 0.444\\nsamples = 6\\nvalue = [2, 4]'),\n",
       " Text(0.4040571998669771, 0.4772727272727273, 'gini = 0.0\\nsamples = 3\\nvalue = [0, 3]'),\n",
       " Text(0.40671765879614236, 0.4772727272727273, 'X[2] <= -0.075\\ngini = 0.444\\nsamples = 3\\nvalue = [2, 1]'),\n",
       " Text(0.4053874293315597, 0.4318181818181818, 'gini = 0.0\\nsamples = 1\\nvalue = [1, 0]'),\n",
       " Text(0.40804788826072497, 0.4318181818181818, 'X[1] <= -0.713\\ngini = 0.5\\nsamples = 2\\nvalue = [1, 1]'),\n",
       " Text(0.40671765879614236, 0.38636363636363635, 'gini = 0.0\\nsamples = 1\\nvalue = [0, 1]'),\n",
       " Text(0.40937811772530763, 0.38636363636363635, 'gini = 0.0\\nsamples = 1\\nvalue = [1, 0]'),\n",
       " Text(0.41070834718989024, 0.5227272727272727, 'X[2] <= 0.332\\ngini = 0.219\\nsamples = 8\\nvalue = [7, 1]'),\n",
       " Text(0.40937811772530763, 0.4772727272727273, 'gini = 0.0\\nsamples = 6\\nvalue = [6, 0]'),\n",
       " Text(0.4120385766544729, 0.4772727272727273, 'X[0] <= -0.322\\ngini = 0.5\\nsamples = 2\\nvalue = [1, 1]'),\n",
       " Text(0.41070834718989024, 0.4318181818181818, 'gini = 0.0\\nsamples = 1\\nvalue = [1, 0]'),\n",
       " Text(0.4133688061190555, 0.4318181818181818, 'gini = 0.0\\nsamples = 1\\nvalue = [0, 1]'),\n",
       " Text(0.4220152976388427, 0.5681818181818182, 'X[2] <= 0.113\\ngini = 0.444\\nsamples = 30\\nvalue = [10, 20]'),\n",
       " Text(0.4186897239773861, 0.5227272727272727, 'X[2] <= -0.012\\ngini = 0.18\\nsamples = 10\\nvalue = [1, 9]'),\n",
       " Text(0.41735949451280346, 0.4772727272727273, 'X[2] <= -0.075\\ngini = 0.375\\nsamples = 4\\nvalue = [1, 3]'),\n",
       " Text(0.4160292650482208, 0.4318181818181818, 'gini = 0.0\\nsamples = 2\\nvalue = [0, 2]'),\n",
       " Text(0.4186897239773861, 0.4318181818181818, 'X[0] <= 0.224\\ngini = 0.5\\nsamples = 2\\nvalue = [1, 1]'),\n",
       " Text(0.41735949451280346, 0.38636363636363635, 'gini = 0.0\\nsamples = 1\\nvalue = [0, 1]'),\n",
       " Text(0.42001995344196874, 0.38636363636363635, 'gini = 0.0\\nsamples = 1\\nvalue = [1, 0]'),\n",
       " Text(0.42001995344196874, 0.4772727272727273, 'gini = 0.0\\nsamples = 6\\nvalue = [0, 6]'),\n",
       " Text(0.4253408713002993, 0.5227272727272727, 'X[0] <= -0.112\\ngini = 0.495\\nsamples = 20\\nvalue = [9, 11]'),\n",
       " Text(0.4240106418357167, 0.4772727272727273, 'gini = 0.0\\nsamples = 3\\nvalue = [0, 3]'),\n",
       " Text(0.42667110076488196, 0.4772727272727273, 'X[0] <= 0.224\\ngini = 0.498\\nsamples = 17\\nvalue = [9, 8]'),\n",
       " Text(0.4240106418357167, 0.4318181818181818, 'X[1] <= -0.651\\ngini = 0.444\\nsamples = 9\\nvalue = [6, 3]'),\n",
       " Text(0.422680412371134, 0.38636363636363635, 'X[0] <= -0.028\\ngini = 0.375\\nsamples = 8\\nvalue = [6, 2]'),\n",
       " Text(0.4213501829065514, 0.3409090909090909, 'X[1] <= -0.703\\ngini = 0.444\\nsamples = 3\\nvalue = [1, 2]'),\n",
       " Text(0.42001995344196874, 0.29545454545454547, 'gini = 0.0\\nsamples = 2\\nvalue = [0, 2]'),\n",
       " Text(0.422680412371134, 0.29545454545454547, 'gini = 0.0\\nsamples = 1\\nvalue = [1, 0]'),\n",
       " Text(0.4240106418357167, 0.3409090909090909, 'gini = 0.0\\nsamples = 5\\nvalue = [5, 0]'),\n",
       " Text(0.4253408713002993, 0.38636363636363635, 'gini = 0.0\\nsamples = 1\\nvalue = [0, 1]'),\n",
       " Text(0.42933155969404724, 0.4318181818181818, 'X[1] <= -0.672\\ngini = 0.469\\nsamples = 8\\nvalue = [3, 5]'),\n",
       " Text(0.42800133022946457, 0.38636363636363635, 'gini = 0.0\\nsamples = 4\\nvalue = [0, 4]'),\n",
       " Text(0.43066178915862985, 0.38636363636363635, 'X[0] <= 0.392\\ngini = 0.375\\nsamples = 4\\nvalue = [3, 1]'),\n",
       " Text(0.42933155969404724, 0.3409090909090909, 'X[2] <= 0.176\\ngini = 0.5\\nsamples = 2\\nvalue = [1, 1]'),\n",
       " Text(0.42800133022946457, 0.29545454545454547, 'gini = 0.0\\nsamples = 1\\nvalue = [1, 0]'),\n",
       " Text(0.43066178915862985, 0.29545454545454547, 'gini = 0.0\\nsamples = 1\\nvalue = [0, 1]'),\n",
       " Text(0.4319920186232125, 0.3409090909090909, 'gini = 0.0\\nsamples = 2\\nvalue = [2, 0]'),\n",
       " Text(0.4369803791153974, 0.6590909090909091, 'X[2] <= 0.05\\ngini = 0.439\\nsamples = 43\\nvalue = [29, 14]'),\n",
       " Text(0.4319920186232125, 0.6136363636363636, 'X[1] <= -0.609\\ngini = 0.231\\nsamples = 15\\nvalue = [13, 2]'),\n",
       " Text(0.43066178915862985, 0.5681818181818182, 'gini = 0.0\\nsamples = 1\\nvalue = [0, 1]'),\n",
       " Text(0.4333222480877951, 0.5681818181818182, 'X[1] <= -0.588\\ngini = 0.133\\nsamples = 14\\nvalue = [13, 1]'),\n",
       " Text(0.4319920186232125, 0.5227272727272727, 'X[2] <= -0.012\\ngini = 0.278\\nsamples = 6\\nvalue = [5, 1]'),\n",
       " Text(0.43066178915862985, 0.4772727272727273, 'gini = 0.0\\nsamples = 4\\nvalue = [4, 0]'),\n",
       " Text(0.4333222480877951, 0.4772727272727273, 'gini = 0.5\\nsamples = 2\\nvalue = [1, 1]'),\n",
       " Text(0.4346524775523778, 0.5227272727272727, 'gini = 0.0\\nsamples = 8\\nvalue = [8, 0]'),\n",
       " Text(0.4419687396075823, 0.6136363636363636, 'X[1] <= -0.567\\ngini = 0.49\\nsamples = 28\\nvalue = [16, 12]'),\n",
       " Text(0.4386431659461257, 0.5681818181818182, 'X[2] <= 0.238\\ngini = 0.298\\nsamples = 11\\nvalue = [9, 2]'),\n",
       " Text(0.43731293648154307, 0.5227272727272727, 'X[2] <= 0.176\\ngini = 0.444\\nsamples = 6\\nvalue = [4, 2]'),\n",
       " Text(0.4359827070169604, 0.4772727272727273, 'X[2] <= 0.113\\ngini = 0.32\\nsamples = 5\\nvalue = [4, 1]'),\n",
       " Text(0.4346524775523778, 0.4318181818181818, 'X[1] <= -0.609\\ngini = 0.5\\nsamples = 2\\nvalue = [1, 1]'),\n",
       " Text(0.4333222480877951, 0.38636363636363635, 'gini = 0.0\\nsamples = 1\\nvalue = [0, 1]'),\n",
       " Text(0.4359827070169604, 0.38636363636363635, 'gini = 0.0\\nsamples = 1\\nvalue = [1, 0]'),\n",
       " Text(0.43731293648154307, 0.4318181818181818, 'gini = 0.0\\nsamples = 3\\nvalue = [3, 0]'),\n",
       " Text(0.4386431659461257, 0.4772727272727273, 'gini = 0.0\\nsamples = 1\\nvalue = [0, 1]'),\n",
       " Text(0.43997339541070835, 0.5227272727272727, 'gini = 0.0\\nsamples = 5\\nvalue = [5, 0]'),\n",
       " Text(0.4452943132690389, 0.5681818181818182, 'X[0] <= -0.28\\ngini = 0.484\\nsamples = 17\\nvalue = [7, 10]'),\n",
       " Text(0.4426338543398736, 0.5227272727272727, 'X[1] <= -0.494\\ngini = 0.444\\nsamples = 6\\nvalue = [4, 2]'),\n",
       " Text(0.441303624875291, 0.4772727272727273, 'gini = 0.0\\nsamples = 2\\nvalue = [0, 2]'),\n",
       " Text(0.4439640838044563, 0.4772727272727273, 'gini = 0.0\\nsamples = 4\\nvalue = [4, 0]'),\n",
       " Text(0.4479547721982042, 0.5227272727272727, 'X[1] <= -0.432\\ngini = 0.397\\nsamples = 11\\nvalue = [3, 8]'),\n",
       " Text(0.44662454273362157, 0.4772727272727273, 'X[2] <= 0.176\\ngini = 0.49\\nsamples = 7\\nvalue = [3, 4]'),\n",
       " Text(0.4452943132690389, 0.4318181818181818, 'gini = 0.0\\nsamples = 2\\nvalue = [2, 0]'),\n",
       " Text(0.4479547721982042, 0.4318181818181818, 'X[0] <= 0.35\\ngini = 0.32\\nsamples = 5\\nvalue = [1, 4]'),\n",
       " Text(0.44662454273362157, 0.38636363636363635, 'gini = 0.0\\nsamples = 3\\nvalue = [0, 3]'),\n",
       " Text(0.44928500166278684, 0.38636363636363635, 'X[2] <= 0.238\\ngini = 0.5\\nsamples = 2\\nvalue = [1, 1]'),\n",
       " Text(0.4479547721982042, 0.3409090909090909, 'gini = 0.0\\nsamples = 1\\nvalue = [0, 1]'),\n",
       " Text(0.45061523112736945, 0.3409090909090909, 'gini = 0.0\\nsamples = 1\\nvalue = [1, 0]'),\n",
       " Text(0.44928500166278684, 0.4772727272727273, 'gini = 0.0\\nsamples = 4\\nvalue = [0, 4]'),\n",
       " Text(0.5338766835716661, 0.7045454545454546, 'X[2] <= 2.494\\ngini = 0.379\\nsamples = 303\\nvalue = [226, 77]'),\n",
       " Text(0.5127151230462255, 0.6590909090909091, 'X[1] <= -0.296\\ngini = 0.358\\nsamples = 291\\nvalue = [223, 68]'),\n",
       " Text(0.5113848935816429, 0.6136363636363636, 'X[2] <= 1.178\\ngini = 0.347\\nsamples = 287\\nvalue = [223, 64]'),\n",
       " Text(0.4954169437978051, 0.5681818181818182, 'X[1] <= -0.38\\ngini = 0.269\\nsamples = 187\\nvalue = [157, 30]'),\n",
       " Text(0.4850141336880612, 0.5227272727272727, 'X[1] <= -0.672\\ngini = 0.259\\nsamples = 183\\nvalue = [155, 28]'),\n",
       " Text(0.4681992018623212, 0.4772727272727273, 'X[0] <= -0.112\\ngini = 0.318\\nsamples = 111\\nvalue = [89, 22]'),\n",
       " Text(0.4572663784502827, 0.4318181818181818, 'X[2] <= 0.646\\ngini = 0.142\\nsamples = 39\\nvalue = [36, 3]'),\n",
       " Text(0.4559361489857, 0.38636363636363635, 'X[0] <= -0.28\\ngini = 0.337\\nsamples = 14\\nvalue = [11, 3]'),\n",
       " Text(0.45327569005653473, 0.3409090909090909, 'X[1] <= -0.734\\ngini = 0.165\\nsamples = 11\\nvalue = [10, 1]'),\n",
       " Text(0.4519454605919521, 0.29545454545454547, 'X[0] <= -0.364\\ngini = 0.444\\nsamples = 3\\nvalue = [2, 1]'),\n",
       " Text(0.45061523112736945, 0.25, 'gini = 0.0\\nsamples = 2\\nvalue = [2, 0]'),\n",
       " Text(0.45327569005653473, 0.25, 'gini = 0.0\\nsamples = 1\\nvalue = [0, 1]'),\n",
       " Text(0.4546059195211174, 0.29545454545454547, 'gini = 0.0\\nsamples = 8\\nvalue = [8, 0]'),\n",
       " Text(0.45859660791486534, 0.3409090909090909, 'X[2] <= 0.552\\ngini = 0.444\\nsamples = 3\\nvalue = [1, 2]'),\n",
       " Text(0.4572663784502827, 0.29545454545454547, 'X[0] <= -0.196\\ngini = 0.5\\nsamples = 2\\nvalue = [1, 1]'),\n",
       " Text(0.4559361489857, 0.25, 'gini = 0.0\\nsamples = 1\\nvalue = [0, 1]'),\n",
       " Text(0.45859660791486534, 0.25, 'gini = 0.0\\nsamples = 1\\nvalue = [1, 0]'),\n",
       " Text(0.45992683737944795, 0.29545454545454547, 'gini = 0.0\\nsamples = 1\\nvalue = [0, 1]'),\n",
       " Text(0.45859660791486534, 0.38636363636363635, 'gini = 0.0\\nsamples = 25\\nvalue = [25, 0]'),\n",
       " Text(0.47913202527435983, 0.4318181818181818, 'X[2] <= 1.115\\ngini = 0.389\\nsamples = 72\\nvalue = [53, 19]'),\n",
       " Text(0.47780179580977716, 0.38636363636363635, 'X[1] <= -0.734\\ngini = 0.414\\nsamples = 65\\nvalue = [46, 19]'),\n",
       " Text(0.46707682075157964, 0.3409090909090909, 'X[2] <= 0.489\\ngini = 0.326\\nsamples = 39\\nvalue = [31, 8]'),\n",
       " Text(0.4625872963086132, 0.29545454545454547, 'X[0] <= 0.14\\ngini = 0.444\\nsamples = 3\\nvalue = [1, 2]'),\n",
       " Text(0.4612570668440306, 0.25, 'gini = 0.0\\nsamples = 2\\nvalue = [0, 2]'),\n",
       " Text(0.4639175257731959, 0.25, 'gini = 0.0\\nsamples = 1\\nvalue = [1, 0]'),\n",
       " Text(0.47156634519454604, 0.29545454545454547, 'X[1] <= -0.755\\ngini = 0.278\\nsamples = 36\\nvalue = [30, 6]'),\n",
       " Text(0.46657798470236117, 0.25, 'X[0] <= -0.028\\ngini = 0.351\\nsamples = 22\\nvalue = [17, 5]'),\n",
       " Text(0.4619221815763219, 0.20454545454545456, 'X[2] <= 0.802\\ngini = 0.5\\nsamples = 4\\nvalue = [2, 2]'),\n",
       " Text(0.46059195211173926, 0.1590909090909091, 'gini = 0.0\\nsamples = 1\\nvalue = [0, 1]'),\n",
       " Text(0.46325241104090453, 0.1590909090909091, 'X[2] <= 1.021\\ngini = 0.444\\nsamples = 3\\nvalue = [2, 1]'),\n",
       " Text(0.4619221815763219, 0.11363636363636363, 'gini = 0.0\\nsamples = 2\\nvalue = [2, 0]'),\n",
       " Text(0.4645826405054872, 0.11363636363636363, 'gini = 0.0\\nsamples = 1\\nvalue = [0, 1]'),\n",
       " Text(0.4712337878284004, 0.20454545454545456, 'X[0] <= 0.14\\ngini = 0.278\\nsamples = 18\\nvalue = [15, 3]'),\n",
       " Text(0.46857332889923514, 0.1590909090909091, 'X[0] <= 0.077\\ngini = 0.133\\nsamples = 14\\nvalue = [13, 1]'),\n",
       " Text(0.4672430994346525, 0.11363636363636363, 'gini = 0.0\\nsamples = 8\\nvalue = [8, 0]'),\n",
       " Text(0.46990355836381775, 0.11363636363636363, 'X[2] <= 0.99\\ngini = 0.278\\nsamples = 6\\nvalue = [5, 1]'),\n",
       " Text(0.46857332889923514, 0.06818181818181818, 'X[2] <= 0.771\\ngini = 0.5\\nsamples = 2\\nvalue = [1, 1]'),\n",
       " Text(0.4672430994346525, 0.022727272727272728, 'gini = 0.0\\nsamples = 1\\nvalue = [1, 0]'),\n",
       " Text(0.46990355836381775, 0.022727272727272728, 'gini = 0.0\\nsamples = 1\\nvalue = [0, 1]'),\n",
       " Text(0.4712337878284004, 0.06818181818181818, 'gini = 0.0\\nsamples = 4\\nvalue = [4, 0]'),\n",
       " Text(0.4738942467575657, 0.1590909090909091, 'X[0] <= 0.308\\ngini = 0.5\\nsamples = 4\\nvalue = [2, 2]'),\n",
       " Text(0.47256401729298303, 0.11363636363636363, 'gini = 0.0\\nsamples = 2\\nvalue = [0, 2]'),\n",
       " Text(0.4752244762221483, 0.11363636363636363, 'gini = 0.0\\nsamples = 2\\nvalue = [2, 0]'),\n",
       " Text(0.476554705686731, 0.25, 'X[0] <= 0.392\\ngini = 0.133\\nsamples = 14\\nvalue = [13, 1]'),\n",
       " Text(0.4752244762221483, 0.20454545454545456, 'gini = 0.0\\nsamples = 11\\nvalue = [11, 0]'),\n",
       " Text(0.4778849351513136, 0.20454545454545456, 'X[2] <= 0.708\\ngini = 0.444\\nsamples = 3\\nvalue = [2, 1]'),\n",
       " Text(0.476554705686731, 0.1590909090909091, 'gini = 0.0\\nsamples = 1\\nvalue = [1, 0]'),\n",
       " Text(0.47921516461589625, 0.1590909090909091, 'X[2] <= 0.865\\ngini = 0.5\\nsamples = 2\\nvalue = [1, 1]'),\n",
       " Text(0.4778849351513136, 0.11363636363636363, 'gini = 0.0\\nsamples = 1\\nvalue = [0, 1]'),\n",
       " Text(0.48054539408047886, 0.11363636363636363, 'gini = 0.0\\nsamples = 1\\nvalue = [1, 0]'),\n",
       " Text(0.48852677086797475, 0.3409090909090909, 'X[2] <= 0.928\\ngini = 0.488\\nsamples = 26\\nvalue = [15, 11]'),\n",
       " Text(0.48586631193880947, 0.29545454545454547, 'X[0] <= 0.266\\ngini = 0.401\\nsamples = 18\\nvalue = [13, 5]'),\n",
       " Text(0.4845360824742268, 0.25, 'X[0] <= 0.056\\ngini = 0.5\\nsamples = 10\\nvalue = [5, 5]'),\n",
       " Text(0.48320585300964414, 0.20454545454545456, 'X[2] <= 0.552\\ngini = 0.278\\nsamples = 6\\nvalue = [5, 1]'),\n",
       " Text(0.4818756235450615, 0.1590909090909091, 'gini = 0.0\\nsamples = 1\\nvalue = [0, 1]'),\n",
       " Text(0.4845360824742268, 0.1590909090909091, 'gini = 0.0\\nsamples = 5\\nvalue = [5, 0]'),\n",
       " Text(0.48586631193880947, 0.20454545454545456, 'gini = 0.0\\nsamples = 4\\nvalue = [0, 4]'),\n",
       " Text(0.4871965414033921, 0.25, 'gini = 0.0\\nsamples = 8\\nvalue = [8, 0]'),\n",
       " Text(0.49118722979714, 0.29545454545454547, 'X[1] <= -0.713\\ngini = 0.375\\nsamples = 8\\nvalue = [2, 6]'),\n",
       " Text(0.48985700033255736, 0.25, 'gini = 0.0\\nsamples = 5\\nvalue = [0, 5]'),\n",
       " Text(0.49251745926172263, 0.25, 'X[1] <= -0.693\\ngini = 0.444\\nsamples = 3\\nvalue = [2, 1]'),\n",
       " Text(0.49118722979714, 0.20454545454545456, 'gini = 0.0\\nsamples = 2\\nvalue = [2, 0]'),\n",
       " Text(0.4938476887263053, 0.20454545454545456, 'gini = 0.0\\nsamples = 1\\nvalue = [0, 1]'),\n",
       " Text(0.48046225473894244, 0.38636363636363635, 'gini = 0.0\\nsamples = 7\\nvalue = [7, 0]'),\n",
       " Text(0.5018290655138011, 0.4772727272727273, 'X[0] <= -0.196\\ngini = 0.153\\nsamples = 72\\nvalue = [66, 6]'),\n",
       " Text(0.4978383771200532, 0.4318181818181818, 'X[1] <= -0.588\\ngini = 0.375\\nsamples = 20\\nvalue = [15, 5]'),\n",
       " Text(0.4965081476554706, 0.38636363636363635, 'gini = 0.0\\nsamples = 11\\nvalue = [11, 0]'),\n",
       " Text(0.49916860658463585, 0.38636363636363635, 'X[1] <= -0.474\\ngini = 0.494\\nsamples = 9\\nvalue = [4, 5]'),\n",
       " Text(0.4978383771200532, 0.3409090909090909, 'X[1] <= -0.536\\ngini = 0.408\\nsamples = 7\\nvalue = [2, 5]'),\n",
       " Text(0.4965081476554706, 0.29545454545454547, 'X[0] <= -0.28\\ngini = 0.444\\nsamples = 3\\nvalue = [2, 1]'),\n",
       " Text(0.4951779181908879, 0.25, 'gini = 0.0\\nsamples = 2\\nvalue = [2, 0]'),\n",
       " Text(0.4978383771200532, 0.25, 'gini = 0.0\\nsamples = 1\\nvalue = [0, 1]'),\n",
       " Text(0.49916860658463585, 0.29545454545454547, 'gini = 0.0\\nsamples = 4\\nvalue = [0, 4]'),\n",
       " Text(0.5004988360492185, 0.3409090909090909, 'gini = 0.0\\nsamples = 2\\nvalue = [2, 0]'),\n",
       " Text(0.5058197539075491, 0.4318181818181818, 'X[2] <= 0.552\\ngini = 0.038\\nsamples = 52\\nvalue = [51, 1]'),\n",
       " Text(0.5044895244429665, 0.38636363636363635, 'X[0] <= 0.266\\ngini = 0.32\\nsamples = 5\\nvalue = [4, 1]'),\n",
       " Text(0.5031592949783837, 0.3409090909090909, 'gini = 0.0\\nsamples = 4\\nvalue = [4, 0]'),\n",
       " Text(0.5058197539075491, 0.3409090909090909, 'gini = 0.0\\nsamples = 1\\nvalue = [0, 1]'),\n",
       " Text(0.5071499833721317, 0.38636363636363635, 'gini = 0.0\\nsamples = 47\\nvalue = [47, 0]'),\n",
       " Text(0.5058197539075491, 0.5227272727272727, 'X[1] <= -0.317\\ngini = 0.5\\nsamples = 4\\nvalue = [2, 2]'),\n",
       " Text(0.5044895244429665, 0.4772727272727273, 'gini = 0.0\\nsamples = 2\\nvalue = [0, 2]'),\n",
       " Text(0.5071499833721317, 0.4772727272727273, 'gini = 0.0\\nsamples = 2\\nvalue = [2, 0]'),\n",
       " Text(0.5273528433654805, 0.5681818181818182, 'X[1] <= -0.776\\ngini = 0.449\\nsamples = 100\\nvalue = [66, 34]'),\n",
       " Text(0.5138011306950448, 0.5227272727272727, 'X[2] <= 1.805\\ngini = 0.459\\nsamples = 14\\nvalue = [5, 9]'),\n",
       " Text(0.5124709012304622, 0.4772727272727273, 'X[2] <= 1.429\\ngini = 0.375\\nsamples = 12\\nvalue = [3, 9]'),\n",
       " Text(0.5111406717658796, 0.4318181818181818, 'X[0] <= -0.112\\ngini = 0.48\\nsamples = 5\\nvalue = [3, 2]'),\n",
       " Text(0.509810442301297, 0.38636363636363635, 'gini = 0.0\\nsamples = 2\\nvalue = [2, 0]'),\n",
       " Text(0.5124709012304622, 0.38636363636363635, 'X[2] <= 1.366\\ngini = 0.444\\nsamples = 3\\nvalue = [1, 2]'),\n",
       " Text(0.5111406717658796, 0.3409090909090909, 'gini = 0.0\\nsamples = 1\\nvalue = [0, 1]'),\n",
       " Text(0.5138011306950448, 0.3409090909090909, 'X[0] <= -0.007\\ngini = 0.5\\nsamples = 2\\nvalue = [1, 1]'),\n",
       " Text(0.5124709012304622, 0.29545454545454547, 'gini = 0.0\\nsamples = 1\\nvalue = [0, 1]'),\n",
       " Text(0.5151313601596276, 0.29545454545454547, 'gini = 0.0\\nsamples = 1\\nvalue = [1, 0]'),\n",
       " Text(0.5138011306950448, 0.4318181818181818, 'gini = 0.0\\nsamples = 7\\nvalue = [0, 7]'),\n",
       " Text(0.5151313601596276, 0.4772727272727273, 'gini = 0.0\\nsamples = 2\\nvalue = [2, 0]'),\n",
       " Text(0.5409045560359163, 0.5227272727272727, 'X[0] <= 0.14\\ngini = 0.412\\nsamples = 86\\nvalue = [61, 25]'),\n",
       " Text(0.5320917858330562, 0.4772727272727273, 'X[1] <= -0.494\\ngini = 0.46\\nsamples = 53\\nvalue = [34, 19]'),\n",
       " Text(0.5307615563684736, 0.4318181818181818, 'X[0] <= -0.196\\ngini = 0.444\\nsamples = 51\\nvalue = [34, 17]'),\n",
       " Text(0.5224476222148321, 0.38636363636363635, 'X[1] <= -0.693\\ngini = 0.346\\nsamples = 27\\nvalue = [21, 6]'),\n",
       " Text(0.5191220485533754, 0.3409090909090909, 'X[2] <= 1.366\\ngini = 0.473\\nsamples = 13\\nvalue = [8, 5]'),\n",
       " Text(0.5177918190887928, 0.29545454545454547, 'gini = 0.0\\nsamples = 2\\nvalue = [2, 0]'),\n",
       " Text(0.5204522780179581, 0.29545454545454547, 'X[2] <= 1.961\\ngini = 0.496\\nsamples = 11\\nvalue = [6, 5]'),\n",
       " Text(0.5177918190887928, 0.25, 'X[1] <= -0.755\\ngini = 0.444\\nsamples = 6\\nvalue = [2, 4]'),\n",
       " Text(0.5164615896242102, 0.20454545454545456, 'gini = 0.0\\nsamples = 2\\nvalue = [0, 2]'),\n",
       " Text(0.5191220485533754, 0.20454545454545456, 'X[0] <= -0.28\\ngini = 0.5\\nsamples = 4\\nvalue = [2, 2]'),\n",
       " Text(0.5177918190887928, 0.1590909090909091, 'gini = 0.0\\nsamples = 1\\nvalue = [1, 0]'),\n",
       " Text(0.5204522780179581, 0.1590909090909091, 'X[1] <= -0.734\\ngini = 0.444\\nsamples = 3\\nvalue = [1, 2]'),\n",
       " Text(0.5191220485533754, 0.11363636363636363, 'gini = 0.0\\nsamples = 1\\nvalue = [1, 0]'),\n",
       " Text(0.5217825074825407, 0.11363636363636363, 'gini = 0.0\\nsamples = 2\\nvalue = [0, 2]'),\n",
       " Text(0.5231127369471233, 0.25, 'X[2] <= 2.243\\ngini = 0.32\\nsamples = 5\\nvalue = [4, 1]'),\n",
       " Text(0.5217825074825407, 0.20454545454545456, 'gini = 0.0\\nsamples = 2\\nvalue = [2, 0]'),\n",
       " Text(0.5244429664117061, 0.20454545454545456, 'X[2] <= 2.306\\ngini = 0.444\\nsamples = 3\\nvalue = [2, 1]'),\n",
       " Text(0.5231127369471233, 0.1590909090909091, 'gini = 0.0\\nsamples = 1\\nvalue = [0, 1]'),\n",
       " Text(0.5257731958762887, 0.1590909090909091, 'gini = 0.0\\nsamples = 2\\nvalue = [2, 0]'),\n",
       " Text(0.5257731958762887, 0.3409090909090909, 'X[2] <= 1.679\\ngini = 0.133\\nsamples = 14\\nvalue = [13, 1]'),\n",
       " Text(0.5244429664117061, 0.29545454545454547, 'gini = 0.0\\nsamples = 9\\nvalue = [9, 0]'),\n",
       " Text(0.5271034253408713, 0.29545454545454547, 'X[2] <= 1.773\\ngini = 0.32\\nsamples = 5\\nvalue = [4, 1]'),\n",
       " Text(0.5257731958762887, 0.25, 'gini = 0.0\\nsamples = 1\\nvalue = [0, 1]'),\n",
       " Text(0.5284336548054539, 0.25, 'gini = 0.0\\nsamples = 4\\nvalue = [4, 0]'),\n",
       " Text(0.5390754905221151, 0.38636363636363635, 'X[1] <= -0.651\\ngini = 0.497\\nsamples = 24\\nvalue = [13, 11]'),\n",
       " Text(0.5364150315929498, 0.3409090909090909, 'X[1] <= -0.693\\ngini = 0.43\\nsamples = 16\\nvalue = [11, 5]'),\n",
       " Text(0.5350848021283672, 0.29545454545454547, 'X[1] <= -0.713\\ngini = 0.486\\nsamples = 12\\nvalue = [7, 5]'),\n",
       " Text(0.5337545726637845, 0.25, 'X[2] <= 1.335\\ngini = 0.42\\nsamples = 10\\nvalue = [7, 3]'),\n",
       " Text(0.5297638842700366, 0.20454545454545456, 'X[0] <= -0.028\\ngini = 0.444\\nsamples = 3\\nvalue = [1, 2]'),\n",
       " Text(0.5284336548054539, 0.1590909090909091, 'gini = 0.0\\nsamples = 1\\nvalue = [0, 1]'),\n",
       " Text(0.5310941137346192, 0.1590909090909091, 'X[1] <= -0.755\\ngini = 0.5\\nsamples = 2\\nvalue = [1, 1]'),\n",
       " Text(0.5297638842700366, 0.11363636363636363, 'gini = 0.0\\nsamples = 1\\nvalue = [1, 0]'),\n",
       " Text(0.5324243431992018, 0.11363636363636363, 'gini = 0.0\\nsamples = 1\\nvalue = [0, 1]'),\n",
       " Text(0.5377452610575324, 0.20454545454545456, 'X[1] <= -0.755\\ngini = 0.245\\nsamples = 7\\nvalue = [6, 1]'),\n",
       " Text(0.5364150315929498, 0.1590909090909091, 'X[0] <= -0.028\\ngini = 0.32\\nsamples = 5\\nvalue = [4, 1]'),\n",
       " Text(0.5350848021283672, 0.11363636363636363, 'gini = 0.0\\nsamples = 2\\nvalue = [2, 0]'),\n",
       " Text(0.5377452610575324, 0.11363636363636363, 'gini = 0.444\\nsamples = 3\\nvalue = [2, 1]'),\n",
       " Text(0.5390754905221151, 0.1590909090909091, 'gini = 0.0\\nsamples = 2\\nvalue = [2, 0]'),\n",
       " Text(0.5364150315929498, 0.25, 'gini = 0.0\\nsamples = 2\\nvalue = [0, 2]'),\n",
       " Text(0.5377452610575324, 0.29545454545454547, 'gini = 0.0\\nsamples = 4\\nvalue = [4, 0]'),\n",
       " Text(0.5417359494512803, 0.3409090909090909, 'X[1] <= -0.547\\ngini = 0.375\\nsamples = 8\\nvalue = [2, 6]'),\n",
       " Text(0.5404057199866977, 0.29545454545454547, 'X[2] <= 1.805\\ngini = 0.245\\nsamples = 7\\nvalue = [1, 6]'),\n",
       " Text(0.5390754905221151, 0.25, 'gini = 0.0\\nsamples = 5\\nvalue = [0, 5]'),\n",
       " Text(0.5417359494512803, 0.25, 'X[1] <= -0.63\\ngini = 0.5\\nsamples = 2\\nvalue = [1, 1]'),\n",
       " Text(0.5404057199866977, 0.20454545454545456, 'gini = 0.0\\nsamples = 1\\nvalue = [0, 1]'),\n",
       " Text(0.543066178915863, 0.20454545454545456, 'gini = 0.0\\nsamples = 1\\nvalue = [1, 0]'),\n",
       " Text(0.543066178915863, 0.29545454545454547, 'gini = 0.0\\nsamples = 1\\nvalue = [1, 0]'),\n",
       " Text(0.5334220152976389, 0.4318181818181818, 'gini = 0.0\\nsamples = 2\\nvalue = [0, 2]'),\n",
       " Text(0.5497173262387762, 0.4772727272727273, 'X[2] <= 1.491\\ngini = 0.298\\nsamples = 33\\nvalue = [27, 6]'),\n",
       " Text(0.5483870967741935, 0.4318181818181818, 'X[1] <= -0.693\\ngini = 0.457\\nsamples = 17\\nvalue = [11, 6]'),\n",
       " Text(0.5457266378450283, 0.38636363636363635, 'X[2] <= 1.366\\ngini = 0.408\\nsamples = 7\\nvalue = [2, 5]'),\n",
       " Text(0.5443964083804457, 0.3409090909090909, 'gini = 0.0\\nsamples = 4\\nvalue = [0, 4]'),\n",
       " Text(0.5470568673096109, 0.3409090909090909, 'X[0] <= 0.224\\ngini = 0.444\\nsamples = 3\\nvalue = [2, 1]'),\n",
       " Text(0.5457266378450283, 0.29545454545454547, 'gini = 0.0\\nsamples = 1\\nvalue = [0, 1]'),\n",
       " Text(0.5483870967741935, 0.29545454545454547, 'gini = 0.0\\nsamples = 2\\nvalue = [2, 0]'),\n",
       " Text(0.5510475557033588, 0.38636363636363635, 'X[1] <= -0.505\\ngini = 0.18\\nsamples = 10\\nvalue = [9, 1]'),\n",
       " Text(0.5497173262387762, 0.3409090909090909, 'gini = 0.0\\nsamples = 9\\nvalue = [9, 0]'),\n",
       " Text(0.5523777851679414, 0.3409090909090909, 'gini = 0.0\\nsamples = 1\\nvalue = [0, 1]'),\n",
       " Text(0.5510475557033588, 0.4318181818181818, 'gini = 0.0\\nsamples = 16\\nvalue = [16, 0]'),\n",
       " Text(0.5140453525108081, 0.6136363636363636, 'gini = 0.0\\nsamples = 4\\nvalue = [0, 4]'),\n",
       " Text(0.5550382440971068, 0.6590909090909091, 'X[1] <= -0.448\\ngini = 0.375\\nsamples = 12\\nvalue = [3, 9]'),\n",
       " Text(0.5537080146325241, 0.6136363636363636, 'X[0] <= -0.028\\ngini = 0.298\\nsamples = 11\\nvalue = [2, 9]'),\n",
       " Text(0.5523777851679414, 0.5681818181818182, 'gini = 0.0\\nsamples = 5\\nvalue = [0, 5]'),\n",
       " Text(0.5550382440971068, 0.5681818181818182, 'X[2] <= 3.058\\ngini = 0.444\\nsamples = 6\\nvalue = [2, 4]'),\n",
       " Text(0.5537080146325241, 0.5227272727272727, 'X[1] <= -0.693\\ngini = 0.444\\nsamples = 3\\nvalue = [2, 1]'),\n",
       " Text(0.5523777851679414, 0.4772727272727273, 'gini = 0.0\\nsamples = 2\\nvalue = [2, 0]'),\n",
       " Text(0.5550382440971068, 0.4772727272727273, 'gini = 0.0\\nsamples = 1\\nvalue = [0, 1]'),\n",
       " Text(0.5563684735616894, 0.5227272727272727, 'gini = 0.0\\nsamples = 3\\nvalue = [0, 3]'),\n",
       " Text(0.5563684735616894, 0.6136363636363636, 'gini = 0.0\\nsamples = 1\\nvalue = [1, 0]'),\n",
       " Text(0.7177990937811772, 0.8409090909090909, 'X[2] <= 0.489\\ngini = 0.468\\nsamples = 727\\nvalue = [271, 456]'),\n",
       " Text(0.633428250748254, 0.7954545454545454, 'X[2] <= -0.639\\ngini = 0.354\\nsamples = 452\\nvalue = [104, 348]'),\n",
       " Text(0.5779847023611573, 0.75, 'X[1] <= -0.713\\ngini = 0.155\\nsamples = 154\\nvalue = [13, 141]'),\n",
       " Text(0.5766544728965747, 0.7045454545454546, 'gini = 0.0\\nsamples = 40\\nvalue = [0, 40]'),\n",
       " Text(0.5793149318257399, 0.7045454545454546, 'X[0] <= 1.147\\ngini = 0.202\\nsamples = 114\\nvalue = [13, 101]'),\n",
       " Text(0.5683405387429331, 0.6590909090909091, 'X[1] <= -0.63\\ngini = 0.282\\nsamples = 59\\nvalue = [10, 49]'),\n",
       " Text(0.5630196208846026, 0.6136363636363636, 'X[2] <= -0.827\\ngini = 0.444\\nsamples = 15\\nvalue = [5, 10]'),\n",
       " Text(0.5603591619554373, 0.5681818181818182, 'X[2] <= -1.015\\ngini = 0.298\\nsamples = 11\\nvalue = [2, 9]'),\n",
       " Text(0.5590289324908547, 0.5227272727272727, 'gini = 0.0\\nsamples = 5\\nvalue = [0, 5]'),\n",
       " Text(0.56168939142002, 0.5227272727272727, 'X[1] <= -0.687\\ngini = 0.444\\nsamples = 6\\nvalue = [2, 4]'),\n",
       " Text(0.5603591619554373, 0.4772727272727273, 'gini = 0.0\\nsamples = 1\\nvalue = [1, 0]'),\n",
       " Text(0.5630196208846026, 0.4772727272727273, 'X[0] <= 0.727\\ngini = 0.32\\nsamples = 5\\nvalue = [1, 4]'),\n",
       " Text(0.56168939142002, 0.4318181818181818, 'gini = 0.0\\nsamples = 3\\nvalue = [0, 3]'),\n",
       " Text(0.5643498503491853, 0.4318181818181818, 'X[0] <= 0.937\\ngini = 0.5\\nsamples = 2\\nvalue = [1, 1]'),\n",
       " Text(0.5630196208846026, 0.38636363636363635, 'gini = 0.0\\nsamples = 1\\nvalue = [1, 0]'),\n",
       " Text(0.5656800798137679, 0.38636363636363635, 'gini = 0.0\\nsamples = 1\\nvalue = [0, 1]'),\n",
       " Text(0.5656800798137679, 0.5681818181818182, 'X[0] <= 0.685\\ngini = 0.375\\nsamples = 4\\nvalue = [3, 1]'),\n",
       " Text(0.5643498503491853, 0.5227272727272727, 'gini = 0.0\\nsamples = 1\\nvalue = [0, 1]'),\n",
       " Text(0.5670103092783505, 0.5227272727272727, 'gini = 0.0\\nsamples = 3\\nvalue = [3, 0]'),\n",
       " Text(0.5736614566012637, 0.6136363636363636, 'X[2] <= -1.579\\ngini = 0.201\\nsamples = 44\\nvalue = [5, 39]'),\n",
       " Text(0.5710009976720984, 0.5681818181818182, 'X[0] <= 0.643\\ngini = 0.49\\nsamples = 7\\nvalue = [3, 4]'),\n",
       " Text(0.5696707682075158, 0.5227272727272727, 'X[1] <= -0.463\\ngini = 0.375\\nsamples = 4\\nvalue = [3, 1]'),\n",
       " Text(0.5683405387429331, 0.4772727272727273, 'gini = 0.0\\nsamples = 1\\nvalue = [0, 1]'),\n",
       " Text(0.5710009976720984, 0.4772727272727273, 'gini = 0.0\\nsamples = 3\\nvalue = [3, 0]'),\n",
       " Text(0.572331227136681, 0.5227272727272727, 'gini = 0.0\\nsamples = 3\\nvalue = [0, 3]'),\n",
       " Text(0.576321915530429, 0.5681818181818182, 'X[0] <= 0.755\\ngini = 0.102\\nsamples = 37\\nvalue = [2, 35]'),\n",
       " Text(0.5749916860658464, 0.5227272727272727, 'gini = 0.0\\nsamples = 20\\nvalue = [0, 20]'),\n",
       " Text(0.5776521449950116, 0.5227272727272727, 'X[0] <= 0.895\\ngini = 0.208\\nsamples = 17\\nvalue = [2, 15]'),\n",
       " Text(0.576321915530429, 0.4772727272727273, 'X[2] <= -1.015\\ngini = 0.408\\nsamples = 7\\nvalue = [2, 5]'),\n",
       " Text(0.5749916860658464, 0.4318181818181818, 'X[2] <= -1.171\\ngini = 0.5\\nsamples = 4\\nvalue = [2, 2]'),\n",
       " Text(0.5736614566012637, 0.38636363636363635, 'gini = 0.0\\nsamples = 2\\nvalue = [0, 2]'),\n",
       " Text(0.576321915530429, 0.38636363636363635, 'gini = 0.0\\nsamples = 2\\nvalue = [2, 0]'),\n",
       " Text(0.5776521449950116, 0.4318181818181818, 'gini = 0.0\\nsamples = 3\\nvalue = [0, 3]'),\n",
       " Text(0.5789823744595943, 0.4772727272727273, 'gini = 0.0\\nsamples = 10\\nvalue = [0, 10]'),\n",
       " Text(0.5902893249085467, 0.6590909090909091, 'X[2] <= -0.701\\ngini = 0.103\\nsamples = 55\\nvalue = [3, 52]'),\n",
       " Text(0.5869637512470901, 0.6136363636363636, 'X[0] <= 2.364\\ngini = 0.075\\nsamples = 51\\nvalue = [2, 49]'),\n",
       " Text(0.5843032923179249, 0.5681818181818182, 'X[0] <= 1.301\\ngini = 0.042\\nsamples = 47\\nvalue = [1, 46]'),\n",
       " Text(0.5829730628533422, 0.5227272727272727, 'X[1] <= -0.536\\ngini = 0.153\\nsamples = 12\\nvalue = [1, 11]'),\n",
       " Text(0.5816428333887596, 0.4772727272727273, 'gini = 0.0\\nsamples = 6\\nvalue = [0, 6]'),\n",
       " Text(0.5843032923179249, 0.4772727272727273, 'X[1] <= -0.505\\ngini = 0.278\\nsamples = 6\\nvalue = [1, 5]'),\n",
       " Text(0.5829730628533422, 0.4318181818181818, 'gini = 0.0\\nsamples = 1\\nvalue = [1, 0]'),\n",
       " Text(0.5856335217825075, 0.4318181818181818, 'gini = 0.0\\nsamples = 5\\nvalue = [0, 5]'),\n",
       " Text(0.5856335217825075, 0.5227272727272727, 'gini = 0.0\\nsamples = 35\\nvalue = [0, 35]'),\n",
       " Text(0.5896242101762554, 0.5681818181818182, 'X[1] <= -0.432\\ngini = 0.375\\nsamples = 4\\nvalue = [1, 3]'),\n",
       " Text(0.5882939807116727, 0.5227272727272727, 'gini = 0.0\\nsamples = 3\\nvalue = [0, 3]'),\n",
       " Text(0.590954439640838, 0.5227272727272727, 'gini = 0.0\\nsamples = 1\\nvalue = [1, 0]'),\n",
       " Text(0.5936148985700034, 0.6136363636363636, 'X[1] <= -0.693\\ngini = 0.375\\nsamples = 4\\nvalue = [1, 3]'),\n",
       " Text(0.5922846691054207, 0.5681818181818182, 'gini = 0.0\\nsamples = 1\\nvalue = [1, 0]'),\n",
       " Text(0.594945128034586, 0.5681818181818182, 'gini = 0.0\\nsamples = 3\\nvalue = [0, 3]'),\n",
       " Text(0.6888717991353508, 0.75, 'X[0] <= 1.735\\ngini = 0.424\\nsamples = 298\\nvalue = [91, 207]'),\n",
       " Text(0.6620801463252411, 0.7045454545454546, 'X[1] <= -0.521\\ngini = 0.475\\nsamples = 216\\nvalue = [84, 132]'),\n",
       " Text(0.624792151646159, 0.6590909090909091, 'X[1] <= -0.734\\ngini = 0.497\\nsamples = 161\\nvalue = [74, 87]'),\n",
       " Text(0.6002660458929165, 0.6136363636363636, 'X[2] <= -0.451\\ngini = 0.387\\nsamples = 42\\nvalue = [11, 31]'),\n",
       " Text(0.5976055869637512, 0.5681818181818182, 'X[0] <= 1.063\\ngini = 0.444\\nsamples = 6\\nvalue = [4, 2]'),\n",
       " Text(0.5962753574991686, 0.5227272727272727, 'gini = 0.0\\nsamples = 4\\nvalue = [4, 0]'),\n",
       " Text(0.5989358164283339, 0.5227272727272727, 'gini = 0.0\\nsamples = 2\\nvalue = [0, 2]'),\n",
       " Text(0.6029265048220818, 0.5681818181818182, 'X[1] <= -0.776\\ngini = 0.313\\nsamples = 36\\nvalue = [7, 29]'),\n",
       " Text(0.6015962753574992, 0.5227272727272727, 'gini = 0.0\\nsamples = 14\\nvalue = [0, 14]'),\n",
       " Text(0.6042567342866645, 0.5227272727272727, 'X[0] <= 0.685\\ngini = 0.434\\nsamples = 22\\nvalue = [7, 15]'),\n",
       " Text(0.6029265048220818, 0.4772727272727273, 'gini = 0.0\\nsamples = 2\\nvalue = [2, 0]'),\n",
       " Text(0.6055869637512471, 0.4772727272727273, 'X[2] <= 0.176\\ngini = 0.375\\nsamples = 20\\nvalue = [5, 15]'),\n",
       " Text(0.6042567342866645, 0.4318181818181818, 'X[0] <= 1.231\\ngini = 0.473\\nsamples = 13\\nvalue = [5, 8]'),\n",
       " Text(0.6015962753574992, 0.38636363636363635, 'X[0] <= 0.895\\ngini = 0.346\\nsamples = 9\\nvalue = [2, 7]'),\n",
       " Text(0.6002660458929165, 0.3409090909090909, 'X[2] <= -0.169\\ngini = 0.5\\nsamples = 4\\nvalue = [2, 2]'),\n",
       " Text(0.5989358164283339, 0.29545454545454547, 'gini = 0.0\\nsamples = 1\\nvalue = [1, 0]'),\n",
       " Text(0.6015962753574992, 0.29545454545454547, 'X[2] <= 0.113\\ngini = 0.444\\nsamples = 3\\nvalue = [1, 2]'),\n",
       " Text(0.6002660458929165, 0.25, 'gini = 0.0\\nsamples = 2\\nvalue = [0, 2]'),\n",
       " Text(0.6029265048220818, 0.25, 'gini = 0.0\\nsamples = 1\\nvalue = [1, 0]'),\n",
       " Text(0.6029265048220818, 0.3409090909090909, 'gini = 0.0\\nsamples = 5\\nvalue = [0, 5]'),\n",
       " Text(0.6069171932158297, 0.38636363636363635, 'X[2] <= -0.2\\ngini = 0.375\\nsamples = 4\\nvalue = [3, 1]'),\n",
       " Text(0.6055869637512471, 0.3409090909090909, 'gini = 0.0\\nsamples = 1\\nvalue = [0, 1]'),\n",
       " Text(0.6082474226804123, 0.3409090909090909, 'gini = 0.0\\nsamples = 3\\nvalue = [3, 0]'),\n",
       " Text(0.6069171932158297, 0.4318181818181818, 'gini = 0.0\\nsamples = 7\\nvalue = [0, 7]'),\n",
       " Text(0.6493182573994014, 0.6136363636363636, 'X[0] <= 1.483\\ngini = 0.498\\nsamples = 119\\nvalue = [63, 56]'),\n",
       " Text(0.6278683072830064, 0.5681818181818182, 'X[1] <= -0.708\\ngini = 0.489\\nsamples = 89\\nvalue = [51, 38]'),\n",
       " Text(0.6175590289324908, 0.5227272727272727, 'X[2] <= -0.075\\ngini = 0.388\\nsamples = 19\\nvalue = [14, 5]'),\n",
       " Text(0.6148985700033256, 0.4772727272727273, 'X[2] <= -0.263\\ngini = 0.5\\nsamples = 8\\nvalue = [4, 4]'),\n",
       " Text(0.613568340538743, 0.4318181818181818, 'X[0] <= 0.895\\ngini = 0.444\\nsamples = 6\\nvalue = [4, 2]'),\n",
       " Text(0.6122381110741603, 0.38636363636363635, 'X[2] <= -0.513\\ngini = 0.32\\nsamples = 5\\nvalue = [4, 1]'),\n",
       " ...]"
      ]
     },
     "execution_count": 91,
     "metadata": {},
     "output_type": "execute_result"
    },
    {
     "data": {
      "image/png": "[encoded data removed]",
      "text/plain": [
       "<Figure size 640x480 with 1 Axes>"
      ]
     },
     "metadata": {},
     "output_type": "display_data"
    }
   ],
   "source": [
    "plot_tree(dt)"
   ]
  },
  {
   "cell_type": "code",
   "execution_count": 92,
   "id": "d7dd4c48",
   "metadata": {},
   "outputs": [],
   "source": [
    "plt.show()"
   ]
  },
  {
   "cell_type": "code",
   "execution_count": 93,
   "id": "5665315b",
   "metadata": {},
   "outputs": [
    {
     "data": {
      "text/plain": [
       "<Figure size 1000x700 with 0 Axes>"
      ]
     },
     "execution_count": 93,
     "metadata": {},
     "output_type": "execute_result"
    },
    {
     "data": {
      "text/plain": [
       "<Figure size 1000x700 with 0 Axes>"
      ]
     },
     "metadata": {},
     "output_type": "display_data"
    }
   ],
   "source": [
    "plt.figure(figsize = (10,7))"
   ]
  },
  {
   "cell_type": "code",
   "execution_count": 94,
   "id": "612113a9",
   "metadata": {},
   "outputs": [
    {
     "data": {
      "text/plain": [
       "[Text(0.5, 0.8333333333333334, 'sugar <= -0.239\\ngini = 0.367\\nsamples = 5197\\nvalue = [1258, 3939]'),\n",
       " Text(0.25, 0.5, 'sugar <= -0.802\\ngini = 0.481\\nsamples = 2922\\nvalue = [1177, 1745]'),\n",
       " Text(0.125, 0.16666666666666666, '\\n  (...)  \\n'),\n",
       " Text(0.375, 0.16666666666666666, '\\n  (...)  \\n'),\n",
       " Text(0.75, 0.5, 'sugar <= 0.204\\ngini = 0.069\\nsamples = 2275\\nvalue = [81, 2194]'),\n",
       " Text(0.625, 0.16666666666666666, '\\n  (...)  \\n'),\n",
       " Text(0.875, 0.16666666666666666, '\\n  (...)  \\n')]"
      ]
     },
     "execution_count": 94,
     "metadata": {},
     "output_type": "execute_result"
    },
    {
     "data": {
      "image/png": "[encoded data removed]",
      "text/plain": [
       "<Figure size 640x480 with 1 Axes>"
      ]
     },
     "metadata": {},
     "output_type": "display_data"
    }
   ],
   "source": [
    "plot_tree(dt, max_depth = 1, filled=True, feature_names = ['alchol', 'sugar', 'PH'])"
   ]
  },
  {
   "cell_type": "code",
   "execution_count": 95,
   "id": "4a90cb0f",
   "metadata": {},
   "outputs": [],
   "source": [
    "plt.show()"
   ]
  },
  {
   "cell_type": "code",
   "execution_count": 96,
   "id": "4537d285",
   "metadata": {},
   "outputs": [
    {
     "data": {
      "text/plain": [
       "<Figure size 2000x1500 with 0 Axes>"
      ]
     },
     "execution_count": 96,
     "metadata": {},
     "output_type": "execute_result"
    },
    {
     "data": {
      "text/plain": [
       "<Figure size 2000x1500 with 0 Axes>"
      ]
     },
     "metadata": {},
     "output_type": "display_data"
    }
   ],
   "source": [
    "plt.figure(figsize = (20,15))"
   ]
  },
  {
   "cell_type": "code",
   "execution_count": 97,
   "id": "f50679da",
   "metadata": {},
   "outputs": [
    {
     "data": {
      "text/plain": [
       "[Text(0.6076222132082433, 0.9772727272727273, 'sugar <= -0.239\\ngini = 0.367\\nsamples = 5197\\nvalue = [1258, 3939]'),\n",
       " Text(0.2956869355618141, 0.9318181818181818, 'sugar <= -0.802\\ngini = 0.481\\nsamples = 2922\\nvalue = [1177, 1745]'),\n",
       " Text(0.05751066521865647, 0.8863636363636364, 'sugar <= -0.854\\ngini = 0.184\\nsamples = 1054\\nvalue = [108, 946]'),\n",
       " Text(0.006651147322913203, 0.8409090909090909, 'PH <= 3.966\\ngini = 0.032\\nsamples = 555\\nvalue = [9, 546]'),\n",
       " Text(0.005320917858330562, 0.7954545454545454, 'PH <= -2.017\\ngini = 0.025\\nsamples = 553\\nvalue = [7, 546]'),\n",
       " Text(0.002660458929165281, 0.75, 'PH <= -2.08\\ngini = 0.219\\nsamples = 8\\nvalue = [1, 7]'),\n",
       " Text(0.0013302294645826404, 0.7045454545454546, 'gini = 0.0\\nsamples = 7\\nvalue = [0, 7]'),\n",
       " Text(0.0039906883937479215, 0.7045454545454546, 'gini = 0.0\\nsamples = 1\\nvalue = [1, 0]'),\n",
       " Text(0.007981376787495843, 0.75, 'sugar <= -0.896\\ngini = 0.022\\nsamples = 545\\nvalue = [6, 539]'),\n",
       " Text(0.006651147322913203, 0.7045454545454546, 'gini = 0.0\\nsamples = 263\\nvalue = [0, 263]'),\n",
       " Text(0.009311606252078483, 0.7045454545454546, 'alchol <= -0.952\\ngini = 0.042\\nsamples = 282\\nvalue = [6, 276]'),\n",
       " Text(0.0029930162953109413, 0.6590909090909091, 'PH <= -0.357\\ngini = 0.153\\nsamples = 24\\nvalue = [2, 22]'),\n",
       " Text(0.0016627868307283007, 0.6136363636363636, 'gini = 0.0\\nsamples = 16\\nvalue = [0, 16]'),\n",
       " Text(0.004323245759893582, 0.6136363636363636, 'PH <= -0.232\\ngini = 0.375\\nsamples = 8\\nvalue = [2, 6]'),\n",
       " Text(0.0029930162953109413, 0.5681818181818182, 'gini = 0.0\\nsamples = 1\\nvalue = [1, 0]'),\n",
       " Text(0.005653475224476222, 0.5681818181818182, 'alchol <= -1.036\\ngini = 0.245\\nsamples = 7\\nvalue = [1, 6]'),\n",
       " Text(0.004323245759893582, 0.5227272727272727, 'gini = 0.0\\nsamples = 6\\nvalue = [0, 6]'),\n",
       " Text(0.006983704689058862, 0.5227272727272727, 'gini = 0.0\\nsamples = 1\\nvalue = [1, 0]'),\n",
       " Text(0.015630196208846026, 0.6590909090909091, 'PH <= 0.426\\ngini = 0.031\\nsamples = 258\\nvalue = [4, 254]'),\n",
       " Text(0.012304622547389425, 0.6136363636363636, 'alchol <= -0.532\\ngini = 0.011\\nsamples = 175\\nvalue = [1, 174]'),\n",
       " Text(0.010974393082806785, 0.5681818181818182, 'alchol <= -0.616\\ngini = 0.087\\nsamples = 22\\nvalue = [1, 21]'),\n",
       " Text(0.009644163618224144, 0.5227272727272727, 'gini = 0.0\\nsamples = 17\\nvalue = [0, 17]'),\n",
       " Text(0.012304622547389425, 0.5227272727272727, 'sugar <= -0.88\\ngini = 0.32\\nsamples = 5\\nvalue = [1, 4]'),\n",
       " Text(0.010974393082806785, 0.4772727272727273, 'gini = 0.0\\nsamples = 3\\nvalue = [0, 3]'),\n",
       " Text(0.013634852011972065, 0.4772727272727273, 'PH <= -0.388\\ngini = 0.5\\nsamples = 2\\nvalue = [1, 1]'),\n",
       " Text(0.012304622547389425, 0.4318181818181818, 'gini = 0.0\\nsamples = 1\\nvalue = [0, 1]'),\n",
       " Text(0.014965081476554705, 0.4318181818181818, 'gini = 0.0\\nsamples = 1\\nvalue = [1, 0]'),\n",
       " Text(0.013634852011972065, 0.5681818181818182, 'gini = 0.0\\nsamples = 153\\nvalue = [0, 153]'),\n",
       " Text(0.018955769870302626, 0.6136363636363636, 'PH <= 0.489\\ngini = 0.07\\nsamples = 83\\nvalue = [3, 80]'),\n",
       " Text(0.016295310941137345, 0.5681818181818182, 'sugar <= -0.88\\ngini = 0.346\\nsamples = 9\\nvalue = [2, 7]'),\n",
       " Text(0.014965081476554705, 0.5227272727272727, 'gini = 0.0\\nsamples = 2\\nvalue = [2, 0]'),\n",
       " Text(0.017625540405719987, 0.5227272727272727, 'gini = 0.0\\nsamples = 7\\nvalue = [0, 7]'),\n",
       " Text(0.02161622879946791, 0.5681818181818182, 'alchol <= -0.364\\ngini = 0.027\\nsamples = 74\\nvalue = [1, 73]'),\n",
       " Text(0.020285999334885268, 0.5227272727272727, 'alchol <= -0.448\\ngini = 0.133\\nsamples = 14\\nvalue = [1, 13]'),\n",
       " Text(0.018955769870302626, 0.4772727272727273, 'gini = 0.0\\nsamples = 9\\nvalue = [0, 9]'),\n",
       " Text(0.02161622879946791, 0.4772727272727273, 'sugar <= -0.88\\ngini = 0.32\\nsamples = 5\\nvalue = [1, 4]'),\n",
       " Text(0.020285999334885268, 0.4318181818181818, 'gini = 0.0\\nsamples = 1\\nvalue = [1, 0]'),\n",
       " Text(0.022946458264050548, 0.4318181818181818, 'gini = 0.0\\nsamples = 4\\nvalue = [0, 4]'),\n",
       " Text(0.022946458264050548, 0.5227272727272727, 'gini = 0.0\\nsamples = 60\\nvalue = [0, 60]'),\n",
       " Text(0.007981376787495843, 0.7954545454545454, 'gini = 0.0\\nsamples = 2\\nvalue = [2, 0]'),\n",
       " Text(0.10837018311439973, 0.8409090909090909, 'alchol <= -0.35\\ngini = 0.318\\nsamples = 499\\nvalue = [99, 400]'),\n",
       " Text(0.059694047223145995, 0.7954545454545454, 'PH <= 0.176\\ngini = 0.47\\nsamples = 154\\nvalue = [58, 96]'),\n",
       " Text(0.04173594945128035, 0.75, 'alchol <= -0.392\\ngini = 0.329\\nsamples = 77\\nvalue = [16, 61]'),\n",
       " Text(0.0404057199866977, 0.7045454545454546, 'PH <= -2.08\\ngini = 0.317\\nsamples = 76\\nvalue = [15, 61]'),\n",
       " Text(0.039075490522115064, 0.6590909090909091, 'gini = 0.0\\nsamples = 1\\nvalue = [1, 0]'),\n",
       " Text(0.04173594945128035, 0.6590909090909091, 'sugar <= -0.818\\ngini = 0.304\\nsamples = 75\\nvalue = [14, 61]'),\n",
       " Text(0.03192550714998337, 0.6136363636363636, 'PH <= -1.14\\ngini = 0.226\\nsamples = 54\\nvalue = [7, 47]'),\n",
       " Text(0.02693714665779847, 0.5681818181818182, 'PH <= -1.328\\ngini = 0.42\\nsamples = 10\\nvalue = [3, 7]'),\n",
       " Text(0.02560691719321583, 0.5227272727272727, 'gini = 0.0\\nsamples = 6\\nvalue = [0, 6]'),\n",
       " Text(0.02826737612238111, 0.5227272727272727, 'sugar <= -0.839\\ngini = 0.375\\nsamples = 4\\nvalue = [3, 1]'),\n",
       " Text(0.02693714665779847, 0.4772727272727273, 'alchol <= -1.036\\ngini = 0.5\\nsamples = 2\\nvalue = [1, 1]'),\n",
       " Text(0.02560691719321583, 0.4318181818181818, 'gini = 0.0\\nsamples = 1\\nvalue = [1, 0]'),\n",
       " Text(0.02826737612238111, 0.4318181818181818, 'gini = 0.0\\nsamples = 1\\nvalue = [0, 1]'),\n",
       " Text(0.02959760558696375, 0.4772727272727273, 'gini = 0.0\\nsamples = 2\\nvalue = [2, 0]'),\n",
       " Text(0.03691386764216827, 0.5681818181818182, 'alchol <= -1.119\\ngini = 0.165\\nsamples = 44\\nvalue = [4, 40]'),\n",
       " Text(0.03358829398071167, 0.5227272727272727, 'PH <= -0.576\\ngini = 0.375\\nsamples = 4\\nvalue = [1, 3]'),\n",
       " Text(0.03225806451612903, 0.4772727272727273, 'sugar <= -0.839\\ngini = 0.5\\nsamples = 2\\nvalue = [1, 1]'),\n",
       " Text(0.030927835051546393, 0.4318181818181818, 'gini = 0.0\\nsamples = 1\\nvalue = [1, 0]'),\n",
       " Text(0.03358829398071167, 0.4318181818181818, 'gini = 0.0\\nsamples = 1\\nvalue = [0, 1]'),\n",
       " Text(0.034918523445294315, 0.4772727272727273, 'gini = 0.0\\nsamples = 2\\nvalue = [0, 2]'),\n",
       " Text(0.040239441303624876, 0.5227272727272727, 'sugar <= -0.839\\ngini = 0.139\\nsamples = 40\\nvalue = [3, 37]'),\n",
       " Text(0.03757898237445959, 0.4772727272727273, 'PH <= -0.639\\ngini = 0.077\\nsamples = 25\\nvalue = [1, 24]'),\n",
       " Text(0.036248752909876954, 0.4318181818181818, 'alchol <= -0.49\\ngini = 0.375\\nsamples = 4\\nvalue = [1, 3]'),\n",
       " Text(0.034918523445294315, 0.38636363636363635, 'gini = 0.0\\nsamples = 3\\nvalue = [0, 3]'),\n",
       " Text(0.03757898237445959, 0.38636363636363635, 'gini = 0.0\\nsamples = 1\\nvalue = [1, 0]'),\n",
       " Text(0.03890921183904224, 0.4318181818181818, 'gini = 0.0\\nsamples = 21\\nvalue = [0, 21]'),\n",
       " Text(0.04289990023279015, 0.4772727272727273, 'PH <= -0.419\\ngini = 0.231\\nsamples = 15\\nvalue = [2, 13]'),\n",
       " Text(0.041569670768207514, 0.4318181818181818, 'gini = 0.0\\nsamples = 7\\nvalue = [0, 7]'),\n",
       " Text(0.0442301296973728, 0.4318181818181818, 'PH <= -0.294\\ngini = 0.375\\nsamples = 8\\nvalue = [2, 6]'),\n",
       " Text(0.04289990023279015, 0.38636363636363635, 'gini = 0.0\\nsamples = 1\\nvalue = [1, 0]'),\n",
       " Text(0.04556035916195544, 0.38636363636363635, 'PH <= -0.075\\ngini = 0.245\\nsamples = 7\\nvalue = [1, 6]'),\n",
       " Text(0.0442301296973728, 0.3409090909090909, 'PH <= -0.138\\ngini = 0.444\\nsamples = 3\\nvalue = [1, 2]'),\n",
       " Text(0.04289990023279015, 0.29545454545454547, 'gini = 0.0\\nsamples = 2\\nvalue = [0, 2]'),\n",
       " Text(0.04556035916195544, 0.29545454545454547, 'gini = 0.0\\nsamples = 1\\nvalue = [1, 0]'),\n",
       " Text(0.046890588626538075, 0.3409090909090909, 'gini = 0.0\\nsamples = 4\\nvalue = [0, 4]'),\n",
       " Text(0.05154639175257732, 0.6136363636363636, 'PH <= -0.639\\ngini = 0.444\\nsamples = 21\\nvalue = [7, 14]'),\n",
       " Text(0.04822081809112072, 0.5681818181818182, 'alchol <= -0.868\\ngini = 0.219\\nsamples = 8\\nvalue = [1, 7]'),\n",
       " Text(0.046890588626538075, 0.5227272727272727, 'alchol <= -1.036\\ngini = 0.444\\nsamples = 3\\nvalue = [1, 2]'),\n",
       " Text(0.04556035916195544, 0.4772727272727273, 'gini = 0.0\\nsamples = 1\\nvalue = [0, 1]'),\n",
       " Text(0.04822081809112072, 0.4772727272727273, 'gini = 0.5\\nsamples = 2\\nvalue = [1, 1]'),\n",
       " Text(0.04955104755570336, 0.5227272727272727, 'gini = 0.0\\nsamples = 5\\nvalue = [0, 5]'),\n",
       " Text(0.05487196541403392, 0.5681818181818182, 'PH <= -0.263\\ngini = 0.497\\nsamples = 13\\nvalue = [6, 7]'),\n",
       " Text(0.05221150648486864, 0.5227272727272727, 'PH <= -0.451\\ngini = 0.278\\nsamples = 6\\nvalue = [5, 1]'),\n",
       " Text(0.050881277020286, 0.4772727272727273, 'PH <= -0.545\\ngini = 0.5\\nsamples = 2\\nvalue = [1, 1]'),\n",
       " Text(0.04955104755570336, 0.4318181818181818, 'gini = 0.0\\nsamples = 1\\nvalue = [1, 0]'),\n",
       " Text(0.05221150648486864, 0.4318181818181818, 'gini = 0.0\\nsamples = 1\\nvalue = [0, 1]'),\n",
       " Text(0.05354173594945128, 0.4772727272727273, 'gini = 0.0\\nsamples = 4\\nvalue = [4, 0]'),\n",
       " Text(0.057532424343199204, 0.5227272727272727, 'alchol <= -0.448\\ngini = 0.245\\nsamples = 7\\nvalue = [1, 6]'),\n",
       " Text(0.05620219487861656, 0.4772727272727273, 'gini = 0.0\\nsamples = 6\\nvalue = [0, 6]'),\n",
       " Text(0.05886265380778184, 0.4772727272727273, 'gini = 0.0\\nsamples = 1\\nvalue = [1, 0]'),\n",
       " Text(0.043066178915862986, 0.7045454545454546, 'gini = 0.0\\nsamples = 1\\nvalue = [1, 0]'),\n",
       " Text(0.07765214499501163, 0.75, 'alchol <= -0.763\\ngini = 0.496\\nsamples = 77\\nvalue = [42, 35]'),\n",
       " Text(0.06950448952444296, 0.7045454545454546, 'PH <= 2.431\\ngini = 0.415\\nsamples = 34\\nvalue = [24, 10]'),\n",
       " Text(0.06817426005986033, 0.6590909090909091, 'sugar <= -0.812\\ngini = 0.397\\nsamples = 33\\nvalue = [24, 9]'),\n",
       " Text(0.06418357166611241, 0.6136363636363636, 'PH <= 0.802\\ngini = 0.484\\nsamples = 17\\nvalue = [10, 7]'),\n",
       " Text(0.061523112736947126, 0.5681818181818182, 'alchol <= -0.952\\ngini = 0.469\\nsamples = 8\\nvalue = [3, 5]'),\n",
       " Text(0.06019288327236448, 0.5227272727272727, 'gini = 0.0\\nsamples = 3\\nvalue = [3, 0]'),\n",
       " Text(0.06285334220152976, 0.5227272727272727, 'gini = 0.0\\nsamples = 5\\nvalue = [0, 5]'),\n",
       " Text(0.06684403059527769, 0.5681818181818182, 'alchol <= -0.868\\ngini = 0.346\\nsamples = 9\\nvalue = [7, 2]'),\n",
       " Text(0.06551380113069505, 0.5227272727272727, 'sugar <= -0.839\\ngini = 0.444\\nsamples = 3\\nvalue = [1, 2]'),\n",
       " Text(0.06418357166611241, 0.4772727272727273, 'gini = 0.0\\nsamples = 1\\nvalue = [0, 1]'),\n",
       " Text(0.06684403059527769, 0.4772727272727273, 'PH <= 1.585\\ngini = 0.5\\nsamples = 2\\nvalue = [1, 1]'),\n",
       " Text(0.06551380113069505, 0.4318181818181818, 'gini = 0.0\\nsamples = 1\\nvalue = [1, 0]'),\n",
       " Text(0.06817426005986033, 0.4318181818181818, 'gini = 0.0\\nsamples = 1\\nvalue = [0, 1]'),\n",
       " Text(0.06817426005986033, 0.5227272727272727, 'gini = 0.0\\nsamples = 6\\nvalue = [6, 0]'),\n",
       " Text(0.07216494845360824, 0.6136363636363636, 'alchol <= -1.036\\ngini = 0.219\\nsamples = 16\\nvalue = [14, 2]'),\n",
       " Text(0.0708347189890256, 0.5681818181818182, 'gini = 0.0\\nsamples = 6\\nvalue = [6, 0]'),\n",
       " Text(0.0734951779181909, 0.5681818181818182, 'alchol <= -0.952\\ngini = 0.32\\nsamples = 10\\nvalue = [8, 2]'),\n",
       " Text(0.0708347189890256, 0.5227272727272727, 'PH <= 0.614\\ngini = 0.5\\nsamples = 2\\nvalue = [1, 1]'),\n",
       " Text(0.06950448952444296, 0.4772727272727273, 'gini = 0.0\\nsamples = 1\\nvalue = [1, 0]'),\n",
       " Text(0.07216494845360824, 0.4772727272727273, 'gini = 0.0\\nsamples = 1\\nvalue = [0, 1]'),\n",
       " Text(0.07615563684735617, 0.5227272727272727, 'PH <= 0.552\\ngini = 0.219\\nsamples = 8\\nvalue = [7, 1]'),\n",
       " Text(0.07482540738277353, 0.4772727272727273, 'alchol <= -0.868\\ngini = 0.444\\nsamples = 3\\nvalue = [2, 1]'),\n",
       " Text(0.0734951779181909, 0.4318181818181818, 'gini = 0.0\\nsamples = 1\\nvalue = [1, 0]'),\n",
       " Text(0.07615563684735617, 0.4318181818181818, 'PH <= 0.364\\ngini = 0.5\\nsamples = 2\\nvalue = [1, 1]'),\n",
       " Text(0.07482540738277353, 0.38636363636363635, 'gini = 0.0\\nsamples = 1\\nvalue = [1, 0]'),\n",
       " Text(0.07748586631193881, 0.38636363636363635, 'gini = 0.0\\nsamples = 1\\nvalue = [0, 1]'),\n",
       " Text(0.07748586631193881, 0.4772727272727273, 'gini = 0.0\\nsamples = 5\\nvalue = [5, 0]'),\n",
       " Text(0.0708347189890256, 0.6590909090909091, 'gini = 0.0\\nsamples = 1\\nvalue = [0, 1]'),\n",
       " Text(0.0857998004655803, 0.7045454545454546, 'PH <= 0.395\\ngini = 0.487\\nsamples = 43\\nvalue = [18, 25]'),\n",
       " Text(0.08014632524110409, 0.6590909090909091, 'PH <= 0.238\\ngini = 0.48\\nsamples = 10\\nvalue = [6, 4]'),\n",
       " Text(0.07748586631193881, 0.6136363636363636, 'alchol <= -0.574\\ngini = 0.444\\nsamples = 3\\nvalue = [1, 2]'),\n",
       " Text(0.07615563684735617, 0.5681818181818182, 'gini = 0.0\\nsamples = 2\\nvalue = [0, 2]'),\n",
       " Text(0.07881609577652145, 0.5681818181818182, 'gini = 0.0\\nsamples = 1\\nvalue = [1, 0]'),\n",
       " Text(0.08280678417026938, 0.6136363636363636, 'alchol <= -0.532\\ngini = 0.408\\nsamples = 7\\nvalue = [5, 2]'),\n",
       " Text(0.08147655470568674, 0.5681818181818182, 'gini = 0.0\\nsamples = 4\\nvalue = [4, 0]'),\n",
       " Text(0.08413701363485201, 0.5681818181818182, 'sugar <= -0.828\\ngini = 0.444\\nsamples = 3\\nvalue = [1, 2]'),\n",
       " Text(0.08280678417026938, 0.5227272727272727, 'gini = 0.0\\nsamples = 2\\nvalue = [0, 2]'),\n",
       " Text(0.08546724309943465, 0.5227272727272727, 'gini = 0.0\\nsamples = 1\\nvalue = [1, 0]'),\n",
       " Text(0.09145327569005654, 0.6590909090909091, 'PH <= 0.583\\ngini = 0.463\\nsamples = 33\\nvalue = [12, 21]'),\n",
       " Text(0.08812770202859993, 0.6136363636363636, 'alchol <= -0.7\\ngini = 0.245\\nsamples = 7\\nvalue = [1, 6]'),\n",
       " Text(0.08679747256401729, 0.5681818181818182, 'gini = 0.0\\nsamples = 6\\nvalue = [0, 6]'),\n",
       " Text(0.08945793149318257, 0.5681818181818182, 'gini = 0.0\\nsamples = 1\\nvalue = [1, 0]'),\n",
       " Text(0.09477884935151314, 0.6136363636363636, 'alchol <= -0.7\\ngini = 0.488\\nsamples = 26\\nvalue = [11, 15]'),\n",
       " Text(0.09211839042234786, 0.5681818181818182, 'sugar <= -0.839\\ngini = 0.32\\nsamples = 5\\nvalue = [4, 1]'),\n",
       " Text(0.09078816095776522, 0.5227272727272727, 'PH <= 0.708\\ngini = 0.444\\nsamples = 3\\nvalue = [2, 1]'),\n",
       " Text(0.08945793149318257, 0.4772727272727273, 'gini = 0.0\\nsamples = 2\\nvalue = [2, 0]'),\n",
       " Text(0.09211839042234786, 0.4772727272727273, 'gini = 0.0\\nsamples = 1\\nvalue = [0, 1]'),\n",
       " Text(0.0934486198869305, 0.5227272727272727, 'gini = 0.0\\nsamples = 2\\nvalue = [2, 0]'),\n",
       " Text(0.09743930828067841, 0.5681818181818182, 'alchol <= -0.616\\ngini = 0.444\\nsamples = 21\\nvalue = [7, 14]'),\n",
       " Text(0.09610907881609577, 0.5227272727272727, 'gini = 0.0\\nsamples = 5\\nvalue = [0, 5]'),\n",
       " Text(0.09876953774526105, 0.5227272727272727, 'PH <= 2.149\\ngini = 0.492\\nsamples = 16\\nvalue = [7, 9]'),\n",
       " Text(0.09743930828067841, 0.4772727272727273, 'PH <= 0.99\\ngini = 0.459\\nsamples = 14\\nvalue = [5, 9]'),\n",
       " Text(0.09610907881609577, 0.4318181818181818, 'gini = 0.0\\nsamples = 3\\nvalue = [0, 3]'),\n",
       " Text(0.09876953774526105, 0.4318181818181818, 'PH <= 1.899\\ngini = 0.496\\nsamples = 11\\nvalue = [5, 6]'),\n",
       " Text(0.09743930828067841, 0.38636363636363635, 'PH <= 1.742\\ngini = 0.5\\nsamples = 10\\nvalue = [5, 5]'),\n",
       " Text(0.09610907881609577, 0.3409090909090909, 'PH <= 1.178\\ngini = 0.494\\nsamples = 9\\nvalue = [4, 5]'),\n",
       " Text(0.0934486198869305, 0.29545454545454547, 'PH <= 1.084\\ngini = 0.48\\nsamples = 5\\nvalue = [3, 2]'),\n",
       " Text(0.09211839042234786, 0.25, 'alchol <= -0.532\\ngini = 0.5\\nsamples = 4\\nvalue = [2, 2]'),\n",
       " Text(0.09078816095776522, 0.20454545454545456, 'gini = 0.0\\nsamples = 1\\nvalue = [0, 1]'),\n",
       " Text(0.0934486198869305, 0.20454545454545456, 'alchol <= -0.448\\ngini = 0.444\\nsamples = 3\\nvalue = [2, 1]'),\n",
       " Text(0.09211839042234786, 0.1590909090909091, 'gini = 0.0\\nsamples = 1\\nvalue = [1, 0]'),\n",
       " Text(0.09477884935151314, 0.1590909090909091, 'gini = 0.5\\nsamples = 2\\nvalue = [1, 1]'),\n",
       " Text(0.09477884935151314, 0.25, 'gini = 0.0\\nsamples = 1\\nvalue = [1, 0]'),\n",
       " Text(0.09876953774526105, 0.29545454545454547, 'PH <= 1.241\\ngini = 0.375\\nsamples = 4\\nvalue = [1, 3]'),\n",
       " Text(0.09743930828067841, 0.25, 'gini = 0.0\\nsamples = 2\\nvalue = [0, 2]'),\n",
       " Text(0.1000997672098437, 0.25, 'PH <= 1.491\\ngini = 0.5\\nsamples = 2\\nvalue = [1, 1]'),\n",
       " Text(0.09876953774526105, 0.20454545454545456, 'gini = 0.0\\nsamples = 1\\nvalue = [1, 0]'),\n",
       " Text(0.10142999667442634, 0.20454545454545456, 'gini = 0.0\\nsamples = 1\\nvalue = [0, 1]'),\n",
       " Text(0.09876953774526105, 0.3409090909090909, 'gini = 0.0\\nsamples = 1\\nvalue = [1, 0]'),\n",
       " Text(0.1000997672098437, 0.38636363636363635, 'gini = 0.0\\nsamples = 1\\nvalue = [0, 1]'),\n",
       " Text(0.1000997672098437, 0.4772727272727273, 'gini = 0.0\\nsamples = 2\\nvalue = [2, 0]'),\n",
       " Text(0.15704631900565347, 0.7954545454545454, 'PH <= 1.429\\ngini = 0.209\\nsamples = 345\\nvalue = [41, 304]'),\n",
       " Text(0.1391674634186897, 0.75, 'alchol <= 1.231\\ngini = 0.154\\nsamples = 298\\nvalue = [25, 273]'),\n",
       " Text(0.13783723395410707, 0.7045454545454546, 'PH <= -0.576\\ngini = 0.196\\nsamples = 227\\nvalue = [25, 202]'),\n",
       " Text(0.12932324575989357, 0.6590909090909091, 'PH <= -1.829\\ngini = 0.083\\nsamples = 46\\nvalue = [2, 44]'),\n",
       " Text(0.1266627868307283, 0.6136363636363636, 'alchol <= 0.14\\ngini = 0.444\\nsamples = 3\\nvalue = [1, 2]'),\n",
       " Text(0.12533255736614565, 0.5681818181818182, 'gini = 0.0\\nsamples = 1\\nvalue = [1, 0]'),\n",
       " Text(0.12799301629531093, 0.5681818181818182, 'gini = 0.0\\nsamples = 2\\nvalue = [0, 2]'),\n",
       " Text(0.13198370468905887, 0.6136363636363636, 'alchol <= -0.028\\ngini = 0.045\\nsamples = 43\\nvalue = [1, 42]'),\n",
       " Text(0.13065347522447623, 0.5681818181818182, 'PH <= -0.889\\ngini = 0.142\\nsamples = 13\\nvalue = [1, 12]'),\n",
       " Text(0.12932324575989357, 0.5227272727272727, 'PH <= -0.952\\ngini = 0.278\\nsamples = 6\\nvalue = [1, 5]'),\n",
       " Text(0.12799301629531093, 0.4772727272727273, 'gini = 0.0\\nsamples = 5\\nvalue = [0, 5]'),\n",
       " Text(0.13065347522447623, 0.4772727272727273, 'gini = 0.0\\nsamples = 1\\nvalue = [1, 0]'),\n",
       " Text(0.13198370468905887, 0.5227272727272727, 'gini = 0.0\\nsamples = 7\\nvalue = [0, 7]'),\n",
       " Text(0.1333139341536415, 0.5681818181818182, 'gini = 0.0\\nsamples = 30\\nvalue = [0, 30]'),\n",
       " Text(0.14635122214832058, 0.6590909090909091, 'PH <= -0.451\\ngini = 0.222\\nsamples = 181\\nvalue = [23, 158]'),\n",
       " Text(0.1381568007981377, 0.6136363636363636, 'alchol <= -0.196\\ngini = 0.48\\nsamples = 5\\nvalue = [3, 2]'),\n",
       " Text(0.13682657133355502, 0.5681818181818182, 'gini = 0.0\\nsamples = 1\\nvalue = [0, 1]'),\n",
       " Text(0.13948703026272033, 0.5681818181818182, 'sugar <= -0.818\\ngini = 0.375\\nsamples = 4\\nvalue = [3, 1]'),\n",
       " Text(0.1381568007981377, 0.5227272727272727, 'gini = 0.0\\nsamples = 3\\nvalue = [3, 0]'),\n",
       " Text(0.14081725972730297, 0.5227272727272727, 'gini = 0.0\\nsamples = 1\\nvalue = [0, 1]'),\n",
       " Text(0.1545456434985035, 0.6136363636363636, 'alchol <= 1.063\\ngini = 0.201\\nsamples = 176\\nvalue = [20, 156]'),\n",
       " Text(0.14480794812105088, 0.5681818181818182, 'PH <= -0.263\\ngini = 0.189\\nsamples = 170\\nvalue = [18, 152]'),\n",
       " Text(0.14347771865646824, 0.5227272727272727, 'gini = 0.0\\nsamples = 14\\nvalue = [0, 14]'),\n",
       " Text(0.14613817758563352, 0.5227272727272727, 'PH <= 0.301\\ngini = 0.204\\nsamples = 156\\nvalue = [18, 138]'),\n",
       " Text(0.1333139341536415, 0.4772727272727273, 'alchol <= 0.643\\ngini = 0.274\\nsamples = 61\\nvalue = [10, 51]'),\n",
       " Text(0.12662121715996008, 0.4318181818181818, 'alchol <= 0.475\\ngini = 0.315\\nsamples = 46\\nvalue = [9, 37]'),\n",
       " Text(0.11988693049551047, 0.38636363636363635, 'alchol <= 0.14\\ngini = 0.266\\nsamples = 38\\nvalue = [6, 32]'),\n",
       " Text(0.11306950448952444, 0.3409090909090909, 'alchol <= -0.196\\ngini = 0.351\\nsamples = 22\\nvalue = [5, 17]'),\n",
       " Text(0.1067509145327569, 0.29545454545454547, 'sugar <= -0.818\\ngini = 0.198\\nsamples = 9\\nvalue = [1, 8]'),\n",
       " Text(0.10542068506817426, 0.25, 'PH <= -0.044\\ngini = 0.32\\nsamples = 5\\nvalue = [1, 4]'),\n",
       " Text(0.10409045560359162, 0.20454545454545456, 'gini = 0.0\\nsamples = 2\\nvalue = [0, 2]'),\n",
       " Text(0.1067509145327569, 0.20454545454545456, 'PH <= 0.05\\ngini = 0.444\\nsamples = 3\\nvalue = [1, 2]'),\n",
       " Text(0.10542068506817426, 0.1590909090909091, 'gini = 0.0\\nsamples = 1\\nvalue = [1, 0]'),\n",
       " Text(0.10808114399733953, 0.1590909090909091, 'gini = 0.0\\nsamples = 2\\nvalue = [0, 2]'),\n",
       " Text(0.10808114399733953, 0.25, 'gini = 0.0\\nsamples = 4\\nvalue = [0, 4]'),\n",
       " Text(0.11938809444629199, 0.29545454545454547, 'sugar <= -0.818\\ngini = 0.426\\nsamples = 13\\nvalue = [4, 9]'),\n",
       " Text(0.11473229132025274, 0.25, 'alchol <= -0.112\\ngini = 0.346\\nsamples = 9\\nvalue = [2, 7]'),\n",
       " Text(0.11207183239108746, 0.20454545454545456, 'sugar <= -0.839\\ngini = 0.5\\nsamples = 2\\nvalue = [1, 1]'),\n",
       " Text(0.11074160292650483, 0.1590909090909091, 'gini = 0.0\\nsamples = 1\\nvalue = [1, 0]'),\n",
       " Text(0.1134020618556701, 0.1590909090909091, 'gini = 0.0\\nsamples = 1\\nvalue = [0, 1]'),\n",
       " Text(0.11739275024941802, 0.20454545454545456, 'alchol <= 0.056\\ngini = 0.245\\nsamples = 7\\nvalue = [1, 6]'),\n",
       " Text(0.11606252078483538, 0.1590909090909091, 'gini = 0.0\\nsamples = 4\\nvalue = [0, 4]'),\n",
       " Text(0.11872297971400067, 0.1590909090909091, 'sugar <= -0.839\\ngini = 0.444\\nsamples = 3\\nvalue = [1, 2]'),\n",
       " Text(0.11739275024941802, 0.11363636363636363, 'gini = 0.0\\nsamples = 1\\nvalue = [0, 1]'),\n",
       " Text(0.12005320917858331, 0.11363636363636363, 'gini = 0.5\\nsamples = 2\\nvalue = [1, 1]'),\n",
       " Text(0.12404389757233122, 0.25, 'PH <= -0.012\\ngini = 0.5\\nsamples = 4\\nvalue = [2, 2]'),\n",
       " Text(0.12271366810774859, 0.20454545454545456, 'gini = 0.0\\nsamples = 1\\nvalue = [1, 0]'),\n",
       " Text(0.12537412703691386, 0.20454545454545456, 'alchol <= -0.07\\ngini = 0.444\\nsamples = 3\\nvalue = [1, 2]'),\n",
       " Text(0.12404389757233122, 0.1590909090909091, 'PH <= 0.144\\ngini = 0.5\\nsamples = 2\\nvalue = [1, 1]'),\n",
       " Text(0.12271366810774859, 0.11363636363636363, 'gini = 0.0\\nsamples = 1\\nvalue = [0, 1]'),\n",
       " Text(0.12537412703691386, 0.11363636363636363, 'gini = 0.0\\nsamples = 1\\nvalue = [1, 0]'),\n",
       " Text(0.1267043565014965, 0.1590909090909091, 'gini = 0.0\\nsamples = 1\\nvalue = [0, 1]'),\n",
       " Text(0.1267043565014965, 0.3409090909090909, 'sugar <= -0.818\\ngini = 0.117\\nsamples = 16\\nvalue = [1, 15]'),\n",
       " Text(0.12537412703691386, 0.29545454545454547, 'gini = 0.0\\nsamples = 8\\nvalue = [0, 8]'),\n",
       " Text(0.12803458596607914, 0.29545454545454547, 'PH <= 0.082\\ngini = 0.219\\nsamples = 8\\nvalue = [1, 7]'),\n",
       " Text(0.1267043565014965, 0.25, 'gini = 0.0\\nsamples = 6\\nvalue = [0, 6]'),\n",
       " Text(0.12936481543066178, 0.25, 'PH <= 0.176\\ngini = 0.5\\nsamples = 2\\nvalue = [1, 1]'),\n",
       " Text(0.12803458596607914, 0.20454545454545456, 'gini = 0.0\\nsamples = 1\\nvalue = [1, 0]'),\n",
       " Text(0.13069504489524442, 0.20454545454545456, 'gini = 0.0\\nsamples = 1\\nvalue = [0, 1]'),\n",
       " Text(0.13335550382440972, 0.38636363636363635, 'sugar <= -0.839\\ngini = 0.469\\nsamples = 8\\nvalue = [3, 5]'),\n",
       " Text(0.13202527435982708, 0.3409090909090909, 'gini = 0.0\\nsamples = 3\\nvalue = [0, 3]'),\n",
       " Text(0.13468573328899236, 0.3409090909090909, 'alchol <= 0.559\\ngini = 0.48\\nsamples = 5\\nvalue = [3, 2]'),\n",
       " Text(0.13335550382440972, 0.29545454545454547, 'sugar <= -0.818\\ngini = 0.5\\nsamples = 4\\nvalue = [2, 2]'),\n",
       " Text(0.13202527435982708, 0.25, 'gini = 0.5\\nsamples = 2\\nvalue = [1, 1]'),\n",
       " Text(0.13468573328899236, 0.25, 'gini = 0.5\\nsamples = 2\\nvalue = [1, 1]'),\n",
       " Text(0.136015962753575, 0.29545454545454547, 'gini = 0.0\\nsamples = 1\\nvalue = [1, 0]'),\n",
       " Text(0.1400066511473229, 0.4318181818181818, 'sugar <= -0.839\\ngini = 0.124\\nsamples = 15\\nvalue = [1, 14]'),\n",
       " Text(0.13867642168274028, 0.38636363636363635, 'alchol <= 0.727\\ngini = 0.32\\nsamples = 5\\nvalue = [1, 4]'),\n",
       " Text(0.13734619221815764, 0.3409090909090909, 'gini = 0.0\\nsamples = 3\\nvalue = [0, 3]'),\n",
       " Text(0.1400066511473229, 0.3409090909090909, 'alchol <= 0.895\\ngini = 0.5\\nsamples = 2\\nvalue = [1, 1]'),\n",
       " Text(0.13867642168274028, 0.29545454545454547, 'gini = 0.0\\nsamples = 1\\nvalue = [1, 0]'),\n",
       " Text(0.14133688061190555, 0.29545454545454547, 'gini = 0.0\\nsamples = 1\\nvalue = [0, 1]'),\n",
       " Text(0.14133688061190555, 0.38636363636363635, 'gini = 0.0\\nsamples = 10\\nvalue = [0, 10]'),\n",
       " Text(0.15896242101762553, 0.4772727272727273, 'sugar <= -0.818\\ngini = 0.154\\nsamples = 95\\nvalue = [8, 87]'),\n",
       " Text(0.14865314266711008, 0.4318181818181818, 'alchol <= -0.28\\ngini = 0.098\\nsamples = 58\\nvalue = [3, 55]'),\n",
       " Text(0.14399733954107083, 0.38636363636363635, 'PH <= 0.834\\ngini = 0.278\\nsamples = 6\\nvalue = [1, 5]'),\n",
       " Text(0.1426671100764882, 0.3409090909090909, 'gini = 0.0\\nsamples = 3\\nvalue = [0, 3]'),\n",
       " Text(0.14532756900565347, 0.3409090909090909, 'PH <= 0.959\\ngini = 0.444\\nsamples = 3\\nvalue = [1, 2]'),\n",
       " Text(0.14399733954107083, 0.29545454545454547, 'gini = 0.0\\nsamples = 1\\nvalue = [1, 0]'),\n",
       " Text(0.1466577984702361, 0.29545454545454547, 'gini = 0.0\\nsamples = 2\\nvalue = [0, 2]'),\n",
       " Text(0.15330894579314933, 0.38636363636363635, 'alchol <= 0.727\\ngini = 0.074\\nsamples = 52\\nvalue = [2, 50]'),\n",
       " Text(0.15064848686398405, 0.3409090909090909, 'PH <= 0.489\\ngini = 0.044\\nsamples = 44\\nvalue = [1, 43]'),\n",
       " Text(0.14931825739940138, 0.29545454545454547, 'sugar <= -0.839\\ngini = 0.153\\nsamples = 12\\nvalue = [1, 11]'),\n",
       " Text(0.14798802793481874, 0.25, 'gini = 0.0\\nsamples = 8\\nvalue = [0, 8]'),\n",
       " Text(0.15064848686398405, 0.25, 'PH <= 0.395\\ngini = 0.375\\nsamples = 4\\nvalue = [1, 3]'),\n",
       " Text(0.14931825739940138, 0.20454545454545456, 'gini = 0.0\\nsamples = 3\\nvalue = [0, 3]'),\n",
       " Text(0.1519787163285667, 0.20454545454545456, 'gini = 0.0\\nsamples = 1\\nvalue = [1, 0]'),\n",
       " Text(0.1519787163285667, 0.29545454545454547, 'gini = 0.0\\nsamples = 32\\nvalue = [0, 32]'),\n",
       " Text(0.1559694047223146, 0.3409090909090909, 'PH <= 0.677\\ngini = 0.219\\nsamples = 8\\nvalue = [1, 7]'),\n",
       " Text(0.15463917525773196, 0.29545454545454547, 'alchol <= 0.853\\ngini = 0.375\\nsamples = 4\\nvalue = [1, 3]'),\n",
       " Text(0.15330894579314933, 0.25, 'gini = 0.5\\nsamples = 2\\nvalue = [1, 1]'),\n",
       " Text(0.1559694047223146, 0.25, 'gini = 0.0\\nsamples = 2\\nvalue = [0, 2]'),\n",
       " Text(0.15729963418689724, 0.29545454545454547, 'gini = 0.0\\nsamples = 4\\nvalue = [0, 4]'),\n",
       " Text(0.16927169936814102, 0.4318181818181818, 'alchol <= 0.979\\ngini = 0.234\\nsamples = 37\\nvalue = [5, 32]'),\n",
       " Text(0.16528101097439307, 0.38636363636363635, 'alchol <= 0.308\\ngini = 0.208\\nsamples = 34\\nvalue = [4, 30]'),\n",
       " Text(0.16129032258064516, 0.3409090909090909, 'PH <= 0.458\\ngini = 0.305\\nsamples = 16\\nvalue = [3, 13]'),\n",
       " Text(0.15996009311606252, 0.29545454545454547, 'gini = 0.0\\nsamples = 4\\nvalue = [0, 4]'),\n",
       " Text(0.1626205520452278, 0.29545454545454547, 'PH <= 0.583\\ngini = 0.375\\nsamples = 12\\nvalue = [3, 9]'),\n",
       " Text(0.16129032258064516, 0.25, 'gini = 0.0\\nsamples = 1\\nvalue = [1, 0]'),\n",
       " Text(0.16395078150981043, 0.25, 'alchol <= -0.154\\ngini = 0.298\\nsamples = 11\\nvalue = [2, 9]'),\n",
       " Text(0.1626205520452278, 0.20454545454545456, 'gini = 0.0\\nsamples = 4\\nvalue = [0, 4]'),\n",
       " Text(0.16528101097439307, 0.20454545454545456, 'alchol <= 0.224\\ngini = 0.408\\nsamples = 7\\nvalue = [2, 5]'),\n",
       " Text(0.16395078150981043, 0.1590909090909091, 'alchol <= 0.098\\ngini = 0.5\\nsamples = 4\\nvalue = [2, 2]'),\n",
       " Text(0.1626205520452278, 0.11363636363636363, 'alchol <= -0.028\\ngini = 0.444\\nsamples = 3\\nvalue = [1, 2]'),\n",
       " Text(0.16129032258064516, 0.06818181818181818, 'PH <= 0.677\\ngini = 0.5\\nsamples = 2\\nvalue = [1, 1]'),\n",
       " Text(0.15996009311606252, 0.022727272727272728, 'gini = 0.0\\nsamples = 1\\nvalue = [0, 1]'),\n",
       " Text(0.1626205520452278, 0.022727272727272728, 'gini = 0.0\\nsamples = 1\\nvalue = [1, 0]'),\n",
       " Text(0.16395078150981043, 0.06818181818181818, 'gini = 0.0\\nsamples = 1\\nvalue = [0, 1]'),\n",
       " Text(0.16528101097439307, 0.11363636363636363, 'gini = 0.0\\nsamples = 1\\nvalue = [1, 0]'),\n",
       " Text(0.1666112404389757, 0.1590909090909091, 'gini = 0.0\\nsamples = 3\\nvalue = [0, 3]'),\n",
       " Text(0.16927169936814102, 0.3409090909090909, 'PH <= 0.489\\ngini = 0.105\\nsamples = 18\\nvalue = [1, 17]'),\n",
       " Text(0.16794146990355838, 0.29545454545454547, 'PH <= 0.395\\ngini = 0.444\\nsamples = 3\\nvalue = [1, 2]'),\n",
       " Text(0.1666112404389757, 0.25, 'gini = 0.0\\nsamples = 1\\nvalue = [0, 1]'),\n",
       " Text(0.16927169936814102, 0.25, 'alchol <= 0.769\\ngini = 0.5\\nsamples = 2\\nvalue = [1, 1]'),\n",
       " Text(0.16794146990355838, 0.20454545454545456, 'gini = 0.0\\nsamples = 1\\nvalue = [1, 0]'),\n",
       " Text(0.17060192883272365, 0.20454545454545456, 'gini = 0.0\\nsamples = 1\\nvalue = [0, 1]'),\n",
       " Text(0.17060192883272365, 0.29545454545454547, 'gini = 0.0\\nsamples = 15\\nvalue = [0, 15]'),\n",
       " Text(0.17326238776188893, 0.38636363636363635, 'PH <= 0.99\\ngini = 0.444\\nsamples = 3\\nvalue = [1, 2]'),\n",
       " Text(0.1719321582973063, 0.3409090909090909, 'gini = 0.0\\nsamples = 2\\nvalue = [0, 2]'),\n",
       " Text(0.17459261722647157, 0.3409090909090909, 'gini = 0.0\\nsamples = 1\\nvalue = [1, 0]'),\n",
       " Text(0.16428333887595611, 0.5681818181818182, 'PH <= 0.458\\ngini = 0.444\\nsamples = 6\\nvalue = [2, 4]'),\n",
       " Text(0.16295310941137348, 0.5227272727272727, 'PH <= -0.388\\ngini = 0.444\\nsamples = 3\\nvalue = [2, 1]'),\n",
       " Text(0.1616228799467908, 0.4772727272727273, 'gini = 0.0\\nsamples = 1\\nvalue = [0, 1]'),\n",
       " Text(0.16428333887595611, 0.4772727272727273, 'gini = 0.0\\nsamples = 2\\nvalue = [2, 0]'),\n",
       " Text(0.16561356834053875, 0.5227272727272727, 'gini = 0.0\\nsamples = 3\\nvalue = [0, 3]'),\n",
       " Text(0.14049769288327235, 0.7045454545454546, 'gini = 0.0\\nsamples = 71\\nvalue = [0, 71]'),\n",
       " Text(0.17492517459261722, 0.75, 'alchol <= 0.308\\ngini = 0.449\\nsamples = 47\\nvalue = [16, 31]'),\n",
       " Text(0.16960425673428667, 0.7045454545454546, 'PH <= 3.12\\ngini = 0.165\\nsamples = 22\\nvalue = [2, 20]'),\n",
       " Text(0.1669437978051214, 0.6590909090909091, 'alchol <= 0.056\\ngini = 0.095\\nsamples = 20\\nvalue = [1, 19]'),\n",
       " Text(0.16561356834053875, 0.6136363636363636, 'gini = 0.0\\nsamples = 11\\nvalue = [0, 11]'),\n",
       " Text(0.16827402726970403, 0.6136363636363636, 'alchol <= 0.14\\ngini = 0.198\\nsamples = 9\\nvalue = [1, 8]'),\n",
       " Text(0.1669437978051214, 0.5681818181818182, 'gini = 0.0\\nsamples = 1\\nvalue = [1, 0]'),\n",
       " Text(0.16960425673428667, 0.5681818181818182, 'gini = 0.0\\nsamples = 8\\nvalue = [0, 8]'),\n",
       " Text(0.17226471566345194, 0.6590909090909091, 'alchol <= -0.112\\ngini = 0.5\\nsamples = 2\\nvalue = [1, 1]'),\n",
       " Text(0.1709344861988693, 0.6136363636363636, 'gini = 0.0\\nsamples = 1\\nvalue = [0, 1]'),\n",
       " Text(0.17359494512803458, 0.6136363636363636, 'gini = 0.0\\nsamples = 1\\nvalue = [1, 0]'),\n",
       " Text(0.18024609245094778, 0.7045454545454546, 'PH <= 2.4\\ngini = 0.493\\nsamples = 25\\nvalue = [14, 11]'),\n",
       " Text(0.17891586298636514, 0.6590909090909091, 'PH <= 1.805\\ngini = 0.5\\nsamples = 22\\nvalue = [11, 11]'),\n",
       " Text(0.17625540405719986, 0.6136363636363636, 'PH <= 1.554\\ngini = 0.444\\nsamples = 12\\nvalue = [8, 4]'),\n",
       " Text(0.17492517459261722, 0.5681818181818182, 'alchol <= 1.105\\ngini = 0.444\\nsamples = 6\\nvalue = [2, 4]'),\n",
       " Text(0.17359494512803458, 0.5227272727272727, 'gini = 0.0\\nsamples = 4\\nvalue = [0, 4]'),\n",
       " Text(0.17625540405719986, 0.5227272727272727, 'gini = 0.0\\nsamples = 2\\nvalue = [2, 0]'),\n",
       " Text(0.1775856335217825, 0.5681818181818182, 'gini = 0.0\\nsamples = 6\\nvalue = [6, 0]'),\n",
       " Text(0.18157632191553044, 0.6136363636363636, 'PH <= 2.055\\ngini = 0.42\\nsamples = 10\\nvalue = [3, 7]'),\n",
       " Text(0.18024609245094778, 0.5681818181818182, 'gini = 0.0\\nsamples = 4\\nvalue = [0, 4]'),\n",
       " Text(0.18290655138011308, 0.5681818181818182, 'alchol <= 1.399\\ngini = 0.5\\nsamples = 6\\nvalue = [3, 3]'),\n",
       " Text(0.18157632191553044, 0.5227272727272727, 'gini = 0.0\\nsamples = 2\\nvalue = [2, 0]'),\n",
       " Text(0.18423678084469572, 0.5227272727272727, 'sugar <= -0.839\\ngini = 0.375\\nsamples = 4\\nvalue = [1, 3]'),\n",
       " Text(0.18290655138011308, 0.4772727272727273, 'PH <= 2.243\\ngini = 0.5\\nsamples = 2\\nvalue = [1, 1]'),\n",
       " Text(0.18157632191553044, 0.4318181818181818, 'gini = 0.0\\nsamples = 1\\nvalue = [1, 0]'),\n",
       " Text(0.18423678084469572, 0.4318181818181818, 'gini = 0.0\\nsamples = 1\\nvalue = [0, 1]'),\n",
       " Text(0.18556701030927836, 0.4772727272727273, 'gini = 0.0\\nsamples = 2\\nvalue = [0, 2]'),\n",
       " Text(0.18157632191553044, 0.6590909090909091, 'gini = 0.0\\nsamples = 3\\nvalue = [3, 0]'),\n",
       " Text(0.5338632059049717, 0.8863636363636364, 'alchol <= 0.454\\ngini = 0.49\\nsamples = 1868\\nvalue = [1069, 799]'),\n",
       " Text(0.3499273180287662, 0.8409090909090909, 'PH <= -0.138\\ngini = 0.42\\nsamples = 1141\\nvalue = [798, 343]'),\n",
       " Text(0.2713135496341869, 0.7954545454545454, 'sugar <= -0.463\\ngini = 0.499\\nsamples = 358\\nvalue = [187, 171]'),\n",
       " Text(0.22536737196541404, 0.75, 'sugar <= -0.755\\ngini = 0.482\\nsamples = 303\\nvalue = [180, 123]'),\n",
       " Text(0.20369138676421683, 0.7045454545454546, 'alchol <= -0.364\\ngini = 0.497\\nsamples = 63\\nvalue = [29, 34]'),\n",
       " Text(0.1952111739275025, 0.6590909090909091, 'alchol <= -1.203\\ngini = 0.473\\nsamples = 39\\nvalue = [24, 15]'),\n",
       " Text(0.19388094446291984, 0.6136363636363636, 'gini = 0.0\\nsamples = 3\\nvalue = [0, 3]'),\n",
       " Text(0.19654140339208515, 0.6136363636363636, 'PH <= -0.388\\ngini = 0.444\\nsamples = 36\\nvalue = [24, 12]'),\n",
       " Text(0.19288327236448288, 0.5681818181818182, 'PH <= -0.764\\ngini = 0.488\\nsamples = 26\\nvalue = [15, 11]'),\n",
       " Text(0.18955769870302627, 0.5227272727272727, 'PH <= -0.889\\ngini = 0.355\\nsamples = 13\\nvalue = [10, 3]'),\n",
       " Text(0.18822746923844363, 0.4772727272727273, 'PH <= -0.952\\ngini = 0.444\\nsamples = 9\\nvalue = [6, 3]'),\n",
       " Text(0.186897239773861, 0.4318181818181818, 'alchol <= -0.784\\ngini = 0.375\\nsamples = 8\\nvalue = [6, 2]'),\n",
       " Text(0.18556701030927836, 0.38636363636363635, 'PH <= -1.453\\ngini = 0.245\\nsamples = 7\\nvalue = [6, 1]'),\n",
       " Text(0.18423678084469572, 0.3409090909090909, 'PH <= -1.767\\ngini = 0.5\\nsamples = 2\\nvalue = [1, 1]'),\n",
       " Text(0.18290655138011308, 0.29545454545454547, 'gini = 0.0\\nsamples = 1\\nvalue = [1, 0]'),\n",
       " Text(0.18556701030927836, 0.29545454545454547, 'gini = 0.0\\nsamples = 1\\nvalue = [0, 1]'),\n",
       " Text(0.186897239773861, 0.3409090909090909, 'gini = 0.0\\nsamples = 5\\nvalue = [5, 0]'),\n",
       " Text(0.18822746923844363, 0.38636363636363635, 'gini = 0.0\\nsamples = 1\\nvalue = [0, 1]'),\n",
       " Text(0.18955769870302627, 0.4318181818181818, 'gini = 0.0\\nsamples = 1\\nvalue = [0, 1]'),\n",
       " Text(0.1908879281676089, 0.4772727272727273, 'gini = 0.0\\nsamples = 4\\nvalue = [4, 0]'),\n",
       " Text(0.19620884602593947, 0.5227272727272727, 'alchol <= -0.448\\ngini = 0.473\\nsamples = 13\\nvalue = [5, 8]'),\n",
       " Text(0.19487861656135683, 0.4772727272727273, 'sugar <= -0.776\\ngini = 0.444\\nsamples = 12\\nvalue = [4, 8]'),\n",
       " Text(0.19221815763219155, 0.4318181818181818, 'alchol <= -0.91\\ngini = 0.278\\nsamples = 6\\nvalue = [1, 5]'),\n",
       " Text(0.1908879281676089, 0.38636363636363635, 'sugar <= -0.792\\ngini = 0.444\\nsamples = 3\\nvalue = [1, 2]'),\n",
       " Text(0.18955769870302627, 0.3409090909090909, 'gini = 0.0\\nsamples = 1\\nvalue = [0, 1]'),\n",
       " Text(0.19221815763219155, 0.3409090909090909, 'alchol <= -1.036\\ngini = 0.5\\nsamples = 2\\nvalue = [1, 1]'),\n",
       " Text(0.1908879281676089, 0.29545454545454547, 'gini = 0.0\\nsamples = 1\\nvalue = [0, 1]'),\n",
       " Text(0.1935483870967742, 0.29545454545454547, 'gini = 0.0\\nsamples = 1\\nvalue = [1, 0]'),\n",
       " Text(0.1935483870967742, 0.38636363636363635, 'gini = 0.0\\nsamples = 3\\nvalue = [0, 3]'),\n",
       " Text(0.1975390754905221, 0.4318181818181818, 'PH <= -0.576\\ngini = 0.5\\nsamples = 6\\nvalue = [3, 3]'),\n",
       " Text(0.19620884602593947, 0.38636363636363635, 'gini = 0.0\\nsamples = 2\\nvalue = [2, 0]'),\n",
       " Text(0.19886930495510474, 0.38636363636363635, 'alchol <= -0.532\\ngini = 0.375\\nsamples = 4\\nvalue = [1, 3]'),\n",
       " Text(0.1975390754905221, 0.3409090909090909, 'gini = 0.0\\nsamples = 2\\nvalue = [0, 2]'),\n",
       " Text(0.2001995344196874, 0.3409090909090909, 'PH <= -0.451\\ngini = 0.5\\nsamples = 2\\nvalue = [1, 1]'),\n",
       " Text(0.19886930495510474, 0.29545454545454547, 'gini = 0.0\\nsamples = 1\\nvalue = [1, 0]'),\n",
       " Text(0.20152976388427005, 0.29545454545454547, 'gini = 0.0\\nsamples = 1\\nvalue = [0, 1]'),\n",
       " Text(0.1975390754905221, 0.4772727272727273, 'gini = 0.0\\nsamples = 1\\nvalue = [1, 0]'),\n",
       " Text(0.2001995344196874, 0.5681818181818182, 'PH <= -0.263\\ngini = 0.18\\nsamples = 10\\nvalue = [9, 1]'),\n",
       " Text(0.19886930495510474, 0.5227272727272727, 'gini = 0.0\\nsamples = 5\\nvalue = [5, 0]'),\n",
       " Text(0.20152976388427005, 0.5227272727272727, 'alchol <= -0.868\\ngini = 0.32\\nsamples = 5\\nvalue = [4, 1]'),\n",
       " Text(0.2001995344196874, 0.4772727272727273, 'gini = 0.0\\nsamples = 1\\nvalue = [0, 1]'),\n",
       " Text(0.20285999334885269, 0.4772727272727273, 'gini = 0.0\\nsamples = 4\\nvalue = [4, 0]'),\n",
       " Text(0.21217159960093115, 0.6590909090909091, 'PH <= -0.263\\ngini = 0.33\\nsamples = 24\\nvalue = [5, 19]'),\n",
       " Text(0.21084137013634852, 0.6136363636363636, 'alchol <= -0.028\\ngini = 0.236\\nsamples = 22\\nvalue = [3, 19]'),\n",
       " Text(0.20818091120718324, 0.5681818181818182, 'PH <= -1.077\\ngini = 0.124\\nsamples = 15\\nvalue = [1, 14]'),\n",
       " Text(0.2068506817426006, 0.5227272727272727, 'alchol <= -0.154\\ngini = 0.444\\nsamples = 3\\nvalue = [1, 2]'),\n",
       " Text(0.20552045227801796, 0.4772727272727273, 'gini = 0.0\\nsamples = 1\\nvalue = [1, 0]'),\n",
       " Text(0.20818091120718324, 0.4772727272727273, 'gini = 0.0\\nsamples = 2\\nvalue = [0, 2]'),\n",
       " Text(0.20951114067176588, 0.5227272727272727, 'gini = 0.0\\nsamples = 12\\nvalue = [0, 12]'),\n",
       " Text(0.2135018290655138, 0.5681818181818182, 'alchol <= 0.14\\ngini = 0.408\\nsamples = 7\\nvalue = [2, 5]'),\n",
       " Text(0.21217159960093115, 0.5227272727272727, 'PH <= -0.795\\ngini = 0.444\\nsamples = 3\\nvalue = [2, 1]'),\n",
       " Text(0.21084137013634852, 0.4772727272727273, 'gini = 0.0\\nsamples = 1\\nvalue = [0, 1]'),\n",
       " Text(0.2135018290655138, 0.4772727272727273, 'gini = 0.0\\nsamples = 2\\nvalue = [2, 0]'),\n",
       " Text(0.21483205853009643, 0.5227272727272727, 'gini = 0.0\\nsamples = 4\\nvalue = [0, 4]'),\n",
       " Text(0.2135018290655138, 0.6136363636363636, 'gini = 0.0\\nsamples = 2\\nvalue = [2, 0]'),\n",
       " Text(0.24704335716661124, 0.7045454545454546, 'PH <= -0.764\\ngini = 0.467\\nsamples = 240\\nvalue = [151, 89]'),\n",
       " Text(0.2273029597605587, 0.6590909090909091, 'alchol <= -0.868\\ngini = 0.496\\nsamples = 92\\nvalue = [50, 42]'),\n",
       " Text(0.22148320585300965, 0.6136363636363636, 'sugar <= -0.651\\ngini = 0.384\\nsamples = 27\\nvalue = [20, 7]'),\n",
       " Text(0.21882274692384437, 0.5681818181818182, 'PH <= -0.827\\ngini = 0.117\\nsamples = 16\\nvalue = [15, 1]'),\n",
       " Text(0.21749251745926174, 0.5227272727272727, 'gini = 0.0\\nsamples = 14\\nvalue = [14, 0]'),\n",
       " Text(0.220152976388427, 0.5227272727272727, 'alchol <= -1.078\\ngini = 0.5\\nsamples = 2\\nvalue = [1, 1]'),\n",
       " Text(0.21882274692384437, 0.4772727272727273, 'gini = 0.0\\nsamples = 1\\nvalue = [0, 1]'),\n",
       " Text(0.22148320585300965, 0.4772727272727273, 'gini = 0.0\\nsamples = 1\\nvalue = [1, 0]'),\n",
       " Text(0.22414366478217493, 0.5681818181818182, 'PH <= -0.952\\ngini = 0.496\\nsamples = 11\\nvalue = [5, 6]'),\n",
       " Text(0.2228134353175923, 0.5227272727272727, 'gini = 0.0\\nsamples = 6\\nvalue = [0, 6]'),\n",
       " Text(0.22547389424675757, 0.5227272727272727, 'gini = 0.0\\nsamples = 5\\nvalue = [5, 0]'),\n",
       " Text(0.23312271366810774, 0.6136363636363636, 'PH <= -1.673\\ngini = 0.497\\nsamples = 65\\nvalue = [30, 35]'),\n",
       " Text(0.22946458264050548, 0.5681818181818182, 'alchol <= -0.784\\ngini = 0.397\\nsamples = 11\\nvalue = [8, 3]'),\n",
       " Text(0.22813435317592284, 0.5227272727272727, 'PH <= -1.892\\ngini = 0.375\\nsamples = 4\\nvalue = [1, 3]'),\n",
       " Text(0.2268041237113402, 0.4772727272727273, 'gini = 0.0\\nsamples = 3\\nvalue = [0, 3]'),\n",
       " Text(0.22946458264050548, 0.4772727272727273, 'gini = 0.0\\nsamples = 1\\nvalue = [1, 0]'),\n",
       " Text(0.23079481210508812, 0.5227272727272727, 'gini = 0.0\\nsamples = 7\\nvalue = [7, 0]'),\n",
       " Text(0.23678084469571, 0.5681818181818182, 'PH <= -1.516\\ngini = 0.483\\nsamples = 54\\nvalue = [22, 32]'),\n",
       " Text(0.23545061523112737, 0.5227272727272727, 'gini = 0.0\\nsamples = 3\\nvalue = [0, 3]'),\n",
       " Text(0.23811107416029265, 0.5227272727272727, 'PH <= -1.015\\ngini = 0.491\\nsamples = 51\\nvalue = [22, 29]'),\n",
       " Text(0.23212504156967076, 0.4772727272727273, 'alchol <= -0.616\\ngini = 0.497\\nsamples = 28\\nvalue = [15, 13]'),\n",
       " Text(0.23079481210508812, 0.4318181818181818, 'gini = 0.0\\nsamples = 4\\nvalue = [4, 0]'),\n",
       " Text(0.2334552710342534, 0.4318181818181818, 'sugar <= -0.578\\ngini = 0.497\\nsamples = 24\\nvalue = [11, 13]'),\n",
       " Text(0.23212504156967076, 0.38636363636363635, 'PH <= -1.077\\ngini = 0.499\\nsamples = 21\\nvalue = [11, 10]'),\n",
       " Text(0.22813435317592284, 0.3409090909090909, 'sugar <= -0.672\\ngini = 0.459\\nsamples = 14\\nvalue = [9, 5]'),\n",
       " Text(0.22414366478217493, 0.29545454545454547, 'alchol <= -0.154\\ngini = 0.346\\nsamples = 9\\nvalue = [7, 2]'),\n",
       " Text(0.2228134353175923, 0.25, 'gini = 0.0\\nsamples = 5\\nvalue = [5, 0]'),\n",
       " Text(0.22547389424675757, 0.25, 'sugar <= -0.693\\ngini = 0.5\\nsamples = 4\\nvalue = [2, 2]'),\n",
       " Text(0.22414366478217493, 0.20454545454545456, 'gini = 0.0\\nsamples = 2\\nvalue = [0, 2]'),\n",
       " Text(0.2268041237113402, 0.20454545454545456, 'gini = 0.0\\nsamples = 2\\nvalue = [2, 0]'),\n",
       " Text(0.23212504156967076, 0.29545454545454547, 'sugar <= -0.609\\ngini = 0.48\\nsamples = 5\\nvalue = [2, 3]'),\n",
       " Text(0.23079481210508812, 0.25, 'PH <= -1.265\\ngini = 0.375\\nsamples = 4\\nvalue = [1, 3]'),\n",
       " Text(0.22946458264050548, 0.20454545454545456, 'gini = 0.0\\nsamples = 3\\nvalue = [0, 3]'),\n",
       " Text(0.23212504156967076, 0.20454545454545456, 'gini = 0.0\\nsamples = 1\\nvalue = [1, 0]'),\n",
       " Text(0.2334552710342534, 0.25, 'gini = 0.0\\nsamples = 1\\nvalue = [1, 0]'),\n",
       " Text(0.2361157299634187, 0.3409090909090909, 'sugar <= -0.661\\ngini = 0.408\\nsamples = 7\\nvalue = [2, 5]'),\n",
       " Text(0.23478550049883604, 0.29545454545454547, 'gini = 0.0\\nsamples = 5\\nvalue = [0, 5]'),\n",
       " Text(0.23744595942800134, 0.29545454545454547, 'gini = 0.0\\nsamples = 2\\nvalue = [2, 0]'),\n",
       " Text(0.23478550049883604, 0.38636363636363635, 'gini = 0.0\\nsamples = 3\\nvalue = [0, 3]'),\n",
       " Text(0.24409710675091453, 0.4772727272727273, 'alchol <= -0.49\\ngini = 0.423\\nsamples = 23\\nvalue = [7, 16]'),\n",
       " Text(0.2427668772863319, 0.4318181818181818, 'gini = 0.0\\nsamples = 8\\nvalue = [0, 8]'),\n",
       " Text(0.24542733621549717, 0.4318181818181818, 'PH <= -0.889\\ngini = 0.498\\nsamples = 15\\nvalue = [7, 8]'),\n",
       " Text(0.2427668772863319, 0.38636363636363635, 'alchol <= 0.056\\ngini = 0.42\\nsamples = 10\\nvalue = [3, 7]'),\n",
       " Text(0.24143664782174926, 0.3409090909090909, 'sugar <= -0.64\\ngini = 0.48\\nsamples = 5\\nvalue = [3, 2]'),\n",
       " Text(0.24010641835716662, 0.29545454545454547, 'sugar <= -0.672\\ngini = 0.444\\nsamples = 3\\nvalue = [1, 2]'),\n",
       " Text(0.23877618889258398, 0.25, 'gini = 0.0\\nsamples = 1\\nvalue = [1, 0]'),\n",
       " Text(0.24143664782174926, 0.25, 'gini = 0.0\\nsamples = 2\\nvalue = [0, 2]'),\n",
       " Text(0.2427668772863319, 0.29545454545454547, 'gini = 0.0\\nsamples = 2\\nvalue = [2, 0]'),\n",
       " Text(0.24409710675091453, 0.3409090909090909, 'gini = 0.0\\nsamples = 5\\nvalue = [0, 5]'),\n",
       " Text(0.24808779514466245, 0.38636363636363635, 'alchol <= -0.364\\ngini = 0.32\\nsamples = 5\\nvalue = [4, 1]'),\n",
       " Text(0.2467575656800798, 0.3409090909090909, 'sugar <= -0.734\\ngini = 0.5\\nsamples = 2\\nvalue = [1, 1]'),\n",
       " Text(0.24542733621549717, 0.29545454545454547, 'gini = 0.0\\nsamples = 1\\nvalue = [1, 0]'),\n",
       " Text(0.24808779514466245, 0.29545454545454547, 'gini = 0.0\\nsamples = 1\\nvalue = [0, 1]'),\n",
       " Text(0.2494180246092451, 0.3409090909090909, 'gini = 0.0\\nsamples = 3\\nvalue = [3, 0]'),\n",
       " Text(0.2667837545726638, 0.6590909090909091, 'alchol <= -0.952\\ngini = 0.433\\nsamples = 148\\nvalue = [101, 47]'),\n",
       " Text(0.2520784835384104, 0.6136363636363636, 'sugar <= -0.521\\ngini = 0.32\\nsamples = 20\\nvalue = [16, 4]'),\n",
       " Text(0.2507482540738277, 0.5681818181818182, 'sugar <= -0.651\\ngini = 0.266\\nsamples = 19\\nvalue = [16, 3]'),\n",
       " Text(0.2494180246092451, 0.5227272727272727, 'gini = 0.0\\nsamples = 9\\nvalue = [9, 0]'),\n",
       " Text(0.2520784835384104, 0.5227272727272727, 'sugar <= -0.63\\ngini = 0.42\\nsamples = 10\\nvalue = [7, 3]'),\n",
       " Text(0.2507482540738277, 0.4772727272727273, 'PH <= -0.67\\ngini = 0.375\\nsamples = 4\\nvalue = [1, 3]'),\n",
       " Text(0.2494180246092451, 0.4318181818181818, 'gini = 0.0\\nsamples = 2\\nvalue = [0, 2]'),\n",
       " Text(0.2520784835384104, 0.4318181818181818, 'PH <= -0.419\\ngini = 0.5\\nsamples = 2\\nvalue = [1, 1]'),\n",
       " Text(0.2507482540738277, 0.38636363636363635, 'gini = 0.0\\nsamples = 1\\nvalue = [1, 0]'),\n",
       " Text(0.253408713002993, 0.38636363636363635, 'gini = 0.0\\nsamples = 1\\nvalue = [0, 1]'),\n",
       " Text(0.253408713002993, 0.4772727272727273, 'gini = 0.0\\nsamples = 6\\nvalue = [6, 0]'),\n",
       " Text(0.253408713002993, 0.5681818181818182, 'gini = 0.0\\nsamples = 1\\nvalue = [0, 1]'),\n",
       " Text(0.2814890256069172, 0.6136363636363636, 'alchol <= -0.868\\ngini = 0.446\\nsamples = 128\\nvalue = [85, 43]'),\n",
       " Text(0.2627203192550715, 0.5681818181818182, 'PH <= -0.2\\ngini = 0.497\\nsamples = 13\\nvalue = [6, 7]'),\n",
       " Text(0.26139008979048883, 0.5227272727272727, 'PH <= -0.451\\ngini = 0.486\\nsamples = 12\\nvalue = [5, 7]'),\n",
       " Text(0.25872963086132356, 0.4772727272727273, 'PH <= -0.607\\ngini = 0.48\\nsamples = 5\\nvalue = [3, 2]'),\n",
       " Text(0.25739940139674095, 0.4318181818181818, 'sugar <= -0.64\\ngini = 0.444\\nsamples = 3\\nvalue = [1, 2]'),\n",
       " Text(0.2560691719321583, 0.38636363636363635, 'gini = 0.0\\nsamples = 1\\nvalue = [1, 0]'),\n",
       " Text(0.25872963086132356, 0.38636363636363635, 'gini = 0.0\\nsamples = 2\\nvalue = [0, 2]'),\n",
       " Text(0.2600598603259062, 0.4318181818181818, 'gini = 0.0\\nsamples = 2\\nvalue = [2, 0]'),\n",
       " Text(0.26405054871965417, 0.4772727272727273, 'PH <= -0.388\\ngini = 0.408\\nsamples = 7\\nvalue = [2, 5]'),\n",
       " Text(0.2627203192550715, 0.4318181818181818, 'gini = 0.0\\nsamples = 2\\nvalue = [0, 2]'),\n",
       " Text(0.2653807781842368, 0.4318181818181818, 'PH <= -0.326\\ngini = 0.48\\nsamples = 5\\nvalue = [2, 3]'),\n",
       " Text(0.26405054871965417, 0.38636363636363635, 'gini = 0.0\\nsamples = 1\\nvalue = [1, 0]'),\n",
       " Text(0.26671100764881944, 0.38636363636363635, 'PH <= -0.263\\ngini = 0.375\\nsamples = 4\\nvalue = [1, 3]'),\n",
       " Text(0.2653807781842368, 0.3409090909090909, 'gini = 0.0\\nsamples = 2\\nvalue = [0, 2]'),\n",
       " Text(0.26804123711340205, 0.3409090909090909, 'gini = 0.5\\nsamples = 2\\nvalue = [1, 1]'),\n",
       " Text(0.26405054871965417, 0.5227272727272727, 'gini = 0.0\\nsamples = 1\\nvalue = [1, 0]'),\n",
       " Text(0.3002577319587629, 0.5681818181818182, 'PH <= -0.2\\ngini = 0.43\\nsamples = 115\\nvalue = [79, 36]'),\n",
       " Text(0.2925673428666445, 0.5227272727272727, 'sugar <= -0.536\\ngini = 0.408\\nsamples = 98\\nvalue = [70, 28]'),\n",
       " Text(0.28383771200532093, 0.4772727272727273, 'alchol <= -0.532\\ngini = 0.394\\nsamples = 89\\nvalue = [65, 24]'),\n",
       " Text(0.2746923844363153, 0.4318181818181818, 'sugar <= -0.693\\ngini = 0.26\\nsamples = 26\\nvalue = [22, 4]'),\n",
       " Text(0.27203192550715, 0.38636363636363635, 'PH <= -0.576\\ngini = 0.49\\nsamples = 7\\nvalue = [4, 3]'),\n",
       " Text(0.27070169604256733, 0.3409090909090909, 'gini = 0.0\\nsamples = 2\\nvalue = [0, 2]'),\n",
       " Text(0.2733621549717326, 0.3409090909090909, 'sugar <= -0.713\\ngini = 0.32\\nsamples = 5\\nvalue = [4, 1]'),\n",
       " Text(0.27203192550715, 0.29545454545454547, 'gini = 0.0\\nsamples = 4\\nvalue = [4, 0]'),\n",
       " Text(0.2746923844363153, 0.29545454545454547, 'gini = 0.0\\nsamples = 1\\nvalue = [0, 1]'),\n",
       " Text(0.27735284336548055, 0.38636363636363635, 'PH <= -0.263\\ngini = 0.1\\nsamples = 19\\nvalue = [18, 1]'),\n",
       " Text(0.2760226139008979, 0.3409090909090909, 'gini = 0.0\\nsamples = 16\\nvalue = [16, 0]'),\n",
       " Text(0.27868307283006316, 0.3409090909090909, 'sugar <= -0.661\\ngini = 0.444\\nsamples = 3\\nvalue = [2, 1]'),\n",
       " Text(0.27735284336548055, 0.29545454545454547, 'gini = 0.0\\nsamples = 2\\nvalue = [2, 0]'),\n",
       " Text(0.2800133022946458, 0.29545454545454547, 'gini = 0.0\\nsamples = 1\\nvalue = [0, 1]'),\n",
       " Text(0.2929830395743266, 0.4318181818181818, 'sugar <= -0.588\\ngini = 0.433\\nsamples = 63\\nvalue = [43, 20]'),\n",
       " Text(0.28732956434985035, 0.38636363636363635, 'alchol <= -0.112\\ngini = 0.464\\nsamples = 52\\nvalue = [33, 19]'),\n",
       " Text(0.28400399068839377, 0.3409090909090909, 'sugar <= -0.672\\ngini = 0.499\\nsamples = 19\\nvalue = [9, 10]'),\n",
       " Text(0.2826737612238111, 0.29545454545454547, 'PH <= -0.357\\ngini = 0.459\\nsamples = 14\\nvalue = [9, 5]'),\n",
       " Text(0.2813435317592285, 0.25, 'PH <= -0.451\\ngini = 0.5\\nsamples = 10\\nvalue = [5, 5]'),\n",
       " Text(0.2800133022946458, 0.20454545454545456, 'PH <= -0.545\\ngini = 0.408\\nsamples = 7\\nvalue = [5, 2]'),\n",
       " Text(0.27868307283006316, 0.1590909090909091, 'alchol <= -0.28\\ngini = 0.48\\nsamples = 5\\nvalue = [3, 2]'),\n",
       " Text(0.27735284336548055, 0.11363636363636363, 'gini = 0.0\\nsamples = 2\\nvalue = [2, 0]'),\n",
       " Text(0.2800133022946458, 0.11363636363636363, 'PH <= -0.67\\ngini = 0.444\\nsamples = 3\\nvalue = [1, 2]'),\n",
       " Text(0.27868307283006316, 0.06818181818181818, 'alchol <= -0.196\\ngini = 0.5\\nsamples = 2\\nvalue = [1, 1]'),\n",
       " Text(0.27735284336548055, 0.022727272727272728, 'gini = 0.0\\nsamples = 1\\nvalue = [0, 1]'),\n",
       " Text(0.2800133022946458, 0.022727272727272728, 'gini = 0.0\\nsamples = 1\\nvalue = [1, 0]'),\n",
       " Text(0.2813435317592285, 0.06818181818181818, 'gini = 0.0\\nsamples = 1\\nvalue = [0, 1]'),\n",
       " Text(0.2813435317592285, 0.1590909090909091, 'gini = 0.0\\nsamples = 2\\nvalue = [2, 0]'),\n",
       " Text(0.2826737612238111, 0.20454545454545456, 'gini = 0.0\\nsamples = 3\\nvalue = [0, 3]'),\n",
       " Text(0.28400399068839377, 0.25, 'gini = 0.0\\nsamples = 4\\nvalue = [4, 0]'),\n",
       " Text(0.2853342201529764, 0.29545454545454547, 'gini = 0.0\\nsamples = 5\\nvalue = [0, 5]'),\n",
       " Text(0.29065513801130693, 0.3409090909090909, 'PH <= -0.388\\ngini = 0.397\\nsamples = 33\\nvalue = [24, 9]'),\n",
       " Text(0.28799467908214166, 0.29545454545454547, 'sugar <= -0.672\\ngini = 0.255\\nsamples = 20\\nvalue = [17, 3]'),\n",
       " Text(0.28666444961755905, 0.25, 'sugar <= -0.693\\ngini = 0.397\\nsamples = 11\\nvalue = [8, 3]'),\n",
       " Text(0.2853342201529764, 0.20454545454545456, 'sugar <= -0.713\\ngini = 0.32\\nsamples = 10\\nvalue = [8, 2]'),\n",
       " Text(0.28400399068839377, 0.1590909090909091, 'alchol <= -0.028\\ngini = 0.444\\nsamples = 6\\nvalue = [4, 2]'),\n",
       " Text(0.2826737612238111, 0.11363636363636363, 'gini = 0.0\\nsamples = 2\\nvalue = [2, 0]'),\n",
       " Text(0.2853342201529764, 0.11363636363636363, 'PH <= -0.451\\ngini = 0.5\\nsamples = 4\\nvalue = [2, 2]'),\n",
       " Text(0.28400399068839377, 0.06818181818181818, 'gini = 0.0\\nsamples = 2\\nvalue = [0, 2]'),\n",
       " Text(0.28666444961755905, 0.06818181818181818, 'gini = 0.0\\nsamples = 2\\nvalue = [2, 0]'),\n",
       " Text(0.28666444961755905, 0.1590909090909091, 'gini = 0.0\\nsamples = 4\\nvalue = [4, 0]'),\n",
       " Text(0.28799467908214166, 0.20454545454545456, 'gini = 0.0\\nsamples = 1\\nvalue = [0, 1]'),\n",
       " Text(0.2893249085467243, 0.25, 'gini = 0.0\\nsamples = 9\\nvalue = [9, 0]'),\n",
       " Text(0.2933155969404722, 0.29545454545454547, 'alchol <= 0.014\\ngini = 0.497\\nsamples = 13\\nvalue = [7, 6]'),\n",
       " Text(0.2919853674758896, 0.25, 'gini = 0.0\\nsamples = 2\\nvalue = [2, 0]'),\n",
       " Text(0.2946458264050549, 0.25, 'alchol <= 0.182\\ngini = 0.496\\nsamples = 11\\nvalue = [5, 6]'),\n",
       " Text(0.2919853674758896, 0.20454545454545456, 'sugar <= -0.651\\ngini = 0.375\\nsamples = 4\\nvalue = [1, 3]'),\n",
       " Text(0.29065513801130693, 0.1590909090909091, 'gini = 0.0\\nsamples = 3\\nvalue = [0, 3]'),\n",
       " Text(0.2933155969404722, 0.1590909090909091, 'gini = 0.0\\nsamples = 1\\nvalue = [1, 0]'),\n",
       " Text(0.29730628533422016, 0.20454545454545456, 'alchol <= 0.308\\ngini = 0.49\\nsamples = 7\\nvalue = [4, 3]'),\n",
       " Text(0.2959760558696375, 0.1590909090909091, 'gini = 0.0\\nsamples = 2\\nvalue = [2, 0]'),\n",
       " Text(0.29863651479880277, 0.1590909090909091, 'alchol <= 0.392\\ngini = 0.48\\nsamples = 5\\nvalue = [2, 3]'),\n",
       " Text(0.29730628533422016, 0.11363636363636363, 'gini = 0.0\\nsamples = 2\\nvalue = [0, 2]'),\n",
       " Text(0.29996674426338543, 0.11363636363636363, 'sugar <= -0.651\\ngini = 0.444\\nsamples = 3\\nvalue = [2, 1]'),\n",
       " Text(0.29863651479880277, 0.06818181818181818, 'gini = 0.0\\nsamples = 1\\nvalue = [0, 1]'),\n",
       " Text(0.3012969737279681, 0.06818181818181818, 'gini = 0.0\\nsamples = 2\\nvalue = [2, 0]'),\n",
       " Text(0.29863651479880277, 0.38636363636363635, 'PH <= -0.701\\ngini = 0.165\\nsamples = 11\\nvalue = [10, 1]'),\n",
       " Text(0.29730628533422016, 0.3409090909090909, 'sugar <= -0.567\\ngini = 0.444\\nsamples = 3\\nvalue = [2, 1]'),\n",
       " Text(0.2959760558696375, 0.29545454545454547, 'gini = 0.0\\nsamples = 1\\nvalue = [0, 1]'),\n",
       " Text(0.29863651479880277, 0.29545454545454547, 'gini = 0.0\\nsamples = 2\\nvalue = [2, 0]'),\n",
       " Text(0.29996674426338543, 0.3409090909090909, 'gini = 0.0\\nsamples = 8\\nvalue = [8, 0]'),\n",
       " Text(0.3012969737279681, 0.4772727272727273, 'PH <= -0.451\\ngini = 0.494\\nsamples = 9\\nvalue = [5, 4]'),\n",
       " Text(0.29996674426338543, 0.4318181818181818, 'gini = 0.0\\nsamples = 2\\nvalue = [0, 2]'),\n",
       " Text(0.3026272031925507, 0.4318181818181818, 'PH <= -0.388\\ngini = 0.408\\nsamples = 7\\nvalue = [5, 2]'),\n",
       " Text(0.3012969737279681, 0.38636363636363635, 'gini = 0.0\\nsamples = 3\\nvalue = [3, 0]'),\n",
       " Text(0.3039574326571334, 0.38636363636363635, 'PH <= -0.326\\ngini = 0.5\\nsamples = 4\\nvalue = [2, 2]'),\n",
       " Text(0.3026272031925507, 0.3409090909090909, 'gini = 0.0\\nsamples = 2\\nvalue = [0, 2]'),\n",
       " Text(0.305287662121716, 0.3409090909090909, 'gini = 0.0\\nsamples = 2\\nvalue = [2, 0]'),\n",
       " Text(0.30794812105088126, 0.5227272727272727, 'sugar <= -0.656\\ngini = 0.498\\nsamples = 17\\nvalue = [9, 8]'),\n",
       " Text(0.30661789158629865, 0.4772727272727273, 'alchol <= -0.7\\ngini = 0.397\\nsamples = 11\\nvalue = [3, 8]'),\n",
       " Text(0.305287662121716, 0.4318181818181818, 'gini = 0.0\\nsamples = 3\\nvalue = [3, 0]'),\n",
       " Text(0.30794812105088126, 0.4318181818181818, 'gini = 0.0\\nsamples = 8\\nvalue = [0, 8]'),\n",
       " Text(0.30927835051546393, 0.4772727272727273, 'gini = 0.0\\nsamples = 6\\nvalue = [6, 0]'),\n",
       " Text(0.31725972730295976, 0.75, 'PH <= -2.706\\ngini = 0.222\\nsamples = 55\\nvalue = [7, 48]'),\n",
       " Text(0.3159294978383771, 0.7045454545454546, 'gini = 0.0\\nsamples = 1\\nvalue = [1, 0]'),\n",
       " Text(0.3185899567675424, 0.7045454545454546, 'PH <= -1.328\\ngini = 0.198\\nsamples = 54\\nvalue = [6, 48]'),\n",
       " Text(0.31725972730295976, 0.6590909090909091, 'gini = 0.0\\nsamples = 12\\nvalue = [0, 12]'),\n",
       " Text(0.31992018623212504, 0.6590909090909091, 'PH <= -0.451\\ngini = 0.245\\nsamples = 42\\nvalue = [6, 36]'),\n",
       " Text(0.3185899567675424, 0.6136363636363636, 'alchol <= -0.7\\ngini = 0.32\\nsamples = 30\\nvalue = [6, 24]'),\n",
       " Text(0.3159294978383771, 0.5681818181818182, 'alchol <= -0.784\\ngini = 0.401\\nsamples = 18\\nvalue = [5, 13]'),\n",
       " Text(0.3145992683737945, 0.5227272727272727, 'PH <= -0.639\\ngini = 0.305\\nsamples = 16\\nvalue = [3, 13]'),\n",
       " Text(0.3119388094446292, 0.4772727272727273, 'sugar <= -0.296\\ngini = 0.142\\nsamples = 13\\nvalue = [1, 12]'),\n",
       " Text(0.31060857998004654, 0.4318181818181818, 'gini = 0.0\\nsamples = 11\\nvalue = [0, 11]'),\n",
       " Text(0.3132690389092118, 0.4318181818181818, 'PH <= -0.983\\ngini = 0.5\\nsamples = 2\\nvalue = [1, 1]'),\n",
       " Text(0.3119388094446292, 0.38636363636363635, 'gini = 0.0\\nsamples = 1\\nvalue = [1, 0]'),\n",
       " Text(0.3145992683737945, 0.38636363636363635, 'gini = 0.0\\nsamples = 1\\nvalue = [0, 1]'),\n",
       " Text(0.31725972730295976, 0.4772727272727273, 'sugar <= -0.307\\ngini = 0.444\\nsamples = 3\\nvalue = [2, 1]'),\n",
       " Text(0.3159294978383771, 0.4318181818181818, 'gini = 0.0\\nsamples = 2\\nvalue = [2, 0]'),\n",
       " Text(0.3185899567675424, 0.4318181818181818, 'gini = 0.0\\nsamples = 1\\nvalue = [0, 1]'),\n",
       " Text(0.31725972730295976, 0.5227272727272727, 'gini = 0.0\\nsamples = 2\\nvalue = [2, 0]'),\n",
       " Text(0.3212504156967077, 0.5681818181818182, 'PH <= -1.14\\ngini = 0.153\\nsamples = 12\\nvalue = [1, 11]'),\n",
       " Text(0.31992018623212504, 0.5227272727272727, 'gini = 0.0\\nsamples = 1\\nvalue = [1, 0]'),\n",
       " Text(0.3225806451612903, 0.5227272727272727, 'gini = 0.0\\nsamples = 11\\nvalue = [0, 11]'),\n",
       " Text(0.3212504156967077, 0.6136363636363636, 'gini = 0.0\\nsamples = 12\\nvalue = [0, 12]'),\n",
       " Text(0.42854108642334554, 0.7954545454545454, 'alchol <= -0.427\\ngini = 0.343\\nsamples = 783\\nvalue = [611, 172]'),\n",
       " Text(0.3791777519122049, 0.75, 'sugar <= -0.317\\ngini = 0.191\\nsamples = 374\\nvalue = [334, 40]'),\n",
       " Text(0.36627036913867644, 0.7045454545454546, 'sugar <= -0.588\\ngini = 0.157\\nsamples = 362\\nvalue = [331, 31]'),\n",
       " Text(0.3484369803791154, 0.6590909090909091, 'alchol <= -0.532\\ngini = 0.117\\nsamples = 304\\nvalue = [285, 19]'),\n",
       " Text(0.33438643165946125, 0.6136363636363636, 'alchol <= -1.287\\ngini = 0.095\\nsamples = 280\\nvalue = [266, 14]'),\n",
       " Text(0.32723644828732956, 0.5681818181818182, 'PH <= 0.583\\ngini = 0.5\\nsamples = 2\\nvalue = [1, 1]'),\n",
       " Text(0.32590621882274695, 0.5227272727272727, 'gini = 0.0\\nsamples = 1\\nvalue = [0, 1]'),\n",
       " Text(0.32856667775191223, 0.5227272727272727, 'gini = 0.0\\nsamples = 1\\nvalue = [1, 0]'),\n",
       " Text(0.34153641503159293, 0.5681818181818182, 'PH <= 1.303\\ngini = 0.089\\nsamples = 278\\nvalue = [265, 13]'),\n",
       " Text(0.3312271366810775, 0.5227272727272727, 'alchol <= -0.616\\ngini = 0.064\\nsamples = 210\\nvalue = [203, 7]'),\n",
       " Text(0.3252411040904556, 0.4772727272727273, 'sugar <= -0.755\\ngini = 0.043\\nsamples = 183\\nvalue = [179, 4]'),\n",
       " Text(0.3212504156967077, 0.4318181818181818, 'alchol <= -0.952\\ngini = 0.142\\nsamples = 39\\nvalue = [36, 3]'),\n",
       " Text(0.31992018623212504, 0.38636363636363635, 'gini = 0.0\\nsamples = 9\\nvalue = [9, 0]'),\n",
       " Text(0.3225806451612903, 0.38636363636363635, 'PH <= 1.053\\ngini = 0.18\\nsamples = 30\\nvalue = [27, 3]'),\n",
       " Text(0.3212504156967077, 0.3409090909090909, 'PH <= 0.896\\ngini = 0.236\\nsamples = 22\\nvalue = [19, 3]'),\n",
       " Text(0.3185899567675424, 0.29545454545454547, 'PH <= 0.144\\ngini = 0.18\\nsamples = 20\\nvalue = [18, 2]'),\n",
       " Text(0.31725972730295976, 0.25, 'gini = 0.0\\nsamples = 6\\nvalue = [6, 0]'),\n",
       " Text(0.31992018623212504, 0.25, 'PH <= 0.238\\ngini = 0.245\\nsamples = 14\\nvalue = [12, 2]'),\n",
       " Text(0.3185899567675424, 0.20454545454545456, 'gini = 0.0\\nsamples = 1\\nvalue = [0, 1]'),\n",
       " Text(0.3212504156967077, 0.20454545454545456, 'sugar <= -0.776\\ngini = 0.142\\nsamples = 13\\nvalue = [12, 1]'),\n",
       " Text(0.31992018623212504, 0.1590909090909091, 'alchol <= -0.868\\ngini = 0.375\\nsamples = 4\\nvalue = [3, 1]'),\n",
       " Text(0.3185899567675424, 0.11363636363636363, 'gini = 0.0\\nsamples = 2\\nvalue = [2, 0]'),\n",
       " Text(0.3212504156967077, 0.11363636363636363, 'gini = 0.5\\nsamples = 2\\nvalue = [1, 1]'),\n",
       " Text(0.3225806451612903, 0.1590909090909091, 'gini = 0.0\\nsamples = 9\\nvalue = [9, 0]'),\n",
       " Text(0.323910874625873, 0.29545454545454547, 'alchol <= -0.826\\ngini = 0.5\\nsamples = 2\\nvalue = [1, 1]'),\n",
       " Text(0.3225806451612903, 0.25, 'gini = 0.0\\nsamples = 1\\nvalue = [0, 1]'),\n",
       " Text(0.3252411040904556, 0.25, 'gini = 0.0\\nsamples = 1\\nvalue = [1, 0]'),\n",
       " Text(0.323910874625873, 0.3409090909090909, 'gini = 0.0\\nsamples = 8\\nvalue = [8, 0]'),\n",
       " Text(0.32923179248420353, 0.4318181818181818, 'sugar <= -0.713\\ngini = 0.014\\nsamples = 144\\nvalue = [143, 1]'),\n",
       " Text(0.32790156301962087, 0.38636363636363635, 'sugar <= -0.734\\ngini = 0.033\\nsamples = 60\\nvalue = [59, 1]'),\n",
       " Text(0.32657133355503826, 0.3409090909090909, 'gini = 0.0\\nsamples = 31\\nvalue = [31, 0]'),\n",
       " Text(0.32923179248420353, 0.3409090909090909, 'PH <= 0.614\\ngini = 0.067\\nsamples = 29\\nvalue = [28, 1]'),\n",
       " Text(0.32790156301962087, 0.29545454545454547, 'gini = 0.0\\nsamples = 17\\nvalue = [17, 0]'),\n",
       " Text(0.33056202194878614, 0.29545454545454547, 'PH <= 0.677\\ngini = 0.153\\nsamples = 12\\nvalue = [11, 1]'),\n",
       " Text(0.32923179248420353, 0.25, 'alchol <= -0.868\\ngini = 0.5\\nsamples = 2\\nvalue = [1, 1]'),\n",
       " Text(0.32790156301962087, 0.20454545454545456, 'gini = 0.0\\nsamples = 1\\nvalue = [0, 1]'),\n",
       " Text(0.33056202194878614, 0.20454545454545456, 'gini = 0.0\\nsamples = 1\\nvalue = [1, 0]'),\n",
       " Text(0.3318922514133688, 0.25, 'gini = 0.0\\nsamples = 10\\nvalue = [10, 0]'),\n",
       " Text(0.33056202194878614, 0.38636363636363635, 'gini = 0.0\\nsamples = 84\\nvalue = [84, 0]'),\n",
       " Text(0.33721316927169936, 0.4772727272727273, 'PH <= 0.113\\ngini = 0.198\\nsamples = 27\\nvalue = [24, 3]'),\n",
       " Text(0.3345527103425341, 0.4318181818181818, 'sugar <= -0.651\\ngini = 0.444\\nsamples = 3\\nvalue = [1, 2]'),\n",
       " Text(0.3332224808779514, 0.38636363636363635, 'gini = 0.0\\nsamples = 2\\nvalue = [0, 2]'),\n",
       " Text(0.33588293980711675, 0.38636363636363635, 'gini = 0.0\\nsamples = 1\\nvalue = [1, 0]'),\n",
       " Text(0.33987362820086464, 0.4318181818181818, 'sugar <= -0.63\\ngini = 0.08\\nsamples = 24\\nvalue = [23, 1]'),\n",
       " Text(0.33854339873628203, 0.38636363636363635, 'gini = 0.0\\nsamples = 21\\nvalue = [21, 0]'),\n",
       " Text(0.3412038576654473, 0.38636363636363635, 'PH <= 0.364\\ngini = 0.444\\nsamples = 3\\nvalue = [2, 1]'),\n",
       " Text(0.33987362820086464, 0.3409090909090909, 'gini = 0.0\\nsamples = 1\\nvalue = [0, 1]'),\n",
       " Text(0.3425340871300299, 0.3409090909090909, 'gini = 0.0\\nsamples = 2\\nvalue = [2, 0]'),\n",
       " Text(0.3518456933821084, 0.5227272727272727, 'alchol <= -1.036\\ngini = 0.161\\nsamples = 68\\nvalue = [62, 6]'),\n",
       " Text(0.34918523445294314, 0.4772727272727273, 'sugar <= -0.64\\ngini = 0.42\\nsamples = 10\\nvalue = [7, 3]'),\n",
       " Text(0.34785500498836047, 0.4318181818181818, 'sugar <= -0.755\\ngini = 0.346\\nsamples = 9\\nvalue = [7, 2]'),\n",
       " Text(0.34652477552377786, 0.38636363636363635, 'alchol <= -1.119\\ngini = 0.5\\nsamples = 4\\nvalue = [2, 2]'),\n",
       " Text(0.3451945460591952, 0.3409090909090909, 'PH <= 1.366\\ngini = 0.444\\nsamples = 3\\nvalue = [2, 1]'),\n",
       " Text(0.3438643165946126, 0.29545454545454547, 'gini = 0.0\\nsamples = 1\\nvalue = [0, 1]'),\n",
       " Text(0.34652477552377786, 0.29545454545454547, 'gini = 0.0\\nsamples = 2\\nvalue = [2, 0]'),\n",
       " Text(0.34785500498836047, 0.3409090909090909, 'gini = 0.0\\nsamples = 1\\nvalue = [0, 1]'),\n",
       " Text(0.34918523445294314, 0.38636363636363635, 'gini = 0.0\\nsamples = 5\\nvalue = [5, 0]'),\n",
       " Text(0.35051546391752575, 0.4318181818181818, 'gini = 0.0\\nsamples = 1\\nvalue = [0, 1]'),\n",
       " Text(0.3545061523112737, 0.4772727272727273, 'PH <= 1.805\\ngini = 0.098\\nsamples = 58\\nvalue = [55, 3]'),\n",
       " Text(0.3531759228466911, 0.4318181818181818, 'PH <= 1.679\\ngini = 0.17\\nsamples = 32\\nvalue = [29, 3]'),\n",
       " Text(0.3518456933821084, 0.38636363636363635, 'gini = 0.0\\nsamples = 25\\nvalue = [25, 0]'),\n",
       " Text(0.3545061523112737, 0.38636363636363635, 'PH <= 1.742\\ngini = 0.49\\nsamples = 7\\nvalue = [4, 3]'),\n",
       " Text(0.3531759228466911, 0.3409090909090909, 'gini = 0.0\\nsamples = 2\\nvalue = [0, 2]'),\n",
       " Text(0.35583638177585636, 0.3409090909090909, 'sugar <= -0.651\\ngini = 0.32\\nsamples = 5\\nvalue = [4, 1]'),\n",
       " Text(0.3545061523112737, 0.29545454545454547, 'gini = 0.0\\nsamples = 2\\nvalue = [2, 0]'),\n",
       " Text(0.35716661124043897, 0.29545454545454547, 'sugar <= -0.63\\ngini = 0.444\\nsamples = 3\\nvalue = [2, 1]'),\n",
       " Text(0.35583638177585636, 0.25, 'gini = 0.0\\nsamples = 1\\nvalue = [0, 1]'),\n",
       " Text(0.35849684070502164, 0.25, 'gini = 0.0\\nsamples = 2\\nvalue = [2, 0]'),\n",
       " Text(0.35583638177585636, 0.4318181818181818, 'gini = 0.0\\nsamples = 26\\nvalue = [26, 0]'),\n",
       " Text(0.3624875290987695, 0.6136363636363636, 'PH <= 1.084\\ngini = 0.33\\nsamples = 24\\nvalue = [19, 5]'),\n",
       " Text(0.3611572996341869, 0.5681818181818182, 'sugar <= -0.734\\ngini = 0.459\\nsamples = 14\\nvalue = [9, 5]'),\n",
       " Text(0.35982707016960425, 0.5227272727272727, 'gini = 0.0\\nsamples = 2\\nvalue = [0, 2]'),\n",
       " Text(0.3624875290987695, 0.5227272727272727, 'sugar <= -0.677\\ngini = 0.375\\nsamples = 12\\nvalue = [9, 3]'),\n",
       " Text(0.35982707016960425, 0.4772727272727273, 'PH <= -0.012\\ngini = 0.198\\nsamples = 9\\nvalue = [8, 1]'),\n",
       " Text(0.35849684070502164, 0.4318181818181818, 'sugar <= -0.713\\ngini = 0.375\\nsamples = 4\\nvalue = [3, 1]'),\n",
       " Text(0.35716661124043897, 0.38636363636363635, 'gini = 0.0\\nsamples = 3\\nvalue = [3, 0]'),\n",
       " Text(0.35982707016960425, 0.38636363636363635, 'gini = 0.0\\nsamples = 1\\nvalue = [0, 1]'),\n",
       " Text(0.3611572996341869, 0.4318181818181818, 'gini = 0.0\\nsamples = 5\\nvalue = [5, 0]'),\n",
       " Text(0.3651479880279348, 0.4772727272727273, 'sugar <= -0.609\\ngini = 0.444\\nsamples = 3\\nvalue = [1, 2]'),\n",
       " Text(0.3638177585633522, 0.4318181818181818, 'gini = 0.0\\nsamples = 2\\nvalue = [0, 2]'),\n",
       " Text(0.36647821749251747, 0.4318181818181818, 'gini = 0.0\\nsamples = 1\\nvalue = [1, 0]'),\n",
       " Text(0.3638177585633522, 0.5681818181818182, 'gini = 0.0\\nsamples = 10\\nvalue = [10, 0]'),\n",
       " Text(0.3841037578982374, 0.6590909090909091, 'PH <= 1.366\\ngini = 0.328\\nsamples = 58\\nvalue = [46, 12]'),\n",
       " Text(0.3827735284336548, 0.6136363636363636, 'PH <= 0.834\\ngini = 0.36\\nsamples = 51\\nvalue = [39, 12]'),\n",
       " Text(0.37645493847688727, 0.5681818181818182, 'sugar <= -0.567\\ngini = 0.292\\nsamples = 45\\nvalue = [37, 8]'),\n",
       " Text(0.371799135350848, 0.5227272727272727, 'PH <= 0.614\\ngini = 0.463\\nsamples = 11\\nvalue = [7, 4]'),\n",
       " Text(0.37046890588626535, 0.4772727272727273, 'alchol <= -0.868\\ngini = 0.346\\nsamples = 9\\nvalue = [7, 2]'),\n",
       " Text(0.36913867642168274, 0.4318181818181818, 'gini = 0.0\\nsamples = 3\\nvalue = [3, 0]'),\n",
       " Text(0.371799135350848, 0.4318181818181818, 'PH <= 0.458\\ngini = 0.444\\nsamples = 6\\nvalue = [4, 2]'),\n",
       " Text(0.37046890588626535, 0.38636363636363635, 'alchol <= -0.784\\ngini = 0.32\\nsamples = 5\\nvalue = [4, 1]'),\n",
       " Text(0.36913867642168274, 0.3409090909090909, 'PH <= 0.238\\ngini = 0.5\\nsamples = 2\\nvalue = [1, 1]'),\n",
       " Text(0.3678084469571001, 0.29545454545454547, 'gini = 0.0\\nsamples = 1\\nvalue = [1, 0]'),\n",
       " Text(0.37046890588626535, 0.29545454545454547, 'gini = 0.0\\nsamples = 1\\nvalue = [0, 1]'),\n",
       " Text(0.371799135350848, 0.3409090909090909, 'gini = 0.0\\nsamples = 3\\nvalue = [3, 0]'),\n",
       " Text(0.3731293648154307, 0.38636363636363635, 'gini = 0.0\\nsamples = 1\\nvalue = [0, 1]'),\n",
       " Text(0.3731293648154307, 0.4772727272727273, 'gini = 0.0\\nsamples = 2\\nvalue = [0, 2]'),\n",
       " Text(0.3811107416029265, 0.5227272727272727, 'alchol <= -0.7\\ngini = 0.208\\nsamples = 34\\nvalue = [30, 4]'),\n",
       " Text(0.37845028267376124, 0.4772727272727273, 'PH <= 0.019\\ngini = 0.083\\nsamples = 23\\nvalue = [22, 1]'),\n",
       " Text(0.3771200532091786, 0.4318181818181818, 'PH <= -0.075\\ngini = 0.444\\nsamples = 3\\nvalue = [2, 1]'),\n",
       " Text(0.37578982374459596, 0.38636363636363635, 'gini = 0.0\\nsamples = 2\\nvalue = [2, 0]'),\n",
       " Text(0.37845028267376124, 0.38636363636363635, 'gini = 0.0\\nsamples = 1\\nvalue = [0, 1]'),\n",
       " Text(0.37978051213834385, 0.4318181818181818, 'gini = 0.0\\nsamples = 20\\nvalue = [20, 0]'),\n",
       " Text(0.3837712005320918, 0.4772727272727273, 'sugar <= -0.385\\ngini = 0.397\\nsamples = 11\\nvalue = [8, 3]'),\n",
       " Text(0.38244097106750913, 0.4318181818181818, 'sugar <= -0.515\\ngini = 0.32\\nsamples = 10\\nvalue = [8, 2]'),\n",
       " Text(0.3811107416029265, 0.38636363636363635, 'PH <= 0.113\\ngini = 0.48\\nsamples = 5\\nvalue = [3, 2]'),\n",
       " Text(0.37978051213834385, 0.3409090909090909, 'gini = 0.0\\nsamples = 1\\nvalue = [1, 0]'),\n",
       " Text(0.38244097106750913, 0.3409090909090909, 'alchol <= -0.532\\ngini = 0.5\\nsamples = 4\\nvalue = [2, 2]'),\n",
       " Text(0.3811107416029265, 0.29545454545454547, 'PH <= 0.426\\ngini = 0.444\\nsamples = 3\\nvalue = [1, 2]'),\n",
       " Text(0.37978051213834385, 0.25, 'gini = 0.0\\nsamples = 2\\nvalue = [0, 2]'),\n",
       " Text(0.38244097106750913, 0.25, 'gini = 0.0\\nsamples = 1\\nvalue = [1, 0]'),\n",
       " Text(0.3837712005320918, 0.29545454545454547, 'gini = 0.0\\nsamples = 1\\nvalue = [1, 0]'),\n",
       " Text(0.3837712005320918, 0.38636363636363635, 'gini = 0.0\\nsamples = 5\\nvalue = [5, 0]'),\n",
       " Text(0.3851014299966744, 0.4318181818181818, 'gini = 0.0\\nsamples = 1\\nvalue = [0, 1]'),\n",
       " Text(0.38909211839042235, 0.5681818181818182, 'sugar <= -0.494\\ngini = 0.444\\nsamples = 6\\nvalue = [2, 4]'),\n",
       " Text(0.3877618889258397, 0.5227272727272727, 'sugar <= -0.536\\ngini = 0.444\\nsamples = 3\\nvalue = [2, 1]'),\n",
       " Text(0.38643165946125707, 0.4772727272727273, 'gini = 0.0\\nsamples = 1\\nvalue = [0, 1]'),\n",
       " Text(0.38909211839042235, 0.4772727272727273, 'gini = 0.0\\nsamples = 2\\nvalue = [2, 0]'),\n",
       " Text(0.390422347855005, 0.5227272727272727, 'gini = 0.0\\nsamples = 3\\nvalue = [0, 3]'),\n",
       " Text(0.3854339873628201, 0.6136363636363636, 'gini = 0.0\\nsamples = 7\\nvalue = [7, 0]'),\n",
       " Text(0.3920851346857333, 0.7045454545454546, 'sugar <= -0.255\\ngini = 0.375\\nsamples = 12\\nvalue = [3, 9]'),\n",
       " Text(0.38942467575656803, 0.6590909090909091, 'PH <= 1.397\\ngini = 0.198\\nsamples = 9\\nvalue = [1, 8]'),\n",
       " Text(0.38809444629198536, 0.6136363636363636, 'gini = 0.0\\nsamples = 8\\nvalue = [0, 8]'),\n",
       " Text(0.39075490522115064, 0.6136363636363636, 'gini = 0.0\\nsamples = 1\\nvalue = [1, 0]'),\n",
       " Text(0.3947455936148986, 0.6590909090909091, 'PH <= 0.395\\ngini = 0.444\\nsamples = 3\\nvalue = [2, 1]'),\n",
       " Text(0.3934153641503159, 0.6136363636363636, 'gini = 0.0\\nsamples = 2\\nvalue = [2, 0]'),\n",
       " Text(0.3960758230794812, 0.6136363636363636, 'gini = 0.0\\nsamples = 1\\nvalue = [0, 1]'),\n",
       " Text(0.4779044209344862, 0.75, 'PH <= 0.426\\ngini = 0.437\\nsamples = 409\\nvalue = [277, 132]'),\n",
       " Text(0.4219321582973063, 0.7045454545454546, 'sugar <= -0.63\\ngini = 0.499\\nsamples = 106\\nvalue = [51, 55]'),\n",
       " Text(0.40688393747921514, 0.6590909090909091, 'sugar <= -0.755\\ngini = 0.455\\nsamples = 63\\nvalue = [22, 41]'),\n",
       " Text(0.39873628200864647, 0.6136363636363636, 'alchol <= 0.308\\ngini = 0.266\\nsamples = 19\\nvalue = [3, 16]'),\n",
       " Text(0.3960758230794812, 0.5681818181818182, 'PH <= 0.113\\ngini = 0.208\\nsamples = 17\\nvalue = [2, 15]'),\n",
       " Text(0.3947455936148986, 0.5227272727272727, 'sugar <= -0.776\\ngini = 0.32\\nsamples = 10\\nvalue = [2, 8]'),\n",
       " Text(0.3920851346857333, 0.4772727272727273, 'PH <= 0.05\\ngini = 0.245\\nsamples = 7\\nvalue = [1, 6]'),\n",
       " Text(0.39075490522115064, 0.4318181818181818, 'gini = 0.0\\nsamples = 6\\nvalue = [0, 6]'),\n",
       " Text(0.3934153641503159, 0.4318181818181818, 'gini = 0.0\\nsamples = 1\\nvalue = [1, 0]'),\n",
       " Text(0.39740605254406386, 0.4772727272727273, 'PH <= 0.019\\ngini = 0.444\\nsamples = 3\\nvalue = [1, 2]'),\n",
       " Text(0.3960758230794812, 0.4318181818181818, 'gini = 0.0\\nsamples = 1\\nvalue = [1, 0]'),\n",
       " Text(0.39873628200864647, 0.4318181818181818, 'gini = 0.0\\nsamples = 2\\nvalue = [0, 2]'),\n",
       " Text(0.39740605254406386, 0.5227272727272727, 'gini = 0.0\\nsamples = 7\\nvalue = [0, 7]'),\n",
       " Text(0.40139674093781175, 0.5681818181818182, 'sugar <= -0.776\\ngini = 0.5\\nsamples = 2\\nvalue = [1, 1]'),\n",
       " Text(0.40006651147322914, 0.5227272727272727, 'gini = 0.0\\nsamples = 1\\nvalue = [1, 0]'),\n",
       " Text(0.4027269704023944, 0.5227272727272727, 'gini = 0.0\\nsamples = 1\\nvalue = [0, 1]'),\n",
       " Text(0.4150315929497838, 0.6136363636363636, 'alchol <= -0.196\\ngini = 0.491\\nsamples = 44\\nvalue = [19, 25]'),\n",
       " Text(0.40804788826072497, 0.5681818181818182, 'PH <= 0.019\\ngini = 0.459\\nsamples = 14\\nvalue = [9, 5]'),\n",
       " Text(0.4053874293315597, 0.5227272727272727, 'alchol <= -0.322\\ngini = 0.444\\nsamples = 6\\nvalue = [2, 4]'),\n",
       " Text(0.4040571998669771, 0.4772727272727273, 'gini = 0.0\\nsamples = 3\\nvalue = [0, 3]'),\n",
       " Text(0.40671765879614236, 0.4772727272727273, 'PH <= -0.075\\ngini = 0.444\\nsamples = 3\\nvalue = [2, 1]'),\n",
       " Text(0.4053874293315597, 0.4318181818181818, 'gini = 0.0\\nsamples = 1\\nvalue = [1, 0]'),\n",
       " Text(0.40804788826072497, 0.4318181818181818, 'sugar <= -0.713\\ngini = 0.5\\nsamples = 2\\nvalue = [1, 1]'),\n",
       " Text(0.40671765879614236, 0.38636363636363635, 'gini = 0.0\\nsamples = 1\\nvalue = [0, 1]'),\n",
       " Text(0.40937811772530763, 0.38636363636363635, 'gini = 0.0\\nsamples = 1\\nvalue = [1, 0]'),\n",
       " Text(0.41070834718989024, 0.5227272727272727, 'PH <= 0.332\\ngini = 0.219\\nsamples = 8\\nvalue = [7, 1]'),\n",
       " Text(0.40937811772530763, 0.4772727272727273, 'gini = 0.0\\nsamples = 6\\nvalue = [6, 0]'),\n",
       " Text(0.4120385766544729, 0.4772727272727273, 'alchol <= -0.322\\ngini = 0.5\\nsamples = 2\\nvalue = [1, 1]'),\n",
       " Text(0.41070834718989024, 0.4318181818181818, 'gini = 0.0\\nsamples = 1\\nvalue = [1, 0]'),\n",
       " Text(0.4133688061190555, 0.4318181818181818, 'gini = 0.0\\nsamples = 1\\nvalue = [0, 1]'),\n",
       " Text(0.4220152976388427, 0.5681818181818182, 'PH <= 0.113\\ngini = 0.444\\nsamples = 30\\nvalue = [10, 20]'),\n",
       " Text(0.4186897239773861, 0.5227272727272727, 'PH <= -0.012\\ngini = 0.18\\nsamples = 10\\nvalue = [1, 9]'),\n",
       " Text(0.41735949451280346, 0.4772727272727273, 'PH <= -0.075\\ngini = 0.375\\nsamples = 4\\nvalue = [1, 3]'),\n",
       " Text(0.4160292650482208, 0.4318181818181818, 'gini = 0.0\\nsamples = 2\\nvalue = [0, 2]'),\n",
       " Text(0.4186897239773861, 0.4318181818181818, 'alchol <= 0.224\\ngini = 0.5\\nsamples = 2\\nvalue = [1, 1]'),\n",
       " Text(0.41735949451280346, 0.38636363636363635, 'gini = 0.0\\nsamples = 1\\nvalue = [0, 1]'),\n",
       " Text(0.42001995344196874, 0.38636363636363635, 'gini = 0.0\\nsamples = 1\\nvalue = [1, 0]'),\n",
       " Text(0.42001995344196874, 0.4772727272727273, 'gini = 0.0\\nsamples = 6\\nvalue = [0, 6]'),\n",
       " Text(0.4253408713002993, 0.5227272727272727, 'alchol <= -0.112\\ngini = 0.495\\nsamples = 20\\nvalue = [9, 11]'),\n",
       " Text(0.4240106418357167, 0.4772727272727273, 'gini = 0.0\\nsamples = 3\\nvalue = [0, 3]'),\n",
       " Text(0.42667110076488196, 0.4772727272727273, 'alchol <= 0.224\\ngini = 0.498\\nsamples = 17\\nvalue = [9, 8]'),\n",
       " Text(0.4240106418357167, 0.4318181818181818, 'sugar <= -0.651\\ngini = 0.444\\nsamples = 9\\nvalue = [6, 3]'),\n",
       " Text(0.422680412371134, 0.38636363636363635, 'alchol <= -0.028\\ngini = 0.375\\nsamples = 8\\nvalue = [6, 2]'),\n",
       " Text(0.4213501829065514, 0.3409090909090909, 'sugar <= -0.703\\ngini = 0.444\\nsamples = 3\\nvalue = [1, 2]'),\n",
       " Text(0.42001995344196874, 0.29545454545454547, 'gini = 0.0\\nsamples = 2\\nvalue = [0, 2]'),\n",
       " Text(0.422680412371134, 0.29545454545454547, 'gini = 0.0\\nsamples = 1\\nvalue = [1, 0]'),\n",
       " Text(0.4240106418357167, 0.3409090909090909, 'gini = 0.0\\nsamples = 5\\nvalue = [5, 0]'),\n",
       " Text(0.4253408713002993, 0.38636363636363635, 'gini = 0.0\\nsamples = 1\\nvalue = [0, 1]'),\n",
       " Text(0.42933155969404724, 0.4318181818181818, 'sugar <= -0.672\\ngini = 0.469\\nsamples = 8\\nvalue = [3, 5]'),\n",
       " Text(0.42800133022946457, 0.38636363636363635, 'gini = 0.0\\nsamples = 4\\nvalue = [0, 4]'),\n",
       " Text(0.43066178915862985, 0.38636363636363635, 'alchol <= 0.392\\ngini = 0.375\\nsamples = 4\\nvalue = [3, 1]'),\n",
       " Text(0.42933155969404724, 0.3409090909090909, 'PH <= 0.176\\ngini = 0.5\\nsamples = 2\\nvalue = [1, 1]'),\n",
       " Text(0.42800133022946457, 0.29545454545454547, 'gini = 0.0\\nsamples = 1\\nvalue = [1, 0]'),\n",
       " Text(0.43066178915862985, 0.29545454545454547, 'gini = 0.0\\nsamples = 1\\nvalue = [0, 1]'),\n",
       " Text(0.4319920186232125, 0.3409090909090909, 'gini = 0.0\\nsamples = 2\\nvalue = [2, 0]'),\n",
       " Text(0.4369803791153974, 0.6590909090909091, 'PH <= 0.05\\ngini = 0.439\\nsamples = 43\\nvalue = [29, 14]'),\n",
       " Text(0.4319920186232125, 0.6136363636363636, 'sugar <= -0.609\\ngini = 0.231\\nsamples = 15\\nvalue = [13, 2]'),\n",
       " Text(0.43066178915862985, 0.5681818181818182, 'gini = 0.0\\nsamples = 1\\nvalue = [0, 1]'),\n",
       " Text(0.4333222480877951, 0.5681818181818182, 'sugar <= -0.588\\ngini = 0.133\\nsamples = 14\\nvalue = [13, 1]'),\n",
       " Text(0.4319920186232125, 0.5227272727272727, 'PH <= -0.012\\ngini = 0.278\\nsamples = 6\\nvalue = [5, 1]'),\n",
       " Text(0.43066178915862985, 0.4772727272727273, 'gini = 0.0\\nsamples = 4\\nvalue = [4, 0]'),\n",
       " Text(0.4333222480877951, 0.4772727272727273, 'gini = 0.5\\nsamples = 2\\nvalue = [1, 1]'),\n",
       " Text(0.4346524775523778, 0.5227272727272727, 'gini = 0.0\\nsamples = 8\\nvalue = [8, 0]'),\n",
       " Text(0.4419687396075823, 0.6136363636363636, 'sugar <= -0.567\\ngini = 0.49\\nsamples = 28\\nvalue = [16, 12]'),\n",
       " Text(0.4386431659461257, 0.5681818181818182, 'PH <= 0.238\\ngini = 0.298\\nsamples = 11\\nvalue = [9, 2]'),\n",
       " Text(0.43731293648154307, 0.5227272727272727, 'PH <= 0.176\\ngini = 0.444\\nsamples = 6\\nvalue = [4, 2]'),\n",
       " Text(0.4359827070169604, 0.4772727272727273, 'PH <= 0.113\\ngini = 0.32\\nsamples = 5\\nvalue = [4, 1]'),\n",
       " Text(0.4346524775523778, 0.4318181818181818, 'sugar <= -0.609\\ngini = 0.5\\nsamples = 2\\nvalue = [1, 1]'),\n",
       " Text(0.4333222480877951, 0.38636363636363635, 'gini = 0.0\\nsamples = 1\\nvalue = [0, 1]'),\n",
       " Text(0.4359827070169604, 0.38636363636363635, 'gini = 0.0\\nsamples = 1\\nvalue = [1, 0]'),\n",
       " Text(0.43731293648154307, 0.4318181818181818, 'gini = 0.0\\nsamples = 3\\nvalue = [3, 0]'),\n",
       " Text(0.4386431659461257, 0.4772727272727273, 'gini = 0.0\\nsamples = 1\\nvalue = [0, 1]'),\n",
       " Text(0.43997339541070835, 0.5227272727272727, 'gini = 0.0\\nsamples = 5\\nvalue = [5, 0]'),\n",
       " Text(0.4452943132690389, 0.5681818181818182, 'alchol <= -0.28\\ngini = 0.484\\nsamples = 17\\nvalue = [7, 10]'),\n",
       " Text(0.4426338543398736, 0.5227272727272727, 'sugar <= -0.494\\ngini = 0.444\\nsamples = 6\\nvalue = [4, 2]'),\n",
       " Text(0.441303624875291, 0.4772727272727273, 'gini = 0.0\\nsamples = 2\\nvalue = [0, 2]'),\n",
       " Text(0.4439640838044563, 0.4772727272727273, 'gini = 0.0\\nsamples = 4\\nvalue = [4, 0]'),\n",
       " Text(0.4479547721982042, 0.5227272727272727, 'sugar <= -0.432\\ngini = 0.397\\nsamples = 11\\nvalue = [3, 8]'),\n",
       " Text(0.44662454273362157, 0.4772727272727273, 'PH <= 0.176\\ngini = 0.49\\nsamples = 7\\nvalue = [3, 4]'),\n",
       " Text(0.4452943132690389, 0.4318181818181818, 'gini = 0.0\\nsamples = 2\\nvalue = [2, 0]'),\n",
       " Text(0.4479547721982042, 0.4318181818181818, 'alchol <= 0.35\\ngini = 0.32\\nsamples = 5\\nvalue = [1, 4]'),\n",
       " Text(0.44662454273362157, 0.38636363636363635, 'gini = 0.0\\nsamples = 3\\nvalue = [0, 3]'),\n",
       " Text(0.44928500166278684, 0.38636363636363635, 'PH <= 0.238\\ngini = 0.5\\nsamples = 2\\nvalue = [1, 1]'),\n",
       " Text(0.4479547721982042, 0.3409090909090909, 'gini = 0.0\\nsamples = 1\\nvalue = [0, 1]'),\n",
       " Text(0.45061523112736945, 0.3409090909090909, 'gini = 0.0\\nsamples = 1\\nvalue = [1, 0]'),\n",
       " Text(0.44928500166278684, 0.4772727272727273, 'gini = 0.0\\nsamples = 4\\nvalue = [0, 4]'),\n",
       " Text(0.5338766835716661, 0.7045454545454546, 'PH <= 2.494\\ngini = 0.379\\nsamples = 303\\nvalue = [226, 77]'),\n",
       " Text(0.5127151230462255, 0.6590909090909091, 'sugar <= -0.296\\ngini = 0.358\\nsamples = 291\\nvalue = [223, 68]'),\n",
       " Text(0.5113848935816429, 0.6136363636363636, 'PH <= 1.178\\ngini = 0.347\\nsamples = 287\\nvalue = [223, 64]'),\n",
       " Text(0.4954169437978051, 0.5681818181818182, 'sugar <= -0.38\\ngini = 0.269\\nsamples = 187\\nvalue = [157, 30]'),\n",
       " Text(0.4850141336880612, 0.5227272727272727, 'sugar <= -0.672\\ngini = 0.259\\nsamples = 183\\nvalue = [155, 28]'),\n",
       " Text(0.4681992018623212, 0.4772727272727273, 'alchol <= -0.112\\ngini = 0.318\\nsamples = 111\\nvalue = [89, 22]'),\n",
       " Text(0.4572663784502827, 0.4318181818181818, 'PH <= 0.646\\ngini = 0.142\\nsamples = 39\\nvalue = [36, 3]'),\n",
       " Text(0.4559361489857, 0.38636363636363635, 'alchol <= -0.28\\ngini = 0.337\\nsamples = 14\\nvalue = [11, 3]'),\n",
       " Text(0.45327569005653473, 0.3409090909090909, 'sugar <= -0.734\\ngini = 0.165\\nsamples = 11\\nvalue = [10, 1]'),\n",
       " Text(0.4519454605919521, 0.29545454545454547, 'alchol <= -0.364\\ngini = 0.444\\nsamples = 3\\nvalue = [2, 1]'),\n",
       " Text(0.45061523112736945, 0.25, 'gini = 0.0\\nsamples = 2\\nvalue = [2, 0]'),\n",
       " Text(0.45327569005653473, 0.25, 'gini = 0.0\\nsamples = 1\\nvalue = [0, 1]'),\n",
       " Text(0.4546059195211174, 0.29545454545454547, 'gini = 0.0\\nsamples = 8\\nvalue = [8, 0]'),\n",
       " Text(0.45859660791486534, 0.3409090909090909, 'PH <= 0.552\\ngini = 0.444\\nsamples = 3\\nvalue = [1, 2]'),\n",
       " Text(0.4572663784502827, 0.29545454545454547, 'alchol <= -0.196\\ngini = 0.5\\nsamples = 2\\nvalue = [1, 1]'),\n",
       " Text(0.4559361489857, 0.25, 'gini = 0.0\\nsamples = 1\\nvalue = [0, 1]'),\n",
       " Text(0.45859660791486534, 0.25, 'gini = 0.0\\nsamples = 1\\nvalue = [1, 0]'),\n",
       " Text(0.45992683737944795, 0.29545454545454547, 'gini = 0.0\\nsamples = 1\\nvalue = [0, 1]'),\n",
       " Text(0.45859660791486534, 0.38636363636363635, 'gini = 0.0\\nsamples = 25\\nvalue = [25, 0]'),\n",
       " Text(0.47913202527435983, 0.4318181818181818, 'PH <= 1.115\\ngini = 0.389\\nsamples = 72\\nvalue = [53, 19]'),\n",
       " Text(0.47780179580977716, 0.38636363636363635, 'sugar <= -0.734\\ngini = 0.414\\nsamples = 65\\nvalue = [46, 19]'),\n",
       " Text(0.46707682075157964, 0.3409090909090909, 'PH <= 0.489\\ngini = 0.326\\nsamples = 39\\nvalue = [31, 8]'),\n",
       " Text(0.4625872963086132, 0.29545454545454547, 'alchol <= 0.14\\ngini = 0.444\\nsamples = 3\\nvalue = [1, 2]'),\n",
       " Text(0.4612570668440306, 0.25, 'gini = 0.0\\nsamples = 2\\nvalue = [0, 2]'),\n",
       " Text(0.4639175257731959, 0.25, 'gini = 0.0\\nsamples = 1\\nvalue = [1, 0]'),\n",
       " Text(0.47156634519454604, 0.29545454545454547, 'sugar <= -0.755\\ngini = 0.278\\nsamples = 36\\nvalue = [30, 6]'),\n",
       " Text(0.46657798470236117, 0.25, 'alchol <= -0.028\\ngini = 0.351\\nsamples = 22\\nvalue = [17, 5]'),\n",
       " Text(0.4619221815763219, 0.20454545454545456, 'PH <= 0.802\\ngini = 0.5\\nsamples = 4\\nvalue = [2, 2]'),\n",
       " Text(0.46059195211173926, 0.1590909090909091, 'gini = 0.0\\nsamples = 1\\nvalue = [0, 1]'),\n",
       " Text(0.46325241104090453, 0.1590909090909091, 'PH <= 1.021\\ngini = 0.444\\nsamples = 3\\nvalue = [2, 1]'),\n",
       " Text(0.4619221815763219, 0.11363636363636363, 'gini = 0.0\\nsamples = 2\\nvalue = [2, 0]'),\n",
       " Text(0.4645826405054872, 0.11363636363636363, 'gini = 0.0\\nsamples = 1\\nvalue = [0, 1]'),\n",
       " Text(0.4712337878284004, 0.20454545454545456, 'alchol <= 0.14\\ngini = 0.278\\nsamples = 18\\nvalue = [15, 3]'),\n",
       " Text(0.46857332889923514, 0.1590909090909091, 'alchol <= 0.077\\ngini = 0.133\\nsamples = 14\\nvalue = [13, 1]'),\n",
       " Text(0.4672430994346525, 0.11363636363636363, 'gini = 0.0\\nsamples = 8\\nvalue = [8, 0]'),\n",
       " Text(0.46990355836381775, 0.11363636363636363, 'PH <= 0.99\\ngini = 0.278\\nsamples = 6\\nvalue = [5, 1]'),\n",
       " Text(0.46857332889923514, 0.06818181818181818, 'PH <= 0.771\\ngini = 0.5\\nsamples = 2\\nvalue = [1, 1]'),\n",
       " Text(0.4672430994346525, 0.022727272727272728, 'gini = 0.0\\nsamples = 1\\nvalue = [1, 0]'),\n",
       " Text(0.46990355836381775, 0.022727272727272728, 'gini = 0.0\\nsamples = 1\\nvalue = [0, 1]'),\n",
       " Text(0.4712337878284004, 0.06818181818181818, 'gini = 0.0\\nsamples = 4\\nvalue = [4, 0]'),\n",
       " Text(0.4738942467575657, 0.1590909090909091, 'alchol <= 0.308\\ngini = 0.5\\nsamples = 4\\nvalue = [2, 2]'),\n",
       " Text(0.47256401729298303, 0.11363636363636363, 'gini = 0.0\\nsamples = 2\\nvalue = [0, 2]'),\n",
       " Text(0.4752244762221483, 0.11363636363636363, 'gini = 0.0\\nsamples = 2\\nvalue = [2, 0]'),\n",
       " Text(0.476554705686731, 0.25, 'alchol <= 0.392\\ngini = 0.133\\nsamples = 14\\nvalue = [13, 1]'),\n",
       " Text(0.4752244762221483, 0.20454545454545456, 'gini = 0.0\\nsamples = 11\\nvalue = [11, 0]'),\n",
       " Text(0.4778849351513136, 0.20454545454545456, 'PH <= 0.708\\ngini = 0.444\\nsamples = 3\\nvalue = [2, 1]'),\n",
       " Text(0.476554705686731, 0.1590909090909091, 'gini = 0.0\\nsamples = 1\\nvalue = [1, 0]'),\n",
       " Text(0.47921516461589625, 0.1590909090909091, 'PH <= 0.865\\ngini = 0.5\\nsamples = 2\\nvalue = [1, 1]'),\n",
       " Text(0.4778849351513136, 0.11363636363636363, 'gini = 0.0\\nsamples = 1\\nvalue = [0, 1]'),\n",
       " Text(0.48054539408047886, 0.11363636363636363, 'gini = 0.0\\nsamples = 1\\nvalue = [1, 0]'),\n",
       " Text(0.48852677086797475, 0.3409090909090909, 'PH <= 0.928\\ngini = 0.488\\nsamples = 26\\nvalue = [15, 11]'),\n",
       " Text(0.48586631193880947, 0.29545454545454547, 'alchol <= 0.266\\ngini = 0.401\\nsamples = 18\\nvalue = [13, 5]'),\n",
       " Text(0.4845360824742268, 0.25, 'alchol <= 0.056\\ngini = 0.5\\nsamples = 10\\nvalue = [5, 5]'),\n",
       " Text(0.48320585300964414, 0.20454545454545456, 'PH <= 0.552\\ngini = 0.278\\nsamples = 6\\nvalue = [5, 1]'),\n",
       " Text(0.4818756235450615, 0.1590909090909091, 'gini = 0.0\\nsamples = 1\\nvalue = [0, 1]'),\n",
       " Text(0.4845360824742268, 0.1590909090909091, 'gini = 0.0\\nsamples = 5\\nvalue = [5, 0]'),\n",
       " Text(0.48586631193880947, 0.20454545454545456, 'gini = 0.0\\nsamples = 4\\nvalue = [0, 4]'),\n",
       " Text(0.4871965414033921, 0.25, 'gini = 0.0\\nsamples = 8\\nvalue = [8, 0]'),\n",
       " Text(0.49118722979714, 0.29545454545454547, 'sugar <= -0.713\\ngini = 0.375\\nsamples = 8\\nvalue = [2, 6]'),\n",
       " Text(0.48985700033255736, 0.25, 'gini = 0.0\\nsamples = 5\\nvalue = [0, 5]'),\n",
       " Text(0.49251745926172263, 0.25, 'sugar <= -0.693\\ngini = 0.444\\nsamples = 3\\nvalue = [2, 1]'),\n",
       " Text(0.49118722979714, 0.20454545454545456, 'gini = 0.0\\nsamples = 2\\nvalue = [2, 0]'),\n",
       " Text(0.4938476887263053, 0.20454545454545456, 'gini = 0.0\\nsamples = 1\\nvalue = [0, 1]'),\n",
       " Text(0.48046225473894244, 0.38636363636363635, 'gini = 0.0\\nsamples = 7\\nvalue = [7, 0]'),\n",
       " Text(0.5018290655138011, 0.4772727272727273, 'alchol <= -0.196\\ngini = 0.153\\nsamples = 72\\nvalue = [66, 6]'),\n",
       " Text(0.4978383771200532, 0.4318181818181818, 'sugar <= -0.588\\ngini = 0.375\\nsamples = 20\\nvalue = [15, 5]'),\n",
       " Text(0.4965081476554706, 0.38636363636363635, 'gini = 0.0\\nsamples = 11\\nvalue = [11, 0]'),\n",
       " Text(0.49916860658463585, 0.38636363636363635, 'sugar <= -0.474\\ngini = 0.494\\nsamples = 9\\nvalue = [4, 5]'),\n",
       " Text(0.4978383771200532, 0.3409090909090909, 'sugar <= -0.536\\ngini = 0.408\\nsamples = 7\\nvalue = [2, 5]'),\n",
       " Text(0.4965081476554706, 0.29545454545454547, 'alchol <= -0.28\\ngini = 0.444\\nsamples = 3\\nvalue = [2, 1]'),\n",
       " Text(0.4951779181908879, 0.25, 'gini = 0.0\\nsamples = 2\\nvalue = [2, 0]'),\n",
       " Text(0.4978383771200532, 0.25, 'gini = 0.0\\nsamples = 1\\nvalue = [0, 1]'),\n",
       " Text(0.49916860658463585, 0.29545454545454547, 'gini = 0.0\\nsamples = 4\\nvalue = [0, 4]'),\n",
       " Text(0.5004988360492185, 0.3409090909090909, 'gini = 0.0\\nsamples = 2\\nvalue = [2, 0]'),\n",
       " Text(0.5058197539075491, 0.4318181818181818, 'PH <= 0.552\\ngini = 0.038\\nsamples = 52\\nvalue = [51, 1]'),\n",
       " Text(0.5044895244429665, 0.38636363636363635, 'alchol <= 0.266\\ngini = 0.32\\nsamples = 5\\nvalue = [4, 1]'),\n",
       " Text(0.5031592949783837, 0.3409090909090909, 'gini = 0.0\\nsamples = 4\\nvalue = [4, 0]'),\n",
       " Text(0.5058197539075491, 0.3409090909090909, 'gini = 0.0\\nsamples = 1\\nvalue = [0, 1]'),\n",
       " Text(0.5071499833721317, 0.38636363636363635, 'gini = 0.0\\nsamples = 47\\nvalue = [47, 0]'),\n",
       " Text(0.5058197539075491, 0.5227272727272727, 'sugar <= -0.317\\ngini = 0.5\\nsamples = 4\\nvalue = [2, 2]'),\n",
       " Text(0.5044895244429665, 0.4772727272727273, 'gini = 0.0\\nsamples = 2\\nvalue = [0, 2]'),\n",
       " Text(0.5071499833721317, 0.4772727272727273, 'gini = 0.0\\nsamples = 2\\nvalue = [2, 0]'),\n",
       " Text(0.5273528433654805, 0.5681818181818182, 'sugar <= -0.776\\ngini = 0.449\\nsamples = 100\\nvalue = [66, 34]'),\n",
       " Text(0.5138011306950448, 0.5227272727272727, 'PH <= 1.805\\ngini = 0.459\\nsamples = 14\\nvalue = [5, 9]'),\n",
       " Text(0.5124709012304622, 0.4772727272727273, 'PH <= 1.429\\ngini = 0.375\\nsamples = 12\\nvalue = [3, 9]'),\n",
       " Text(0.5111406717658796, 0.4318181818181818, 'alchol <= -0.112\\ngini = 0.48\\nsamples = 5\\nvalue = [3, 2]'),\n",
       " Text(0.509810442301297, 0.38636363636363635, 'gini = 0.0\\nsamples = 2\\nvalue = [2, 0]'),\n",
       " Text(0.5124709012304622, 0.38636363636363635, 'PH <= 1.366\\ngini = 0.444\\nsamples = 3\\nvalue = [1, 2]'),\n",
       " Text(0.5111406717658796, 0.3409090909090909, 'gini = 0.0\\nsamples = 1\\nvalue = [0, 1]'),\n",
       " Text(0.5138011306950448, 0.3409090909090909, 'alchol <= -0.007\\ngini = 0.5\\nsamples = 2\\nvalue = [1, 1]'),\n",
       " Text(0.5124709012304622, 0.29545454545454547, 'gini = 0.0\\nsamples = 1\\nvalue = [0, 1]'),\n",
       " Text(0.5151313601596276, 0.29545454545454547, 'gini = 0.0\\nsamples = 1\\nvalue = [1, 0]'),\n",
       " Text(0.5138011306950448, 0.4318181818181818, 'gini = 0.0\\nsamples = 7\\nvalue = [0, 7]'),\n",
       " Text(0.5151313601596276, 0.4772727272727273, 'gini = 0.0\\nsamples = 2\\nvalue = [2, 0]'),\n",
       " Text(0.5409045560359163, 0.5227272727272727, 'alchol <= 0.14\\ngini = 0.412\\nsamples = 86\\nvalue = [61, 25]'),\n",
       " Text(0.5320917858330562, 0.4772727272727273, 'sugar <= -0.494\\ngini = 0.46\\nsamples = 53\\nvalue = [34, 19]'),\n",
       " Text(0.5307615563684736, 0.4318181818181818, 'alchol <= -0.196\\ngini = 0.444\\nsamples = 51\\nvalue = [34, 17]'),\n",
       " Text(0.5224476222148321, 0.38636363636363635, 'sugar <= -0.693\\ngini = 0.346\\nsamples = 27\\nvalue = [21, 6]'),\n",
       " Text(0.5191220485533754, 0.3409090909090909, 'PH <= 1.366\\ngini = 0.473\\nsamples = 13\\nvalue = [8, 5]'),\n",
       " Text(0.5177918190887928, 0.29545454545454547, 'gini = 0.0\\nsamples = 2\\nvalue = [2, 0]'),\n",
       " Text(0.5204522780179581, 0.29545454545454547, 'PH <= 1.961\\ngini = 0.496\\nsamples = 11\\nvalue = [6, 5]'),\n",
       " Text(0.5177918190887928, 0.25, 'sugar <= -0.755\\ngini = 0.444\\nsamples = 6\\nvalue = [2, 4]'),\n",
       " Text(0.5164615896242102, 0.20454545454545456, 'gini = 0.0\\nsamples = 2\\nvalue = [0, 2]'),\n",
       " Text(0.5191220485533754, 0.20454545454545456, 'alchol <= -0.28\\ngini = 0.5\\nsamples = 4\\nvalue = [2, 2]'),\n",
       " Text(0.5177918190887928, 0.1590909090909091, 'gini = 0.0\\nsamples = 1\\nvalue = [1, 0]'),\n",
       " Text(0.5204522780179581, 0.1590909090909091, 'sugar <= -0.734\\ngini = 0.444\\nsamples = 3\\nvalue = [1, 2]'),\n",
       " Text(0.5191220485533754, 0.11363636363636363, 'gini = 0.0\\nsamples = 1\\nvalue = [1, 0]'),\n",
       " Text(0.5217825074825407, 0.11363636363636363, 'gini = 0.0\\nsamples = 2\\nvalue = [0, 2]'),\n",
       " Text(0.5231127369471233, 0.25, 'PH <= 2.243\\ngini = 0.32\\nsamples = 5\\nvalue = [4, 1]'),\n",
       " Text(0.5217825074825407, 0.20454545454545456, 'gini = 0.0\\nsamples = 2\\nvalue = [2, 0]'),\n",
       " Text(0.5244429664117061, 0.20454545454545456, 'PH <= 2.306\\ngini = 0.444\\nsamples = 3\\nvalue = [2, 1]'),\n",
       " Text(0.5231127369471233, 0.1590909090909091, 'gini = 0.0\\nsamples = 1\\nvalue = [0, 1]'),\n",
       " Text(0.5257731958762887, 0.1590909090909091, 'gini = 0.0\\nsamples = 2\\nvalue = [2, 0]'),\n",
       " Text(0.5257731958762887, 0.3409090909090909, 'PH <= 1.679\\ngini = 0.133\\nsamples = 14\\nvalue = [13, 1]'),\n",
       " Text(0.5244429664117061, 0.29545454545454547, 'gini = 0.0\\nsamples = 9\\nvalue = [9, 0]'),\n",
       " Text(0.5271034253408713, 0.29545454545454547, 'PH <= 1.773\\ngini = 0.32\\nsamples = 5\\nvalue = [4, 1]'),\n",
       " Text(0.5257731958762887, 0.25, 'gini = 0.0\\nsamples = 1\\nvalue = [0, 1]'),\n",
       " Text(0.5284336548054539, 0.25, 'gini = 0.0\\nsamples = 4\\nvalue = [4, 0]'),\n",
       " Text(0.5390754905221151, 0.38636363636363635, 'sugar <= -0.651\\ngini = 0.497\\nsamples = 24\\nvalue = [13, 11]'),\n",
       " Text(0.5364150315929498, 0.3409090909090909, 'sugar <= -0.693\\ngini = 0.43\\nsamples = 16\\nvalue = [11, 5]'),\n",
       " Text(0.5350848021283672, 0.29545454545454547, 'sugar <= -0.713\\ngini = 0.486\\nsamples = 12\\nvalue = [7, 5]'),\n",
       " Text(0.5337545726637845, 0.25, 'PH <= 1.335\\ngini = 0.42\\nsamples = 10\\nvalue = [7, 3]'),\n",
       " Text(0.5297638842700366, 0.20454545454545456, 'alchol <= -0.028\\ngini = 0.444\\nsamples = 3\\nvalue = [1, 2]'),\n",
       " Text(0.5284336548054539, 0.1590909090909091, 'gini = 0.0\\nsamples = 1\\nvalue = [0, 1]'),\n",
       " Text(0.5310941137346192, 0.1590909090909091, 'sugar <= -0.755\\ngini = 0.5\\nsamples = 2\\nvalue = [1, 1]'),\n",
       " Text(0.5297638842700366, 0.11363636363636363, 'gini = 0.0\\nsamples = 1\\nvalue = [1, 0]'),\n",
       " Text(0.5324243431992018, 0.11363636363636363, 'gini = 0.0\\nsamples = 1\\nvalue = [0, 1]'),\n",
       " Text(0.5377452610575324, 0.20454545454545456, 'sugar <= -0.755\\ngini = 0.245\\nsamples = 7\\nvalue = [6, 1]'),\n",
       " Text(0.5364150315929498, 0.1590909090909091, 'alchol <= -0.028\\ngini = 0.32\\nsamples = 5\\nvalue = [4, 1]'),\n",
       " Text(0.5350848021283672, 0.11363636363636363, 'gini = 0.0\\nsamples = 2\\nvalue = [2, 0]'),\n",
       " Text(0.5377452610575324, 0.11363636363636363, 'gini = 0.444\\nsamples = 3\\nvalue = [2, 1]'),\n",
       " Text(0.5390754905221151, 0.1590909090909091, 'gini = 0.0\\nsamples = 2\\nvalue = [2, 0]'),\n",
       " Text(0.5364150315929498, 0.25, 'gini = 0.0\\nsamples = 2\\nvalue = [0, 2]'),\n",
       " Text(0.5377452610575324, 0.29545454545454547, 'gini = 0.0\\nsamples = 4\\nvalue = [4, 0]'),\n",
       " Text(0.5417359494512803, 0.3409090909090909, 'sugar <= -0.547\\ngini = 0.375\\nsamples = 8\\nvalue = [2, 6]'),\n",
       " Text(0.5404057199866977, 0.29545454545454547, 'PH <= 1.805\\ngini = 0.245\\nsamples = 7\\nvalue = [1, 6]'),\n",
       " Text(0.5390754905221151, 0.25, 'gini = 0.0\\nsamples = 5\\nvalue = [0, 5]'),\n",
       " Text(0.5417359494512803, 0.25, 'sugar <= -0.63\\ngini = 0.5\\nsamples = 2\\nvalue = [1, 1]'),\n",
       " Text(0.5404057199866977, 0.20454545454545456, 'gini = 0.0\\nsamples = 1\\nvalue = [0, 1]'),\n",
       " Text(0.543066178915863, 0.20454545454545456, 'gini = 0.0\\nsamples = 1\\nvalue = [1, 0]'),\n",
       " Text(0.543066178915863, 0.29545454545454547, 'gini = 0.0\\nsamples = 1\\nvalue = [1, 0]'),\n",
       " Text(0.5334220152976389, 0.4318181818181818, 'gini = 0.0\\nsamples = 2\\nvalue = [0, 2]'),\n",
       " Text(0.5497173262387762, 0.4772727272727273, 'PH <= 1.491\\ngini = 0.298\\nsamples = 33\\nvalue = [27, 6]'),\n",
       " Text(0.5483870967741935, 0.4318181818181818, 'sugar <= -0.693\\ngini = 0.457\\nsamples = 17\\nvalue = [11, 6]'),\n",
       " Text(0.5457266378450283, 0.38636363636363635, 'PH <= 1.366\\ngini = 0.408\\nsamples = 7\\nvalue = [2, 5]'),\n",
       " Text(0.5443964083804457, 0.3409090909090909, 'gini = 0.0\\nsamples = 4\\nvalue = [0, 4]'),\n",
       " Text(0.5470568673096109, 0.3409090909090909, 'alchol <= 0.224\\ngini = 0.444\\nsamples = 3\\nvalue = [2, 1]'),\n",
       " Text(0.5457266378450283, 0.29545454545454547, 'gini = 0.0\\nsamples = 1\\nvalue = [0, 1]'),\n",
       " Text(0.5483870967741935, 0.29545454545454547, 'gini = 0.0\\nsamples = 2\\nvalue = [2, 0]'),\n",
       " Text(0.5510475557033588, 0.38636363636363635, 'sugar <= -0.505\\ngini = 0.18\\nsamples = 10\\nvalue = [9, 1]'),\n",
       " Text(0.5497173262387762, 0.3409090909090909, 'gini = 0.0\\nsamples = 9\\nvalue = [9, 0]'),\n",
       " Text(0.5523777851679414, 0.3409090909090909, 'gini = 0.0\\nsamples = 1\\nvalue = [0, 1]'),\n",
       " Text(0.5510475557033588, 0.4318181818181818, 'gini = 0.0\\nsamples = 16\\nvalue = [16, 0]'),\n",
       " Text(0.5140453525108081, 0.6136363636363636, 'gini = 0.0\\nsamples = 4\\nvalue = [0, 4]'),\n",
       " Text(0.5550382440971068, 0.6590909090909091, 'sugar <= -0.448\\ngini = 0.375\\nsamples = 12\\nvalue = [3, 9]'),\n",
       " Text(0.5537080146325241, 0.6136363636363636, 'alchol <= -0.028\\ngini = 0.298\\nsamples = 11\\nvalue = [2, 9]'),\n",
       " Text(0.5523777851679414, 0.5681818181818182, 'gini = 0.0\\nsamples = 5\\nvalue = [0, 5]'),\n",
       " Text(0.5550382440971068, 0.5681818181818182, 'PH <= 3.058\\ngini = 0.444\\nsamples = 6\\nvalue = [2, 4]'),\n",
       " Text(0.5537080146325241, 0.5227272727272727, 'sugar <= -0.693\\ngini = 0.444\\nsamples = 3\\nvalue = [2, 1]'),\n",
       " Text(0.5523777851679414, 0.4772727272727273, 'gini = 0.0\\nsamples = 2\\nvalue = [2, 0]'),\n",
       " Text(0.5550382440971068, 0.4772727272727273, 'gini = 0.0\\nsamples = 1\\nvalue = [0, 1]'),\n",
       " Text(0.5563684735616894, 0.5227272727272727, 'gini = 0.0\\nsamples = 3\\nvalue = [0, 3]'),\n",
       " Text(0.5563684735616894, 0.6136363636363636, 'gini = 0.0\\nsamples = 1\\nvalue = [1, 0]'),\n",
       " Text(0.7177990937811772, 0.8409090909090909, 'PH <= 0.489\\ngini = 0.468\\nsamples = 727\\nvalue = [271, 456]'),\n",
       " Text(0.633428250748254, 0.7954545454545454, 'PH <= -0.639\\ngini = 0.354\\nsamples = 452\\nvalue = [104, 348]'),\n",
       " Text(0.5779847023611573, 0.75, 'sugar <= -0.713\\ngini = 0.155\\nsamples = 154\\nvalue = [13, 141]'),\n",
       " Text(0.5766544728965747, 0.7045454545454546, 'gini = 0.0\\nsamples = 40\\nvalue = [0, 40]'),\n",
       " Text(0.5793149318257399, 0.7045454545454546, 'alchol <= 1.147\\ngini = 0.202\\nsamples = 114\\nvalue = [13, 101]'),\n",
       " Text(0.5683405387429331, 0.6590909090909091, 'sugar <= -0.63\\ngini = 0.282\\nsamples = 59\\nvalue = [10, 49]'),\n",
       " Text(0.5630196208846026, 0.6136363636363636, 'PH <= -0.827\\ngini = 0.444\\nsamples = 15\\nvalue = [5, 10]'),\n",
       " Text(0.5603591619554373, 0.5681818181818182, 'PH <= -1.015\\ngini = 0.298\\nsamples = 11\\nvalue = [2, 9]'),\n",
       " Text(0.5590289324908547, 0.5227272727272727, 'gini = 0.0\\nsamples = 5\\nvalue = [0, 5]'),\n",
       " Text(0.56168939142002, 0.5227272727272727, 'sugar <= -0.687\\ngini = 0.444\\nsamples = 6\\nvalue = [2, 4]'),\n",
       " Text(0.5603591619554373, 0.4772727272727273, 'gini = 0.0\\nsamples = 1\\nvalue = [1, 0]'),\n",
       " Text(0.5630196208846026, 0.4772727272727273, 'alchol <= 0.727\\ngini = 0.32\\nsamples = 5\\nvalue = [1, 4]'),\n",
       " Text(0.56168939142002, 0.4318181818181818, 'gini = 0.0\\nsamples = 3\\nvalue = [0, 3]'),\n",
       " Text(0.5643498503491853, 0.4318181818181818, 'alchol <= 0.937\\ngini = 0.5\\nsamples = 2\\nvalue = [1, 1]'),\n",
       " Text(0.5630196208846026, 0.38636363636363635, 'gini = 0.0\\nsamples = 1\\nvalue = [1, 0]'),\n",
       " Text(0.5656800798137679, 0.38636363636363635, 'gini = 0.0\\nsamples = 1\\nvalue = [0, 1]'),\n",
       " Text(0.5656800798137679, 0.5681818181818182, 'alchol <= 0.685\\ngini = 0.375\\nsamples = 4\\nvalue = [3, 1]'),\n",
       " Text(0.5643498503491853, 0.5227272727272727, 'gini = 0.0\\nsamples = 1\\nvalue = [0, 1]'),\n",
       " Text(0.5670103092783505, 0.5227272727272727, 'gini = 0.0\\nsamples = 3\\nvalue = [3, 0]'),\n",
       " Text(0.5736614566012637, 0.6136363636363636, 'PH <= -1.579\\ngini = 0.201\\nsamples = 44\\nvalue = [5, 39]'),\n",
       " Text(0.5710009976720984, 0.5681818181818182, 'alchol <= 0.643\\ngini = 0.49\\nsamples = 7\\nvalue = [3, 4]'),\n",
       " Text(0.5696707682075158, 0.5227272727272727, 'sugar <= -0.463\\ngini = 0.375\\nsamples = 4\\nvalue = [3, 1]'),\n",
       " Text(0.5683405387429331, 0.4772727272727273, 'gini = 0.0\\nsamples = 1\\nvalue = [0, 1]'),\n",
       " Text(0.5710009976720984, 0.4772727272727273, 'gini = 0.0\\nsamples = 3\\nvalue = [3, 0]'),\n",
       " Text(0.572331227136681, 0.5227272727272727, 'gini = 0.0\\nsamples = 3\\nvalue = [0, 3]'),\n",
       " Text(0.576321915530429, 0.5681818181818182, 'alchol <= 0.755\\ngini = 0.102\\nsamples = 37\\nvalue = [2, 35]'),\n",
       " Text(0.5749916860658464, 0.5227272727272727, 'gini = 0.0\\nsamples = 20\\nvalue = [0, 20]'),\n",
       " Text(0.5776521449950116, 0.5227272727272727, 'alchol <= 0.895\\ngini = 0.208\\nsamples = 17\\nvalue = [2, 15]'),\n",
       " Text(0.576321915530429, 0.4772727272727273, 'PH <= -1.015\\ngini = 0.408\\nsamples = 7\\nvalue = [2, 5]'),\n",
       " Text(0.5749916860658464, 0.4318181818181818, 'PH <= -1.171\\ngini = 0.5\\nsamples = 4\\nvalue = [2, 2]'),\n",
       " Text(0.5736614566012637, 0.38636363636363635, 'gini = 0.0\\nsamples = 2\\nvalue = [0, 2]'),\n",
       " Text(0.576321915530429, 0.38636363636363635, 'gini = 0.0\\nsamples = 2\\nvalue = [2, 0]'),\n",
       " Text(0.5776521449950116, 0.4318181818181818, 'gini = 0.0\\nsamples = 3\\nvalue = [0, 3]'),\n",
       " Text(0.5789823744595943, 0.4772727272727273, 'gini = 0.0\\nsamples = 10\\nvalue = [0, 10]'),\n",
       " Text(0.5902893249085467, 0.6590909090909091, 'PH <= -0.701\\ngini = 0.103\\nsamples = 55\\nvalue = [3, 52]'),\n",
       " Text(0.5869637512470901, 0.6136363636363636, 'alchol <= 2.364\\ngini = 0.075\\nsamples = 51\\nvalue = [2, 49]'),\n",
       " Text(0.5843032923179249, 0.5681818181818182, 'alchol <= 1.301\\ngini = 0.042\\nsamples = 47\\nvalue = [1, 46]'),\n",
       " Text(0.5829730628533422, 0.5227272727272727, 'sugar <= -0.536\\ngini = 0.153\\nsamples = 12\\nvalue = [1, 11]'),\n",
       " Text(0.5816428333887596, 0.4772727272727273, 'gini = 0.0\\nsamples = 6\\nvalue = [0, 6]'),\n",
       " Text(0.5843032923179249, 0.4772727272727273, 'sugar <= -0.505\\ngini = 0.278\\nsamples = 6\\nvalue = [1, 5]'),\n",
       " Text(0.5829730628533422, 0.4318181818181818, 'gini = 0.0\\nsamples = 1\\nvalue = [1, 0]'),\n",
       " Text(0.5856335217825075, 0.4318181818181818, 'gini = 0.0\\nsamples = 5\\nvalue = [0, 5]'),\n",
       " Text(0.5856335217825075, 0.5227272727272727, 'gini = 0.0\\nsamples = 35\\nvalue = [0, 35]'),\n",
       " Text(0.5896242101762554, 0.5681818181818182, 'sugar <= -0.432\\ngini = 0.375\\nsamples = 4\\nvalue = [1, 3]'),\n",
       " Text(0.5882939807116727, 0.5227272727272727, 'gini = 0.0\\nsamples = 3\\nvalue = [0, 3]'),\n",
       " Text(0.590954439640838, 0.5227272727272727, 'gini = 0.0\\nsamples = 1\\nvalue = [1, 0]'),\n",
       " Text(0.5936148985700034, 0.6136363636363636, 'sugar <= -0.693\\ngini = 0.375\\nsamples = 4\\nvalue = [1, 3]'),\n",
       " Text(0.5922846691054207, 0.5681818181818182, 'gini = 0.0\\nsamples = 1\\nvalue = [1, 0]'),\n",
       " Text(0.594945128034586, 0.5681818181818182, 'gini = 0.0\\nsamples = 3\\nvalue = [0, 3]'),\n",
       " Text(0.6888717991353508, 0.75, 'alchol <= 1.735\\ngini = 0.424\\nsamples = 298\\nvalue = [91, 207]'),\n",
       " Text(0.6620801463252411, 0.7045454545454546, 'sugar <= -0.521\\ngini = 0.475\\nsamples = 216\\nvalue = [84, 132]'),\n",
       " Text(0.624792151646159, 0.6590909090909091, 'sugar <= -0.734\\ngini = 0.497\\nsamples = 161\\nvalue = [74, 87]'),\n",
       " Text(0.6002660458929165, 0.6136363636363636, 'PH <= -0.451\\ngini = 0.387\\nsamples = 42\\nvalue = [11, 31]'),\n",
       " Text(0.5976055869637512, 0.5681818181818182, 'alchol <= 1.063\\ngini = 0.444\\nsamples = 6\\nvalue = [4, 2]'),\n",
       " Text(0.5962753574991686, 0.5227272727272727, 'gini = 0.0\\nsamples = 4\\nvalue = [4, 0]'),\n",
       " Text(0.5989358164283339, 0.5227272727272727, 'gini = 0.0\\nsamples = 2\\nvalue = [0, 2]'),\n",
       " Text(0.6029265048220818, 0.5681818181818182, 'sugar <= -0.776\\ngini = 0.313\\nsamples = 36\\nvalue = [7, 29]'),\n",
       " Text(0.6015962753574992, 0.5227272727272727, 'gini = 0.0\\nsamples = 14\\nvalue = [0, 14]'),\n",
       " Text(0.6042567342866645, 0.5227272727272727, 'alchol <= 0.685\\ngini = 0.434\\nsamples = 22\\nvalue = [7, 15]'),\n",
       " Text(0.6029265048220818, 0.4772727272727273, 'gini = 0.0\\nsamples = 2\\nvalue = [2, 0]'),\n",
       " Text(0.6055869637512471, 0.4772727272727273, 'PH <= 0.176\\ngini = 0.375\\nsamples = 20\\nvalue = [5, 15]'),\n",
       " Text(0.6042567342866645, 0.4318181818181818, 'alchol <= 1.231\\ngini = 0.473\\nsamples = 13\\nvalue = [5, 8]'),\n",
       " Text(0.6015962753574992, 0.38636363636363635, 'alchol <= 0.895\\ngini = 0.346\\nsamples = 9\\nvalue = [2, 7]'),\n",
       " Text(0.6002660458929165, 0.3409090909090909, 'PH <= -0.169\\ngini = 0.5\\nsamples = 4\\nvalue = [2, 2]'),\n",
       " Text(0.5989358164283339, 0.29545454545454547, 'gini = 0.0\\nsamples = 1\\nvalue = [1, 0]'),\n",
       " Text(0.6015962753574992, 0.29545454545454547, 'PH <= 0.113\\ngini = 0.444\\nsamples = 3\\nvalue = [1, 2]'),\n",
       " Text(0.6002660458929165, 0.25, 'gini = 0.0\\nsamples = 2\\nvalue = [0, 2]'),\n",
       " Text(0.6029265048220818, 0.25, 'gini = 0.0\\nsamples = 1\\nvalue = [1, 0]'),\n",
       " Text(0.6029265048220818, 0.3409090909090909, 'gini = 0.0\\nsamples = 5\\nvalue = [0, 5]'),\n",
       " Text(0.6069171932158297, 0.38636363636363635, 'PH <= -0.2\\ngini = 0.375\\nsamples = 4\\nvalue = [3, 1]'),\n",
       " Text(0.6055869637512471, 0.3409090909090909, 'gini = 0.0\\nsamples = 1\\nvalue = [0, 1]'),\n",
       " Text(0.6082474226804123, 0.3409090909090909, 'gini = 0.0\\nsamples = 3\\nvalue = [3, 0]'),\n",
       " Text(0.6069171932158297, 0.4318181818181818, 'gini = 0.0\\nsamples = 7\\nvalue = [0, 7]'),\n",
       " Text(0.6493182573994014, 0.6136363636363636, 'alchol <= 1.483\\ngini = 0.498\\nsamples = 119\\nvalue = [63, 56]'),\n",
       " Text(0.6278683072830064, 0.5681818181818182, 'sugar <= -0.708\\ngini = 0.489\\nsamples = 89\\nvalue = [51, 38]'),\n",
       " Text(0.6175590289324908, 0.5227272727272727, 'PH <= -0.075\\ngini = 0.388\\nsamples = 19\\nvalue = [14, 5]'),\n",
       " Text(0.6148985700033256, 0.4772727272727273, 'PH <= -0.263\\ngini = 0.5\\nsamples = 8\\nvalue = [4, 4]'),\n",
       " Text(0.613568340538743, 0.4318181818181818, 'alchol <= 0.895\\ngini = 0.444\\nsamples = 6\\nvalue = [4, 2]'),\n",
       " Text(0.6122381110741603, 0.38636363636363635, 'PH <= -0.513\\ngini = 0.32\\nsamples = 5\\nvalue = [4, 1]'),\n",
       " ...]"
      ]
     },
     "execution_count": 97,
     "metadata": {},
     "output_type": "execute_result"
    },
    {
     "data": {
      "image/png": "[encoded data removed]",
      "text/plain": [
       "<Figure size 640x480 with 1 Axes>"
      ]
     },
     "metadata": {},
     "output_type": "display_data"
    }
   ],
   "source": [
    "plot_tree(dt, filled=True, feature_names = ['alchol', 'sugar', 'PH',])"
   ]
  },
  {
   "cell_type": "code",
   "execution_count": 98,
   "id": "77a5497f",
   "metadata": {},
   "outputs": [],
   "source": [
    "plt.show()"
   ]
  },
  {
   "cell_type": "code",
   "execution_count": 99,
   "id": "3c755344",
   "metadata": {},
   "outputs": [],
   "source": [
    "import pandas as pd"
   ]
  },
  {
   "cell_type": "code",
   "execution_count": 100,
   "id": "1304a1be",
   "metadata": {},
   "outputs": [],
   "source": [
    "wine = pd.read_csv('https://bit.ly/wine_csv_data')"
   ]
  },
  {
   "cell_type": "code",
   "execution_count": 103,
   "id": "2e3615c0",
   "metadata": {},
   "outputs": [],
   "source": [
    "data=wine[['alcohol', 'sugar', 'pH']].to_numpy()"
   ]
  },
  {
   "cell_type": "code",
   "execution_count": 104,
   "id": "f611e02b",
   "metadata": {},
   "outputs": [],
   "source": [
    "target = wine['class'].to_numpy()"
   ]
  },
  {
   "cell_type": "code",
   "execution_count": 105,
   "id": "c511e976",
   "metadata": {},
   "outputs": [],
   "source": [
    "from sklearn.model_selection import train_test_split"
   ]
  },
  {
   "cell_type": "code",
   "execution_count": 106,
   "id": "90cd5ef5",
   "metadata": {},
   "outputs": [],
   "source": [
    "train_input, test_input, train_target, test_target = train_test_split(data, target, test_size=0.2, random_state=42)"
   ]
  },
  {
   "cell_type": "code",
   "execution_count": 107,
   "id": "edf453d0",
   "metadata": {},
   "outputs": [],
   "source": [
    "sub_input, val_input, sub_target, val_target = train_test_split(train_input, train_target, test_size=0.2, random_state=42)"
   ]
  },
  {
   "cell_type": "code",
   "execution_count": 108,
   "id": "4994bd02",
   "metadata": {},
   "outputs": [],
   "source": [
    "from sklearn.tree import DecisionTreeClassifier"
   ]
  },
  {
   "cell_type": "code",
   "execution_count": 109,
   "id": "39f829d6",
   "metadata": {},
   "outputs": [],
   "source": [
    "dt = DecisionTreeClassifier(random_state=42)"
   ]
  },
  {
   "cell_type": "code",
   "execution_count": 110,
   "id": "ebc7aa54",
   "metadata": {},
   "outputs": [
    {
     "data": {
      "text/plain": [
       "DecisionTreeClassifier(random_state=42)"
      ]
     },
     "execution_count": 110,
     "metadata": {},
     "output_type": "execute_result"
    }
   ],
   "source": [
    "dt.fit(sub_input, sub_target)"
   ]
  },
  {
   "cell_type": "code",
   "execution_count": 111,
   "id": "018ff3e1",
   "metadata": {},
   "outputs": [
    {
     "name": "stdout",
     "output_type": "stream",
     "text": [
      "0.9971133028626413\n"
     ]
    }
   ],
   "source": [
    "print(dt.score(sub_input, sub_target))"
   ]
  },
  {
   "cell_type": "code",
   "execution_count": 112,
   "id": "8afbbedb",
   "metadata": {},
   "outputs": [
    {
     "name": "stdout",
     "output_type": "stream",
     "text": [
      "0.864423076923077\n"
     ]
    }
   ],
   "source": [
    "print(dt.score(val_input, val_target))"
   ]
  },
  {
   "cell_type": "code",
   "execution_count": 113,
   "id": "e9e90cf0",
   "metadata": {},
   "outputs": [],
   "source": [
    "from sklearn.model_selection import cross_validate"
   ]
  },
  {
   "cell_type": "code",
   "execution_count": 114,
   "id": "405a7ab8",
   "metadata": {},
   "outputs": [],
   "source": [
    "scores = cross_validate(dt, train_input, train_target)"
   ]
  },
  {
   "cell_type": "code",
   "execution_count": 118,
   "id": "54d4747c",
   "metadata": {},
   "outputs": [
    {
     "name": "stdout",
     "output_type": "stream",
     "text": [
      "{'fit_time': array([0.01494002, 0.01550651, 0.00914192, 0.01693988, 0.0141778 ]), 'score_time': array([0.        , 0.00631261, 0.        , 0.        , 0.00046396]), 'test_score': array([0.86923077, 0.84615385, 0.87680462, 0.84889317, 0.83541867])}\n"
     ]
    }
   ],
   "source": [
    "print(scores)"
   ]
  },
  {
   "cell_type": "code",
   "execution_count": 120,
   "id": "9221616b",
   "metadata": {},
   "outputs": [],
   "source": [
    "from sklearn.model_selection import StratifiedKFold"
   ]
  },
  {
   "cell_type": "code",
   "execution_count": 121,
   "id": "10f971f9",
   "metadata": {},
   "outputs": [],
   "source": [
    "scores = cross_validate(dt, train_input, train_target, cv= StratifiedKFold())"
   ]
  },
  {
   "cell_type": "code",
   "execution_count": 122,
   "id": "66ba4702",
   "metadata": {},
   "outputs": [
    {
     "name": "stdout",
     "output_type": "stream",
     "text": [
      "0.855300214703487\n"
     ]
    }
   ],
   "source": [
    "print(np.mean(scores['test_score']))"
   ]
  },
  {
   "cell_type": "code",
   "execution_count": 123,
   "id": "5d310a3e",
   "metadata": {},
   "outputs": [],
   "source": [
    "splitter = StratifiedKFold(n_splits=10, shuffle=True, random_state=42)"
   ]
  },
  {
   "cell_type": "code",
   "execution_count": 125,
   "id": "dd9d3663",
   "metadata": {},
   "outputs": [],
   "source": [
    "scores= cross_validate(dt, train_input, train_target, cv=splitter)"
   ]
  },
  {
   "cell_type": "code",
   "execution_count": 126,
   "id": "40beba21",
   "metadata": {},
   "outputs": [
    {
     "name": "stdout",
     "output_type": "stream",
     "text": [
      "0.8574181117533719\n"
     ]
    }
   ],
   "source": [
    "print(np.mean(scores['test_score']))"
   ]
  },
  {
   "cell_type": "code",
   "execution_count": 128,
   "id": "8f207769",
   "metadata": {},
   "outputs": [],
   "source": [
    "from sklearn.model_selection import GridSearchCV"
   ]
  },
  {
   "cell_type": "code",
   "execution_count": 129,
   "id": "57c1a2b6",
   "metadata": {},
   "outputs": [],
   "source": [
    "params = {'min_impurity_decrease':[0.0001, 0.0002, 0.0003,0.0004, 0.0005]}"
   ]
  },
  {
   "cell_type": "code",
   "execution_count": 130,
   "id": "94013be1",
   "metadata": {},
   "outputs": [],
   "source": [
    "gs = GridSearchCV(DecisionTreeClassifier(random_state=42), params, n_jobs=  -1)"
   ]
  },
  {
   "cell_type": "code",
   "execution_count": 131,
   "id": "10034dae",
   "metadata": {},
   "outputs": [
    {
     "data": {
      "text/plain": [
       "GridSearchCV(estimator=DecisionTreeClassifier(random_state=42), n_jobs=-1,\n",
       "             param_grid={'min_impurity_decrease': [0.0001, 0.0002, 0.0003,\n",
       "                                                   0.0004, 0.0005]})"
      ]
     },
     "execution_count": 131,
     "metadata": {},
     "output_type": "execute_result"
    }
   ],
   "source": [
    "gs.fit(train_input, train_target)"
   ]
  },
  {
   "cell_type": "code",
   "execution_count": 132,
   "id": "9b63ff26",
   "metadata": {},
   "outputs": [],
   "source": [
    "dt = gs.best_estimator_"
   ]
  },
  {
   "cell_type": "code",
   "execution_count": 133,
   "id": "7cd72121",
   "metadata": {},
   "outputs": [
    {
     "name": "stdout",
     "output_type": "stream",
     "text": [
      "0.9615162593804117\n"
     ]
    }
   ],
   "source": [
    "print(dt.score(train_input, train_target))"
   ]
  },
  {
   "cell_type": "code",
   "execution_count": 134,
   "id": "52f7df16",
   "metadata": {},
   "outputs": [
    {
     "name": "stdout",
     "output_type": "stream",
     "text": [
      "[0.86819297 0.86453617 0.86492226 0.86780891 0.86761605]\n"
     ]
    }
   ],
   "source": [
    "print(gs.cv_results_['mean_test_score'])"
   ]
  },
  {
   "cell_type": "code",
   "execution_count": 135,
   "id": "c3dbe010",
   "metadata": {},
   "outputs": [
    {
     "name": "stdout",
     "output_type": "stream",
     "text": [
      "{'min_impurity_decrease': 0.0001}\n"
     ]
    }
   ],
   "source": [
    "best_index = np.argmax(gs.cv_results_['mean_test_score'])\n",
    "print(gs.cv_results_['params'][best_index])"
   ]
  },
  {
   "cell_type": "code",
   "execution_count": 136,
   "id": "e013b6a1",
   "metadata": {},
   "outputs": [],
   "source": [
    "params = {'min_impurity_decrease': np.arange(0.0001, 0.001, 0.0001),\n",
    "          'max_depth': range(5, 20, 1),\n",
    "          'min_samples_split': range(2, 100, 10)\n",
    "          }"
   ]
  },
  {
   "cell_type": "code",
   "execution_count": 137,
   "id": "e4ecffbf",
   "metadata": {},
   "outputs": [
    {
     "data": {
      "text/plain": [
       "GridSearchCV(estimator=DecisionTreeClassifier(random_state=42), n_jobs=-1,\n",
       "             param_grid={'max_depth': range(5, 20),\n",
       "                         'min_impurity_decrease': array([0.0001, 0.0002, 0.0003, 0.0004, 0.0005, 0.0006, 0.0007, 0.0008,\n",
       "       0.0009]),\n",
       "                         'min_samples_split': range(2, 100, 10)})"
      ]
     },
     "execution_count": 137,
     "metadata": {},
     "output_type": "execute_result"
    }
   ],
   "source": [
    "gs = GridSearchCV(DecisionTreeClassifier(random_state=42), params, n_jobs=-1)\n",
    "gs.fit(train_input, train_target)"
   ]
  },
  {
   "cell_type": "code",
   "execution_count": 138,
   "id": "b1e72dbc",
   "metadata": {},
   "outputs": [
    {
     "name": "stdout",
     "output_type": "stream",
     "text": [
      "{'max_depth': 14, 'min_impurity_decrease': 0.0004, 'min_samples_split': 12}\n"
     ]
    }
   ],
   "source": [
    "print(gs.best_params_)"
   ]
  },
  {
   "cell_type": "code",
   "execution_count": 139,
   "id": "6dd4cf91",
   "metadata": {},
   "outputs": [
    {
     "name": "stdout",
     "output_type": "stream",
     "text": [
      "0.8683865773302731\n"
     ]
    }
   ],
   "source": [
    "print(np.max(gs.cv_results_['mean_test_score']))"
   ]
  },
  {
   "cell_type": "code",
   "execution_count": 140,
   "id": "9f7eeabc",
   "metadata": {},
   "outputs": [],
   "source": [
    "from scipy.stats import uniform, randint"
   ]
  },
  {
   "cell_type": "code",
   "execution_count": 141,
   "id": "23f2c400",
   "metadata": {},
   "outputs": [
    {
     "data": {
      "text/plain": [
       "array([1, 5, 4, 4, 5, 6, 6, 5, 3, 4], dtype=int64)"
      ]
     },
     "execution_count": 141,
     "metadata": {},
     "output_type": "execute_result"
    }
   ],
   "source": [
    "rgen = randint(0, 10)\n",
    "rgen.rvs(10)"
   ]
  },
  {
   "cell_type": "code",
   "execution_count": 142,
   "id": "696236b9",
   "metadata": {},
   "outputs": [
    {
     "data": {
      "text/plain": [
       "(array([0, 1, 2, 3, 4, 5, 6, 7, 8, 9], dtype=int64),\n",
       " array([114,  99,  96,  92,  93, 111,  96,  96,  98, 105], dtype=int64))"
      ]
     },
     "execution_count": 142,
     "metadata": {},
     "output_type": "execute_result"
    }
   ],
   "source": [
    "np.unique(rgen.rvs(1000), return_counts=True)"
   ]
  },
  {
   "cell_type": "code",
   "execution_count": 143,
   "id": "fdbd5265",
   "metadata": {},
   "outputs": [
    {
     "data": {
      "text/plain": [
       "array([0.44517529, 0.62162842, 0.9837776 , 0.99804215, 0.04772882,\n",
       "       0.85576893, 0.52185812, 0.87351078, 0.69482304, 0.63008086])"
      ]
     },
     "execution_count": 143,
     "metadata": {},
     "output_type": "execute_result"
    }
   ],
   "source": [
    "ugen = uniform(0, 1)\n",
    "ugen.rvs(10)"
   ]
  },
  {
   "cell_type": "code",
   "execution_count": 144,
   "id": "d705baf5",
   "metadata": {},
   "outputs": [],
   "source": [
    "params = {'min_impurity_decrease': uniform(0.0001, 0.001),\n",
    "          'max_depth': randint(20, 50),\n",
    "          'min_samples_split': randint(2, 25),\n",
    "          'min_samples_leaf': randint(1, 25),\n",
    "          }"
   ]
  },
  {
   "cell_type": "code",
   "execution_count": 145,
   "id": "87164061",
   "metadata": {},
   "outputs": [
    {
     "data": {
      "text/plain": [
       "RandomizedSearchCV(estimator=DecisionTreeClassifier(random_state=42),\n",
       "                   n_iter=100, n_jobs=-1,\n",
       "                   param_distributions={'max_depth': <scipy.stats._distn_infrastructure.rv_discrete_frozen object at 0x00000163C5AEE490>,\n",
       "                                        'min_impurity_decrease': <scipy.stats._distn_infrastructure.rv_continuous_frozen object at 0x00000163C4A28E50>,\n",
       "                                        'min_samples_leaf': <scipy.stats._distn_infrastructure.rv_discrete_frozen object at 0x00000163C5AA19A0>,\n",
       "                                        'min_samples_split': <scipy.stats._distn_infrastructure.rv_discrete_frozen object at 0x00000163C4943490>},\n",
       "                   random_state=42)"
      ]
     },
     "execution_count": 145,
     "metadata": {},
     "output_type": "execute_result"
    }
   ],
   "source": [
    "from sklearn.model_selection import RandomizedSearchCV\n",
    "\n",
    "gs = RandomizedSearchCV(DecisionTreeClassifier(random_state=42), params,\n",
    "                        n_iter=100, n_jobs=-1, random_state=42)\n",
    "gs.fit(train_input, train_target)"
   ]
  },
  {
   "cell_type": "code",
   "execution_count": 146,
   "id": "c5f5979e",
   "metadata": {},
   "outputs": [
    {
     "name": "stdout",
     "output_type": "stream",
     "text": [
      "{'max_depth': 39, 'min_impurity_decrease': 0.00034102546602601173, 'min_samples_leaf': 7, 'min_samples_split': 13}\n"
     ]
    }
   ],
   "source": [
    "print(gs.best_params_)"
   ]
  },
  {
   "cell_type": "code",
   "execution_count": 147,
   "id": "af8d4525",
   "metadata": {},
   "outputs": [
    {
     "name": "stdout",
     "output_type": "stream",
     "text": [
      "0.8695428296438884\n"
     ]
    }
   ],
   "source": [
    "print(np.max(gs.cv_results_['mean_test_score']))"
   ]
  },
  {
   "cell_type": "code",
   "execution_count": 148,
   "id": "9882f316",
   "metadata": {},
   "outputs": [
    {
     "name": "stdout",
     "output_type": "stream",
     "text": [
      "0.86\n"
     ]
    }
   ],
   "source": [
    "dt = gs.best_estimator_\n",
    "\n",
    "print(dt.score(test_input, test_target))"
   ]
  },
  {
   "cell_type": "markdown",
   "id": "b0b58c82",
   "metadata": {},
   "source": [
    "### 5장-3"
   ]
  },
  {
   "cell_type": "code",
   "execution_count": 149,
   "id": "2c8ff4ef",
   "metadata": {},
   "outputs": [],
   "source": [
    "import numpy as np\n",
    "import pandas as pd\n",
    "from sklearn.model_selection import train_test_split\n",
    "\n",
    "wine = pd.read_csv('https://bit.ly/wine_csv_data')\n",
    "\n",
    "data = wine[['alcohol', 'sugar', 'pH']].to_numpy()\n",
    "target = wine['class'].to_numpy()\n",
    "\n",
    "train_input, test_input, train_target, test_target = train_test_split(data, target, test_size=0.2, random_state=42)"
   ]
  },
  {
   "cell_type": "code",
   "execution_count": 150,
   "id": "8c3e15de",
   "metadata": {},
   "outputs": [
    {
     "name": "stdout",
     "output_type": "stream",
     "text": [
      "0.9973541965122431 0.8905151032797809\n"
     ]
    }
   ],
   "source": [
    "from sklearn.model_selection import cross_validate\n",
    "from sklearn.ensemble import RandomForestClassifier\n",
    "\n",
    "rf = RandomForestClassifier(n_jobs=-1, random_state=42)\n",
    "scores = cross_validate(rf, train_input, train_target, return_train_score=True, n_jobs=-1)\n",
    "\n",
    "print(np.mean(scores['train_score']), np.mean(scores['test_score']))"
   ]
  },
  {
   "cell_type": "code",
   "execution_count": 151,
   "id": "0ea3a729",
   "metadata": {},
   "outputs": [
    {
     "name": "stdout",
     "output_type": "stream",
     "text": [
      "[0.23167441 0.50039841 0.26792718]\n"
     ]
    }
   ],
   "source": [
    "rf.fit(train_input, train_target)\n",
    "print(rf.feature_importances_)"
   ]
  },
  {
   "cell_type": "code",
   "execution_count": 152,
   "id": "7ac0f652",
   "metadata": {},
   "outputs": [
    {
     "name": "stdout",
     "output_type": "stream",
     "text": [
      "0.8934000384837406\n"
     ]
    }
   ],
   "source": [
    "rf = RandomForestClassifier(oob_score=True, n_jobs=-1, random_state=42)\n",
    "\n",
    "rf.fit(train_input, train_target)\n",
    "print(rf.oob_score_)"
   ]
  },
  {
   "cell_type": "code",
   "execution_count": 153,
   "id": "962d053e",
   "metadata": {},
   "outputs": [
    {
     "name": "stdout",
     "output_type": "stream",
     "text": [
      "0.9974503966084433 0.8887848893166506\n"
     ]
    }
   ],
   "source": [
    "from sklearn.ensemble import ExtraTreesClassifier\n",
    "\n",
    "et = ExtraTreesClassifier(n_jobs=-1, random_state=42)\n",
    "scores = cross_validate(et, train_input, train_target, return_train_score=True, n_jobs=-1)\n",
    "\n",
    "print(np.mean(scores['train_score']), np.mean(scores['test_score']))"
   ]
  },
  {
   "cell_type": "code",
   "execution_count": 154,
   "id": "9517ab6a",
   "metadata": {},
   "outputs": [
    {
     "name": "stdout",
     "output_type": "stream",
     "text": [
      "[0.20183568 0.52242907 0.27573525]\n"
     ]
    }
   ],
   "source": [
    "et.fit(train_input, train_target)\n",
    "print(et.feature_importances_)"
   ]
  },
  {
   "cell_type": "code",
   "execution_count": 155,
   "id": "a6e21b5d",
   "metadata": {},
   "outputs": [
    {
     "name": "stdout",
     "output_type": "stream",
     "text": [
      "0.8881086892152563 0.8720430147331015\n"
     ]
    }
   ],
   "source": [
    "from sklearn.ensemble import GradientBoostingClassifier\n",
    "\n",
    "gb = GradientBoostingClassifier(random_state=42)\n",
    "scores = cross_validate(gb, train_input, train_target, return_train_score=True, n_jobs=-1)\n",
    "\n",
    "print(np.mean(scores['train_score']), np.mean(scores['test_score']))"
   ]
  },
  {
   "cell_type": "code",
   "execution_count": 156,
   "id": "5767eb3f",
   "metadata": {},
   "outputs": [
    {
     "name": "stdout",
     "output_type": "stream",
     "text": [
      "0.9464595437171814 0.8780082549788999\n"
     ]
    }
   ],
   "source": [
    "gb = GradientBoostingClassifier(n_estimators=500, learning_rate=0.2, random_state=42)\n",
    "scores = cross_validate(gb, train_input, train_target, return_train_score=True, n_jobs=-1)\n",
    "\n",
    "print(np.mean(scores['train_score']), np.mean(scores['test_score']))"
   ]
  },
  {
   "cell_type": "code",
   "execution_count": 157,
   "id": "4ce41662",
   "metadata": {},
   "outputs": [
    {
     "name": "stdout",
     "output_type": "stream",
     "text": [
      "[0.15872278 0.68011572 0.16116151]\n"
     ]
    }
   ],
   "source": [
    "gb.fit(train_input, train_target)\n",
    "print(gb.feature_importances_)"
   ]
  },
  {
   "cell_type": "code",
   "execution_count": 159,
   "id": "ee93271c",
   "metadata": {},
   "outputs": [
    {
     "name": "stdout",
     "output_type": "stream",
     "text": [
      "0.9321723946453317 0.8801241948619236\n"
     ]
    }
   ],
   "source": [
    "from sklearn.ensemble import HistGradientBoostingClassifier\n",
    "\n",
    "hgb = HistGradientBoostingClassifier(random_state=42)\n",
    "scores = cross_validate(hgb, train_input, train_target, return_train_score=True, n_jobs=-1)\n",
    "\n",
    "print(np.mean(scores['train_score']), np.mean(scores['test_score']))"
   ]
  },
  {
   "cell_type": "code",
   "execution_count": 160,
   "id": "9aafca69",
   "metadata": {},
   "outputs": [
    {
     "name": "stdout",
     "output_type": "stream",
     "text": [
      "[0.08876275 0.23438522 0.08027708]\n"
     ]
    }
   ],
   "source": [
    "from sklearn.inspection import permutation_importance\n",
    "\n",
    "hgb.fit(train_input, train_target)\n",
    "result = permutation_importance(hgb, train_input, train_target, n_repeats=10,\n",
    "                                random_state=42, n_jobs=-1)\n",
    "print(result.importances_mean)"
   ]
  },
  {
   "cell_type": "code",
   "execution_count": 161,
   "id": "b559e0be",
   "metadata": {},
   "outputs": [
    {
     "name": "stdout",
     "output_type": "stream",
     "text": [
      "[0.05969231 0.20238462 0.049     ]\n"
     ]
    }
   ],
   "source": [
    "result = permutation_importance(hgb, test_input, test_target, n_repeats=10,\n",
    "                                random_state=42, n_jobs=-1)\n",
    "print(result.importances_mean)"
   ]
  },
  {
   "cell_type": "code",
   "execution_count": 162,
   "id": "2b8b5f28",
   "metadata": {},
   "outputs": [
    {
     "data": {
      "text/plain": [
       "0.8723076923076923"
      ]
     },
     "execution_count": 162,
     "metadata": {},
     "output_type": "execute_result"
    }
   ],
   "source": [
    "hgb.score(test_input, test_target)"
   ]
  },
  {
   "cell_type": "code",
   "execution_count": 163,
   "id": "f031e88c",
   "metadata": {},
   "outputs": [
    {
     "name": "stdout",
     "output_type": "stream",
     "text": [
      "0.9558403027491312 0.8782000074035686\n"
     ]
    }
   ],
   "source": [
    "from xgboost import XGBClassifier\n",
    "\n",
    "xgb = XGBClassifier(tree_method='hist', random_state=42)\n",
    "scores = cross_validate(xgb, train_input, train_target, return_train_score=True, n_jobs=-1)\n",
    "\n",
    "print(np.mean(scores['train_score']), np.mean(scores['test_score']))"
   ]
  },
  {
   "cell_type": "code",
   "execution_count": 165,
   "id": "db0ea158",
   "metadata": {},
   "outputs": [
    {
     "ename": "ModuleNotFoundError",
     "evalue": "No module named 'lightgbm'",
     "output_type": "error",
     "traceback": [
      "\u001b[1;31m---------------------------------------------------------------------------\u001b[0m",
      "\u001b[1;31mModuleNotFoundError\u001b[0m                       Traceback (most recent call last)",
      "\u001b[1;32m~\\AppData\\Local\\Temp\\ipykernel_31968\\2169266730.py\u001b[0m in \u001b[0;36m<module>\u001b[1;34m\u001b[0m\n\u001b[1;32m----> 1\u001b[1;33m \u001b[1;32mfrom\u001b[0m \u001b[0mlightgbm\u001b[0m \u001b[1;32mimport\u001b[0m \u001b[0mLGBMClassifier\u001b[0m\u001b[1;33m\u001b[0m\u001b[1;33m\u001b[0m\u001b[0m\n\u001b[0m\u001b[0;32m      2\u001b[0m \u001b[1;33m\u001b[0m\u001b[0m\n\u001b[0;32m      3\u001b[0m \u001b[0mlgb\u001b[0m \u001b[1;33m=\u001b[0m \u001b[0mLGBMClassifier\u001b[0m\u001b[1;33m(\u001b[0m\u001b[0mrandom_state\u001b[0m\u001b[1;33m=\u001b[0m\u001b[1;36m42\u001b[0m\u001b[1;33m)\u001b[0m\u001b[1;33m\u001b[0m\u001b[1;33m\u001b[0m\u001b[0m\n\u001b[0;32m      4\u001b[0m \u001b[0mscores\u001b[0m \u001b[1;33m=\u001b[0m \u001b[0mcross_validate\u001b[0m\u001b[1;33m(\u001b[0m\u001b[0mlgb\u001b[0m\u001b[1;33m,\u001b[0m \u001b[0mtrain_input\u001b[0m\u001b[1;33m,\u001b[0m \u001b[0mtrain_target\u001b[0m\u001b[1;33m,\u001b[0m \u001b[0mreturn_train_score\u001b[0m\u001b[1;33m=\u001b[0m\u001b[1;32mTrue\u001b[0m\u001b[1;33m,\u001b[0m \u001b[0mn_jobs\u001b[0m\u001b[1;33m=\u001b[0m\u001b[1;33m-\u001b[0m\u001b[1;36m1\u001b[0m\u001b[1;33m)\u001b[0m\u001b[1;33m\u001b[0m\u001b[1;33m\u001b[0m\u001b[0m\n\u001b[0;32m      5\u001b[0m \u001b[1;33m\u001b[0m\u001b[0m\n",
      "\u001b[1;31mModuleNotFoundError\u001b[0m: No module named 'lightgbm'"
     ]
    }
   ],
   "source": [
    "from lightgbm import LGBMClassifier\n",
    "\n",
    "lgb = LGBMClassifier(random_state=42)\n",
    "scores = cross_validate(lgb, train_input, train_target, return_train_score=True, n_jobs=-1)\n",
    "\n",
    "print(np.mean(scores['train_score']), np.mean(scores['test_score']))"
   ]
  },
  {
   "cell_type": "code",
   "execution_count": null,
   "id": "32db16a7",
   "metadata": {},
   "outputs": [],
   "source": []
  }
 ],
 "metadata": {
  "kernelspec": {
   "display_name": "Python 3 (ipykernel)",
   "language": "python",
   "name": "python3"
  },
  "language_info": {
   "codemirror_mode": {
    "name": "ipython",
    "version": 3
   },
   "file_extension": ".py",
   "mimetype": "text/x-python",
   "name": "python",
   "nbconvert_exporter": "python",
   "pygments_lexer": "ipython3",
   "version": "3.9.13"
  }
 },
 "nbformat": 4,
 "nbformat_minor": 5
}
